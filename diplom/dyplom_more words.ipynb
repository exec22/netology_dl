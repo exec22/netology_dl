{
 "cells": [
  {
   "cell_type": "code",
   "execution_count": 68,
   "metadata": {},
   "outputs": [],
   "source": [
    "from bs4 import BeautifulSoup\n",
    "import re\n",
    "import os\n",
    "from tqdm import tqdm\n",
    "from collections import Counter\n",
    "import torch\n",
    "import time"
   ]
  },
  {
   "cell_type": "code",
   "execution_count": 69,
   "metadata": {},
   "outputs": [
    {
     "data": {
      "text/plain": [
       "device(type='cuda')"
      ]
     },
     "execution_count": 69,
     "metadata": {},
     "output_type": "execute_result"
    }
   ],
   "source": [
    "dev = torch.device(\"cuda\") if torch.cuda.is_available() else torch.device(\"cpu\")\n",
    "dev"
   ]
  },
  {
   "cell_type": "code",
   "execution_count": 70,
   "metadata": {},
   "outputs": [
    {
     "name": "stderr",
     "output_type": "stream",
     "text": [
      "100%|██████████| 6605/6605 [00:37<00:00, 176.03it/s]\n"
     ]
    }
   ],
   "source": [
    "proj_types, proj_names, proj_descrs = [],[],[]\n",
    "folders = os.listdir('texts')\n",
    "for folder in tqdm(folders):\n",
    "    f = open(f\"texts/{folder}/choose\", \"r\", encoding=\"utf-8\")\n",
    "    contents = f.read()\n",
    "    soup = BeautifulSoup(contents, 'lxml')\n",
    "    founded = soup.find_all('div', {'class': 'lr-project-value'})\n",
    "    proj_types.append( re.sub(r'[\\n\\t]', '', founded[1].get_text().lower()) )\n",
    "    proj_names.append( re.sub(r'[\\n\\t]', '', founded[3].get_text().lower()) )\n",
    "    proj_descrs.append( re.sub(r'[\\n\\t]', '', founded[4].get_text().lower()) )\n",
    "    f.close()\n",
    "    \n"
   ]
  },
  {
   "cell_type": "code",
   "execution_count": 71,
   "metadata": {},
   "outputs": [
    {
     "data": {
      "text/plain": [
       "6605"
      ]
     },
     "execution_count": 71,
     "metadata": {},
     "output_type": "execute_result"
    }
   ],
   "source": [
    "len(proj_types)"
   ]
  },
  {
   "cell_type": "code",
   "execution_count": 72,
   "metadata": {},
   "outputs": [
    {
     "data": {
      "text/plain": [
       "'просвещение и образование — новые форматы и темы'"
      ]
     },
     "execution_count": 72,
     "metadata": {},
     "output_type": "execute_result"
    }
   ],
   "source": [
    "proj_types[10]"
   ]
  },
  {
   "cell_type": "code",
   "execution_count": 73,
   "metadata": {},
   "outputs": [
    {
     "data": {
      "text/plain": [
       "'целью проекта является обучение основам финансовой грамотности и социальная адаптация подростков, воспитанников детских домов.'"
      ]
     },
     "execution_count": 73,
     "metadata": {},
     "output_type": "execute_result"
    }
   ],
   "source": [
    "proj_names[10]"
   ]
  },
  {
   "cell_type": "code",
   "execution_count": 74,
   "metadata": {},
   "outputs": [
    {
     "data": {
      "text/plain": [
       "'по данным министерства просвещения российской федерации по состоянию на начало 2019 года количество детей-сирот и детей, оставшихся без попечения родителей в детских домах страны составляло 47,1 тыс. человек. при этом согласно результатам социологических исследований лишь 20% выпускников детских домов успешно справляются с жизненными трудностями, находят себе применение в жизни, получают достойную работу и создают крепкие семьи.в настоящее время в российской федерации наблюдается низкий уровень информированности населения, а особенно детей-сирот о преимуществах и потенциальных рисках финансовых услуг. у детей, находящихся в детских домах отсутствуют знания и навыки ведения личного бюджета, опыт сбережений и использования финансовых инструментов для повышения уровня благосостояния.более того, условия пребывания в детских домах не позволяют детям-сиротам получить и закрепить необходимые знания и навыки финансовой грамотности, управления личными финансами, а также адаптироваться к изменяющимся внешним условиям и вызовам. в отличие от сверстников дети-сироты лишены возможности получить финансовую поддержку и совет от своих родителей: как и куда потратить деньги, что купить, а на что не стоит тратить деньги, где взять кредит на покупку жилья и какие финансовые организации лучше обходить стороной.поэтому приобретение знаний о финансах, об экономике, о правах и обязанностях потребителя финансовых услугу является одной из актуальных задач для детей-сирот и детей, оставшихся без попечения родителей. кроме того, обучение финансовой грамотности граждан является в настоящее время одной из приоритетных задач на государственном уровне.целью проекта является обучение основам финансовой грамотности и социальная адаптация подростков, - воспитанников детских домов. предлагаемый проект является одним инструментов социальной помощи несовершеннолетним, оказавшимися в трудной жизненной ситуации.целевая аудитория проекта - дети-сироты и дети, оставшиеся без попечения родителей.масштаб проекта - федеральный, география проекта - российская федерация.проект предусматривает организацию и проведение мастер-классов для детей-сирот на территории российской федерации. в рамках мастер-классов планируется научить воспитанников детских домов грамотно распоряжаться средствами, которые они будут зарабатывать во взрослой самостоятельной жизни.в результате обучения дети-сироты получат понимание как относиться к деньгам и как с ними обращаться, каким образом следует формировать и расходовать личный бюджет, получат знания и понимание преимуществ и рисков использования кредитов и к каким именно тяжелым последствиям может привести бесконтрольное пользование кредитных карт.мастер-классы будут способствовать формированию ответственного отношения детей-сирот к личным финансам, повышению эффективности защиты их интересов как потребителей финансовых услуг.методическую основу проекта составят разработанные банком россии и размещенные на интернет-ресурсе регулятора https://fincult.info сборники методических материалов по темам «деньги», «финансовое мошенничество» для занятий по финансовой грамотности в организациях для детей-сирот и детей, оставшихся без попечения родителей, а также накопленные знания и  личный опыт участников (добровольцев) проекта в области управления личными финансами.мастер-классы планируется проводить в интерактивном режиме с использованием мультимедиа и проекторов. информация по тематике проекта будет представлена в удобном и доступном для детей игровом формате. закрепление полученных знаний планируется осуществить с помощью практических заданий, кейсов, коллективных игр, разбора аудио и видео-фрагментов.практическая реализация проекта позволит значительному числу учащихся и выпускников получить навыки финансовой грамотности, управления личными финансами и подготовиться к жизни за пределами детского дома.социальные эффекты реализации проекта:1) повышение уровня финансовой грамотности детей-сирот;2) улучшение способности и сокращение периода их адаптации к взрослой жизни;3) повышение уровня личного благосостояния;4) обеспечение благополучной и комфортной семейной жизни;5) создание основы для продвижение по социальным лифтам;6) достижение социального благополучия в обществе.'"
      ]
     },
     "execution_count": 74,
     "metadata": {},
     "output_type": "execute_result"
    }
   ],
   "source": [
    "proj_descrs[10]"
   ]
  },
  {
   "cell_type": "code",
   "execution_count": 75,
   "metadata": {},
   "outputs": [],
   "source": [
    "from collections import defaultdict"
   ]
  },
  {
   "cell_type": "code",
   "execution_count": 76,
   "metadata": {},
   "outputs": [
    {
     "name": "stdout",
     "output_type": "stream",
     "text": [
      "другое: 2206\n",
      "просвещение и образование — новые форматы и темы: 1851\n",
      "зож: профилактика, а не лечение: 570\n",
      "семья: сохранение традиций и ценностей: 533\n",
      "искусственный интеллект и современные технологии на службе обществу: 523\n",
      "75-я годовщина со дня победы в великой отечественной войне: 308\n",
      "правовая защита граждан и предпринимателей: 216\n",
      "проекты в области науки: 159\n",
      "внутренний туризм: новые формы, новые маршруты: 157\n",
      "культурно-историческое наследие россии: 82\n"
     ]
    }
   ],
   "source": [
    "types_dict = defaultdict(int)\n",
    "for proj_type in (proj_types):\n",
    "    types_dict[proj_type] += 1\n",
    "    \n",
    "for key, value in sorted(types_dict.items(), key=lambda item: item[1], reverse = True):\n",
    "    print(\"%s: %s\" % (key, value))"
   ]
  },
  {
   "cell_type": "code",
   "execution_count": 77,
   "metadata": {},
   "outputs": [],
   "source": [
    "topic = 'просвещение и образование — новые форматы и темы'"
   ]
  },
  {
   "cell_type": "code",
   "execution_count": 78,
   "metadata": {},
   "outputs": [],
   "source": [
    "names, descrs = [], []\n",
    "for i in range( len(proj_names) ):\n",
    "    if proj_types[i] == topic:\n",
    "        names.append( proj_names[i] )\n",
    "        descrs.append( proj_descrs[i] )"
   ]
  },
  {
   "cell_type": "code",
   "execution_count": 79,
   "metadata": {},
   "outputs": [
    {
     "data": {
      "text/plain": [
       "1851"
      ]
     },
     "execution_count": 79,
     "metadata": {},
     "output_type": "execute_result"
    }
   ],
   "source": [
    "len(names)"
   ]
  },
  {
   "cell_type": "code",
   "execution_count": 80,
   "metadata": {},
   "outputs": [
    {
     "data": {
      "text/plain": [
       "'организация и проведение программы, направленной на командообразование группы детей, лишенных родительской опеки.'"
      ]
     },
     "execution_count": 80,
     "metadata": {},
     "output_type": "execute_result"
    }
   ],
   "source": [
    "names[21]"
   ]
  },
  {
   "cell_type": "code",
   "execution_count": 81,
   "metadata": {},
   "outputs": [
    {
     "data": {
      "text/plain": [
       "'проект направлен на повышение грамотности населения о воздействии на окружающую среду выброшенного мусора, о возможностях \"второй жизни мусора\" - потенциального вторичного сырья для выпуска новых товаров, на повышение культуры обращения с мусором. проблема накапливания твердых коммунальных отходов (тко) очень актуальна для республики крым по той простой причине, что географически крым представляет собой полуостров, удаленный на значительные расстояния от перерабатывающих мусор и вторичное сырье предприятий, которые в основном расположены в центральной части россии. транспортировка мусора из крыма по этой причине невозможна, но дальнейшее захоронение мусора ставит под угрозу уникальную природу крыма и создает экологическую катастрофу путем загрязнения земель, грунтовых и морских вод, воздушного бассейна. решение только одно - перерабатывать весь мусор в крыму, создать предпосылки к развитию кластера перерабатывающих предприятий и в идеальном варианте строительство завода по сжиганию мусора. создание общественного мнения о необходимости наведения порядка в обращении с мусором и в последующем организация с региональными операторами по обращению с тко, государственными органами, правительством крыма и помощью федеральных институтов интегрированной системы по обращению мусора от сбора до утилизации и захоронения, включающую в себя предприятия в данной сфере, создание новых рабочих мест, производство продукции из вторсырья, повышение уровня доходов населения, пополнение местного бюджета, но самое главное решение экологических проблем крыма, его уникальной природы, сохранение уникального уголка россии для будущих поколений.'"
      ]
     },
     "execution_count": 81,
     "metadata": {},
     "output_type": "execute_result"
    }
   ],
   "source": [
    "descrs[22]"
   ]
  },
  {
   "cell_type": "code",
   "execution_count": 82,
   "metadata": {},
   "outputs": [],
   "source": [
    "# process text\n",
    "for i in range( len(names) ):\n",
    "    # lowcase, no , - : ; ( ) \" ' « » and .\n",
    "    #line = names[i].lower()\n",
    "    line = names[i]\n",
    "    line = re.sub(r'[\\,\\-\\:\\;\\(\\)\\\"\\«\\»\\.\\!\\\\\\/]', ' ', line)\n",
    "    line = re.sub(r\"\\'\", ' ', line)\n",
    "    # change all ... to space\n",
    "    line = re.sub(r'\\.+', ' ', line)\n",
    "    # no doublespace\n",
    "    line = re.sub(r' +', ' ', line)\n",
    "    # no space after .\n",
    "    #line = re.sub(r'\\. ', '.', line)\n",
    "    names[i] = line.strip()\n",
    "    \n",
    "    # lowcase, no , - : ; ( ) \" ' « » keep .\n",
    "    #line = descrs[i].lower()\n",
    "    line = descrs[i]\n",
    "    line = re.sub(r'[\\,\\-\\:\\;\\(\\)\\\"\\«\\»\\\\\\/]', ' ', line)\n",
    "    line = re.sub(r\"\\'\", ' ', line)\n",
    "    # change all ... to .\n",
    "    line = re.sub(r'\\.+', '.', line)\n",
    "    # ! > .\n",
    "    line = re.sub(r'\\!', \".\", line)\n",
    "    # no doublespace\n",
    "    line = re.sub(r' +', ' ', line)\n",
    "    # no space after .\n",
    "    line = re.sub(r'\\. ', '.', line)\n",
    "    # change all ... to .\n",
    "    line = re.sub(r'\\.+', '.', line)\n",
    "    descrs[i] = line.strip()\n",
    "    \n"
   ]
  },
  {
   "cell_type": "code",
   "execution_count": 83,
   "metadata": {},
   "outputs": [
    {
     "data": {
      "text/plain": [
       "'серия обучающих семинаров для детей выпускников из детдомов позволяющих окунуться в мир математики и анализа данных'"
      ]
     },
     "execution_count": 83,
     "metadata": {},
     "output_type": "execute_result"
    }
   ],
   "source": [
    "names[0]"
   ]
  },
  {
   "cell_type": "code",
   "execution_count": 84,
   "metadata": {},
   "outputs": [
    {
     "data": {
      "text/plain": [
       "'предлагается провести в детском доме серию обучающих мероприятий позволяющих детям выпускникам попробовать себя в анализе данных pyhon matlab .формат обучения желательно наличие компьютеров и интерактив если нет то показ на проекторе.для несложных задач возможен разбор математических алгоритмов в рамках знаний средней школы .общая цель заинтересовать помочь с выбором профессии выпускникам детских домов интересующихся поступлением на математические it специальности в вузы.'"
      ]
     },
     "execution_count": 84,
     "metadata": {},
     "output_type": "execute_result"
    }
   ],
   "source": [
    "descrs[0]"
   ]
  },
  {
   "cell_type": "markdown",
   "metadata": {},
   "source": [
    "### Пробуем просто все предложения данной тематике собрать в кучу"
   ]
  },
  {
   "cell_type": "code",
   "execution_count": 85,
   "metadata": {},
   "outputs": [],
   "source": [
    "all_sents = []\n",
    "max_slen = 0\n",
    "for i in range(len(descrs)):\n",
    "    sents = descrs[i].split('.')\n",
    "    for j in range(len(sents)):\n",
    "        sents[j] = sents[j].strip()\n",
    "        slen = len(sents[j])\n",
    "        if slen > 0:\n",
    "            all_sents.append(sents[j])"
   ]
  },
  {
   "cell_type": "code",
   "execution_count": 86,
   "metadata": {},
   "outputs": [
    {
     "data": {
      "text/plain": [
       "31148"
      ]
     },
     "execution_count": 86,
     "metadata": {},
     "output_type": "execute_result"
    }
   ],
   "source": [
    "len(all_sents)"
   ]
  },
  {
   "cell_type": "code",
   "execution_count": 87,
   "metadata": {},
   "outputs": [
    {
     "data": {
      "text/plain": [
       "'формат обучения желательно наличие компьютеров и интерактив если нет то показ на проекторе'"
      ]
     },
     "execution_count": 87,
     "metadata": {},
     "output_type": "execute_result"
    }
   ],
   "source": [
    "all_sents[1]"
   ]
  },
  {
   "cell_type": "code",
   "execution_count": 88,
   "metadata": {},
   "outputs": [
    {
     "data": {
      "text/plain": [
       "44944"
      ]
     },
     "execution_count": 88,
     "metadata": {},
     "output_type": "execute_result"
    }
   ],
   "source": [
    "text = ' '.join(all_sents)\n",
    "text = re.sub(r'  ', ' ', text)  # убрать двойные пробелы\n",
    "ALL_WORDS = set(text.strip().split(' '))\n",
    "len(ALL_WORDS)"
   ]
  },
  {
   "cell_type": "code",
   "execution_count": 89,
   "metadata": {},
   "outputs": [
    {
     "data": {
      "text/plain": [
       "[('и', 21757),\n",
       " ('в', 18684),\n",
       " ('на', 7540),\n",
       " ('с', 6533),\n",
       " ('для', 5371),\n",
       " ('по', 4117),\n",
       " ('не', 3524),\n",
       " ('проекта', 3413),\n",
       " ('к', 3142),\n",
       " ('как', 2422)]"
      ]
     },
     "execution_count": 89,
     "metadata": {},
     "output_type": "execute_result"
    }
   ],
   "source": [
    "c = Counter(text.split(' '))\n",
    "c.most_common(10)"
   ]
  },
  {
   "cell_type": "code",
   "execution_count": 90,
   "metadata": {},
   "outputs": [],
   "source": [
    "# # удаляем слова с числом повторений меньше 10\n",
    "# todelete = set()\n",
    "# for i, n in c.items():\n",
    "#     if n < 10:\n",
    "#         todelete.add(i)\n",
    "        \n",
    "# for i in todelete:\n",
    "#     del c[i]"
   ]
  },
  {
   "cell_type": "code",
   "execution_count": 91,
   "metadata": {},
   "outputs": [
    {
     "data": {
      "text/plain": [
       "44944"
      ]
     },
     "execution_count": 91,
     "metadata": {},
     "output_type": "execute_result"
    }
   ],
   "source": [
    "len(c.keys())"
   ]
  },
  {
   "cell_type": "code",
   "execution_count": 92,
   "metadata": {},
   "outputs": [
    {
     "data": {
      "text/plain": [
       "20002"
      ]
     },
     "execution_count": 92,
     "metadata": {},
     "output_type": "execute_result"
    }
   ],
   "source": [
    "WORDS_COUNT = 20000\n",
    "ALL_WORDS = set([w for w, _ in c.most_common(WORDS_COUNT)])\n",
    "INDEX_TO_WORD = ['<pad>', '<miss>'] + list(ALL_WORDS)\n",
    "len(INDEX_TO_WORD)"
   ]
  },
  {
   "cell_type": "code",
   "execution_count": 93,
   "metadata": {},
   "outputs": [
    {
     "data": {
      "text/plain": [
       "['<pad>',\n",
       " '<miss>',\n",
       " 'внутришкольной',\n",
       " 'артист',\n",
       " 'викторины',\n",
       " 'ставших',\n",
       " 'сервисам',\n",
       " 'диагноз',\n",
       " 'интернете',\n",
       " 'гибдд']"
      ]
     },
     "execution_count": 93,
     "metadata": {},
     "output_type": "execute_result"
    }
   ],
   "source": [
    "WORD_TO_INDEX = {w: i for i, w in enumerate(INDEX_TO_WORD)}\n",
    "INDEX_TO_WORD[:10]"
   ]
  },
  {
   "cell_type": "code",
   "execution_count": 94,
   "metadata": {},
   "outputs": [],
   "source": [
    "%matplotlib inline\n",
    "import matplotlib.pyplot as plt"
   ]
  },
  {
   "cell_type": "code",
   "execution_count": 95,
   "metadata": {},
   "outputs": [
    {
     "data": {
      "text/plain": [
       "(array([7.703e+03, 6.894e+03, 6.249e+03, 4.393e+03, 2.440e+03, 1.389e+03,\n",
       "        8.020e+02, 4.390e+02, 2.600e+02, 1.740e+02, 1.090e+02, 6.600e+01,\n",
       "        5.200e+01, 3.800e+01, 2.600e+01, 2.400e+01, 1.500e+01, 6.000e+00,\n",
       "        5.000e+00, 1.700e+01, 9.000e+00, 6.000e+00, 6.000e+00, 2.000e+00,\n",
       "        4.000e+00, 3.000e+00, 5.000e+00, 1.000e+00, 2.000e+00, 0.000e+00,\n",
       "        1.000e+00, 0.000e+00, 2.000e+00, 0.000e+00, 1.000e+00, 1.000e+00,\n",
       "        1.000e+00, 0.000e+00, 0.000e+00, 0.000e+00, 0.000e+00, 0.000e+00,\n",
       "        0.000e+00, 0.000e+00, 1.000e+00, 1.000e+00, 0.000e+00, 0.000e+00,\n",
       "        0.000e+00, 1.000e+00]),\n",
       " array([  1.  ,   6.98,  12.96,  18.94,  24.92,  30.9 ,  36.88,  42.86,\n",
       "         48.84,  54.82,  60.8 ,  66.78,  72.76,  78.74,  84.72,  90.7 ,\n",
       "         96.68, 102.66, 108.64, 114.62, 120.6 , 126.58, 132.56, 138.54,\n",
       "        144.52, 150.5 , 156.48, 162.46, 168.44, 174.42, 180.4 , 186.38,\n",
       "        192.36, 198.34, 204.32, 210.3 , 216.28, 222.26, 228.24, 234.22,\n",
       "        240.2 , 246.18, 252.16, 258.14, 264.12, 270.1 , 276.08, 282.06,\n",
       "        288.04, 294.02, 300.  ]),\n",
       " <a list of 50 Patch objects>)"
      ]
     },
     "execution_count": 95,
     "metadata": {},
     "output_type": "execute_result"
    },
    {
     "data": {
      "image/png": "[encoded data removed]",
      "text/plain": [
       "<Figure size 432x288 with 1 Axes>"
      ]
     },
     "metadata": {
      "needs_background": "light"
     },
     "output_type": "display_data"
    }
   ],
   "source": [
    "# распреление длины слов в предложении\n",
    "plt.hist([len(s.split(' ')) for s in all_sents], bins=50)"
   ]
  },
  {
   "cell_type": "code",
   "execution_count": 96,
   "metadata": {},
   "outputs": [],
   "source": [
    "MAX_LEN = 30"
   ]
  },
  {
   "cell_type": "code",
   "execution_count": 97,
   "metadata": {},
   "outputs": [
    {
     "name": "stderr",
     "output_type": "stream",
     "text": [
      "100%|██████████| 31148/31148 [00:04<00:00, 6915.45it/s]\n"
     ]
    }
   ],
   "source": [
    "X = torch.zeros((len(all_sents), MAX_LEN), dtype=int)\n",
    "# готовим матрицу - строка - предложение, столбец - индекс слова в этой позиции\n",
    "for i in tqdm(range(len(all_sents))):\n",
    "    for j, w in enumerate(all_sents[i].split(' ')):\n",
    "        if j >= MAX_LEN:\n",
    "            break\n",
    "        X[i, j] = WORD_TO_INDEX.get(w, WORD_TO_INDEX['<miss>'])\n",
    "        \n",
    "X = X.to(dev)"
   ]
  },
  {
   "cell_type": "code",
   "execution_count": 98,
   "metadata": {},
   "outputs": [
    {
     "data": {
      "text/plain": [
       "tensor([[ 2933,  1694, 19330, 16240,  9675,  3893, 12478,  2235,  6959,  5049,\n",
       "          4973,  3605,  2959, 19330, 15448,  8027,     1,     1,     0,     0,\n",
       "             0,     0,     0,     0,     0,     0,     0,     0,     0,     0]],\n",
       "       device='cuda:0')"
      ]
     },
     "execution_count": 98,
     "metadata": {},
     "output_type": "execute_result"
    }
   ],
   "source": [
    "X[0:1]"
   ]
  },
  {
   "cell_type": "code",
   "execution_count": 99,
   "metadata": {},
   "outputs": [
    {
     "data": {
      "text/plain": [
       "torch.Size([31148, 30])"
      ]
     },
     "execution_count": 99,
     "metadata": {},
     "output_type": "execute_result"
    }
   ],
   "source": [
    "X.shape"
   ]
  },
  {
   "cell_type": "code",
   "execution_count": 100,
   "metadata": {},
   "outputs": [],
   "source": [
    "class Network(torch.nn.Module):\n",
    "\n",
    "    def __init__(self, dev):\n",
    "        super(Network, self).__init__()\n",
    "        self.dev = dev\n",
    "        self.word_embeddings = torch.nn.Embedding(len(INDEX_TO_WORD), 400).to(self.dev)\n",
    "        #self.gru = torch.nn.RNN(200, 128, num_layers = 2, nonlinearity = 'relu', batch_first=True).to(self.dev)\n",
    "        self.gru = torch.nn.GRU(400, 256, num_layers = 2, batch_first=True).to(self.dev)\n",
    "        self.hidden2tag = torch.nn.Linear(256, len(INDEX_TO_WORD)).to(self.dev)\n",
    "\n",
    "    def forward(self, sentences):\n",
    "        embeds = self.word_embeddings(sentences)\n",
    "        gru_out, state = self.gru(embeds)\n",
    "        tag_space = self.hidden2tag(gru_out.reshape(-1, 256))\n",
    "        return tag_space.reshape(sentences.shape[0], sentences.shape[1], -1), state\n",
    "    \n",
    "    def forward_state(self, sentences, state):\n",
    "        embeds = self.word_embeddings(sentences)\n",
    "        gru_out, state = self.gru(embeds, state)\n",
    "        tag_space = self.hidden2tag(gru_out.reshape(-1, 256))\n",
    "        return tag_space.reshape(sentences.shape[0], sentences.shape[1], -1), state"
   ]
  },
  {
   "cell_type": "code",
   "execution_count": 101,
   "metadata": {},
   "outputs": [
    {
     "data": {
      "text/plain": [
       "torch.Size([1, 30, 20002])"
      ]
     },
     "execution_count": 101,
     "metadata": {},
     "output_type": "execute_result"
    }
   ],
   "source": [
    "model = Network(dev)\n",
    "model.forward(X[0:1])[0].shape"
   ]
  },
  {
   "cell_type": "code",
   "execution_count": 102,
   "metadata": {},
   "outputs": [],
   "source": [
    "def generate_sentence(line):\n",
    "    sentence = line.split(' ')\n",
    "    #sentence = ['к', 'а', 'к', ' ', 'р', 'а', 'н', 'о',' ']\n",
    "    state = None\n",
    "    for i in range(MAX_LEN):\n",
    "        #X = torch.Tensor([[WORD_TO_INDEX[sentence[i]]]]).type(torch.long)\n",
    "        X = torch.Tensor([[WORD_TO_INDEX.get(sentence[i],WORD_TO_INDEX['<miss>'])]]).type(torch.long)\n",
    "        #get(w, WORD_TO_INDEX['<miss>']\n",
    "        X = X.to(dev)\n",
    "        if i == 0:\n",
    "            result, state = model.forward(X)\n",
    "        else:\n",
    "            result, state = model.forward_state(X, state)\n",
    "        prediction = result[0, -1, :]\n",
    "        index_of_prediction = prediction.argmax()\n",
    "        if i >= len(sentence) - 1:\n",
    "            if index_of_prediction == 0:\n",
    "                break\n",
    "        sentence.append(INDEX_TO_WORD[index_of_prediction])\n",
    "        \n",
    "    line = ' '.join(sentence)\n",
    "    line = re.sub(r'none.*$', '', line)\n",
    "    print(line)"
   ]
  },
  {
   "cell_type": "code",
   "execution_count": 103,
   "metadata": {},
   "outputs": [
    {
     "name": "stdout",
     "output_type": "stream",
     "text": [
      "проект направлен омская понимаем открытую потерю уважительно настоящий производстве производстве заведения уровня шаге родителей механизм недоверием недоверием недоверием банковским банковским методическая методическая · одноклассники · прибыльность прибыльность поэтов воспитателям тонкостей интернат продажи\n"
     ]
    }
   ],
   "source": [
    "generate_sentence('проект направлен')"
   ]
  },
  {
   "cell_type": "code",
   "execution_count": 133,
   "metadata": {},
   "outputs": [],
   "source": [
    "lrate = 0.1\n",
    "\n",
    "criterion = torch.nn.CrossEntropyLoss()\n",
    "optimizer = torch.optim.SGD(model.parameters(), lr=lrate)\n",
    "#optimizer = torch.optim.Adam(model.parameters(), lr=lrate)"
   ]
  },
  {
   "cell_type": "code",
   "execution_count": 140,
   "metadata": {
    "collapsed": true,
    "jupyter": {
     "outputs_hidden": true
    }
   },
   "outputs": [
    {
     "name": "stdout",
     "output_type": "stream",
     "text": [
      "Epoch 0. Time: 31.528, Train loss: 0.258\n",
      "Epoch 1. Time: 32.214, Train loss: 0.258\n",
      "Epoch 2. Time: 32.602, Train loss: 0.257\n",
      "Epoch 3. Time: 32.773, Train loss: 0.257\n",
      "Epoch 4. Time: 32.746, Train loss: 0.257\n",
      "Epoch 5. Time: 32.729, Train loss: 0.257\n",
      "Epoch 6. Time: 32.760, Train loss: 0.256\n",
      "Epoch 7. Time: 32.757, Train loss: 0.257\n",
      "Epoch 8. Time: 32.747, Train loss: 0.257\n",
      "Epoch 9. Time: 32.742, Train loss: 0.256\n",
      "Epoch 10. Time: 32.730, Train loss: 0.256\n",
      "Epoch 11. Time: 32.740, Train loss: 0.256\n",
      "Epoch 12. Time: 32.703, Train loss: 0.255\n",
      "Epoch 13. Time: 32.850, Train loss: 0.255\n",
      "Epoch 14. Time: 32.795, Train loss: 0.254\n",
      "Epoch 15. Time: 33.549, Train loss: 0.254\n",
      "Epoch 16. Time: 32.982, Train loss: 0.253\n",
      "Epoch 17. Time: 33.034, Train loss: 0.253\n",
      "Epoch 18. Time: 33.732, Train loss: 0.253\n",
      "Epoch 19. Time: 33.711, Train loss: 0.252\n",
      "Epoch 20. Time: 33.710, Train loss: 0.252\n",
      "Epoch 21. Time: 33.645, Train loss: 0.252\n",
      "Epoch 22. Time: 33.644, Train loss: 0.253\n",
      "Epoch 23. Time: 33.666, Train loss: 0.253\n",
      "Epoch 24. Time: 33.640, Train loss: 0.253\n",
      "Epoch 25. Time: 33.642, Train loss: 0.253\n",
      "Epoch 26. Time: 33.652, Train loss: 0.252\n",
      "Epoch 27. Time: 33.691, Train loss: 0.251\n",
      "Epoch 28. Time: 33.322, Train loss: 0.251\n",
      "Epoch 29. Time: 33.546, Train loss: 0.250\n",
      "Epoch 30. Time: 33.591, Train loss: 0.250\n",
      "Epoch 31. Time: 33.629, Train loss: 0.250\n",
      "Epoch 32. Time: 33.652, Train loss: 0.249\n",
      "Epoch 33. Time: 33.556, Train loss: 0.249\n",
      "Epoch 34. Time: 33.619, Train loss: 0.249\n",
      "Epoch 35. Time: 33.615, Train loss: 0.249\n",
      "Epoch 36. Time: 33.637, Train loss: 0.249\n",
      "Epoch 37. Time: 33.632, Train loss: 0.249\n",
      "Epoch 38. Time: 33.568, Train loss: 0.248\n",
      "Epoch 39. Time: 33.562, Train loss: 0.248\n",
      "Epoch 40. Time: 33.610, Train loss: 0.248\n",
      "Epoch 41. Time: 33.587, Train loss: 0.247\n",
      "Epoch 42. Time: 33.643, Train loss: 0.247\n",
      "Epoch 43. Time: 33.635, Train loss: 0.247\n",
      "Epoch 44. Time: 33.542, Train loss: 0.247\n",
      "Epoch 45. Time: 33.563, Train loss: 0.247\n",
      "Epoch 46. Time: 33.626, Train loss: 0.248\n",
      "Epoch 47. Time: 33.562, Train loss: 0.249\n",
      "Epoch 48. Time: 33.636, Train loss: 0.250\n",
      "Epoch 49. Time: 33.514, Train loss: 0.250\n",
      "Epoch 50. Time: 33.560, Train loss: 0.249\n",
      "Epoch 51. Time: 33.585, Train loss: 0.248\n",
      "Epoch 52. Time: 33.565, Train loss: 0.248\n",
      "Epoch 53. Time: 33.562, Train loss: 0.247\n",
      "Epoch 54. Time: 33.546, Train loss: 0.246\n",
      "Epoch 55. Time: 33.417, Train loss: 0.246\n",
      "Epoch 56. Time: 33.336, Train loss: 0.245\n",
      "Epoch 57. Time: 33.534, Train loss: 0.245\n",
      "Epoch 58. Time: 33.615, Train loss: 0.244\n",
      "Epoch 59. Time: 33.614, Train loss: 0.244\n",
      "Epoch 60. Time: 33.627, Train loss: 0.245\n",
      "Epoch 61. Time: 33.611, Train loss: 0.245\n",
      "Epoch 62. Time: 33.643, Train loss: 0.244\n",
      "Epoch 63. Time: 33.605, Train loss: 0.244\n",
      "Epoch 64. Time: 33.627, Train loss: 0.244\n",
      "Epoch 65. Time: 33.556, Train loss: 0.243\n",
      "Epoch 66. Time: 33.587, Train loss: 0.243\n",
      "Epoch 67. Time: 33.579, Train loss: 0.243\n",
      "Epoch 68. Time: 33.625, Train loss: 0.242\n",
      "Epoch 69. Time: 33.595, Train loss: 0.242\n",
      "Epoch 70. Time: 33.582, Train loss: 0.241\n",
      "Epoch 71. Time: 33.615, Train loss: 0.241\n",
      "Epoch 72. Time: 33.579, Train loss: 0.241\n",
      "Epoch 73. Time: 33.560, Train loss: 0.241\n",
      "Epoch 74. Time: 33.620, Train loss: 0.241\n",
      "Epoch 75. Time: 33.591, Train loss: 0.241\n",
      "Epoch 76. Time: 33.543, Train loss: 0.241\n",
      "Epoch 77. Time: 33.566, Train loss: 0.241\n",
      "Epoch 78. Time: 33.573, Train loss: 0.241\n",
      "Epoch 79. Time: 33.618, Train loss: 0.242\n",
      "Epoch 80. Time: 33.614, Train loss: 0.241\n",
      "Epoch 81. Time: 33.616, Train loss: 0.241\n",
      "Epoch 82. Time: 33.582, Train loss: 0.241\n",
      "Epoch 83. Time: 33.585, Train loss: 0.241\n",
      "Epoch 84. Time: 33.573, Train loss: 0.240\n",
      "Epoch 85. Time: 33.612, Train loss: 0.240\n",
      "Epoch 86. Time: 33.584, Train loss: 0.241\n",
      "Epoch 87. Time: 33.606, Train loss: 0.241\n",
      "Epoch 88. Time: 33.531, Train loss: 0.241\n",
      "Epoch 89. Time: 33.606, Train loss: 0.240\n",
      "Epoch 90. Time: 33.641, Train loss: 0.239\n",
      "Epoch 91. Time: 33.602, Train loss: 0.239\n",
      "Epoch 92. Time: 33.605, Train loss: 0.238\n",
      "Epoch 93. Time: 33.627, Train loss: 0.238\n",
      "Epoch 94. Time: 33.595, Train loss: 0.238\n",
      "Epoch 95. Time: 33.607, Train loss: 0.238\n",
      "Epoch 96. Time: 33.623, Train loss: 0.239\n",
      "Epoch 97. Time: 33.588, Train loss: 0.238\n",
      "Epoch 98. Time: 33.630, Train loss: 0.238\n",
      "Epoch 99. Time: 33.564, Train loss: 0.240\n",
      "Epoch 100. Time: 33.553, Train loss: 0.239\n",
      "Epoch 101. Time: 33.639, Train loss: 0.239\n",
      "Epoch 102. Time: 33.611, Train loss: 0.238\n",
      "Epoch 103. Time: 33.647, Train loss: 0.237\n",
      "Epoch 104. Time: 33.618, Train loss: 0.236\n",
      "Epoch 105. Time: 33.514, Train loss: 0.236\n",
      "Epoch 106. Time: 33.574, Train loss: 0.235\n",
      "Epoch 107. Time: 33.615, Train loss: 0.235\n",
      "Epoch 108. Time: 33.504, Train loss: 0.235\n",
      "Epoch 109. Time: 33.606, Train loss: 0.234\n",
      "Epoch 110. Time: 33.606, Train loss: 0.234\n",
      "Epoch 111. Time: 33.532, Train loss: 0.234\n",
      "Epoch 112. Time: 33.592, Train loss: 0.234\n",
      "Epoch 113. Time: 33.627, Train loss: 0.234\n",
      "Epoch 114. Time: 33.505, Train loss: 0.234\n",
      "Epoch 115. Time: 33.640, Train loss: 0.248\n",
      "Epoch 116. Time: 33.600, Train loss: 0.259\n",
      "Epoch 117. Time: 33.583, Train loss: 0.257\n",
      "Epoch 118. Time: 33.607, Train loss: 0.254\n",
      "Epoch 119. Time: 33.584, Train loss: 0.250\n",
      "Epoch 120. Time: 33.602, Train loss: 0.246\n",
      "Epoch 121. Time: 33.587, Train loss: 0.243\n",
      "Epoch 122. Time: 33.623, Train loss: 0.241\n",
      "Epoch 123. Time: 33.609, Train loss: 0.239\n",
      "Epoch 124. Time: 33.619, Train loss: 0.237\n",
      "Epoch 125. Time: 33.572, Train loss: 0.236\n",
      "Epoch 126. Time: 33.624, Train loss: 0.235\n",
      "Epoch 127. Time: 33.586, Train loss: 0.234\n",
      "Epoch 128. Time: 33.647, Train loss: 0.234\n",
      "Epoch 129. Time: 33.573, Train loss: 0.234\n",
      "Epoch 130. Time: 33.596, Train loss: 0.233\n",
      "Epoch 131. Time: 33.609, Train loss: 0.233\n",
      "Epoch 132. Time: 33.616, Train loss: 0.232\n",
      "Epoch 133. Time: 33.622, Train loss: 0.232\n",
      "Epoch 134. Time: 33.494, Train loss: 0.231\n",
      "Epoch 135. Time: 33.550, Train loss: 0.231\n",
      "Epoch 136. Time: 33.605, Train loss: 0.231\n",
      "Epoch 137. Time: 33.575, Train loss: 0.231\n",
      "Epoch 138. Time: 33.639, Train loss: 0.230\n",
      "Epoch 139. Time: 33.579, Train loss: 0.230\n",
      "Epoch 140. Time: 33.613, Train loss: 0.230\n",
      "Epoch 141. Time: 33.594, Train loss: 0.230\n",
      "Epoch 142. Time: 33.576, Train loss: 0.230\n",
      "Epoch 143. Time: 33.713, Train loss: 0.230\n",
      "Epoch 144. Time: 33.573, Train loss: 0.231\n",
      "Epoch 145. Time: 33.656, Train loss: 0.232\n",
      "Epoch 146. Time: 33.588, Train loss: 0.231\n",
      "Epoch 147. Time: 33.566, Train loss: 0.231\n",
      "Epoch 148. Time: 33.592, Train loss: 0.230\n",
      "Epoch 149. Time: 33.653, Train loss: 0.230\n",
      "Epoch 150. Time: 33.622, Train loss: 0.230\n",
      "Epoch 151. Time: 33.589, Train loss: 0.230\n",
      "Epoch 152. Time: 33.631, Train loss: 0.229\n",
      "Epoch 153. Time: 33.583, Train loss: 0.229\n",
      "Epoch 154. Time: 33.606, Train loss: 0.229\n",
      "Epoch 155. Time: 33.603, Train loss: 0.228\n",
      "Epoch 156. Time: 33.636, Train loss: 0.227\n",
      "Epoch 157. Time: 33.585, Train loss: 0.227\n",
      "Epoch 158. Time: 33.602, Train loss: 0.227\n",
      "Epoch 159. Time: 33.586, Train loss: 0.227\n",
      "Epoch 160. Time: 33.628, Train loss: 0.227\n",
      "Epoch 161. Time: 33.641, Train loss: 0.227\n",
      "Epoch 162. Time: 33.600, Train loss: 0.226\n",
      "Epoch 163. Time: 33.520, Train loss: 0.226\n",
      "Epoch 164. Time: 33.556, Train loss: 0.226\n",
      "Epoch 165. Time: 33.564, Train loss: 0.226\n",
      "Epoch 166. Time: 33.545, Train loss: 0.226\n",
      "Epoch 167. Time: 33.620, Train loss: 0.226\n",
      "Epoch 168. Time: 33.537, Train loss: 0.226\n",
      "Epoch 169. Time: 33.568, Train loss: 0.226\n",
      "Epoch 170. Time: 33.765, Train loss: 0.227\n",
      "Epoch 171. Time: 33.095, Train loss: 0.227\n",
      "Epoch 172. Time: 33.148, Train loss: 0.227\n",
      "Epoch 173. Time: 33.147, Train loss: 0.227\n",
      "Epoch 174. Time: 33.130, Train loss: 0.227\n",
      "Epoch 175. Time: 33.188, Train loss: 0.226\n",
      "Epoch 176. Time: 33.186, Train loss: 0.226\n",
      "Epoch 177. Time: 33.187, Train loss: 0.225\n",
      "Epoch 178. Time: 33.122, Train loss: 0.225\n",
      "Epoch 179. Time: 33.189, Train loss: 0.224\n",
      "Epoch 180. Time: 33.194, Train loss: 0.224\n",
      "Epoch 181. Time: 33.179, Train loss: 0.224\n",
      "Epoch 182. Time: 33.157, Train loss: 0.223\n",
      "Epoch 183. Time: 33.115, Train loss: 0.223\n",
      "Epoch 184. Time: 33.151, Train loss: 0.223\n",
      "Epoch 185. Time: 33.108, Train loss: 0.223\n",
      "Epoch 186. Time: 33.143, Train loss: 0.223\n",
      "Epoch 187. Time: 33.141, Train loss: 0.223\n",
      "Epoch 188. Time: 33.192, Train loss: 0.223\n",
      "Epoch 189. Time: 33.186, Train loss: 0.223\n",
      "Epoch 190. Time: 33.140, Train loss: 0.223\n",
      "Epoch 191. Time: 33.200, Train loss: 0.223\n",
      "Epoch 192. Time: 33.179, Train loss: 0.223\n",
      "Epoch 193. Time: 33.198, Train loss: 0.223\n",
      "Epoch 194. Time: 33.137, Train loss: 0.223\n",
      "Epoch 195. Time: 33.108, Train loss: 0.224\n",
      "Epoch 196. Time: 33.196, Train loss: 0.224\n",
      "Epoch 197. Time: 33.153, Train loss: 0.224\n",
      "Epoch 198. Time: 32.793, Train loss: 0.224\n",
      "Epoch 199. Time: 32.717, Train loss: 0.224\n",
      "Epoch 200. Time: 32.752, Train loss: 0.224\n",
      "Epoch 201. Time: 32.809, Train loss: 0.223\n",
      "Epoch 202. Time: 32.812, Train loss: 0.222\n",
      "Epoch 203. Time: 32.726, Train loss: 0.222\n",
      "Epoch 204. Time: 32.737, Train loss: 0.222\n",
      "Epoch 205. Time: 32.767, Train loss: 0.221\n",
      "Epoch 206. Time: 32.733, Train loss: 0.221\n",
      "Epoch 207. Time: 32.758, Train loss: 0.220\n",
      "Epoch 208. Time: 32.783, Train loss: 0.221\n",
      "Epoch 209. Time: 32.775, Train loss: 0.220\n",
      "Epoch 210. Time: 32.730, Train loss: 0.220\n",
      "Epoch 211. Time: 32.831, Train loss: 0.220\n",
      "Epoch 212. Time: 32.813, Train loss: 0.220\n",
      "Epoch 213. Time: 32.785, Train loss: 0.219\n",
      "Epoch 214. Time: 32.815, Train loss: 0.219\n",
      "Epoch 215. Time: 32.747, Train loss: 0.219\n",
      "Epoch 216. Time: 32.789, Train loss: 0.219\n",
      "Epoch 217. Time: 32.779, Train loss: 0.219\n",
      "Epoch 218. Time: 32.790, Train loss: 0.219\n",
      "Epoch 219. Time: 32.819, Train loss: 0.219\n",
      "Epoch 220. Time: 32.777, Train loss: 0.218\n",
      "Epoch 221. Time: 32.783, Train loss: 0.218\n",
      "Epoch 222. Time: 32.803, Train loss: 0.218\n",
      "Epoch 223. Time: 32.790, Train loss: 0.218\n",
      "Epoch 224. Time: 32.805, Train loss: 0.218\n",
      "Epoch 225. Time: 32.814, Train loss: 0.218\n",
      "Epoch 226. Time: 32.810, Train loss: 0.218\n",
      "Epoch 227. Time: 32.839, Train loss: 0.217\n",
      "Epoch 228. Time: 32.795, Train loss: 0.217\n",
      "Epoch 229. Time: 32.796, Train loss: 0.218\n",
      "Epoch 230. Time: 32.788, Train loss: 0.218\n",
      "Epoch 231. Time: 32.728, Train loss: 0.218\n",
      "Epoch 232. Time: 32.872, Train loss: 0.219\n",
      "Epoch 233. Time: 32.803, Train loss: 0.219\n",
      "Epoch 234. Time: 32.756, Train loss: 0.220\n",
      "Epoch 235. Time: 32.823, Train loss: 0.222\n",
      "Epoch 236. Time: 32.788, Train loss: 0.223\n",
      "Epoch 237. Time: 32.791, Train loss: 0.224\n",
      "Epoch 238. Time: 32.766, Train loss: 0.223\n",
      "Epoch 239. Time: 32.858, Train loss: 0.222\n",
      "Epoch 240. Time: 32.775, Train loss: 0.221\n",
      "Epoch 241. Time: 32.768, Train loss: 0.220\n",
      "Epoch 242. Time: 32.839, Train loss: 0.219\n",
      "Epoch 243. Time: 32.750, Train loss: 0.218\n",
      "Epoch 244. Time: 32.794, Train loss: 0.217\n",
      "Epoch 245. Time: 33.881, Train loss: 0.217\n",
      "Epoch 246. Time: 33.233, Train loss: 0.216\n",
      "Epoch 247. Time: 33.584, Train loss: 0.216\n",
      "Epoch 248. Time: 33.627, Train loss: 0.215\n",
      "Epoch 249. Time: 33.607, Train loss: 0.215\n",
      "Epoch 250. Time: 33.544, Train loss: 0.215\n",
      "Epoch 251. Time: 33.587, Train loss: 0.214\n",
      "Epoch 252. Time: 33.590, Train loss: 0.214\n",
      "Epoch 253. Time: 33.645, Train loss: 0.214\n",
      "Epoch 254. Time: 33.550, Train loss: 0.214\n",
      "Epoch 255. Time: 33.617, Train loss: 0.214\n",
      "Epoch 256. Time: 33.648, Train loss: 0.214\n",
      "Epoch 257. Time: 33.578, Train loss: 0.214\n",
      "Epoch 258. Time: 33.577, Train loss: 0.214\n",
      "Epoch 259. Time: 33.549, Train loss: 0.213\n",
      "Epoch 260. Time: 33.578, Train loss: 0.213\n",
      "Epoch 261. Time: 33.561, Train loss: 0.213\n",
      "Epoch 262. Time: 33.615, Train loss: 0.213\n",
      "Epoch 263. Time: 33.635, Train loss: 0.213\n",
      "Epoch 264. Time: 33.633, Train loss: 0.213\n",
      "Epoch 265. Time: 33.583, Train loss: 0.213\n",
      "Epoch 266. Time: 33.628, Train loss: 0.213\n",
      "Epoch 267. Time: 33.582, Train loss: 0.213\n",
      "Epoch 268. Time: 33.513, Train loss: 0.213\n",
      "Epoch 269. Time: 33.523, Train loss: 0.213\n",
      "Epoch 270. Time: 33.606, Train loss: 0.213\n"
     ]
    },
    {
     "ename": "KeyboardInterrupt",
     "evalue": "",
     "output_type": "error",
     "traceback": [
      "\u001b[1;31m---------------------------------------------------------------------------\u001b[0m",
      "\u001b[1;31mKeyboardInterrupt\u001b[0m                         Traceback (most recent call last)",
      "\u001b[1;32m<ipython-input-140-eb2dd88e934a>\u001b[0m in \u001b[0;36m<module>\u001b[1;34m\u001b[0m\n\u001b[0;32m     18\u001b[0m         \u001b[0mtrain_loss\u001b[0m \u001b[1;33m+=\u001b[0m \u001b[0mloss\u001b[0m\u001b[1;33m.\u001b[0m\u001b[0mitem\u001b[0m\u001b[1;33m(\u001b[0m\u001b[1;33m)\u001b[0m\u001b[1;33m\u001b[0m\u001b[1;33m\u001b[0m\u001b[0m\n\u001b[0;32m     19\u001b[0m \u001b[1;33m\u001b[0m\u001b[0m\n\u001b[1;32m---> 20\u001b[1;33m         \u001b[0mloss\u001b[0m\u001b[1;33m.\u001b[0m\u001b[0mbackward\u001b[0m\u001b[1;33m(\u001b[0m\u001b[1;33m)\u001b[0m\u001b[1;33m\u001b[0m\u001b[1;33m\u001b[0m\u001b[0m\n\u001b[0m\u001b[0;32m     21\u001b[0m         \u001b[0moptimizer\u001b[0m\u001b[1;33m.\u001b[0m\u001b[0mstep\u001b[0m\u001b[1;33m(\u001b[0m\u001b[1;33m)\u001b[0m\u001b[1;33m\u001b[0m\u001b[1;33m\u001b[0m\u001b[0m\n\u001b[0;32m     22\u001b[0m         \u001b[0mtrain_passed\u001b[0m \u001b[1;33m+=\u001b[0m \u001b[1;36m1\u001b[0m\u001b[1;33m\u001b[0m\u001b[1;33m\u001b[0m\u001b[0m\n",
      "\u001b[1;32mC:\\ProgramData\\Anaconda3\\lib\\site-packages\\torch\\tensor.py\u001b[0m in \u001b[0;36mbackward\u001b[1;34m(self, gradient, retain_graph, create_graph)\u001b[0m\n\u001b[0;32m    148\u001b[0m                 \u001b[0mproducts\u001b[0m\u001b[1;33m.\u001b[0m \u001b[0mDefaults\u001b[0m \u001b[0mto\u001b[0m\u001b[0;31m \u001b[0m\u001b[0;31m`\u001b[0m\u001b[0;31m`\u001b[0m\u001b[1;32mFalse\u001b[0m\u001b[0;31m`\u001b[0m\u001b[0;31m`\u001b[0m\u001b[1;33m.\u001b[0m\u001b[1;33m\u001b[0m\u001b[1;33m\u001b[0m\u001b[0m\n\u001b[0;32m    149\u001b[0m         \"\"\"\n\u001b[1;32m--> 150\u001b[1;33m         \u001b[0mtorch\u001b[0m\u001b[1;33m.\u001b[0m\u001b[0mautograd\u001b[0m\u001b[1;33m.\u001b[0m\u001b[0mbackward\u001b[0m\u001b[1;33m(\u001b[0m\u001b[0mself\u001b[0m\u001b[1;33m,\u001b[0m \u001b[0mgradient\u001b[0m\u001b[1;33m,\u001b[0m \u001b[0mretain_graph\u001b[0m\u001b[1;33m,\u001b[0m \u001b[0mcreate_graph\u001b[0m\u001b[1;33m)\u001b[0m\u001b[1;33m\u001b[0m\u001b[1;33m\u001b[0m\u001b[0m\n\u001b[0m\u001b[0;32m    151\u001b[0m \u001b[1;33m\u001b[0m\u001b[0m\n\u001b[0;32m    152\u001b[0m     \u001b[1;32mdef\u001b[0m \u001b[0mregister_hook\u001b[0m\u001b[1;33m(\u001b[0m\u001b[0mself\u001b[0m\u001b[1;33m,\u001b[0m \u001b[0mhook\u001b[0m\u001b[1;33m)\u001b[0m\u001b[1;33m:\u001b[0m\u001b[1;33m\u001b[0m\u001b[1;33m\u001b[0m\u001b[0m\n",
      "\u001b[1;32mC:\\ProgramData\\Anaconda3\\lib\\site-packages\\torch\\autograd\\__init__.py\u001b[0m in \u001b[0;36mbackward\u001b[1;34m(tensors, grad_tensors, retain_graph, create_graph, grad_variables)\u001b[0m\n\u001b[0;32m     97\u001b[0m     Variable._execution_engine.run_backward(\n\u001b[0;32m     98\u001b[0m         \u001b[0mtensors\u001b[0m\u001b[1;33m,\u001b[0m \u001b[0mgrad_tensors\u001b[0m\u001b[1;33m,\u001b[0m \u001b[0mretain_graph\u001b[0m\u001b[1;33m,\u001b[0m \u001b[0mcreate_graph\u001b[0m\u001b[1;33m,\u001b[0m\u001b[1;33m\u001b[0m\u001b[1;33m\u001b[0m\u001b[0m\n\u001b[1;32m---> 99\u001b[1;33m         allow_unreachable=True)  # allow_unreachable flag\n\u001b[0m\u001b[0;32m    100\u001b[0m \u001b[1;33m\u001b[0m\u001b[0m\n\u001b[0;32m    101\u001b[0m \u001b[1;33m\u001b[0m\u001b[0m\n",
      "\u001b[1;31mKeyboardInterrupt\u001b[0m: "
     ]
    }
   ],
   "source": [
    "count = 0\n",
    "\n",
    "for ep in range(2000):\n",
    "    \n",
    "    start = time.time()\n",
    "    train_loss = 0.\n",
    "    train_passed = 0\n",
    "    \n",
    "    for i in range(int(len(X) / 100)):\n",
    "        batch = X[i * 100:(i + 1) * 100]\n",
    "        X_batch = batch[:, :-1]\n",
    "        Y_batch = batch[:, 1:].flatten()\n",
    "\n",
    "        optimizer.zero_grad()\n",
    "        answers, _ = model.forward(X_batch)\n",
    "        answers = answers.view(-1, len(INDEX_TO_WORD))\n",
    "        loss = criterion(answers, Y_batch)\n",
    "        train_loss += loss.item()\n",
    "\n",
    "        loss.backward()\n",
    "        optimizer.step()\n",
    "        train_passed += 1\n",
    "    end = time.time()\n",
    "    \n",
    "    count += 1\n",
    "    if count == 1:\n",
    "        count = 0\n",
    "        trloss = train_loss / train_passed\n",
    "        print(\"Epoch {}. Time: {:.3f}, Train loss: {:.3f}\".format(ep, end - start, trloss))\n",
    "        #generate_sentence('проект позволяет')"
   ]
  },
  {
   "cell_type": "code",
   "execution_count": 141,
   "metadata": {},
   "outputs": [
    {
     "name": "stdout",
     "output_type": "stream",
     "text": [
      "предлагается создать серию встреч и семинаров для выпускников вузов на тему карьерного планирования со стороны реального сектора для облегчения дальнейшего трудоустройства выпускникам вузов и уменьшения их рисков <miss> свой карьерный путь\n"
     ]
    }
   ],
   "source": [
    "generate_sentence('предлагается')"
   ]
  },
  {
   "cell_type": "code",
   "execution_count": 142,
   "metadata": {},
   "outputs": [
    {
     "name": "stdout",
     "output_type": "stream",
     "text": [
      "проект позволяет направлен объяснить на характер федеральном и <pad> другие <pad> <pad> <pad> <pad> <pad> <pad> <pad> <pad> <pad> <pad> <pad> <pad> <pad> <pad> <pad> <pad> <pad> <pad> <pad> <pad> <pad> <pad>\n"
     ]
    }
   ],
   "source": [
    "generate_sentence('проект позволяет')"
   ]
  },
  {
   "cell_type": "code",
   "execution_count": 143,
   "metadata": {},
   "outputs": [
    {
     "name": "stdout",
     "output_type": "stream",
     "text": [
      "в нашей стране дети рамках стране актуальным не больше во опыт по чем всех чтобы <miss> то возрастов больше себе из <pad> чем например за <pad> сейчас в из <pad> <miss> два них <pad>\n"
     ]
    }
   ],
   "source": [
    "generate_sentence('в нашей стране дети')"
   ]
  },
  {
   "cell_type": "code",
   "execution_count": 144,
   "metadata": {},
   "outputs": [
    {
     "name": "stdout",
     "output_type": "stream",
     "text": [
      "низкий уровень образования уровень финансово в культуры значительно условиях и ряд национальный выбором разных ее роли карьеры <miss> тьютора общественного в в населения направлении области и жизни и современное новых <miss> <miss> товаров\n"
     ]
    }
   ],
   "source": [
    "generate_sentence('низкий уровень образования')"
   ]
  },
  {
   "cell_type": "code",
   "execution_count": 163,
   "metadata": {},
   "outputs": [
    {
     "name": "stdout",
     "output_type": "stream",
     "text": [
      "преподаватели будут будут повышать свои квалификацию индивидуальные и особенности <miss> <miss> с обслуживание карт в <pad> условиях <pad> становления <pad> <pad> <pad> <pad> <pad> <pad> <pad> <pad> <pad> <pad> <pad> <pad> <pad>\n"
     ]
    }
   ],
   "source": [
    "generate_sentence('преподаватели будут')"
   ]
  },
  {
   "cell_type": "code",
   "execution_count": 155,
   "metadata": {},
   "outputs": [
    {
     "data": {
      "text/plain": [
       "'преподаватели омского государственного университета под руководством константина шестакова совместно о студентами волонтерами выезжают в детские дома города и области и проводят коммуникативные тренинги готовят вместе играют в настольные и спортивные игры.общение отличается от приездов волонтеров из других организаций тем что наши волонтеры приезжают в каждый детский дом регулярно раз в месяц знают детей лично и отслеживают их жизненные ситуации.поэтому была выявлена ситуация когда многие воспитанники детских домой не могут набрать высокий бал егэ открывающих для них возможность получить высшее образование на бюджетной основе.бесплатная учеба единственный шанс для этих детей получить высшее образование.поэтому появилась идея привлечь на безвозмездной основе лучших преподавателей не только из омска и студентов в том числе иностранных для подготовке по английскому для подготовке к егэ детей из детских домой как в режиме он лайн на специально разработанной интернет платформе так в обычном аудиторном режиме.проект способен повысить конкурентоспособность детей из детских домой при поступлении в ведущие вузы рф.'"
      ]
     },
     "execution_count": 155,
     "metadata": {},
     "output_type": "execute_result"
    }
   ],
   "source": [
    "descrs[105]\n"
   ]
  },
  {
   "cell_type": "code",
   "execution_count": null,
   "metadata": {},
   "outputs": [],
   "source": []
  },
  {
   "cell_type": "code",
   "execution_count": null,
   "metadata": {},
   "outputs": [],
   "source": []
  },
  {
   "cell_type": "code",
   "execution_count": null,
   "metadata": {},
   "outputs": [],
   "source": []
  },
  {
   "cell_type": "code",
   "execution_count": 145,
   "metadata": {},
   "outputs": [],
   "source": [
    "torch.save({\n",
    "            'model_state_dict': model.state_dict(),\n",
    "            'optimizer_state_dict': optimizer.state_dict(),\n",
    "            'loss': loss,\n",
    "            }, \"model_20kw_rnn2l-400-256.pt\")"
   ]
  },
  {
   "cell_type": "code",
   "execution_count": 117,
   "metadata": {},
   "outputs": [
    {
     "data": {
      "text/plain": [
       "Network(\n",
       "  (word_embeddings): Embedding(20002, 400)\n",
       "  (gru): GRU(400, 256, num_layers=2, batch_first=True)\n",
       "  (hidden2tag): Linear(in_features=256, out_features=20002, bias=True)\n",
       ")"
      ]
     },
     "execution_count": 117,
     "metadata": {},
     "output_type": "execute_result"
    }
   ],
   "source": [
    "# model = TheModelClass(*args, **kwargs)\n",
    "# optimizer = TheOptimizerClass(*args, **kwargs)\n",
    "\n",
    "checkpoint = torch.load(\"model_20kw_rnn2l-400-256.pt\")\n",
    "model.load_state_dict(checkpoint['model_state_dict'])\n",
    "optimizer.load_state_dict(checkpoint['optimizer_state_dict'])\n",
    "loss = checkpoint['loss']\n",
    "\n",
    "model.eval()"
   ]
  },
  {
   "cell_type": "code",
   "execution_count": 118,
   "metadata": {},
   "outputs": [
    {
     "data": {
      "text/plain": [
       "Network(\n",
       "  (word_embeddings): Embedding(20002, 400)\n",
       "  (gru): GRU(400, 256, num_layers=2, batch_first=True)\n",
       "  (hidden2tag): Linear(in_features=256, out_features=20002, bias=True)\n",
       ")"
      ]
     },
     "execution_count": 118,
     "metadata": {},
     "output_type": "execute_result"
    }
   ],
   "source": [
    "model.train()"
   ]
  },
  {
   "cell_type": "code",
   "execution_count": 164,
   "metadata": {},
   "outputs": [
    {
     "data": {
      "text/plain": [
       "84"
      ]
     },
     "execution_count": 164,
     "metadata": {},
     "output_type": "execute_result"
    }
   ],
   "source": [
    "c['преподаватели']"
   ]
  },
  {
   "cell_type": "code",
   "execution_count": 44,
   "metadata": {},
   "outputs": [
    {
     "data": {
      "text/plain": [
       "1283"
      ]
     },
     "execution_count": 44,
     "metadata": {},
     "output_type": "execute_result"
    }
   ],
   "source": [
    "c['будет']"
   ]
  },
  {
   "cell_type": "code",
   "execution_count": 48,
   "metadata": {
    "collapsed": true,
    "jupyter": {
     "outputs_hidden": true
    }
   },
   "outputs": [
    {
     "data": {
      "text/plain": [
       "[('и', 21757),\n",
       " ('в', 18684),\n",
       " ('на', 7540),\n",
       " ('с', 6533),\n",
       " ('для', 5371),\n",
       " ('по', 4117),\n",
       " ('не', 3524),\n",
       " ('проекта', 3413),\n",
       " ('к', 3142),\n",
       " ('как', 2422),\n",
       " ('что', 2298),\n",
       " ('а', 2041),\n",
       " ('детей', 1997),\n",
       " ('из', 1893),\n",
       " ('о', 1651),\n",
       " ('проект', 1626),\n",
       " ('это', 1586),\n",
       " ('их', 1507),\n",
       " ('или', 1477),\n",
       " ('от', 1449),\n",
       " ('1', 1315),\n",
       " ('–', 1285),\n",
       " ('будет', 1283),\n",
       " ('у', 1203),\n",
       " ('образования', 1184),\n",
       " ('при', 1184),\n",
       " ('2', 1170),\n",
       " ('которые', 1116),\n",
       " ('за', 1075),\n",
       " ('также', 1052),\n",
       " ('3', 1010),\n",
       " ('развития', 987),\n",
       " ('но', 983),\n",
       " ('работы', 973),\n",
       " ('так', 973),\n",
       " ('обучения', 933),\n",
       " ('реализации', 926),\n",
       " ('жизни', 909),\n",
       " ('будут', 877),\n",
       " ('россии', 787),\n",
       " ('профессии', 767),\n",
       " ('может', 764),\n",
       " ('создание', 763),\n",
       " ('области', 763),\n",
       " ('людей', 759),\n",
       " ('деятельности', 758),\n",
       " ('быть', 735),\n",
       " ('только', 709),\n",
       " ('т', 708),\n",
       " ('то', 705),\n",
       " ('рамках', 705),\n",
       " ('до', 705),\n",
       " ('можно', 704),\n",
       " ('школьников', 701),\n",
       " ('более', 693),\n",
       " ('время', 686),\n",
       " ('проведение', 679),\n",
       " ('все', 676),\n",
       " ('4', 669),\n",
       " ('они', 660),\n",
       " ('развитие', 655),\n",
       " ('школы', 651),\n",
       " ('том', 650),\n",
       " ('населения', 641),\n",
       " ('себя', 639),\n",
       " ('я', 629),\n",
       " ('является', 628),\n",
       " ('его', 627),\n",
       " ('мы', 625),\n",
       " ('дети', 623),\n",
       " ('чтобы', 623),\n",
       " ('возможность', 615),\n",
       " ('могут', 612),\n",
       " ('со', 611),\n",
       " ('5', 608),\n",
       " ('знаний', 604),\n",
       " ('лет', 585),\n",
       " ('обучение', 580),\n",
       " ('детских', 575),\n",
       " ('специалистов', 569),\n",
       " ('во', 544),\n",
       " ('необходимо', 536),\n",
       " ('родителей', 525),\n",
       " ('образовательных', 520),\n",
       " ('цель', 519),\n",
       " ('организации', 515),\n",
       " ('уже', 511),\n",
       " ('программы', 509),\n",
       " ('классов', 499),\n",
       " ('через', 498),\n",
       " ('школ', 492),\n",
       " ('этом', 489),\n",
       " ('студентов', 488),\n",
       " ('мероприятий', 483),\n",
       " ('знания', 483),\n",
       " ('им', 481),\n",
       " ('страны', 479),\n",
       " ('формирование', 476),\n",
       " ('грамотности', 475),\n",
       " ('повышение', 473),\n",
       " ('есть', 473),\n",
       " ('же', 471),\n",
       " ('навыков', 457),\n",
       " ('проведения', 453),\n",
       " ('позволит', 450),\n",
       " ('участников', 449),\n",
       " ('финансовой', 442),\n",
       " ('всех', 439),\n",
       " ('молодежи', 435),\n",
       " ('бы', 432),\n",
       " ('учащихся', 430),\n",
       " ('детям', 429),\n",
       " ('если', 429),\n",
       " ('где', 429),\n",
       " ('возможности', 414),\n",
       " ('них', 414),\n",
       " ('тем', 396),\n",
       " ('уровня', 395),\n",
       " ('которых', 395),\n",
       " ('своей', 393),\n",
       " ('задачи', 393),\n",
       " ('д', 390),\n",
       " ('того', 381),\n",
       " ('бизнес', 379),\n",
       " ('занятий', 378),\n",
       " ('возраста', 376),\n",
       " ('уровень', 375),\n",
       " ('различных', 374),\n",
       " ('навыки', 373),\n",
       " ('домов', 372),\n",
       " ('человек', 372),\n",
       " ('года', 372),\n",
       " ('системы', 371),\n",
       " ('учебных', 370),\n",
       " ('работу', 369),\n",
       " ('г', 369),\n",
       " ('информации', 365),\n",
       " ('очень', 364),\n",
       " ('получить', 362),\n",
       " ('свои', 362),\n",
       " ('после', 362),\n",
       " ('мастер', 359),\n",
       " ('профессий', 359),\n",
       " ('других', 357),\n",
       " ('люди', 355),\n",
       " ('граждан', 353),\n",
       " ('работа', 351),\n",
       " ('своих', 346),\n",
       " ('целью', 346),\n",
       " ('он', 346),\n",
       " ('помощь', 345),\n",
       " ('организация', 344),\n",
       " ('вузов', 343),\n",
       " ('этого', 343),\n",
       " ('образование', 342),\n",
       " ('молодых', 342),\n",
       " ('города', 338),\n",
       " ('сфере', 331),\n",
       " ('труда', 329),\n",
       " ('подготовки', 328),\n",
       " ('возможно', 327),\n",
       " ('проектов', 327),\n",
       " ('подростков', 327),\n",
       " ('числе', 327),\n",
       " ('создать', 326),\n",
       " ('человека', 323),\n",
       " ('помощи', 322),\n",
       " ('участие', 321),\n",
       " ('без', 320),\n",
       " ('социальной', 317),\n",
       " ('выпускников', 316),\n",
       " ('рф', 316),\n",
       " ('об', 315),\n",
       " ('мероприятия', 314),\n",
       " ('базе', 313),\n",
       " ('данный', 312),\n",
       " ('среди', 312),\n",
       " ('чем', 311),\n",
       " ('количество', 309),\n",
       " ('социальных', 309),\n",
       " ('школе', 308),\n",
       " ('10', 308),\n",
       " ('который', 307),\n",
       " ('занятия', 307),\n",
       " ('например', 307),\n",
       " ('новых', 306),\n",
       " ('данного', 306),\n",
       " ('свою', 305),\n",
       " ('интернет', 304),\n",
       " ('проблемы', 301),\n",
       " ('деятельность', 300),\n",
       " ('решения', 300),\n",
       " ('именно', 299),\n",
       " ('планируется', 296),\n",
       " ('таких', 296),\n",
       " ('детьми', 293),\n",
       " ('школах', 292),\n",
       " ('опыт', 290),\n",
       " ('основе', 290),\n",
       " ('общества', 289),\n",
       " ('стать', 289),\n",
       " ('региона', 289),\n",
       " ('жизнь', 289),\n",
       " ('сделать', 287),\n",
       " ('бизнеса', 286),\n",
       " ('нужно', 285),\n",
       " ('6', 285),\n",
       " ('профессионального', 282),\n",
       " ('результаты', 280),\n",
       " ('каждый', 280),\n",
       " ('предприятий', 279),\n",
       " ('технологий', 278),\n",
       " ('должны', 278),\n",
       " ('своего', 276),\n",
       " ('социально', 273),\n",
       " ('организаций', 271),\n",
       " ('ребенка', 270),\n",
       " ('профессиональной', 269),\n",
       " ('учреждений', 268),\n",
       " ('нашей', 267),\n",
       " ('работе', 264),\n",
       " ('этой', 264),\n",
       " ('выбор', 263),\n",
       " ('даже', 263),\n",
       " ('стороны', 263),\n",
       " ('между', 262),\n",
       " ('разработка', 261),\n",
       " ('смогут', 260),\n",
       " ('уровне', 259),\n",
       " ('развитию', 256),\n",
       " ('либо', 255),\n",
       " ('российской', 254),\n",
       " ('7', 253),\n",
       " ('разных', 249),\n",
       " ('культуры', 248),\n",
       " ('группы', 248),\n",
       " ('провести', 245),\n",
       " ('онлайн', 244),\n",
       " ('проводить', 243),\n",
       " ('кто', 243),\n",
       " ('проблема', 240),\n",
       " ('когда', 238),\n",
       " ('многие', 238),\n",
       " ('поколения', 238),\n",
       " ('специальности', 237),\n",
       " ('предприятия', 237),\n",
       " ('задач', 236),\n",
       " ('получения', 235),\n",
       " ('направлен', 234),\n",
       " ('безопасности', 234),\n",
       " ('работать', 233),\n",
       " ('наиболее', 233),\n",
       " ('нет', 232),\n",
       " ('связи', 232),\n",
       " ('кадров', 232),\n",
       " ('помочь', 231),\n",
       " ('образом', 231),\n",
       " ('процесс', 231),\n",
       " ('эти', 230),\n",
       " ('программ', 229),\n",
       " ('сети', 229),\n",
       " ('таким', 229),\n",
       " ('проблем', 228),\n",
       " ('территории', 228),\n",
       " ('реализация', 228),\n",
       " ('вопросы', 226),\n",
       " ('обучающихся', 226),\n",
       " ('проекте', 226),\n",
       " ('компетенций', 225),\n",
       " ('будущего', 225),\n",
       " ('экономики', 224),\n",
       " ('каждого', 223),\n",
       " ('новые', 222),\n",
       " ('качества', 222),\n",
       " ('свой', 222),\n",
       " ('опыта', 222),\n",
       " ('настоящее', 221),\n",
       " ('какие', 221),\n",
       " ('поддержки', 221),\n",
       " ('взаимодействия', 220),\n",
       " ('под', 218),\n",
       " ('мире', 218),\n",
       " ('дома', 216),\n",
       " ('сейчас', 216),\n",
       " ('воспитанников', 215),\n",
       " ('школа', 214),\n",
       " ('современных', 214),\n",
       " ('конкурса', 213),\n",
       " ('повышения', 212),\n",
       " ('которая', 212),\n",
       " ('себе', 211),\n",
       " ('цели', 211),\n",
       " ('образовательной', 211),\n",
       " ('ситуации', 210),\n",
       " ('8', 210),\n",
       " ('организовать', 209),\n",
       " ('одной', 208),\n",
       " ('которой', 208),\n",
       " ('программа', 208),\n",
       " ('важно', 207),\n",
       " ('ее', 207),\n",
       " ('личности', 206),\n",
       " ('участники', 206),\n",
       " ('игры', 206),\n",
       " ('решение', 206),\n",
       " ('этапе', 206),\n",
       " ('учеников', 205),\n",
       " ('система', 204),\n",
       " ('поведения', 204),\n",
       " ('всего', 203),\n",
       " ('данной', 202),\n",
       " ('поэтому', 202),\n",
       " ('педагогов', 201),\n",
       " ('больше', 201),\n",
       " ('часть', 201),\n",
       " ('качестве', 201),\n",
       " ('формирования', 200),\n",
       " ('дать', 199),\n",
       " ('времени', 199),\n",
       " ('студенты', 198),\n",
       " ('будущем', 198),\n",
       " ('федерации', 195),\n",
       " ('этих', 195),\n",
       " ('будущей', 194),\n",
       " ('такие', 194),\n",
       " ('услуг', 193),\n",
       " ('заведений', 193),\n",
       " ('п', 193),\n",
       " ('задача', 192),\n",
       " ('стране', 192),\n",
       " ('образовательного', 191),\n",
       " ('мира', 191),\n",
       " ('менее', 191),\n",
       " ('форме', 191),\n",
       " ('этап', 190),\n",
       " ('финансовых', 190),\n",
       " ('результате', 190),\n",
       " ('являются', 190),\n",
       " ('имеют', 190),\n",
       " ('государства', 190),\n",
       " ('лекций', 190),\n",
       " ('групп', 189),\n",
       " ('родители', 188),\n",
       " ('11', 188),\n",
       " ('создания', 188),\n",
       " ('должен', 185),\n",
       " ('другие', 185),\n",
       " ('найти', 184),\n",
       " ('среднего', 184),\n",
       " ('этот', 183),\n",
       " ('день', 183),\n",
       " ('старших', 182),\n",
       " ('классы', 182),\n",
       " ('технологии', 182),\n",
       " ('еще', 182),\n",
       " ('профессиональных', 182),\n",
       " ('привлечение', 182),\n",
       " ('средств', 182),\n",
       " ('направления', 182),\n",
       " ('условиях', 181),\n",
       " ('суть', 181),\n",
       " ('встречи', 181),\n",
       " ('часто', 180),\n",
       " ('программу', 180),\n",
       " ('2019', 180),\n",
       " ('социального', 180),\n",
       " ('9', 180),\n",
       " ('поможет', 180),\n",
       " ('центра', 180),\n",
       " ('—', 180),\n",
       " ('компании', 179),\n",
       " ('несколько', 179),\n",
       " ('предполагается', 177),\n",
       " ('2020', 177),\n",
       " ('повысить', 176),\n",
       " ('процесса', 176),\n",
       " ('научно', 175),\n",
       " ('внимание', 175),\n",
       " ('процессе', 175),\n",
       " ('подготовка', 175),\n",
       " ('данных', 174),\n",
       " ('год', 174),\n",
       " ('просто', 174),\n",
       " ('году', 174),\n",
       " ('материалов', 173),\n",
       " ('особенно', 172),\n",
       " ('результатов', 172),\n",
       " ('возможностей', 171),\n",
       " ('получение', 171),\n",
       " ('много', 171),\n",
       " ('заведения', 170),\n",
       " ('возрасте', 170),\n",
       " ('зачастую', 170),\n",
       " ('помощью', 169),\n",
       " ('момент', 169),\n",
       " ('счет', 169),\n",
       " ('результат', 169),\n",
       " ('обществе', 168),\n",
       " ('школьники', 168),\n",
       " ('детского', 167),\n",
       " ('сформировать', 167),\n",
       " ('случае', 166),\n",
       " ('сегодня', 165),\n",
       " ('опытом', 165),\n",
       " ('отсутствие', 165),\n",
       " ('лекции', 165),\n",
       " ('один', 164),\n",
       " ('очередь', 163),\n",
       " ('количества', 163),\n",
       " ('компаний', 162),\n",
       " ('реализовать', 161),\n",
       " ('рабочих', 161),\n",
       " ('профориентации', 160),\n",
       " ('курсов', 160),\n",
       " ('виде', 159),\n",
       " ('выбора', 159),\n",
       " ('целом', 159),\n",
       " ('имеет', 159),\n",
       " ('такой', 158),\n",
       " ('основные', 158),\n",
       " ('школьного', 158),\n",
       " ('высшего', 158),\n",
       " ('учителей', 157),\n",
       " ('было', 157),\n",
       " ('предлагается', 156),\n",
       " ('учреждения', 156),\n",
       " ('встреч', 156),\n",
       " ('преподавателей', 156),\n",
       " ('перед', 156),\n",
       " ('общения', 156),\n",
       " ('предполагает', 155),\n",
       " ('участия', 155),\n",
       " ('однако', 154),\n",
       " ('др', 154),\n",
       " ('актуальность', 153),\n",
       " ('систему', 153),\n",
       " ('образовательные', 153),\n",
       " ('регионе', 153),\n",
       " ('специалисты', 153),\n",
       " ('семей', 153),\n",
       " ('условий', 152),\n",
       " ('курса', 152),\n",
       " ('тех', 152),\n",
       " ('дополнительного', 151),\n",
       " ('интерес', 150),\n",
       " ('науки', 150),\n",
       " ('регионах', 150),\n",
       " ('информацию', 150),\n",
       " ('вопрос', 149),\n",
       " ('будущее', 149),\n",
       " ('кроме', 148),\n",
       " ('заключается', 146),\n",
       " ('учебного', 146),\n",
       " ('центров', 145),\n",
       " ('поддержка', 144),\n",
       " ('людям', 144),\n",
       " ('нас', 143),\n",
       " ('мир', 143),\n",
       " ('делать', 143),\n",
       " ('учебные', 143),\n",
       " ('темы', 142),\n",
       " ('профессию', 141),\n",
       " ('практических', 141),\n",
       " ('данные', 141),\n",
       " ('путем', 141),\n",
       " ('использовать', 141),\n",
       " ('выборе', 141),\n",
       " ('рынке', 140),\n",
       " ('центр', 140),\n",
       " ('рассказать', 140),\n",
       " ('проекты', 140),\n",
       " ('уроков', 140),\n",
       " ('социальные', 139),\n",
       " ('научных', 139),\n",
       " ('существует', 139),\n",
       " ('технических', 139),\n",
       " ('всем', 139),\n",
       " ('период', 138),\n",
       " ('ребенок', 138),\n",
       " ('отношения', 137),\n",
       " ('адаптации', 137),\n",
       " ('основы', 137),\n",
       " ('обучению', 137),\n",
       " ('места', 137),\n",
       " ('ходе', 136),\n",
       " ('должна', 136),\n",
       " ('отрасли', 136),\n",
       " ('всегда', 136),\n",
       " ('учетом', 135),\n",
       " ('среды', 135),\n",
       " ('школьникам', 135),\n",
       " ('команды', 135),\n",
       " ('развитии', 135),\n",
       " ('потенциала', 134),\n",
       " ('формате', 134),\n",
       " ('возможностями', 134),\n",
       " ('место', 134),\n",
       " ('будущих', 133),\n",
       " ('далее', 133),\n",
       " ('обеспечение', 133)]"
      ]
     },
     "execution_count": 48,
     "metadata": {},
     "output_type": "execute_result"
    }
   ],
   "source": [
    "c.most_common(500)"
   ]
  },
  {
   "cell_type": "code",
   "execution_count": 162,
   "metadata": {},
   "outputs": [],
   "source": [
    "# save descrs to disk\n",
    "import pandas as pd\n",
    "df = pd.DataFrame(descrs)\n",
    "df.to_csv(\"descrs.csv\", encoding = 'utf8')\n"
   ]
  },
  {
   "cell_type": "code",
   "execution_count": null,
   "metadata": {},
   "outputs": [],
   "source": []
  },
  {
   "cell_type": "code",
   "execution_count": null,
   "metadata": {},
   "outputs": [],
   "source": []
  },
  {
   "cell_type": "code",
   "execution_count": null,
   "metadata": {},
   "outputs": [],
   "source": []
  },
  {
   "cell_type": "code",
   "execution_count": null,
   "metadata": {},
   "outputs": [],
   "source": []
  }
 ],
 "metadata": {
  "kernelspec": {
   "display_name": "Python 3",
   "language": "python",
   "name": "python3"
  },
  "language_info": {
   "codemirror_mode": {
    "name": "ipython",
    "version": 3
   },
   "file_extension": ".py",
   "mimetype": "text/x-python",
   "name": "python",
   "nbconvert_exporter": "python",
   "pygments_lexer": "ipython3",
   "version": "3.7.4"
  }
 },
 "nbformat": 4,
 "nbformat_minor": 4
}
