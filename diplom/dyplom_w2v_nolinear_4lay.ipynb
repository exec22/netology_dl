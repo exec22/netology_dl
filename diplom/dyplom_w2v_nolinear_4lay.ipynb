{
 "cells": [
  {
   "cell_type": "code",
   "execution_count": 1,
   "metadata": {},
   "outputs": [],
   "source": [
    "from bs4 import BeautifulSoup\n",
    "import re\n",
    "import os\n",
    "from tqdm import tqdm\n",
    "from collections import Counter\n",
    "import torch\n",
    "import time\n",
    "import gensim\n",
    "import pymorphy2\n",
    "import numpy as np"
   ]
  },
  {
   "cell_type": "code",
   "execution_count": 2,
   "metadata": {},
   "outputs": [
    {
     "data": {
      "text/plain": [
       "device(type='cuda')"
      ]
     },
     "execution_count": 2,
     "metadata": {},
     "output_type": "execute_result"
    }
   ],
   "source": [
    "dev = torch.device(\"cuda\") if torch.cuda.is_available() else torch.device(\"cpu\")\n",
    "dev"
   ]
  },
  {
   "cell_type": "code",
   "execution_count": 3,
   "metadata": {},
   "outputs": [
    {
     "name": "stderr",
     "output_type": "stream",
     "text": [
      "100%|██████████| 6605/6605 [00:33<00:00, 195.32it/s]\n"
     ]
    }
   ],
   "source": [
    "proj_types, proj_names, proj_descrs = [],[],[]\n",
    "folders = os.listdir('texts')\n",
    "for folder in tqdm(folders):\n",
    "    f = open(f\"texts/{folder}/choose\", \"r\", encoding=\"utf-8\")\n",
    "    contents = f.read()\n",
    "    soup = BeautifulSoup(contents, 'lxml')\n",
    "    founded = soup.find_all('div', {'class': 'lr-project-value'})\n",
    "    proj_types.append( re.sub(r'[\\n\\t]', '', founded[1].get_text().lower()) )\n",
    "    proj_names.append( re.sub(r'[\\n\\t]', '', founded[3].get_text().lower()) )\n",
    "    proj_descrs.append( re.sub(r'[\\n\\t]', '', founded[4].get_text().lower()) )\n",
    "    f.close()\n",
    "    \n"
   ]
  },
  {
   "cell_type": "code",
   "execution_count": 4,
   "metadata": {},
   "outputs": [],
   "source": [
    "from collections import defaultdict"
   ]
  },
  {
   "cell_type": "code",
   "execution_count": 5,
   "metadata": {},
   "outputs": [
    {
     "name": "stdout",
     "output_type": "stream",
     "text": [
      "другое: 2206\n",
      "просвещение и образование — новые форматы и темы: 1851\n",
      "зож: профилактика, а не лечение: 570\n",
      "семья: сохранение традиций и ценностей: 533\n",
      "искусственный интеллект и современные технологии на службе обществу: 523\n",
      "75-я годовщина со дня победы в великой отечественной войне: 308\n",
      "правовая защита граждан и предпринимателей: 216\n",
      "проекты в области науки: 159\n",
      "внутренний туризм: новые формы, новые маршруты: 157\n",
      "культурно-историческое наследие россии: 82\n"
     ]
    }
   ],
   "source": [
    "types_dict = defaultdict(int)\n",
    "for proj_type in (proj_types):\n",
    "    types_dict[proj_type] += 1\n",
    "    \n",
    "for key, value in sorted(types_dict.items(), key=lambda item: item[1], reverse = True):\n",
    "    print(\"%s: %s\" % (key, value))"
   ]
  },
  {
   "cell_type": "code",
   "execution_count": 6,
   "metadata": {},
   "outputs": [],
   "source": [
    "topic = 'просвещение и образование — новые форматы и темы'"
   ]
  },
  {
   "cell_type": "code",
   "execution_count": 7,
   "metadata": {},
   "outputs": [],
   "source": [
    "names, descrs = [], []\n",
    "for i in range( len(proj_names) ):\n",
    "    if proj_types[i] == topic:\n",
    "        names.append( proj_names[i] )\n",
    "        descrs.append( proj_descrs[i] )"
   ]
  },
  {
   "cell_type": "code",
   "execution_count": 8,
   "metadata": {},
   "outputs": [
    {
     "data": {
      "text/plain": [
       "1851"
      ]
     },
     "execution_count": 8,
     "metadata": {},
     "output_type": "execute_result"
    }
   ],
   "source": [
    "len(names)"
   ]
  },
  {
   "cell_type": "code",
   "execution_count": 9,
   "metadata": {},
   "outputs": [
    {
     "data": {
      "text/plain": [
       "'колхоз пошел в кино и закрыл'"
      ]
     },
     "execution_count": 9,
     "metadata": {},
     "output_type": "execute_result"
    }
   ],
   "source": [
    "line = 'колхоз37: пошел в кино и закрыл2'\n",
    "line = re.sub(r'([а-яА-Яa-zA-Z])([\\d\\:]+)', r'\\1', line)\n",
    "line"
   ]
  },
  {
   "cell_type": "code",
   "execution_count": 10,
   "metadata": {},
   "outputs": [],
   "source": [
    "# process text\n",
    "for i in range( len(names) ):\n",
    "    ### NAMES\n",
    "    # lowcase, no , - : ; ( ) \" ' « » and .\n",
    "    #line = names[i].lower()\n",
    "    line = names[i]\n",
    "    line = re.sub(r'[\\,\\-\\:\\;\\(\\)\\\"\\«\\»\\.\\!\\?\\\\\\/]', ' ', line)\n",
    "    line = re.sub(r\"\\'\", ' ', line)\n",
    "    # change all ... to space\n",
    "    line = re.sub(r'\\.+', ' ', line)\n",
    "    # no doublespace\n",
    "    line = re.sub(r' +', ' ', line)\n",
    "    # no space after .\n",
    "    #line = re.sub(r'\\. ', '.', line)\n",
    "    names[i] = line.strip()\n",
    "    \n",
    "    ### DESCRS\n",
    "    # lowcase, no , - : ; ( ) \" ' « » keep .\n",
    "    #line = descrs[i].lower()\n",
    "    line = descrs[i]\n",
    "    line = re.sub(r'[\\,\\-\\:\\;\\(\\)\\\"\\«\\»\\\\\\/]', ' ', line)\n",
    "    line = re.sub(r\"\\'\", ' ', line)\n",
    "    # change all ... to .\n",
    "    line = re.sub(r'\\.+', '.', line)\n",
    "    # ё -> е\n",
    "    line = re.sub(r'ё', 'е', line)\n",
    "    # ! > .\n",
    "    line = re.sub(r'[\\!\\?]', \".\", line)\n",
    "    # remove all digits and symbols connected to words\n",
    "    line = re.sub(r'([а-яА-Яa-zA-Z])([\\d\\:\\*]+)', r'\\1', line)\n",
    "    # no doublespace\n",
    "    line = re.sub(r' +', ' ', line)\n",
    "    # no space after .\n",
    "    line = re.sub(r'\\. ', '.', line)\n",
    "    # change all ... to .\n",
    "    line = re.sub(r'\\.+', '.', line)\n",
    "    descrs[i] = line.strip()"
   ]
  },
  {
   "cell_type": "code",
   "execution_count": 11,
   "metadata": {},
   "outputs": [
    {
     "data": {
      "text/plain": [
       "'на базе районного клуба культуры организовать курсы и индивидуальные занятия по использованию современных цифровых технологий для пожилых людей'"
      ]
     },
     "execution_count": 11,
     "metadata": {},
     "output_type": "execute_result"
    }
   ],
   "source": [
    "names[0]"
   ]
  },
  {
   "cell_type": "code",
   "execution_count": 12,
   "metadata": {},
   "outputs": [
    {
     "data": {
      "text/plain": [
       "'целью проекта является создание условий для социальной адаптации пожилых людей к использованию современных цифровых технологий улучшение качества их жизни.основные направления обучения получение государственных услуг в электронном виде социальные сети и мессенджеры для общения с близкими использование электронной почты поиск новостного и мультимедийного контента информационная безопасность правила поведения в сети интернет.обучение будет иметь в большей степени практический уклон.проект планируется осуществить на базе районных учреждений культуры.по словам сотрудников нашего районного клуба не все пожилые люди успешно воспринимают существующие курсы компьютерной грамотности им не хватает практических занятий и индивидуального подхода а также умений пользоваться другими гаджетами смартфонами планшетами современными телевизорами.часто требуется помощь по настройке устройств.руководство клуба известит пожилых людей района и соберет заявки желающих.планирую создать учебный план печатные материалы схемы и шпаргалки.всего планирую охватить от 4 до 12 учеников.'"
      ]
     },
     "execution_count": 12,
     "metadata": {},
     "output_type": "execute_result"
    }
   ],
   "source": [
    "descrs[0]"
   ]
  },
  {
   "cell_type": "markdown",
   "metadata": {},
   "source": [
    "### Пробуем просто все предложения данной тематике собрать в кучу"
   ]
  },
  {
   "cell_type": "code",
   "execution_count": 13,
   "metadata": {},
   "outputs": [],
   "source": [
    "all_sents = []\n",
    "max_slen = 0\n",
    "for i in range(len(descrs)):\n",
    "    sents = descrs[i].split('.')\n",
    "    for j in range(len(sents)):\n",
    "        sents[j] = sents[j].strip()\n",
    "        slen = len(sents[j])\n",
    "        if slen > 0:\n",
    "            all_sents.append(sents[j])"
   ]
  },
  {
   "cell_type": "code",
   "execution_count": 14,
   "metadata": {},
   "outputs": [
    {
     "data": {
      "text/plain": [
       "31656"
      ]
     },
     "execution_count": 14,
     "metadata": {},
     "output_type": "execute_result"
    }
   ],
   "source": [
    "len(all_sents)"
   ]
  },
  {
   "cell_type": "code",
   "execution_count": 15,
   "metadata": {},
   "outputs": [
    {
     "data": {
      "text/plain": [
       "'основные направления обучения получение государственных услуг в электронном виде социальные сети и мессенджеры для общения с близкими использование электронной почты поиск новостного и мультимедийного контента информационная безопасность правила поведения в сети интернет'"
      ]
     },
     "execution_count": 15,
     "metadata": {},
     "output_type": "execute_result"
    }
   ],
   "source": [
    "all_sents[1]"
   ]
  },
  {
   "cell_type": "code",
   "execution_count": 16,
   "metadata": {},
   "outputs": [
    {
     "data": {
      "text/plain": [
       "43768"
      ]
     },
     "execution_count": 16,
     "metadata": {},
     "output_type": "execute_result"
    }
   ],
   "source": [
    "text = ' '.join(all_sents)\n",
    "text = re.sub(r'  ', ' ', text)  # убрать двойные пробелы\n",
    "ALL_WORDS = set(text.strip().split(' '))\n",
    "len(ALL_WORDS)"
   ]
  },
  {
   "cell_type": "code",
   "execution_count": 17,
   "metadata": {},
   "outputs": [
    {
     "data": {
      "text/plain": [
       "[('и', 21758),\n",
       " ('в', 18693),\n",
       " ('на', 7544),\n",
       " ('с', 6533),\n",
       " ('для', 5374),\n",
       " ('по', 4119),\n",
       " ('не', 3525),\n",
       " ('проекта', 3469),\n",
       " ('к', 3143),\n",
       " ('как', 2428)]"
      ]
     },
     "execution_count": 17,
     "metadata": {},
     "output_type": "execute_result"
    }
   ],
   "source": [
    "c = Counter(text.split(' '))\n",
    "c.most_common(10)"
   ]
  },
  {
   "cell_type": "code",
   "execution_count": 18,
   "metadata": {},
   "outputs": [],
   "source": [
    "# удаляем слова с числом повторений меньше 2\n",
    "todelete = set()\n",
    "for i, n in c.items():\n",
    "    if n < 2:\n",
    "        todelete.add(i)\n",
    "        \n",
    "for i in todelete:\n",
    "    del c[i]"
   ]
  },
  {
   "cell_type": "code",
   "execution_count": 19,
   "metadata": {},
   "outputs": [
    {
     "data": {
      "text/plain": [
       "22050"
      ]
     },
     "execution_count": 19,
     "metadata": {},
     "output_type": "execute_result"
    }
   ],
   "source": [
    "len(c.keys())"
   ]
  },
  {
   "cell_type": "code",
   "execution_count": 20,
   "metadata": {},
   "outputs": [],
   "source": [
    "model_w2v = gensim.models.KeyedVectors.load_word2vec_format('embed_models/183 - ruwikiruscorpora-func_upos_skipgram_300_5_2019/model.bin', binary=True)\n",
    "model_w2v_weights = torch.FloatTensor(model_w2v.vectors).to(dev)"
   ]
  },
  {
   "cell_type": "code",
   "execution_count": 21,
   "metadata": {},
   "outputs": [
    {
     "data": {
      "text/plain": [
       "300"
      ]
     },
     "execution_count": 21,
     "metadata": {},
     "output_type": "execute_result"
    }
   ],
   "source": [
    "#weights = torch.FloatTensor(model.vectors) # formerly syn0, which is soon deprecated\n",
    "EMBED_SIZE = model_w2v.vector_size\n",
    "EMBED_SIZE"
   ]
  },
  {
   "cell_type": "code",
   "execution_count": 22,
   "metadata": {},
   "outputs": [
    {
     "data": {
      "text/plain": [
       "22052"
      ]
     },
     "execution_count": 22,
     "metadata": {},
     "output_type": "execute_result"
    }
   ],
   "source": [
    "WORDS_COUNT = len(c.keys())\n",
    "ALL_WORDS = set([w for w, _ in c.most_common(WORDS_COUNT)])\n",
    "INDEX_TO_WORD = ['<pad>', '<miss>'] + list(ALL_WORDS)\n",
    "len(INDEX_TO_WORD)"
   ]
  },
  {
   "cell_type": "code",
   "execution_count": 23,
   "metadata": {},
   "outputs": [
    {
     "data": {
      "text/plain": [
       "['<pad>',\n",
       " '<miss>',\n",
       " 'гражданам',\n",
       " 'поэтому',\n",
       " 'риска',\n",
       " 'елец',\n",
       " 'типа',\n",
       " 'полугода',\n",
       " 'журналиста',\n",
       " 'опорой']"
      ]
     },
     "execution_count": 23,
     "metadata": {},
     "output_type": "execute_result"
    }
   ],
   "source": [
    "WORD_TO_INDEX = {w: i for i, w in enumerate(INDEX_TO_WORD)}\n",
    "INDEX_TO_WORD[:10]"
   ]
  },
  {
   "cell_type": "code",
   "execution_count": 24,
   "metadata": {},
   "outputs": [],
   "source": [
    "# create word_index to embedding array\n",
    "index_to_embedding = torch.zeros([len(INDEX_TO_WORD), EMBED_SIZE], dtype=torch.float32)\n",
    "cotags = {'ADJF':'ADJ', # pymorphy2: word2vec \n",
    "'ADJS' : 'ADJ', \n",
    "'ADVB' : 'ADV', \n",
    "'COMP' : 'ADV', \n",
    "'GRND' : 'VERB', \n",
    "'INFN' : 'VERB', \n",
    "'NOUN' : 'NOUN', \n",
    "'PRED' : 'ADV', \n",
    "'PRTF' : 'ADJ', \n",
    "'PRTS' : 'VERB', \n",
    "'VERB' : 'VERB',\n",
    "# my\n",
    "'CONJ' : 'ADV',\n",
    "'INTJ' : 'NOUN',\n",
    "'PREP' : 'PROPN',\n",
    "'NUMR' : 'NUM',\n",
    "'PRCL' : 'PROPN',\n",
    "'NPRO' : 'PRON'\n",
    "         }"
   ]
  },
  {
   "cell_type": "code",
   "execution_count": 25,
   "metadata": {},
   "outputs": [
    {
     "name": "stderr",
     "output_type": "stream",
     "text": [
      "/pytorch/torch/csrc/utils/tensor_numpy.cpp:141: UserWarning: The given NumPy array is not writeable, and PyTorch does not support non-writeable tensors. This means you can write to the underlying (supposedly non-writeable) NumPy array using the tensor. You may want to copy the array to protect its data or make it writeable before converting it to a tensor. This type of warning will be suppressed for the rest of this program.\n",
      "100%|██████████| 22050/22050 [00:03<00:00, 7190.33it/s]"
     ]
    },
    {
     "name": "stdout",
     "output_type": "stream",
     "text": [
      "Not found pmorphy2: 665, not found in w2v: 560\n"
     ]
    },
    {
     "name": "stderr",
     "output_type": "stream",
     "text": [
      "\n"
     ]
    }
   ],
   "source": [
    "morph = pymorphy2.MorphAnalyzer()\n",
    "PAD_WORD = 'сингулярность'\n",
    "MISS_WORD = 'хрень'\n",
    "#index_to_embedding[0] = torch.from_numpy( model_w2v[PAD_WORD+\"_NOUN\"] )\n",
    "index_to_embedding[0] = torch.zeros(EMBED_SIZE)\n",
    "index_to_embedding[1] = torch.from_numpy( model_w2v[MISS_WORD+\"_NOUN\"] )\n",
    "\n",
    "cnotfound_in_pymorphy = 0\n",
    "cnotfound_in_w2v = 0\n",
    "not_found_in_pymorphy = []\n",
    "not_found_in_w2v = []\n",
    "\n",
    "for i in tqdm( range(2,len(INDEX_TO_WORD)) ):\n",
    "    word = INDEX_TO_WORD[i]\n",
    "    #print (word)\n",
    "    info = morph.parse(word)[0]\n",
    "    if ('UNKN' in info.tag) or ('LATN' in info.tag) or ('NUMB' in info.tag) or ('PNCT' in info.tag) or ('ROMN' in info.tag):\n",
    "        info = morph.parse(MISS_WORD)[0]\n",
    "        cnotfound_in_pymorphy += 1\n",
    "        not_found_in_pymorphy.append(word)\n",
    "        \n",
    "    p_speech = cotags[info.tag.POS]\n",
    "    w2v_form = info.normal_form + \"_\" + p_speech\n",
    "    \n",
    "#     #debug\n",
    "#     if w2v_form.startswith('касаться'):\n",
    "#         print (morph.parse(word))\n",
    "    \n",
    "    if w2v_form in model_w2v:\n",
    "        index_to_embedding[i] = torch.from_numpy( model_w2v[w2v_form] )\n",
    "    else:\n",
    "        if p_speech == 'ADV':\n",
    "            p_speech = 'ADJ'\n",
    "            w2v_form = info.normal_form + \"_\" + p_speech\n",
    "            if w2v_form in model_w2v:\n",
    "                index_to_embedding[i] = torch.from_numpy( model_w2v[w2v_form] )\n",
    "            else:\n",
    "                cnotfound_in_w2v += 1\n",
    "                not_found_in_w2v.append(w2v_form)\n",
    "                index_to_embedding[i] = index_to_embedding[1]  # MISS_WORD\n",
    "        else:\n",
    "            if p_speech == 'ADJ':\n",
    "                p_speech = 'ADV'\n",
    "                w2v_form = info.normal_form + \"_\" + p_speech\n",
    "                if w2v_form in model_w2v:\n",
    "                    index_to_embedding[i] = torch.from_numpy( model_w2v[w2v_form] )\n",
    "                else:\n",
    "                    cnotfound_in_w2v += 1\n",
    "                    not_found_in_w2v.append(w2v_form)\n",
    "                    index_to_embedding[i] = index_to_embedding[1]  # MISS_WORD\n",
    "\n",
    "print (f'Not found pmorphy2: {cnotfound_in_pymorphy}, not found in w2v: {cnotfound_in_w2v}')"
   ]
  },
  {
   "cell_type": "code",
   "execution_count": 26,
   "metadata": {},
   "outputs": [
    {
     "data": {
      "text/plain": [
       "'превращение'"
      ]
     },
     "execution_count": 26,
     "metadata": {},
     "output_type": "execute_result"
    }
   ],
   "source": [
    "word_form = model_w2v.similar_by_vector( index_to_embedding[10].numpy(), 1)[0][0]\n",
    "word = re.sub(r'([а-яА-Яa-zA-Z])_(.+)', r'\\1', word_form)\n",
    "word"
   ]
  },
  {
   "cell_type": "code",
   "execution_count": 27,
   "metadata": {},
   "outputs": [
    {
     "data": {
      "text/plain": [
       "'превращение'"
      ]
     },
     "execution_count": 27,
     "metadata": {},
     "output_type": "execute_result"
    }
   ],
   "source": [
    "INDEX_TO_WORD[10]"
   ]
  },
  {
   "cell_type": "code",
   "execution_count": null,
   "metadata": {},
   "outputs": [],
   "source": []
  },
  {
   "cell_type": "code",
   "execution_count": 28,
   "metadata": {},
   "outputs": [],
   "source": [
    "%matplotlib inline\n",
    "import matplotlib.pyplot as plt"
   ]
  },
  {
   "cell_type": "code",
   "execution_count": 29,
   "metadata": {},
   "outputs": [
    {
     "data": {
      "text/plain": [
       "(array([8.039e+03, 7.068e+03, 6.298e+03, 4.411e+03, 2.430e+03, 1.376e+03,\n",
       "        7.910e+02, 4.350e+02, 2.550e+02, 1.670e+02, 1.070e+02, 6.300e+01,\n",
       "        4.900e+01, 3.500e+01, 2.700e+01, 2.100e+01, 1.500e+01, 6.000e+00,\n",
       "        5.000e+00, 1.300e+01, 8.000e+00, 5.000e+00, 6.000e+00, 2.000e+00,\n",
       "        4.000e+00, 4.000e+00, 5.000e+00, 1.000e+00, 2.000e+00, 0.000e+00,\n",
       "        1.000e+00, 0.000e+00, 2.000e+00, 0.000e+00, 0.000e+00, 1.000e+00,\n",
       "        1.000e+00, 0.000e+00, 0.000e+00, 0.000e+00, 0.000e+00, 0.000e+00,\n",
       "        0.000e+00, 0.000e+00, 1.000e+00, 1.000e+00, 0.000e+00, 0.000e+00,\n",
       "        0.000e+00, 1.000e+00]),\n",
       " array([  1.  ,   6.98,  12.96,  18.94,  24.92,  30.9 ,  36.88,  42.86,\n",
       "         48.84,  54.82,  60.8 ,  66.78,  72.76,  78.74,  84.72,  90.7 ,\n",
       "         96.68, 102.66, 108.64, 114.62, 120.6 , 126.58, 132.56, 138.54,\n",
       "        144.52, 150.5 , 156.48, 162.46, 168.44, 174.42, 180.4 , 186.38,\n",
       "        192.36, 198.34, 204.32, 210.3 , 216.28, 222.26, 228.24, 234.22,\n",
       "        240.2 , 246.18, 252.16, 258.14, 264.12, 270.1 , 276.08, 282.06,\n",
       "        288.04, 294.02, 300.  ]),\n",
       " <a list of 50 Patch objects>)"
      ]
     },
     "execution_count": 29,
     "metadata": {},
     "output_type": "execute_result"
    },
    {
     "data": {
      "image/png": "[encoded data removed]",
      "text/plain": [
       "<Figure size 432x288 with 1 Axes>"
      ]
     },
     "metadata": {
      "needs_background": "light"
     },
     "output_type": "display_data"
    }
   ],
   "source": [
    "# распреление длины слов в предложении\n",
    "plt.hist([len(s.split(' ')) for s in all_sents], bins=50)"
   ]
  },
  {
   "cell_type": "code",
   "execution_count": 30,
   "metadata": {},
   "outputs": [],
   "source": [
    "MAX_LEN = 40"
   ]
  },
  {
   "cell_type": "code",
   "execution_count": 31,
   "metadata": {},
   "outputs": [
    {
     "data": {
      "text/plain": [
       "dict"
      ]
     },
     "execution_count": 31,
     "metadata": {},
     "output_type": "execute_result"
    }
   ],
   "source": [
    "type(WORD_TO_INDEX)"
   ]
  },
  {
   "cell_type": "code",
   "execution_count": 32,
   "metadata": {},
   "outputs": [
    {
     "name": "stderr",
     "output_type": "stream",
     "text": [
      "100%|██████████| 31656/31656 [00:02<00:00, 11207.09it/s]\n"
     ]
    }
   ],
   "source": [
    "X = torch.zeros((len(all_sents), MAX_LEN, EMBED_SIZE), dtype=torch.float32)\n",
    "# готовим матрицу - строка - предложение, столбец - эмбеддинг слова в этой позиции\n",
    "for i in tqdm(range(len(all_sents))):\n",
    "    for j, w in enumerate(all_sents[i].split(' ')):\n",
    "        if j >= MAX_LEN:\n",
    "            break\n",
    "        X[i, j, 0:EMBED_SIZE] = index_to_embedding[ WORD_TO_INDEX.get(w, 1) ]\n",
    "        \n",
    "X = X.to(dev)"
   ]
  },
  {
   "cell_type": "code",
   "execution_count": 33,
   "metadata": {},
   "outputs": [
    {
     "data": {
      "text/plain": [
       "torch.Size([31656, 40, 300])"
      ]
     },
     "execution_count": 33,
     "metadata": {},
     "output_type": "execute_result"
    }
   ],
   "source": [
    "X.shape"
   ]
  },
  {
   "cell_type": "code",
   "execution_count": 34,
   "metadata": {},
   "outputs": [],
   "source": [
    "BATCH_SIZE = 10"
   ]
  },
  {
   "cell_type": "code",
   "execution_count": 35,
   "metadata": {},
   "outputs": [],
   "source": [
    "class Network(torch.nn.Module):\n",
    "\n",
    "    def __init__(self, dev, model_w2v_weights):\n",
    "        super(Network, self).__init__()\n",
    "        self.dev = dev\n",
    "        #self.word_embeddings = torch.nn.Embedding.from_pretrained(model_w2v_weights).to(self.dev)\n",
    "        self.gru = torch.nn.LSTM(EMBED_SIZE, EMBED_SIZE, num_layers = 4, batch_first=True).to(self.dev)\n",
    "        #self.hidden2tag = torch.nn.Linear(128, len(INDEX_TO_WORD)).to(self.dev)\n",
    "        \n",
    "    def get_embeddings(self,sentences):\n",
    "        csentences = sentences.size()[0]\n",
    "        cwords = sentences.size()[1]\n",
    "        embeds = torch.zeros(csentences, cwords, EMBED_SIZE).to(self.dev)\n",
    "        for i in range(csentences):  \n",
    "            for k in range(cwords):\n",
    "                if sentences[i][k] == 0:\n",
    "                    embeds[i][k] = self.word_embeddings[0]\n",
    "                    break\n",
    "                embeds[i][k] = torch.FloatTensor ([ emb for emb in self.word_embeddings[ sentences[i][k] ] ])\n",
    "        return embeds\n",
    "\n",
    "    def forward(self, sentences):\n",
    "        #embeds = self.word_embeddings(sentences)\n",
    "        gru_out, state = self.gru(sentences)\n",
    "        #tag_space = self.hidden2tag(gru_out.reshape(-1, 128))\n",
    "        tag_space = gru_out\n",
    "        return tag_space.reshape(sentences.shape[0], sentences.shape[1], -1), state\n",
    "    \n",
    "    def forward_state(self, sentences, state):\n",
    "        #embeds = self.get_embeddings(sentences)\n",
    "        #embeds = self.word_embeddings(sentences)\n",
    "        gru_out, state = self.gru(sentences, state)\n",
    "        #tag_space = self.hidden2tag(gru_out.reshape(-1, 128))\n",
    "        tag_space = gru_out\n",
    "        return tag_space.reshape(sentences.shape[0], sentences.shape[1], -1), state"
   ]
  },
  {
   "cell_type": "code",
   "execution_count": 36,
   "metadata": {},
   "outputs": [
    {
     "data": {
      "text/plain": [
       "torch.Size([1, 40, 300])"
      ]
     },
     "execution_count": 36,
     "metadata": {},
     "output_type": "execute_result"
    }
   ],
   "source": [
    "model = Network(dev, model_w2v_weights)\n",
    "model.forward(X[0:1])[0].shape"
   ]
  },
  {
   "cell_type": "code",
   "execution_count": null,
   "metadata": {},
   "outputs": [],
   "source": []
  },
  {
   "cell_type": "code",
   "execution_count": 37,
   "metadata": {},
   "outputs": [],
   "source": [
    "def generate_sentence(line):\n",
    "    sentence = line.split(' ')\n",
    "    #sentence = ['к', 'а', 'к', ' ', 'р', 'а', 'н', 'о',' ']\n",
    "    state = None\n",
    "    X = torch.zeros((1, MAX_LEN, EMBED_SIZE), dtype=torch.float32).to(dev)\n",
    "    for i in range(MAX_LEN):\n",
    "        #X = torch.Tensor([[WORD_TO_INDEX[sentence[i]]]]).type(torch.long)\n",
    "        #X = torch.Tensor([[WORD_TO_INDEX.get(sentence[i],WORD_TO_INDEX['<miss>'])]]).type(torch.long)\n",
    "        X[0, i, 0:EMBED_SIZE] = index_to_embedding[ WORD_TO_INDEX.get(sentence[i], 1) ]\n",
    "        #get(w, WORD_TO_INDEX['<miss>']\n",
    "        #X = X.to(dev)\n",
    "        if i == 0:\n",
    "            result, state = model.forward(X)\n",
    "        else:\n",
    "            result, state = model.forward_state(X, state)\n",
    "        prediction = result[0, -1, :].to('cpu')\n",
    "        #index_of_prediction = prediction.argmax()\n",
    "#         if i >= len(sentence) - 1:\n",
    "#             if index_of_prediction == 0:\n",
    "#                 break\n",
    "\n",
    "        word_form = model_w2v.similar_by_vector(prediction.detach().numpy(), 1)[0][0]\n",
    "        word = re.sub(r'([а-яА-Яa-zA-Z])_(.+)', r'\\1', word_form)\n",
    "        sentence.append(word)\n",
    "        \n",
    "    line = ' '.join(sentence)\n",
    "    line = re.sub(r'none.*$', '', line)\n",
    "    print(line)"
   ]
  },
  {
   "cell_type": "code",
   "execution_count": 41,
   "metadata": {},
   "outputs": [],
   "source": [
    "lrate = 0.01\n",
    "\n",
    "criterion = torch.nn.CosineEmbeddingLoss()\n",
    "optimizer = torch.optim.SGD(model.parameters(), lr=lrate)\n",
    "#optimizer = torch.optim.Adam(model.parameters(), lr=lrate)"
   ]
  },
  {
   "cell_type": "code",
   "execution_count": 42,
   "metadata": {},
   "outputs": [
    {
     "name": "stdout",
     "output_type": "stream",
     "text": [
      "проект направлена на допекать допекать допекать пожинавать пожинавать пожинавать пожинавать пожинавать пожинавать пожинавать пожинавать пожинавать -бизнес -бизнес мишкинский мишкинский неизвестность неизвестность неизвестность грустить грустить грустить грустить грустить грустить наташа эйнар эйнар эйнар эйнар эйнар валькирия вьюга вьюга вьюга тигрица стена racers racers хрень\n"
     ]
    }
   ],
   "source": [
    "generate_sentence('проект направлена на')"
   ]
  },
  {
   "cell_type": "code",
   "execution_count": 48,
   "metadata": {},
   "outputs": [
    {
     "name": "stdout",
     "output_type": "stream",
     "text": [
      "Epoch 0. Time: 19.030, Train loss: 0.509\n",
      "Epoch 1. Time: 19.016, Train loss: 0.507\n",
      "Epoch 2. Time: 19.038, Train loss: 0.506\n",
      "Epoch 3. Time: 19.038, Train loss: 0.506\n",
      "Epoch 4. Time: 19.077, Train loss: 0.506\n",
      "Epoch 5. Time: 19.157, Train loss: 0.506\n",
      "Epoch 6. Time: 19.169, Train loss: 0.505\n",
      "Epoch 7. Time: 19.204, Train loss: 0.505\n",
      "Epoch 8. Time: 19.211, Train loss: 0.505\n",
      "Epoch 9. Time: 19.197, Train loss: 0.505\n",
      "Epoch 10. Time: 19.173, Train loss: 0.505\n",
      "Epoch 11. Time: 19.110, Train loss: 0.505\n",
      "Epoch 12. Time: 19.095, Train loss: 0.505\n",
      "Epoch 13. Time: 19.100, Train loss: 0.504\n",
      "Epoch 14. Time: 19.083, Train loss: 0.504\n",
      "Epoch 15. Time: 19.088, Train loss: 0.504\n",
      "Epoch 16. Time: 19.079, Train loss: 0.504\n",
      "Epoch 17. Time: 19.099, Train loss: 0.504\n",
      "Epoch 18. Time: 19.097, Train loss: 0.504\n",
      "Epoch 19. Time: 19.091, Train loss: 0.504\n",
      "Epoch 20. Time: 19.099, Train loss: 0.504\n",
      "Epoch 21. Time: 19.091, Train loss: 0.504\n",
      "Epoch 22. Time: 19.126, Train loss: 0.504\n",
      "Epoch 23. Time: 19.123, Train loss: 0.503\n",
      "Epoch 24. Time: 19.122, Train loss: 0.503\n",
      "Epoch 25. Time: 19.116, Train loss: 0.503\n",
      "Epoch 26. Time: 19.131, Train loss: 0.503\n",
      "Epoch 27. Time: 19.120, Train loss: 0.503\n",
      "Epoch 28. Time: 19.141, Train loss: 0.503\n",
      "Epoch 29. Time: 19.127, Train loss: 0.503\n",
      "Epoch 30. Time: 19.127, Train loss: 0.503\n",
      "Epoch 31. Time: 19.131, Train loss: 0.503\n",
      "Epoch 32. Time: 19.128, Train loss: 0.503\n",
      "Epoch 33. Time: 19.125, Train loss: 0.503\n",
      "Epoch 34. Time: 19.108, Train loss: 0.503\n",
      "Epoch 35. Time: 19.118, Train loss: 0.503\n",
      "Epoch 36. Time: 19.120, Train loss: 0.503\n",
      "Epoch 37. Time: 19.121, Train loss: 0.502\n",
      "Epoch 38. Time: 19.128, Train loss: 0.502\n",
      "Epoch 39. Time: 19.120, Train loss: 0.502\n",
      "Epoch 40. Time: 19.121, Train loss: 0.502\n"
     ]
    },
    {
     "ename": "KeyboardInterrupt",
     "evalue": "",
     "output_type": "error",
     "traceback": [
      "\u001b[0;31m---------------------------------------------------------------------------\u001b[0m",
      "\u001b[0;31mKeyboardInterrupt\u001b[0m                         Traceback (most recent call last)",
      "\u001b[0;32m<ipython-input-48-f0cf0408fc73>\u001b[0m in \u001b[0;36m<module>\u001b[0;34m\u001b[0m\n\u001b[1;32m     18\u001b[0m         \u001b[0;31m#answers = answers.view(-1, len(INDEX_TO_WORD))\u001b[0m\u001b[0;34m\u001b[0m\u001b[0;34m\u001b[0m\u001b[0;34m\u001b[0m\u001b[0m\n\u001b[1;32m     19\u001b[0m         \u001b[0mloss\u001b[0m \u001b[0;34m=\u001b[0m \u001b[0mcriterion\u001b[0m\u001b[0;34m(\u001b[0m\u001b[0manswers\u001b[0m\u001b[0;34m,\u001b[0m \u001b[0mY_batch\u001b[0m\u001b[0;34m,\u001b[0m \u001b[0mtarget\u001b[0m\u001b[0;34m)\u001b[0m\u001b[0;34m\u001b[0m\u001b[0;34m\u001b[0m\u001b[0m\n\u001b[0;32m---> 20\u001b[0;31m         \u001b[0mtrain_loss\u001b[0m \u001b[0;34m+=\u001b[0m \u001b[0mloss\u001b[0m\u001b[0;34m.\u001b[0m\u001b[0mitem\u001b[0m\u001b[0;34m(\u001b[0m\u001b[0;34m)\u001b[0m\u001b[0;34m\u001b[0m\u001b[0;34m\u001b[0m\u001b[0m\n\u001b[0m\u001b[1;32m     21\u001b[0m \u001b[0;34m\u001b[0m\u001b[0m\n\u001b[1;32m     22\u001b[0m         \u001b[0mloss\u001b[0m\u001b[0;34m.\u001b[0m\u001b[0mbackward\u001b[0m\u001b[0;34m(\u001b[0m\u001b[0;34m)\u001b[0m\u001b[0;34m\u001b[0m\u001b[0;34m\u001b[0m\u001b[0m\n",
      "\u001b[0;31mKeyboardInterrupt\u001b[0m: "
     ]
    }
   ],
   "source": [
    "count = 0\n",
    "target = torch.ones(EMBED_SIZE).to(dev)\n",
    "\n",
    "for ep in range(2000):\n",
    "    \n",
    "    start = time.time()\n",
    "    train_loss = 0.\n",
    "    train_passed = 0\n",
    "    \n",
    "    for i in range(int(len(X) / BATCH_SIZE)):\n",
    "        batch = X[i * BATCH_SIZE:(i + 1) * BATCH_SIZE]\n",
    "        X_batch = batch[:, :-1]\n",
    "        #Y_batch = batch[:, 1:].flatten()\n",
    "        Y_batch = batch[:, 1:]\n",
    "\n",
    "        optimizer.zero_grad()\n",
    "        answers, _ = model.forward(X_batch)\n",
    "        #answers = answers.view(-1, len(INDEX_TO_WORD))\n",
    "        loss = criterion(answers, Y_batch, target)\n",
    "        train_loss += loss.item()\n",
    "\n",
    "        loss.backward()\n",
    "        optimizer.step()\n",
    "        train_passed += 1\n",
    "    end = time.time()\n",
    "    \n",
    "    count += 1\n",
    "    if count == 1:\n",
    "        count = 0\n",
    "        trloss = train_loss / train_passed\n",
    "        print(\"Epoch {}. Time: {:.3f}, Train loss: {:.3f}\".format(ep, end - start, trloss))\n",
    "        #generate_sentence('проект позволяет')"
   ]
  },
  {
   "cell_type": "code",
   "execution_count": 49,
   "metadata": {},
   "outputs": [
    {
     "name": "stdout",
     "output_type": "stream",
     "text": [
      "предлагается допекать допекать вымучивать вымучивать вымучивать валерий::меладзе валерий::меладзе валерий::меладзе валерий::меладзе валерий::меладзе валерий::меладзе валерий::меладзе валерий::меладзе валерий::меладзе -бизнес -бизнес -бизнес -бизнес аида::ведищев неизвестность неизвестность акробатка эйнар вьюга вьюга вьюга вьюга вьюга доктор некромант некромант некромант некромант памела памела ботаническое ботаническое и докучаев::в::в оптимальный\n"
     ]
    }
   ],
   "source": [
    "generate_sentence('предлагается')"
   ]
  },
  {
   "cell_type": "code",
   "execution_count": 50,
   "metadata": {},
   "outputs": [
    {
     "name": "stdout",
     "output_type": "stream",
     "text": [
      "проект позволяет допекать урядников вымучивать подготовка урядников т.п т.п т.п т.п есть сверхразумный сверхразумный сверхразумный допекать нуженута порожденный порождать ,_PUNCT ,_PUNCT ;_PUNCT вьюга вьюга вьюга вьюга вьюга вьюга вьюга вьюга вьюга вьюга вьюга вьюга вьюга некромант илай фэнтези ботаническое *2003_NUM докучаев::в::в хрень\n"
     ]
    }
   ],
   "source": [
    "generate_sentence('проект позволяет')"
   ]
  },
  {
   "cell_type": "code",
   "execution_count": 51,
   "metadata": {},
   "outputs": [
    {
     "name": "stdout",
     "output_type": "stream",
     "text": [
      "в нашей стране дети урядников урядников урядников урядников урядников 96-й урядников урядников урядников валерий::меладзе валерий::меладзе валерий::меладзе валерий::меладзе валерий::меладзе валерий::меладзе валерий::меладзе валерий::меладзе валерий::меладзе напролом напролом круговерть круговерть экко экко пророчица пророчица пророчица пророчица пророчица пророчица пророчица пророчица пророчица вьюга вьюга илай drift drift происхождение хрень\n"
     ]
    }
   ],
   "source": [
    "generate_sentence('в нашей стране дети')"
   ]
  },
  {
   "cell_type": "code",
   "execution_count": 52,
   "metadata": {},
   "outputs": [
    {
     "name": "stdout",
     "output_type": "stream",
     "text": [
      "низкий уровень образования допекать урядников урядников валерий::меладзе вымучивать вымучивать валерий::меладзе валерий::меладзе валерий::меладзе валерий::меладзе валерий::меладзе валерий::меладзе валерий::меладзе валерий::меладзе валерий::меладзе соткать разонравиться разонравиться порожденный ,_PUNCT ;_PUNCT груффало груффало вьюга вьюга вьюга вьюга вьюга вьюга вьюга вьюга вьюга вьюга вьюга вьюга вьюга илай racers происхождение хрень\n"
     ]
    }
   ],
   "source": [
    "generate_sentence('низкий уровень образования')"
   ]
  },
  {
   "cell_type": "code",
   "execution_count": 53,
   "metadata": {},
   "outputs": [
    {
     "name": "stdout",
     "output_type": "stream",
     "text": [
      "проект способен допекать допекать вымучивать вымучивать везде значит натаскивать несравнимо несравнимо допекать допекать допекать допекать допекать допекать нуженута нуженута быть быть быть гипнос пророчица вьюга вьюга вьюга вьюга вьюга захвачять вьюга вьюга вьюга вьюга вьюга вьюга некромант памела сандор докучаев::в::в модернизировать хрень\n"
     ]
    }
   ],
   "source": [
    "generate_sentence('проект способен')"
   ]
  },
  {
   "cell_type": "code",
   "execution_count": 59,
   "metadata": {},
   "outputs": [
    {
     "data": {
      "text/plain": [
       "'предлагается создание платформы и онлайн курсов ориентированных на людей среднего возраста для повышения языковой финансовой и юридической грамотности.формат курсов будет открытый то есть доступный для всех без каких либо ограничений в том числе и территориальных.технология курсов будет соответствовать требованиям технологии массовых открытых онлайн курсов моок .лекции будут прочитаны ведущими специалистами и преподавателями в соответствующих областях.после каждой лекции будут тесты для самопроверки по пройденному материалу.в конце обучения будет предложено творческое задание для взаимного оценивания.обучающиеся успешно прошедшие обучение будут допущены до аттестации по итогам которой будут выжданы электронные сертификаты подтверждающие результаты обучения.'"
      ]
     },
     "execution_count": 59,
     "metadata": {},
     "output_type": "execute_result"
    }
   ],
   "source": [
    "descrs[105]\n"
   ]
  },
  {
   "cell_type": "raw",
   "metadata": {},
   "source": []
  },
  {
   "cell_type": "code",
   "execution_count": null,
   "metadata": {},
   "outputs": [],
   "source": []
  },
  {
   "cell_type": "code",
   "execution_count": null,
   "metadata": {},
   "outputs": [],
   "source": []
  },
  {
   "cell_type": "code",
   "execution_count": 54,
   "metadata": {},
   "outputs": [],
   "source": [
    "torch.save({\n",
    "            'model_state_dict': model.state_dict(),\n",
    "            'optimizer_state_dict': optimizer.state_dict(),\n",
    "            'loss': loss,\n",
    "            }, \"model_allw_w2v_lstm4l-300-loss0d5.pt\")"
   ]
  },
  {
   "cell_type": "code",
   "execution_count": 47,
   "metadata": {},
   "outputs": [
    {
     "data": {
      "text/plain": [
       "Network(\n",
       "  (word_embeddings): Embedding(248118, 300)\n",
       "  (gru): GRU(300, 128, batch_first=True)\n",
       "  (hidden2tag): Linear(in_features=128, out_features=44946, bias=True)\n",
       ")"
      ]
     },
     "execution_count": 47,
     "metadata": {},
     "output_type": "execute_result"
    }
   ],
   "source": [
    "# model = TheModelClass(*args, **kwargs)\n",
    "# optimizer = TheOptimizerClass(*args, **kwargs)\n",
    "\n",
    "checkpoint = torch.load(\"model_allw_w2v_rnn1l-300-128-loss0d86.pt\")\n",
    "model.load_state_dict(checkpoint['model_state_dict'])\n",
    "optimizer.load_state_dict(checkpoint['optimizer_state_dict'])\n",
    "loss = checkpoint['loss']\n",
    "\n",
    "#model.eval()\n",
    "model.train()"
   ]
  },
  {
   "cell_type": "code",
   "execution_count": 45,
   "metadata": {},
   "outputs": [
    {
     "data": {
      "text/plain": [
       "Network(\n",
       "  (word_embeddings): Embedding(248118, 300)\n",
       "  (gru): GRU(300, 128, batch_first=True)\n",
       "  (hidden2tag): Linear(in_features=128, out_features=44946, bias=True)\n",
       ")"
      ]
     },
     "execution_count": 45,
     "metadata": {},
     "output_type": "execute_result"
    }
   ],
   "source": [
    "model.train()"
   ]
  },
  {
   "cell_type": "code",
   "execution_count": 48,
   "metadata": {},
   "outputs": [
    {
     "data": {
      "text/plain": [
       "tensor(1.0754, device='cuda:0', requires_grad=True)"
      ]
     },
     "execution_count": 48,
     "metadata": {},
     "output_type": "execute_result"
    }
   ],
   "source": [
    "loss"
   ]
  },
  {
   "cell_type": "code",
   "execution_count": 164,
   "metadata": {},
   "outputs": [
    {
     "data": {
      "text/plain": [
       "84"
      ]
     },
     "execution_count": 164,
     "metadata": {},
     "output_type": "execute_result"
    }
   ],
   "source": [
    "c['преподаватели']"
   ]
  },
  {
   "cell_type": "code",
   "execution_count": 44,
   "metadata": {},
   "outputs": [
    {
     "data": {
      "text/plain": [
       "1283"
      ]
     },
     "execution_count": 44,
     "metadata": {},
     "output_type": "execute_result"
    }
   ],
   "source": [
    "c['будет']"
   ]
  },
  {
   "cell_type": "code",
   "execution_count": 48,
   "metadata": {
    "collapsed": true,
    "jupyter": {
     "outputs_hidden": true
    }
   },
   "outputs": [
    {
     "data": {
      "text/plain": [
       "[('и', 21757),\n",
       " ('в', 18684),\n",
       " ('на', 7540),\n",
       " ('с', 6533),\n",
       " ('для', 5371),\n",
       " ('по', 4117),\n",
       " ('не', 3524),\n",
       " ('проекта', 3413),\n",
       " ('к', 3142),\n",
       " ('как', 2422),\n",
       " ('что', 2298),\n",
       " ('а', 2041),\n",
       " ('детей', 1997),\n",
       " ('из', 1893),\n",
       " ('о', 1651),\n",
       " ('проект', 1626),\n",
       " ('это', 1586),\n",
       " ('их', 1507),\n",
       " ('или', 1477),\n",
       " ('от', 1449),\n",
       " ('1', 1315),\n",
       " ('–', 1285),\n",
       " ('будет', 1283),\n",
       " ('у', 1203),\n",
       " ('образования', 1184),\n",
       " ('при', 1184),\n",
       " ('2', 1170),\n",
       " ('которые', 1116),\n",
       " ('за', 1075),\n",
       " ('также', 1052),\n",
       " ('3', 1010),\n",
       " ('развития', 987),\n",
       " ('но', 983),\n",
       " ('работы', 973),\n",
       " ('так', 973),\n",
       " ('обучения', 933),\n",
       " ('реализации', 926),\n",
       " ('жизни', 909),\n",
       " ('будут', 877),\n",
       " ('россии', 787),\n",
       " ('профессии', 767),\n",
       " ('может', 764),\n",
       " ('создание', 763),\n",
       " ('области', 763),\n",
       " ('людей', 759),\n",
       " ('деятельности', 758),\n",
       " ('быть', 735),\n",
       " ('только', 709),\n",
       " ('т', 708),\n",
       " ('то', 705),\n",
       " ('рамках', 705),\n",
       " ('до', 705),\n",
       " ('можно', 704),\n",
       " ('школьников', 701),\n",
       " ('более', 693),\n",
       " ('время', 686),\n",
       " ('проведение', 679),\n",
       " ('все', 676),\n",
       " ('4', 669),\n",
       " ('они', 660),\n",
       " ('развитие', 655),\n",
       " ('школы', 651),\n",
       " ('том', 650),\n",
       " ('населения', 641),\n",
       " ('себя', 639),\n",
       " ('я', 629),\n",
       " ('является', 628),\n",
       " ('его', 627),\n",
       " ('мы', 625),\n",
       " ('дети', 623),\n",
       " ('чтобы', 623),\n",
       " ('возможность', 615),\n",
       " ('могут', 612),\n",
       " ('со', 611),\n",
       " ('5', 608),\n",
       " ('знаний', 604),\n",
       " ('лет', 585),\n",
       " ('обучение', 580),\n",
       " ('детских', 575),\n",
       " ('специалистов', 569),\n",
       " ('во', 544),\n",
       " ('необходимо', 536),\n",
       " ('родителей', 525),\n",
       " ('образовательных', 520),\n",
       " ('цель', 519),\n",
       " ('организации', 515),\n",
       " ('уже', 511),\n",
       " ('программы', 509),\n",
       " ('классов', 499),\n",
       " ('через', 498),\n",
       " ('школ', 492),\n",
       " ('этом', 489),\n",
       " ('студентов', 488),\n",
       " ('мероприятий', 483),\n",
       " ('знания', 483),\n",
       " ('им', 481),\n",
       " ('страны', 479),\n",
       " ('формирование', 476),\n",
       " ('грамотности', 475),\n",
       " ('повышение', 473),\n",
       " ('есть', 473),\n",
       " ('же', 471),\n",
       " ('навыков', 457),\n",
       " ('проведения', 453),\n",
       " ('позволит', 450),\n",
       " ('участников', 449),\n",
       " ('финансовой', 442),\n",
       " ('всех', 439),\n",
       " ('молодежи', 435),\n",
       " ('бы', 432),\n",
       " ('учащихся', 430),\n",
       " ('детям', 429),\n",
       " ('если', 429),\n",
       " ('где', 429),\n",
       " ('возможности', 414),\n",
       " ('них', 414),\n",
       " ('тем', 396),\n",
       " ('уровня', 395),\n",
       " ('которых', 395),\n",
       " ('своей', 393),\n",
       " ('задачи', 393),\n",
       " ('д', 390),\n",
       " ('того', 381),\n",
       " ('бизнес', 379),\n",
       " ('занятий', 378),\n",
       " ('возраста', 376),\n",
       " ('уровень', 375),\n",
       " ('различных', 374),\n",
       " ('навыки', 373),\n",
       " ('домов', 372),\n",
       " ('человек', 372),\n",
       " ('года', 372),\n",
       " ('системы', 371),\n",
       " ('учебных', 370),\n",
       " ('работу', 369),\n",
       " ('г', 369),\n",
       " ('информации', 365),\n",
       " ('очень', 364),\n",
       " ('получить', 362),\n",
       " ('свои', 362),\n",
       " ('после', 362),\n",
       " ('мастер', 359),\n",
       " ('профессий', 359),\n",
       " ('других', 357),\n",
       " ('люди', 355),\n",
       " ('граждан', 353),\n",
       " ('работа', 351),\n",
       " ('своих', 346),\n",
       " ('целью', 346),\n",
       " ('он', 346),\n",
       " ('помощь', 345),\n",
       " ('организация', 344),\n",
       " ('вузов', 343),\n",
       " ('этого', 343),\n",
       " ('образование', 342),\n",
       " ('молодых', 342),\n",
       " ('города', 338),\n",
       " ('сфере', 331),\n",
       " ('труда', 329),\n",
       " ('подготовки', 328),\n",
       " ('возможно', 327),\n",
       " ('проектов', 327),\n",
       " ('подростков', 327),\n",
       " ('числе', 327),\n",
       " ('создать', 326),\n",
       " ('человека', 323),\n",
       " ('помощи', 322),\n",
       " ('участие', 321),\n",
       " ('без', 320),\n",
       " ('социальной', 317),\n",
       " ('выпускников', 316),\n",
       " ('рф', 316),\n",
       " ('об', 315),\n",
       " ('мероприятия', 314),\n",
       " ('базе', 313),\n",
       " ('данный', 312),\n",
       " ('среди', 312),\n",
       " ('чем', 311),\n",
       " ('количество', 309),\n",
       " ('социальных', 309),\n",
       " ('школе', 308),\n",
       " ('10', 308),\n",
       " ('который', 307),\n",
       " ('занятия', 307),\n",
       " ('например', 307),\n",
       " ('новых', 306),\n",
       " ('данного', 306),\n",
       " ('свою', 305),\n",
       " ('интернет', 304),\n",
       " ('проблемы', 301),\n",
       " ('деятельность', 300),\n",
       " ('решения', 300),\n",
       " ('именно', 299),\n",
       " ('планируется', 296),\n",
       " ('таких', 296),\n",
       " ('детьми', 293),\n",
       " ('школах', 292),\n",
       " ('опыт', 290),\n",
       " ('основе', 290),\n",
       " ('общества', 289),\n",
       " ('стать', 289),\n",
       " ('региона', 289),\n",
       " ('жизнь', 289),\n",
       " ('сделать', 287),\n",
       " ('бизнеса', 286),\n",
       " ('нужно', 285),\n",
       " ('6', 285),\n",
       " ('профессионального', 282),\n",
       " ('результаты', 280),\n",
       " ('каждый', 280),\n",
       " ('предприятий', 279),\n",
       " ('технологий', 278),\n",
       " ('должны', 278),\n",
       " ('своего', 276),\n",
       " ('социально', 273),\n",
       " ('организаций', 271),\n",
       " ('ребенка', 270),\n",
       " ('профессиональной', 269),\n",
       " ('учреждений', 268),\n",
       " ('нашей', 267),\n",
       " ('работе', 264),\n",
       " ('этой', 264),\n",
       " ('выбор', 263),\n",
       " ('даже', 263),\n",
       " ('стороны', 263),\n",
       " ('между', 262),\n",
       " ('разработка', 261),\n",
       " ('смогут', 260),\n",
       " ('уровне', 259),\n",
       " ('развитию', 256),\n",
       " ('либо', 255),\n",
       " ('российской', 254),\n",
       " ('7', 253),\n",
       " ('разных', 249),\n",
       " ('культуры', 248),\n",
       " ('группы', 248),\n",
       " ('провести', 245),\n",
       " ('онлайн', 244),\n",
       " ('проводить', 243),\n",
       " ('кто', 243),\n",
       " ('проблема', 240),\n",
       " ('когда', 238),\n",
       " ('многие', 238),\n",
       " ('поколения', 238),\n",
       " ('специальности', 237),\n",
       " ('предприятия', 237),\n",
       " ('задач', 236),\n",
       " ('получения', 235),\n",
       " ('направлен', 234),\n",
       " ('безопасности', 234),\n",
       " ('работать', 233),\n",
       " ('наиболее', 233),\n",
       " ('нет', 232),\n",
       " ('связи', 232),\n",
       " ('кадров', 232),\n",
       " ('помочь', 231),\n",
       " ('образом', 231),\n",
       " ('процесс', 231),\n",
       " ('эти', 230),\n",
       " ('программ', 229),\n",
       " ('сети', 229),\n",
       " ('таким', 229),\n",
       " ('проблем', 228),\n",
       " ('территории', 228),\n",
       " ('реализация', 228),\n",
       " ('вопросы', 226),\n",
       " ('обучающихся', 226),\n",
       " ('проекте', 226),\n",
       " ('компетенций', 225),\n",
       " ('будущего', 225),\n",
       " ('экономики', 224),\n",
       " ('каждого', 223),\n",
       " ('новые', 222),\n",
       " ('качества', 222),\n",
       " ('свой', 222),\n",
       " ('опыта', 222),\n",
       " ('настоящее', 221),\n",
       " ('какие', 221),\n",
       " ('поддержки', 221),\n",
       " ('взаимодействия', 220),\n",
       " ('под', 218),\n",
       " ('мире', 218),\n",
       " ('дома', 216),\n",
       " ('сейчас', 216),\n",
       " ('воспитанников', 215),\n",
       " ('школа', 214),\n",
       " ('современных', 214),\n",
       " ('конкурса', 213),\n",
       " ('повышения', 212),\n",
       " ('которая', 212),\n",
       " ('себе', 211),\n",
       " ('цели', 211),\n",
       " ('образовательной', 211),\n",
       " ('ситуации', 210),\n",
       " ('8', 210),\n",
       " ('организовать', 209),\n",
       " ('одной', 208),\n",
       " ('которой', 208),\n",
       " ('программа', 208),\n",
       " ('важно', 207),\n",
       " ('ее', 207),\n",
       " ('личности', 206),\n",
       " ('участники', 206),\n",
       " ('игры', 206),\n",
       " ('решение', 206),\n",
       " ('этапе', 206),\n",
       " ('учеников', 205),\n",
       " ('система', 204),\n",
       " ('поведения', 204),\n",
       " ('всего', 203),\n",
       " ('данной', 202),\n",
       " ('поэтому', 202),\n",
       " ('педагогов', 201),\n",
       " ('больше', 201),\n",
       " ('часть', 201),\n",
       " ('качестве', 201),\n",
       " ('формирования', 200),\n",
       " ('дать', 199),\n",
       " ('времени', 199),\n",
       " ('студенты', 198),\n",
       " ('будущем', 198),\n",
       " ('федерации', 195),\n",
       " ('этих', 195),\n",
       " ('будущей', 194),\n",
       " ('такие', 194),\n",
       " ('услуг', 193),\n",
       " ('заведений', 193),\n",
       " ('п', 193),\n",
       " ('задача', 192),\n",
       " ('стране', 192),\n",
       " ('образовательного', 191),\n",
       " ('мира', 191),\n",
       " ('менее', 191),\n",
       " ('форме', 191),\n",
       " ('этап', 190),\n",
       " ('финансовых', 190),\n",
       " ('результате', 190),\n",
       " ('являются', 190),\n",
       " ('имеют', 190),\n",
       " ('государства', 190),\n",
       " ('лекций', 190),\n",
       " ('групп', 189),\n",
       " ('родители', 188),\n",
       " ('11', 188),\n",
       " ('создания', 188),\n",
       " ('должен', 185),\n",
       " ('другие', 185),\n",
       " ('найти', 184),\n",
       " ('среднего', 184),\n",
       " ('этот', 183),\n",
       " ('день', 183),\n",
       " ('старших', 182),\n",
       " ('классы', 182),\n",
       " ('технологии', 182),\n",
       " ('еще', 182),\n",
       " ('профессиональных', 182),\n",
       " ('привлечение', 182),\n",
       " ('средств', 182),\n",
       " ('направления', 182),\n",
       " ('условиях', 181),\n",
       " ('суть', 181),\n",
       " ('встречи', 181),\n",
       " ('часто', 180),\n",
       " ('программу', 180),\n",
       " ('2019', 180),\n",
       " ('социального', 180),\n",
       " ('9', 180),\n",
       " ('поможет', 180),\n",
       " ('центра', 180),\n",
       " ('—', 180),\n",
       " ('компании', 179),\n",
       " ('несколько', 179),\n",
       " ('предполагается', 177),\n",
       " ('2020', 177),\n",
       " ('повысить', 176),\n",
       " ('процесса', 176),\n",
       " ('научно', 175),\n",
       " ('внимание', 175),\n",
       " ('процессе', 175),\n",
       " ('подготовка', 175),\n",
       " ('данных', 174),\n",
       " ('год', 174),\n",
       " ('просто', 174),\n",
       " ('году', 174),\n",
       " ('материалов', 173),\n",
       " ('особенно', 172),\n",
       " ('результатов', 172),\n",
       " ('возможностей', 171),\n",
       " ('получение', 171),\n",
       " ('много', 171),\n",
       " ('заведения', 170),\n",
       " ('возрасте', 170),\n",
       " ('зачастую', 170),\n",
       " ('помощью', 169),\n",
       " ('момент', 169),\n",
       " ('счет', 169),\n",
       " ('результат', 169),\n",
       " ('обществе', 168),\n",
       " ('школьники', 168),\n",
       " ('детского', 167),\n",
       " ('сформировать', 167),\n",
       " ('случае', 166),\n",
       " ('сегодня', 165),\n",
       " ('опытом', 165),\n",
       " ('отсутствие', 165),\n",
       " ('лекции', 165),\n",
       " ('один', 164),\n",
       " ('очередь', 163),\n",
       " ('количества', 163),\n",
       " ('компаний', 162),\n",
       " ('реализовать', 161),\n",
       " ('рабочих', 161),\n",
       " ('профориентации', 160),\n",
       " ('курсов', 160),\n",
       " ('виде', 159),\n",
       " ('выбора', 159),\n",
       " ('целом', 159),\n",
       " ('имеет', 159),\n",
       " ('такой', 158),\n",
       " ('основные', 158),\n",
       " ('школьного', 158),\n",
       " ('высшего', 158),\n",
       " ('учителей', 157),\n",
       " ('было', 157),\n",
       " ('предлагается', 156),\n",
       " ('учреждения', 156),\n",
       " ('встреч', 156),\n",
       " ('преподавателей', 156),\n",
       " ('перед', 156),\n",
       " ('общения', 156),\n",
       " ('предполагает', 155),\n",
       " ('участия', 155),\n",
       " ('однако', 154),\n",
       " ('др', 154),\n",
       " ('актуальность', 153),\n",
       " ('систему', 153),\n",
       " ('образовательные', 153),\n",
       " ('регионе', 153),\n",
       " ('специалисты', 153),\n",
       " ('семей', 153),\n",
       " ('условий', 152),\n",
       " ('курса', 152),\n",
       " ('тех', 152),\n",
       " ('дополнительного', 151),\n",
       " ('интерес', 150),\n",
       " ('науки', 150),\n",
       " ('регионах', 150),\n",
       " ('информацию', 150),\n",
       " ('вопрос', 149),\n",
       " ('будущее', 149),\n",
       " ('кроме', 148),\n",
       " ('заключается', 146),\n",
       " ('учебного', 146),\n",
       " ('центров', 145),\n",
       " ('поддержка', 144),\n",
       " ('людям', 144),\n",
       " ('нас', 143),\n",
       " ('мир', 143),\n",
       " ('делать', 143),\n",
       " ('учебные', 143),\n",
       " ('темы', 142),\n",
       " ('профессию', 141),\n",
       " ('практических', 141),\n",
       " ('данные', 141),\n",
       " ('путем', 141),\n",
       " ('использовать', 141),\n",
       " ('выборе', 141),\n",
       " ('рынке', 140),\n",
       " ('центр', 140),\n",
       " ('рассказать', 140),\n",
       " ('проекты', 140),\n",
       " ('уроков', 140),\n",
       " ('социальные', 139),\n",
       " ('научных', 139),\n",
       " ('существует', 139),\n",
       " ('технических', 139),\n",
       " ('всем', 139),\n",
       " ('период', 138),\n",
       " ('ребенок', 138),\n",
       " ('отношения', 137),\n",
       " ('адаптации', 137),\n",
       " ('основы', 137),\n",
       " ('обучению', 137),\n",
       " ('места', 137),\n",
       " ('ходе', 136),\n",
       " ('должна', 136),\n",
       " ('отрасли', 136),\n",
       " ('всегда', 136),\n",
       " ('учетом', 135),\n",
       " ('среды', 135),\n",
       " ('школьникам', 135),\n",
       " ('команды', 135),\n",
       " ('развитии', 135),\n",
       " ('потенциала', 134),\n",
       " ('формате', 134),\n",
       " ('возможностями', 134),\n",
       " ('место', 134),\n",
       " ('будущих', 133),\n",
       " ('далее', 133),\n",
       " ('обеспечение', 133)]"
      ]
     },
     "execution_count": 48,
     "metadata": {},
     "output_type": "execute_result"
    }
   ],
   "source": [
    "c.most_common(500)"
   ]
  },
  {
   "cell_type": "code",
   "execution_count": 162,
   "metadata": {},
   "outputs": [],
   "source": [
    "# save descrs to disk\n",
    "import pandas as pd\n",
    "df = pd.DataFrame(descrs)\n",
    "df.to_csv(\"descrs.csv\", encoding = 'utf8')\n"
   ]
  },
  {
   "cell_type": "markdown",
   "metadata": {},
   "source": [
    "### Пробуем эмбеддинги word2vec\n"
   ]
  },
  {
   "cell_type": "code",
   "execution_count": null,
   "metadata": {},
   "outputs": [],
   "source": []
  },
  {
   "cell_type": "code",
   "execution_count": null,
   "metadata": {},
   "outputs": [],
   "source": []
  },
  {
   "cell_type": "code",
   "execution_count": null,
   "metadata": {},
   "outputs": [],
   "source": []
  },
  {
   "cell_type": "code",
   "execution_count": null,
   "metadata": {},
   "outputs": [],
   "source": []
  },
  {
   "cell_type": "code",
   "execution_count": 165,
   "metadata": {},
   "outputs": [
    {
     "ename": "ModuleNotFoundError",
     "evalue": "No module named 'gensim'",
     "output_type": "error",
     "traceback": [
      "\u001b[1;31m---------------------------------------------------------------------------\u001b[0m",
      "\u001b[1;31mModuleNotFoundError\u001b[0m                       Traceback (most recent call last)",
      "\u001b[1;32m<ipython-input-165-45be34cb649b>\u001b[0m in \u001b[0;36m<module>\u001b[1;34m\u001b[0m\n\u001b[1;32m----> 1\u001b[1;33m \u001b[1;32mimport\u001b[0m \u001b[0mgensim\u001b[0m\u001b[1;33m\u001b[0m\u001b[1;33m\u001b[0m\u001b[0m\n\u001b[0m\u001b[0;32m      2\u001b[0m \u001b[0mmodel\u001b[0m \u001b[1;33m=\u001b[0m \u001b[0mgensim\u001b[0m\u001b[1;33m.\u001b[0m\u001b[0mmodels\u001b[0m\u001b[1;33m.\u001b[0m\u001b[0mKeyedVectors\u001b[0m\u001b[1;33m.\u001b[0m\u001b[0mload_word2vec_format\u001b[0m\u001b[1;33m(\u001b[0m\u001b[1;34m'path/to/file'\u001b[0m\u001b[1;33m)\u001b[0m\u001b[1;33m\u001b[0m\u001b[1;33m\u001b[0m\u001b[0m\n\u001b[0;32m      3\u001b[0m \u001b[0mweights\u001b[0m \u001b[1;33m=\u001b[0m \u001b[0mtorch\u001b[0m\u001b[1;33m.\u001b[0m\u001b[0mFloatTensor\u001b[0m\u001b[1;33m(\u001b[0m\u001b[0mmodel\u001b[0m\u001b[1;33m.\u001b[0m\u001b[0mvectors\u001b[0m\u001b[1;33m)\u001b[0m \u001b[1;31m# formerly syn0, which is soon deprecated\u001b[0m\u001b[1;33m\u001b[0m\u001b[1;33m\u001b[0m\u001b[0m\n",
      "\u001b[1;31mModuleNotFoundError\u001b[0m: No module named 'gensim'"
     ]
    }
   ],
   "source": []
  },
  {
   "cell_type": "code",
   "execution_count": null,
   "metadata": {},
   "outputs": [],
   "source": []
  },
  {
   "cell_type": "code",
   "execution_count": null,
   "metadata": {},
   "outputs": [],
   "source": []
  }
 ],
 "metadata": {
  "kernelspec": {
   "display_name": "Python 3",
   "language": "python",
   "name": "python3"
  },
  "language_info": {
   "codemirror_mode": {
    "name": "ipython",
    "version": 3
   },
   "file_extension": ".py",
   "mimetype": "text/x-python",
   "name": "python",
   "nbconvert_exporter": "python",
   "pygments_lexer": "ipython3",
   "version": "3.7.4"
  }
 },
 "nbformat": 4,
 "nbformat_minor": 4
}
