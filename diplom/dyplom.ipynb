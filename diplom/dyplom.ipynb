{
 "cells": [
  {
   "cell_type": "code",
   "execution_count": 1,
   "metadata": {},
   "outputs": [],
   "source": [
    "from bs4 import BeautifulSoup\n",
    "import re\n",
    "import os\n",
    "from tqdm import tqdm\n",
    "from collections import Counter\n",
    "import torch\n",
    "import time"
   ]
  },
  {
   "cell_type": "code",
   "execution_count": 2,
   "metadata": {},
   "outputs": [
    {
     "data": {
      "text/plain": [
       "device(type='cuda')"
      ]
     },
     "execution_count": 2,
     "metadata": {},
     "output_type": "execute_result"
    }
   ],
   "source": [
    "dev = torch.device(\"cuda\") if torch.cuda.is_available() else torch.device(\"cpu\")\n",
    "dev"
   ]
  },
  {
   "cell_type": "code",
   "execution_count": 3,
   "metadata": {},
   "outputs": [
    {
     "name": "stderr",
     "output_type": "stream",
     "text": [
      "100%|██████████| 6605/6605 [00:32<00:00, 200.86it/s]\n"
     ]
    }
   ],
   "source": [
    "proj_types, proj_names, proj_descrs = [],[],[]\n",
    "folders = os.listdir('texts')\n",
    "for folder in tqdm(folders):\n",
    "    f = open(f\"texts/{folder}/choose\", \"r\", encoding=\"utf-8\")\n",
    "    contents = f.read()\n",
    "    soup = BeautifulSoup(contents, 'lxml')\n",
    "    founded = soup.find_all('div', {'class': 'lr-project-value'})\n",
    "    proj_types.append( re.sub(r'[\\n\\t]', '', founded[1].get_text().lower()) )\n",
    "    proj_names.append( re.sub(r'[\\n\\t]', '', founded[3].get_text().lower()) )\n",
    "    proj_descrs.append( re.sub(r'[\\n\\t]', '', founded[4].get_text().lower()) )\n",
    "    f.close()\n",
    "    \n"
   ]
  },
  {
   "cell_type": "code",
   "execution_count": 4,
   "metadata": {},
   "outputs": [
    {
     "data": {
      "text/plain": [
       "6605"
      ]
     },
     "execution_count": 4,
     "metadata": {},
     "output_type": "execute_result"
    }
   ],
   "source": [
    "len(proj_types)"
   ]
  },
  {
   "cell_type": "code",
   "execution_count": 5,
   "metadata": {},
   "outputs": [
    {
     "data": {
      "text/plain": [
       "'другое'"
      ]
     },
     "execution_count": 5,
     "metadata": {},
     "output_type": "execute_result"
    }
   ],
   "source": [
    "proj_types[10]"
   ]
  },
  {
   "cell_type": "code",
   "execution_count": 6,
   "metadata": {},
   "outputs": [
    {
     "data": {
      "text/plain": [
       "'\"фабрика процессов\" для воспитанников детских домов и детей из многодетных семей'"
      ]
     },
     "execution_count": 6,
     "metadata": {},
     "output_type": "execute_result"
    }
   ],
   "source": [
    "proj_names[10]"
   ]
  },
  {
   "cell_type": "code",
   "execution_count": 7,
   "metadata": {},
   "outputs": [
    {
     "data": {
      "text/plain": [
       "'в будущем основным конкурентным преимуществом кандидата при трудоустройстве на современное производственное предприятие будут навыки бережливого отношения к ресурсам, способность постоянно находить улучшения, в том числе за счет автоматизации и цифровизации, а также способность работать в команде, находить общий язык с коллегами и совместно решать задачи, а так же серьезное отношение к безопасности. именно этим навыкам учатся ребята на \"фабрике процессов\". дети младших и средних классов проходят обучение в игровой форме, учащиеся старших классов и колледжей проходят фабрики, имитирующие реальное производство. на таких фабриках ребята могут составить реальное представление о работе на заводе и о выпускаемой продукции. также для ребят проводятся экскурсии по предприятиям.'"
      ]
     },
     "execution_count": 7,
     "metadata": {},
     "output_type": "execute_result"
    }
   ],
   "source": [
    "proj_descrs[10]"
   ]
  },
  {
   "cell_type": "code",
   "execution_count": 8,
   "metadata": {},
   "outputs": [],
   "source": [
    "from collections import defaultdict"
   ]
  },
  {
   "cell_type": "code",
   "execution_count": 9,
   "metadata": {},
   "outputs": [
    {
     "name": "stdout",
     "output_type": "stream",
     "text": [
      "другое: 2206\n",
      "просвещение и образование — новые форматы и темы: 1851\n",
      "зож: профилактика, а не лечение: 570\n",
      "семья: сохранение традиций и ценностей: 533\n",
      "искусственный интеллект и современные технологии на службе обществу: 523\n",
      "75-я годовщина со дня победы в великой отечественной войне: 308\n",
      "правовая защита граждан и предпринимателей: 216\n",
      "проекты в области науки: 159\n",
      "внутренний туризм: новые формы, новые маршруты: 157\n",
      "культурно-историческое наследие россии: 82\n"
     ]
    }
   ],
   "source": [
    "types_dict = defaultdict(int)\n",
    "for proj_type in (proj_types):\n",
    "    types_dict[proj_type] += 1\n",
    "    \n",
    "for key, value in sorted(types_dict.items(), key=lambda item: item[1], reverse = True):\n",
    "    print(\"%s: %s\" % (key, value))"
   ]
  },
  {
   "cell_type": "code",
   "execution_count": 10,
   "metadata": {},
   "outputs": [],
   "source": [
    "topic = 'просвещение и образование — новые форматы и темы'"
   ]
  },
  {
   "cell_type": "code",
   "execution_count": 11,
   "metadata": {},
   "outputs": [],
   "source": [
    "names, descrs = [], []\n",
    "for i in range( len(proj_names) ):\n",
    "    if proj_types[i] == topic:\n",
    "        names.append( proj_names[i] )\n",
    "        descrs.append( proj_descrs[i] )"
   ]
  },
  {
   "cell_type": "code",
   "execution_count": 12,
   "metadata": {},
   "outputs": [
    {
     "data": {
      "text/plain": [
       "1851"
      ]
     },
     "execution_count": 12,
     "metadata": {},
     "output_type": "execute_result"
    }
   ],
   "source": [
    "len(names)"
   ]
  },
  {
   "cell_type": "code",
   "execution_count": 13,
   "metadata": {},
   "outputs": [
    {
     "data": {
      "text/plain": [
       "'реализовать проект который простым и доступным языком будет рассказывать о сложном мире финансов для несовершеннолетних подростков попавших в непростую жизненную ситуацию'"
      ]
     },
     "execution_count": 13,
     "metadata": {},
     "output_type": "execute_result"
    }
   ],
   "source": [
    "names[21]"
   ]
  },
  {
   "cell_type": "code",
   "execution_count": 14,
   "metadata": {},
   "outputs": [
    {
     "data": {
      "text/plain": [
       "'а ты сохранился?!большинство людей  с удивлением открывают для себя, что основная доля несчастных случаев, происходящих с детьми от 0 до 19 лет, предотвратима. в своей работе «всемирный доклад о профилактике детского травматизма» воз сообщает: «ежедневно во всем мире жизнь более 2000 семей омрачается из-за гибели ребенка по причине неумышленной травмы или так называемого «несчастного случая», которые можно было бы предотвратить. неизмеримо горе этих семей – матерей, отцов, братьев и сестер, бабушек и дедушек, – как и друзей погибших, и часто оно оказывает влияние на все сообщество. такая трагедия может бесповоротно изменить жизнь многих людей». результаты статистических исследований в рф не позволяют сформировать картину, отражающую действительность. данные о детском и подростковом травматизме, предоставляемые росстатом, отрывочны и неполны. больше всего информации имеется о несчастных случаях, произошедших с детьми в возрасте до 1-ого года, а по более взрослым детям и подросткам статистическая база фактически отсутствует. вместе с тем, на основе анализа 2-ух докладов воз («всемирный доклад о профилактике детского травматизма» от 2008 года и «доклад о профилактике детского травматизма в европе» от 2009 г.), с учетом предложенной в них \"клинической пирамидой детского травматизма\" и \"процента неумышленных травм на 100 000 детей\", в том числе в россии, и данных росстата по количеству детей от 0 до 19 лет, можно  сделать вывод, что в нашей стране имеется следующая печальная статистика.                                                                                                                            кол-во случаев                                                         кол-во                   кол-во при 30               травматизма                                                         согласно               несчастных случаев    пропорционально                                                         пирамиде             согласно докладу         кол-ву детей в странесмертность                                 1                      30                            9866госпитализация                        129                      3870                            117987пункты неотложной помощи        1635              49050                    1635000обращения к врачам общей ?                      ?                             ?практики и самолечениеитого                                          1765              52950                    более                                                                                                                             1762853усредненные статистические данные по обращению к врачам общей практики и самолечению отсутствуют.таким образом, проблема детского травматизма, в том числе со смертельным исходом, угрожает, с одной стороны, демографической ситуации (смертность в стране выше уровня рождаемости) и снижению ожидаемой продолжительности жизни всего населения страны, с другой, способствует распространению среди населения необдуманного отношения к своему здоровью и здоровью близких людей, формированию слабой культуры безопасности, что опять же негативно влияет на демографию. основной причиной инициации проекта является недостаточная или неэффективная система подготовки детей, их родителей и сотрудников детских учебных заведений в области понимания природы опасностей, их обнаружения и разработки мер превентивного контроля. заинтересованные стороны:дети от 0 до 19 лет, их родители, работники учебных заведений, волонтерские организации, лидеры россиицели проекта: организовать обучение безопасности не менее чем в 3 учебных заведениях для развития у детей, их родителей и сотрудников детских учебных заведений понимания природы опасностей, характера рисков и методов их снижения. содержание проекта: 1.разработка методических материалов с учетом зарубежного опыта в области формирования культуры безопасности среди детей, их родителей и сотрудников;2.проведение бесплатных мастер-классов в 3 учебных заведениях для младших классов (до 4 включительно), их родителей и преподавательского состава;3.получение обратной связи от указанных групп населения о необходимости такого вида подготовки.результаты проекта: 1.3 разработанные взаимосвязанные программы обучения;2.проведение мастер-классов не менее чем в 3 учебных заведениях по всем 3 программам;3.консолидация обратной связи по результатам мастер-классов.ограничения проекта:- сроки реализации;- слабая сеть заинтересованных специалистов в регионах и городах, что сужает локализацию проекта до московской области;- финансовые.допущения проекта:- к проекту присоединятся лидеры россии из городов московской области и других регионов страны, чтобы расширить географию проекта;-проявление заинтересованности руководителями учебных заведений в муниципалитетах региона.'"
      ]
     },
     "execution_count": 14,
     "metadata": {},
     "output_type": "execute_result"
    }
   ],
   "source": [
    "descrs[22]"
   ]
  },
  {
   "cell_type": "code",
   "execution_count": 15,
   "metadata": {},
   "outputs": [],
   "source": [
    "# process text\n",
    "for i in range( len(names) ):\n",
    "    # lowcase, no , - : ; ( ) \" ' « » and .\n",
    "    #line = names[i].lower()\n",
    "    line = names[i]\n",
    "    line = re.sub(r'[\\,\\-\\:\\;\\(\\)\\\"\\«\\»\\.\\!\\\\\\/]', ' ', line)\n",
    "    line = re.sub(r\"\\'\", ' ', line)\n",
    "    # change all ... to space\n",
    "    line = re.sub(r'\\.+', ' ', line)\n",
    "    # no doublespace\n",
    "    line = re.sub(r' +', ' ', line)\n",
    "    # no space after .\n",
    "    #line = re.sub(r'\\. ', '.', line)\n",
    "    names[i] = line.strip()\n",
    "    \n",
    "    # lowcase, no , - : ; ( ) \" ' « » keep .\n",
    "    #line = descrs[i].lower()\n",
    "    line = descrs[i]\n",
    "    line = re.sub(r'[\\,\\-\\:\\;\\(\\)\\\"\\«\\»\\\\\\/]', ' ', line)\n",
    "    line = re.sub(r\"\\'\", ' ', line)\n",
    "    # change all ... to .\n",
    "    line = re.sub(r'\\.+', '.', line)\n",
    "    # ! > .\n",
    "    line = re.sub(r'\\!', \".\", line)\n",
    "    # no doublespace\n",
    "    line = re.sub(r' +', ' ', line)\n",
    "    # no space after .\n",
    "    line = re.sub(r'\\. ', '.', line)\n",
    "    # change all ... to .\n",
    "    line = re.sub(r'\\.+', '.', line)\n",
    "    descrs[i] = line.strip()\n",
    "    \n"
   ]
  },
  {
   "cell_type": "code",
   "execution_count": 16,
   "metadata": {},
   "outputs": [
    {
     "data": {
      "text/plain": [
       "'на базе районного клуба культуры организовать курсы и индивидуальные занятия по использованию современных цифровых технологий для пожилых людей'"
      ]
     },
     "execution_count": 16,
     "metadata": {},
     "output_type": "execute_result"
    }
   ],
   "source": [
    "names[0]"
   ]
  },
  {
   "cell_type": "code",
   "execution_count": 17,
   "metadata": {},
   "outputs": [
    {
     "data": {
      "text/plain": [
       "'целью проекта является создание условий для социальной адаптации пожилых людей к использованию современных цифровых технологий улучшение качества их жизни.основные направления обучения получение государственных услуг в электронном виде социальные сети и мессенджеры для общения с близкими использование электронной почты поиск новостного и мультимедийного контента информационная безопасность правила поведения в сети интернет.обучение будет иметь в большей степени практический уклон.проект планируется осуществить на базе районных учреждений культуры.по словам сотрудников нашего районного клуба не все пожилые люди успешно воспринимают существующие курсы компьютерной грамотности им не хватает практических занятий и индивидуального подхода а также умений пользоваться другими гаджетами смартфонами планшетами современными телевизорами.часто требуется помощь по настройке устройств.руководство клуба известит пожилых людей района и соберет заявки желающих.планирую создать учебный план печатные материалы схемы и шпаргалки.всего планирую охватить от 4 до 12 учеников.'"
      ]
     },
     "execution_count": 17,
     "metadata": {},
     "output_type": "execute_result"
    }
   ],
   "source": [
    "descrs[0]"
   ]
  },
  {
   "cell_type": "markdown",
   "metadata": {},
   "source": [
    "### Пробуем просто все предложения данной тематике собрать в кучу"
   ]
  },
  {
   "cell_type": "code",
   "execution_count": 18,
   "metadata": {},
   "outputs": [],
   "source": [
    "all_sents = []\n",
    "max_slen = 0\n",
    "for i in range(len(descrs)):\n",
    "    sents = descrs[i].split('.')\n",
    "    for j in range(len(sents)):\n",
    "        sents[j] = sents[j].strip()\n",
    "        slen = len(sents[j])\n",
    "        if slen > 0:\n",
    "            all_sents.append(sents[j])"
   ]
  },
  {
   "cell_type": "code",
   "execution_count": 19,
   "metadata": {},
   "outputs": [
    {
     "data": {
      "text/plain": [
       "31148"
      ]
     },
     "execution_count": 19,
     "metadata": {},
     "output_type": "execute_result"
    }
   ],
   "source": [
    "len(all_sents)"
   ]
  },
  {
   "cell_type": "code",
   "execution_count": 20,
   "metadata": {},
   "outputs": [
    {
     "data": {
      "text/plain": [
       "'основные направления обучения получение государственных услуг в электронном виде социальные сети и мессенджеры для общения с близкими использование электронной почты поиск новостного и мультимедийного контента информационная безопасность правила поведения в сети интернет'"
      ]
     },
     "execution_count": 20,
     "metadata": {},
     "output_type": "execute_result"
    }
   ],
   "source": [
    "all_sents[1]"
   ]
  },
  {
   "cell_type": "code",
   "execution_count": 21,
   "metadata": {},
   "outputs": [
    {
     "data": {
      "text/plain": [
       "44944"
      ]
     },
     "execution_count": 21,
     "metadata": {},
     "output_type": "execute_result"
    }
   ],
   "source": [
    "text = ' '.join(all_sents)\n",
    "text = re.sub(r'  ', ' ', text)  # убрать двойные пробелы\n",
    "ALL_WORDS = set(text.strip().split(' '))\n",
    "len(ALL_WORDS)"
   ]
  },
  {
   "cell_type": "code",
   "execution_count": 22,
   "metadata": {},
   "outputs": [
    {
     "data": {
      "text/plain": [
       "[('и', 21757),\n",
       " ('в', 18684),\n",
       " ('на', 7540),\n",
       " ('с', 6533),\n",
       " ('для', 5371),\n",
       " ('по', 4117),\n",
       " ('не', 3524),\n",
       " ('проекта', 3413),\n",
       " ('к', 3142),\n",
       " ('как', 2422)]"
      ]
     },
     "execution_count": 22,
     "metadata": {},
     "output_type": "execute_result"
    }
   ],
   "source": [
    "c = Counter(text.split(' '))\n",
    "c.most_common(10)"
   ]
  },
  {
   "cell_type": "code",
   "execution_count": 23,
   "metadata": {},
   "outputs": [],
   "source": [
    "# # удаляем слова с числом повторений меньше 10\n",
    "# todelete = set()\n",
    "# for i, n in c.items():\n",
    "#     if n < 10:\n",
    "#         todelete.add(i)\n",
    "        \n",
    "# for i in todelete:\n",
    "#     del c[i]"
   ]
  },
  {
   "cell_type": "code",
   "execution_count": 24,
   "metadata": {},
   "outputs": [
    {
     "data": {
      "text/plain": [
       "44944"
      ]
     },
     "execution_count": 24,
     "metadata": {},
     "output_type": "execute_result"
    }
   ],
   "source": [
    "len(c.keys())"
   ]
  },
  {
   "cell_type": "code",
   "execution_count": 25,
   "metadata": {},
   "outputs": [
    {
     "data": {
      "text/plain": [
       "6002"
      ]
     },
     "execution_count": 25,
     "metadata": {},
     "output_type": "execute_result"
    }
   ],
   "source": [
    "WORDS_COUNT = 6000\n",
    "ALL_WORDS = set([w for w, _ in c.most_common(WORDS_COUNT)])\n",
    "INDEX_TO_WORD = ['<pad>', '<miss>'] + list(ALL_WORDS)\n",
    "len(INDEX_TO_WORD)"
   ]
  },
  {
   "cell_type": "code",
   "execution_count": 26,
   "metadata": {},
   "outputs": [
    {
     "data": {
      "text/plain": [
       "['<pad>',\n",
       " '<miss>',\n",
       " 'определенным',\n",
       " 'коммерческие',\n",
       " 'письма',\n",
       " 'работе',\n",
       " 'ассоциация',\n",
       " 'тенденция',\n",
       " 'силами',\n",
       " 'кем']"
      ]
     },
     "execution_count": 26,
     "metadata": {},
     "output_type": "execute_result"
    }
   ],
   "source": [
    "WORD_TO_INDEX = {w: i for i, w in enumerate(INDEX_TO_WORD)}\n",
    "INDEX_TO_WORD[:10]"
   ]
  },
  {
   "cell_type": "code",
   "execution_count": 27,
   "metadata": {},
   "outputs": [],
   "source": [
    "%matplotlib inline\n",
    "import matplotlib.pyplot as plt"
   ]
  },
  {
   "cell_type": "code",
   "execution_count": 28,
   "metadata": {},
   "outputs": [
    {
     "data": {
      "text/plain": [
       "(array([7.703e+03, 6.894e+03, 6.249e+03, 4.393e+03, 2.440e+03, 1.389e+03,\n",
       "        8.020e+02, 4.390e+02, 2.600e+02, 1.740e+02, 1.090e+02, 6.600e+01,\n",
       "        5.200e+01, 3.800e+01, 2.600e+01, 2.400e+01, 1.500e+01, 6.000e+00,\n",
       "        5.000e+00, 1.700e+01, 9.000e+00, 6.000e+00, 6.000e+00, 2.000e+00,\n",
       "        4.000e+00, 3.000e+00, 5.000e+00, 1.000e+00, 2.000e+00, 0.000e+00,\n",
       "        1.000e+00, 0.000e+00, 2.000e+00, 0.000e+00, 1.000e+00, 1.000e+00,\n",
       "        1.000e+00, 0.000e+00, 0.000e+00, 0.000e+00, 0.000e+00, 0.000e+00,\n",
       "        0.000e+00, 0.000e+00, 1.000e+00, 1.000e+00, 0.000e+00, 0.000e+00,\n",
       "        0.000e+00, 1.000e+00]),\n",
       " array([  1.  ,   6.98,  12.96,  18.94,  24.92,  30.9 ,  36.88,  42.86,\n",
       "         48.84,  54.82,  60.8 ,  66.78,  72.76,  78.74,  84.72,  90.7 ,\n",
       "         96.68, 102.66, 108.64, 114.62, 120.6 , 126.58, 132.56, 138.54,\n",
       "        144.52, 150.5 , 156.48, 162.46, 168.44, 174.42, 180.4 , 186.38,\n",
       "        192.36, 198.34, 204.32, 210.3 , 216.28, 222.26, 228.24, 234.22,\n",
       "        240.2 , 246.18, 252.16, 258.14, 264.12, 270.1 , 276.08, 282.06,\n",
       "        288.04, 294.02, 300.  ]),\n",
       " <a list of 50 Patch objects>)"
      ]
     },
     "execution_count": 28,
     "metadata": {},
     "output_type": "execute_result"
    },
    {
     "data": {
      "image/png": "[encoded data removed]",
      "text/plain": [
       "<Figure size 432x288 with 1 Axes>"
      ]
     },
     "metadata": {
      "needs_background": "light"
     },
     "output_type": "display_data"
    }
   ],
   "source": [
    "# распреление длины слов в предложении\n",
    "plt.hist([len(s.split(' ')) for s in all_sents], bins=50)"
   ]
  },
  {
   "cell_type": "code",
   "execution_count": 29,
   "metadata": {},
   "outputs": [],
   "source": [
    "MAX_LEN = 30"
   ]
  },
  {
   "cell_type": "code",
   "execution_count": 30,
   "metadata": {},
   "outputs": [
    {
     "name": "stderr",
     "output_type": "stream",
     "text": [
      "100%|██████████| 31148/31148 [00:02<00:00, 13067.87it/s]\n"
     ]
    }
   ],
   "source": [
    "X = torch.zeros((len(all_sents), MAX_LEN), dtype=int)\n",
    "# готовим матрицу - строка - предложение, столбец - индекс слова в этой позиции\n",
    "for i in tqdm(range(len(all_sents))):\n",
    "    for j, w in enumerate(all_sents[i].split(' ')):\n",
    "        if j >= MAX_LEN:\n",
    "            break\n",
    "        X[i, j] = WORD_TO_INDEX.get(w, WORD_TO_INDEX['<miss>'])\n",
    "        \n",
    "X = X.to(dev)"
   ]
  },
  {
   "cell_type": "code",
   "execution_count": 31,
   "metadata": {},
   "outputs": [
    {
     "data": {
      "text/plain": [
       "tensor([[2211, 2826,  692, 3840, 2230, 4349, 2426, 4750, 2234, 5195,   57, 4411,\n",
       "          622, 5447, 2379, 3151, 3868, 5142, 3643,    0,    0,    0,    0,    0,\n",
       "            0,    0,    0,    0,    0,    0]], device='cuda:0')"
      ]
     },
     "execution_count": 31,
     "metadata": {},
     "output_type": "execute_result"
    }
   ],
   "source": [
    "X[0:1]"
   ]
  },
  {
   "cell_type": "code",
   "execution_count": 32,
   "metadata": {},
   "outputs": [
    {
     "data": {
      "text/plain": [
       "torch.Size([31148, 30])"
      ]
     },
     "execution_count": 32,
     "metadata": {},
     "output_type": "execute_result"
    }
   ],
   "source": [
    "X.shape"
   ]
  },
  {
   "cell_type": "code",
   "execution_count": 52,
   "metadata": {},
   "outputs": [],
   "source": [
    "class Network(torch.nn.Module):\n",
    "\n",
    "    def __init__(self, dev):\n",
    "        super(Network, self).__init__()\n",
    "        self.dev = dev\n",
    "        self.word_embeddings = torch.nn.Embedding(len(INDEX_TO_WORD), 400).to(self.dev)\n",
    "        #self.gru = torch.nn.RNN(200, 128, num_layers = 2, nonlinearity = 'relu', batch_first=True).to(self.dev)\n",
    "        #self.gru = torch.nn.GRU(200, 128, num_layers = 2, batch_first=True).to(self.dev)\n",
    "        self.gru = torch.nn.GRU(400, 256, num_layers = 2, batch_first=True).to(self.dev)\n",
    "        self.hidden2tag = torch.nn.Linear(256, len(INDEX_TO_WORD)).to(self.dev)\n",
    "\n",
    "    def forward(self, sentences):\n",
    "        embeds = self.word_embeddings(sentences)\n",
    "        gru_out, state = self.gru(embeds)\n",
    "        tag_space = self.hidden2tag(gru_out.reshape(-1, 256))\n",
    "        return tag_space.reshape(sentences.shape[0], sentences.shape[1], -1), state\n",
    "    \n",
    "    def forward_state(self, sentences, state):\n",
    "        embeds = self.word_embeddings(sentences)\n",
    "        gru_out, state = self.gru(embeds, state)\n",
    "        tag_space = self.hidden2tag(gru_out.reshape(-1, 256))\n",
    "        return tag_space.reshape(sentences.shape[0], sentences.shape[1], -1), state"
   ]
  },
  {
   "cell_type": "code",
   "execution_count": 53,
   "metadata": {},
   "outputs": [
    {
     "data": {
      "text/plain": [
       "torch.Size([1, 30, 6002])"
      ]
     },
     "execution_count": 53,
     "metadata": {},
     "output_type": "execute_result"
    }
   ],
   "source": [
    "model = Network(dev)\n",
    "model.forward(X[0:1])[0].shape"
   ]
  },
  {
   "cell_type": "code",
   "execution_count": 54,
   "metadata": {},
   "outputs": [],
   "source": [
    "def generate_sentence(line):\n",
    "    sentence = line.split(' ')\n",
    "    #sentence = ['к', 'а', 'к', ' ', 'р', 'а', 'н', 'о',' ']\n",
    "    state = None\n",
    "    for i in range(MAX_LEN):\n",
    "        #X = torch.Tensor([[WORD_TO_INDEX[sentence[i]]]]).type(torch.long)\n",
    "        X = torch.Tensor([[WORD_TO_INDEX.get(sentence[i],WORD_TO_INDEX['<miss>'])]]).type(torch.long)\n",
    "        #get(w, WORD_TO_INDEX['<miss>']\n",
    "        X = X.to(dev)\n",
    "        if i == 0:\n",
    "            result, state = model.forward(X)\n",
    "        else:\n",
    "            result, state = model.forward_state(X, state)\n",
    "        prediction = result[0, -1, :]\n",
    "        index_of_prediction = prediction.argmax()\n",
    "        if i >= len(sentence) - 1:\n",
    "            if index_of_prediction == 0:\n",
    "                break\n",
    "        sentence.append(INDEX_TO_WORD[index_of_prediction])\n",
    "        \n",
    "    line = ' '.join(sentence)\n",
    "    line = re.sub(r'none.*$', '', line)\n",
    "    print(line)"
   ]
  },
  {
   "cell_type": "code",
   "execution_count": 55,
   "metadata": {},
   "outputs": [
    {
     "name": "stdout",
     "output_type": "stream",
     "text": [
      "проект направлен 100 чел чел доходов формирование страна страна очных расскажут подростку воспитанникам минимальный минимальный предупреждения государства государства сентября могут считается налоговые вперед как обсуждать обсуждать индивидуальную индивидуальную опасных году занятиями занятиями\n"
     ]
    }
   ],
   "source": [
    "generate_sentence('проект направлен')"
   ]
  },
  {
   "cell_type": "code",
   "execution_count": 76,
   "metadata": {},
   "outputs": [],
   "source": [
    "lrate = .1\n",
    "\n",
    "criterion = torch.nn.CrossEntropyLoss()\n",
    "optimizer = torch.optim.SGD(model.parameters(), lr=lrate)\n",
    "#optimizer = torch.optim.Adam(model.parameters(), lr=lrate)"
   ]
  },
  {
   "cell_type": "code",
   "execution_count": 77,
   "metadata": {
    "collapsed": true,
    "jupyter": {
     "outputs_hidden": true
    }
   },
   "outputs": [
    {
     "name": "stdout",
     "output_type": "stream",
     "text": [
      "Epoch 0. Time: 2.992, Train loss: 3.349\n",
      "Epoch 1. Time: 2.949, Train loss: 2.835\n",
      "Epoch 2. Time: 2.956, Train loss: 2.699\n",
      "Epoch 3. Time: 2.963, Train loss: 2.617\n",
      "Epoch 4. Time: 2.965, Train loss: 2.564\n",
      "Epoch 5. Time: 2.986, Train loss: 2.525\n",
      "Epoch 6. Time: 3.007, Train loss: 2.495\n",
      "Epoch 7. Time: 3.023, Train loss: 2.470\n",
      "Epoch 8. Time: 3.038, Train loss: 2.449\n",
      "Epoch 9. Time: 3.046, Train loss: 2.431\n",
      "Epoch 10. Time: 3.059, Train loss: 2.415\n",
      "Epoch 11. Time: 3.074, Train loss: 2.401\n",
      "Epoch 12. Time: 3.082, Train loss: 2.388\n",
      "Epoch 13. Time: 3.097, Train loss: 2.377\n",
      "Epoch 14. Time: 3.094, Train loss: 2.366\n",
      "Epoch 15. Time: 3.102, Train loss: 2.356\n",
      "Epoch 16. Time: 3.111, Train loss: 2.346\n",
      "Epoch 17. Time: 3.121, Train loss: 2.338\n",
      "Epoch 18. Time: 3.127, Train loss: 2.329\n",
      "Epoch 19. Time: 3.133, Train loss: 2.321\n",
      "Epoch 20. Time: 3.132, Train loss: 2.314\n",
      "Epoch 21. Time: 3.138, Train loss: 2.307\n",
      "Epoch 22. Time: 3.142, Train loss: 2.300\n",
      "Epoch 23. Time: 3.151, Train loss: 2.293\n",
      "Epoch 24. Time: 3.144, Train loss: 2.287\n",
      "Epoch 25. Time: 3.154, Train loss: 2.281\n",
      "Epoch 26. Time: 3.154, Train loss: 2.275\n",
      "Epoch 27. Time: 3.151, Train loss: 2.270\n",
      "Epoch 28. Time: 3.156, Train loss: 2.265\n",
      "Epoch 29. Time: 3.149, Train loss: 2.260\n",
      "Epoch 30. Time: 3.159, Train loss: 2.256\n",
      "Epoch 31. Time: 3.159, Train loss: 2.249\n",
      "Epoch 32. Time: 3.178, Train loss: 2.245\n",
      "Epoch 33. Time: 3.163, Train loss: 2.240\n",
      "Epoch 34. Time: 3.165, Train loss: 2.236\n",
      "Epoch 35. Time: 3.170, Train loss: 2.232\n",
      "Epoch 36. Time: 3.180, Train loss: 2.227\n",
      "Epoch 37. Time: 3.163, Train loss: 2.223\n",
      "Epoch 38. Time: 3.182, Train loss: 2.218\n",
      "Epoch 39. Time: 3.180, Train loss: 2.214\n",
      "Epoch 40. Time: 3.185, Train loss: 2.210\n",
      "Epoch 41. Time: 3.177, Train loss: 2.206\n",
      "Epoch 42. Time: 3.181, Train loss: 2.202\n",
      "Epoch 43. Time: 3.171, Train loss: 2.198\n",
      "Epoch 44. Time: 3.177, Train loss: 2.193\n",
      "Epoch 45. Time: 3.186, Train loss: 2.190\n",
      "Epoch 46. Time: 3.177, Train loss: 2.187\n",
      "Epoch 47. Time: 3.179, Train loss: 2.182\n",
      "Epoch 48. Time: 3.186, Train loss: 2.179\n",
      "Epoch 49. Time: 3.161, Train loss: 2.176\n",
      "Epoch 50. Time: 3.180, Train loss: 2.172\n",
      "Epoch 51. Time: 3.187, Train loss: 2.169\n",
      "Epoch 52. Time: 3.187, Train loss: 2.164\n",
      "Epoch 53. Time: 3.185, Train loss: 2.161\n",
      "Epoch 54. Time: 3.185, Train loss: 2.157\n",
      "Epoch 55. Time: 3.188, Train loss: 2.154\n",
      "Epoch 56. Time: 3.195, Train loss: 2.151\n",
      "Epoch 57. Time: 3.176, Train loss: 2.149\n",
      "Epoch 58. Time: 3.194, Train loss: 2.144\n",
      "Epoch 59. Time: 3.181, Train loss: 2.140\n",
      "Epoch 60. Time: 3.189, Train loss: 2.139\n",
      "Epoch 61. Time: 3.182, Train loss: 2.135\n",
      "Epoch 62. Time: 3.193, Train loss: 2.131\n",
      "Epoch 63. Time: 3.183, Train loss: 2.129\n",
      "Epoch 64. Time: 3.182, Train loss: 2.124\n",
      "Epoch 65. Time: 3.196, Train loss: 2.121\n",
      "Epoch 66. Time: 3.185, Train loss: 2.118\n",
      "Epoch 67. Time: 3.195, Train loss: 2.116\n",
      "Epoch 68. Time: 3.177, Train loss: 2.112\n",
      "Epoch 69. Time: 3.186, Train loss: 2.111\n",
      "Epoch 70. Time: 3.186, Train loss: 2.105\n",
      "Epoch 71. Time: 3.189, Train loss: 2.105\n",
      "Epoch 72. Time: 3.190, Train loss: 2.100\n",
      "Epoch 73. Time: 3.189, Train loss: 2.097\n",
      "Epoch 74. Time: 3.189, Train loss: 2.094\n",
      "Epoch 75. Time: 3.186, Train loss: 2.092\n",
      "Epoch 76. Time: 3.195, Train loss: 2.090\n",
      "Epoch 77. Time: 3.194, Train loss: 2.085\n",
      "Epoch 78. Time: 3.195, Train loss: 2.084\n",
      "Epoch 79. Time: 3.194, Train loss: 2.080\n",
      "Epoch 80. Time: 3.192, Train loss: 2.077\n",
      "Epoch 81. Time: 3.194, Train loss: 2.074\n",
      "Epoch 82. Time: 3.197, Train loss: 2.071\n",
      "Epoch 83. Time: 3.194, Train loss: 2.070\n",
      "Epoch 84. Time: 3.188, Train loss: 2.065\n",
      "Epoch 85. Time: 3.183, Train loss: 2.064\n",
      "Epoch 86. Time: 3.188, Train loss: 2.061\n",
      "Epoch 87. Time: 3.194, Train loss: 2.058\n",
      "Epoch 88. Time: 3.197, Train loss: 2.053\n",
      "Epoch 89. Time: 3.185, Train loss: 2.053\n",
      "Epoch 90. Time: 3.176, Train loss: 2.050\n",
      "Epoch 91. Time: 3.188, Train loss: 2.047\n",
      "Epoch 92. Time: 3.196, Train loss: 2.042\n",
      "Epoch 93. Time: 3.190, Train loss: 2.043\n",
      "Epoch 94. Time: 3.193, Train loss: 2.038\n",
      "Epoch 95. Time: 3.193, Train loss: 2.037\n",
      "Epoch 96. Time: 3.185, Train loss: 2.034\n",
      "Epoch 97. Time: 3.198, Train loss: 2.031\n",
      "Epoch 98. Time: 3.193, Train loss: 2.028\n",
      "Epoch 99. Time: 3.195, Train loss: 2.027\n",
      "Epoch 100. Time: 3.189, Train loss: 2.021\n",
      "Epoch 101. Time: 3.184, Train loss: 2.020\n",
      "Epoch 102. Time: 3.200, Train loss: 2.018\n",
      "Epoch 103. Time: 3.192, Train loss: 2.017\n",
      "Epoch 104. Time: 3.199, Train loss: 2.014\n",
      "Epoch 105. Time: 3.189, Train loss: 2.010\n",
      "Epoch 106. Time: 3.200, Train loss: 2.010\n",
      "Epoch 107. Time: 3.184, Train loss: 2.004\n",
      "Epoch 108. Time: 3.194, Train loss: 2.002\n",
      "Epoch 109. Time: 3.187, Train loss: 2.001\n",
      "Epoch 110. Time: 3.187, Train loss: 1.999\n",
      "Epoch 111. Time: 3.195, Train loss: 1.995\n",
      "Epoch 112. Time: 3.188, Train loss: 1.991\n",
      "Epoch 113. Time: 3.189, Train loss: 1.990\n",
      "Epoch 114. Time: 3.199, Train loss: 1.987\n",
      "Epoch 115. Time: 3.183, Train loss: 1.987\n",
      "Epoch 116. Time: 3.192, Train loss: 1.982\n",
      "Epoch 117. Time: 3.186, Train loss: 1.982\n",
      "Epoch 118. Time: 3.199, Train loss: 1.981\n",
      "Epoch 119. Time: 3.192, Train loss: 1.974\n",
      "Epoch 120. Time: 3.199, Train loss: 1.973\n",
      "Epoch 121. Time: 3.191, Train loss: 1.971\n",
      "Epoch 122. Time: 3.198, Train loss: 1.969\n",
      "Epoch 123. Time: 3.204, Train loss: 1.967\n",
      "Epoch 124. Time: 3.199, Train loss: 1.962\n",
      "Epoch 125. Time: 3.191, Train loss: 1.963\n",
      "Epoch 126. Time: 3.210, Train loss: 1.958\n",
      "Epoch 127. Time: 3.200, Train loss: 1.958\n",
      "Epoch 128. Time: 3.193, Train loss: 1.956\n",
      "Epoch 129. Time: 3.193, Train loss: 1.953\n",
      "Epoch 130. Time: 3.192, Train loss: 1.949\n",
      "Epoch 131. Time: 3.197, Train loss: 1.947\n",
      "Epoch 132. Time: 3.196, Train loss: 1.947\n",
      "Epoch 133. Time: 3.191, Train loss: 1.946\n",
      "Epoch 134. Time: 3.193, Train loss: 1.942\n",
      "Epoch 135. Time: 3.198, Train loss: 1.938\n",
      "Epoch 136. Time: 3.193, Train loss: 1.936\n",
      "Epoch 137. Time: 3.186, Train loss: 1.933\n",
      "Epoch 138. Time: 3.203, Train loss: 1.933\n",
      "Epoch 139. Time: 3.191, Train loss: 1.930\n",
      "Epoch 140. Time: 3.195, Train loss: 1.927\n",
      "Epoch 141. Time: 3.183, Train loss: 1.927\n",
      "Epoch 142. Time: 3.197, Train loss: 1.923\n",
      "Epoch 143. Time: 3.199, Train loss: 1.919\n",
      "Epoch 144. Time: 3.182, Train loss: 1.920\n",
      "Epoch 145. Time: 3.208, Train loss: 1.920\n",
      "Epoch 146. Time: 3.192, Train loss: 1.912\n",
      "Epoch 147. Time: 3.205, Train loss: 1.911\n",
      "Epoch 148. Time: 3.191, Train loss: 1.911\n",
      "Epoch 149. Time: 3.193, Train loss: 1.906\n",
      "Epoch 150. Time: 3.198, Train loss: 1.906\n",
      "Epoch 151. Time: 3.202, Train loss: 1.908\n",
      "Epoch 152. Time: 3.201, Train loss: 1.904\n",
      "Epoch 153. Time: 3.203, Train loss: 1.902\n",
      "Epoch 154. Time: 3.207, Train loss: 1.895\n",
      "Epoch 155. Time: 3.200, Train loss: 1.896\n",
      "Epoch 156. Time: 3.210, Train loss: 1.893\n",
      "Epoch 157. Time: 3.196, Train loss: 1.889\n",
      "Epoch 158. Time: 3.196, Train loss: 1.888\n",
      "Epoch 159. Time: 3.203, Train loss: 1.890\n",
      "Epoch 160. Time: 3.197, Train loss: 1.887\n",
      "Epoch 161. Time: 3.206, Train loss: 1.882\n",
      "Epoch 162. Time: 3.196, Train loss: 1.883\n",
      "Epoch 163. Time: 3.201, Train loss: 1.882\n",
      "Epoch 164. Time: 3.185, Train loss: 1.878\n",
      "Epoch 165. Time: 3.196, Train loss: 1.875\n",
      "Epoch 166. Time: 3.193, Train loss: 1.876\n",
      "Epoch 167. Time: 3.197, Train loss: 1.874\n",
      "Epoch 168. Time: 3.195, Train loss: 1.872\n",
      "Epoch 169. Time: 3.196, Train loss: 1.867\n",
      "Epoch 170. Time: 3.183, Train loss: 1.865\n",
      "Epoch 171. Time: 3.202, Train loss: 1.867\n",
      "Epoch 172. Time: 3.200, Train loss: 1.861\n",
      "Epoch 173. Time: 3.192, Train loss: 1.863\n",
      "Epoch 174. Time: 3.198, Train loss: 1.855\n",
      "Epoch 175. Time: 3.203, Train loss: 1.856\n",
      "Epoch 176. Time: 3.188, Train loss: 1.852\n",
      "Epoch 177. Time: 3.194, Train loss: 1.851\n",
      "Epoch 178. Time: 3.198, Train loss: 1.851\n",
      "Epoch 179. Time: 3.202, Train loss: 1.849\n",
      "Epoch 180. Time: 3.193, Train loss: 1.851\n",
      "Epoch 181. Time: 3.215, Train loss: 1.846\n",
      "Epoch 182. Time: 3.194, Train loss: 1.842\n",
      "Epoch 183. Time: 3.206, Train loss: 1.841\n",
      "Epoch 184. Time: 3.195, Train loss: 1.838\n",
      "Epoch 185. Time: 3.206, Train loss: 1.840\n",
      "Epoch 186. Time: 3.199, Train loss: 1.838\n",
      "Epoch 187. Time: 3.199, Train loss: 1.836\n",
      "Epoch 188. Time: 3.209, Train loss: 1.829\n",
      "Epoch 189. Time: 3.203, Train loss: 1.834\n",
      "Epoch 190. Time: 3.201, Train loss: 1.828\n",
      "Epoch 191. Time: 3.201, Train loss: 1.829\n",
      "Epoch 192. Time: 3.209, Train loss: 1.827\n",
      "Epoch 193. Time: 3.199, Train loss: 1.829\n",
      "Epoch 194. Time: 3.197, Train loss: 1.824\n",
      "Epoch 195. Time: 3.201, Train loss: 1.817\n",
      "Epoch 196. Time: 3.198, Train loss: 1.817\n",
      "Epoch 197. Time: 3.211, Train loss: 1.817\n",
      "Epoch 198. Time: 3.201, Train loss: 1.815\n",
      "Epoch 199. Time: 3.206, Train loss: 1.814\n",
      "Epoch 200. Time: 3.207, Train loss: 1.814\n",
      "Epoch 201. Time: 3.199, Train loss: 1.809\n",
      "Epoch 202. Time: 3.203, Train loss: 1.810\n",
      "Epoch 203. Time: 3.199, Train loss: 1.807\n",
      "Epoch 204. Time: 3.199, Train loss: 1.800\n",
      "Epoch 205. Time: 3.203, Train loss: 1.803\n",
      "Epoch 206. Time: 3.194, Train loss: 1.801\n",
      "Epoch 207. Time: 3.204, Train loss: 1.804\n",
      "Epoch 208. Time: 3.199, Train loss: 1.799\n",
      "Epoch 209. Time: 3.197, Train loss: 1.797\n",
      "Epoch 210. Time: 3.209, Train loss: 1.794\n",
      "Epoch 211. Time: 3.192, Train loss: 1.793\n",
      "Epoch 212. Time: 3.200, Train loss: 1.792\n",
      "Epoch 213. Time: 3.201, Train loss: 1.790\n",
      "Epoch 214. Time: 3.201, Train loss: 1.788\n",
      "Epoch 215. Time: 3.212, Train loss: 1.783\n",
      "Epoch 216. Time: 3.199, Train loss: 1.784\n",
      "Epoch 217. Time: 3.203, Train loss: 1.782\n",
      "Epoch 218. Time: 3.199, Train loss: 1.781\n",
      "Epoch 219. Time: 3.198, Train loss: 1.784\n",
      "Epoch 220. Time: 3.196, Train loss: 1.779\n",
      "Epoch 221. Time: 3.200, Train loss: 1.777\n",
      "Epoch 222. Time: 3.198, Train loss: 1.771\n",
      "Epoch 223. Time: 3.204, Train loss: 1.779\n",
      "Epoch 224. Time: 3.198, Train loss: 1.778\n",
      "Epoch 225. Time: 3.201, Train loss: 1.773\n",
      "Epoch 226. Time: 3.192, Train loss: 1.765\n",
      "Epoch 227. Time: 3.196, Train loss: 1.762\n",
      "Epoch 228. Time: 3.203, Train loss: 1.770\n",
      "Epoch 229. Time: 3.203, Train loss: 1.765\n",
      "Epoch 230. Time: 3.202, Train loss: 1.766\n",
      "Epoch 231. Time: 3.199, Train loss: 1.768\n",
      "Epoch 232. Time: 3.195, Train loss: 1.758\n",
      "Epoch 233. Time: 3.198, Train loss: 1.755\n",
      "Epoch 234. Time: 3.194, Train loss: 1.757\n",
      "Epoch 235. Time: 3.204, Train loss: 1.756\n",
      "Epoch 236. Time: 3.195, Train loss: 1.758\n",
      "Epoch 237. Time: 3.201, Train loss: 1.756\n",
      "Epoch 238. Time: 3.200, Train loss: 1.753\n",
      "Epoch 239. Time: 3.202, Train loss: 1.752\n",
      "Epoch 240. Time: 3.203, Train loss: 1.746\n",
      "Epoch 241. Time: 3.205, Train loss: 1.743\n",
      "Epoch 242. Time: 3.192, Train loss: 1.743\n",
      "Epoch 243. Time: 3.208, Train loss: 1.745\n",
      "Epoch 244. Time: 3.199, Train loss: 1.746\n",
      "Epoch 245. Time: 3.202, Train loss: 1.741\n",
      "Epoch 246. Time: 3.199, Train loss: 1.744\n",
      "Epoch 247. Time: 3.199, Train loss: 1.741\n",
      "Epoch 248. Time: 3.203, Train loss: 1.736\n",
      "Epoch 249. Time: 3.207, Train loss: 1.736\n",
      "Epoch 250. Time: 3.202, Train loss: 1.736\n",
      "Epoch 251. Time: 3.204, Train loss: 1.732\n",
      "Epoch 252. Time: 3.200, Train loss: 1.732\n",
      "Epoch 253. Time: 3.192, Train loss: 1.731\n",
      "Epoch 254. Time: 3.201, Train loss: 1.726\n",
      "Epoch 255. Time: 3.196, Train loss: 1.733\n",
      "Epoch 256. Time: 3.201, Train loss: 1.732\n",
      "Epoch 257. Time: 3.201, Train loss: 1.722\n",
      "Epoch 258. Time: 3.205, Train loss: 1.723\n",
      "Epoch 259. Time: 3.202, Train loss: 1.727\n",
      "Epoch 260. Time: 3.205, Train loss: 1.721\n",
      "Epoch 261. Time: 3.192, Train loss: 1.723\n",
      "Epoch 262. Time: 3.200, Train loss: 1.717\n",
      "Epoch 263. Time: 3.196, Train loss: 1.710\n",
      "Epoch 264. Time: 3.203, Train loss: 1.716\n",
      "Epoch 265. Time: 3.200, Train loss: 1.724\n",
      "Epoch 266. Time: 3.193, Train loss: 1.719\n",
      "Epoch 267. Time: 3.205, Train loss: 1.713\n",
      "Epoch 268. Time: 3.200, Train loss: 1.707\n",
      "Epoch 269. Time: 3.198, Train loss: 1.705\n",
      "Epoch 270. Time: 3.209, Train loss: 1.711\n",
      "Epoch 271. Time: 3.201, Train loss: 1.705\n",
      "Epoch 272. Time: 3.207, Train loss: 1.706\n",
      "Epoch 273. Time: 3.213, Train loss: 1.705\n",
      "Epoch 274. Time: 3.205, Train loss: 1.702\n",
      "Epoch 275. Time: 3.202, Train loss: 1.697\n",
      "Epoch 276. Time: 3.203, Train loss: 1.703\n",
      "Epoch 277. Time: 3.204, Train loss: 1.700\n",
      "Epoch 278. Time: 3.210, Train loss: 1.700\n",
      "Epoch 279. Time: 3.197, Train loss: 1.694\n",
      "Epoch 280. Time: 3.204, Train loss: 1.699\n",
      "Epoch 281. Time: 3.204, Train loss: 1.701\n",
      "Epoch 282. Time: 3.198, Train loss: 1.692\n",
      "Epoch 283. Time: 3.211, Train loss: 1.693\n",
      "Epoch 284. Time: 3.194, Train loss: 1.690\n",
      "Epoch 285. Time: 3.204, Train loss: 1.693\n",
      "Epoch 286. Time: 3.197, Train loss: 1.693\n",
      "Epoch 287. Time: 3.202, Train loss: 1.687\n",
      "Epoch 288. Time: 3.196, Train loss: 1.680\n",
      "Epoch 289. Time: 3.204, Train loss: 1.681\n",
      "Epoch 290. Time: 3.196, Train loss: 1.678\n",
      "Epoch 291. Time: 3.200, Train loss: 1.679\n",
      "Epoch 292. Time: 3.191, Train loss: 1.683\n",
      "Epoch 293. Time: 3.205, Train loss: 1.685\n",
      "Epoch 294. Time: 3.193, Train loss: 1.685\n",
      "Epoch 295. Time: 3.194, Train loss: 1.694\n",
      "Epoch 296. Time: 3.181, Train loss: 1.688\n",
      "Epoch 297. Time: 3.206, Train loss: 1.671\n",
      "Epoch 298. Time: 3.191, Train loss: 1.666\n",
      "Epoch 299. Time: 3.202, Train loss: 1.672\n",
      "Epoch 300. Time: 3.195, Train loss: 1.676\n",
      "Epoch 301. Time: 3.199, Train loss: 1.674\n",
      "Epoch 302. Time: 3.189, Train loss: 1.675\n",
      "Epoch 303. Time: 3.203, Train loss: 1.670\n",
      "Epoch 304. Time: 3.203, Train loss: 1.662\n",
      "Epoch 305. Time: 3.200, Train loss: 1.659\n",
      "Epoch 306. Time: 3.207, Train loss: 1.670\n",
      "Epoch 307. Time: 3.191, Train loss: 1.665\n",
      "Epoch 308. Time: 3.200, Train loss: 1.664\n",
      "Epoch 309. Time: 3.195, Train loss: 1.659\n",
      "Epoch 310. Time: 3.198, Train loss: 1.657\n",
      "Epoch 311. Time: 3.190, Train loss: 1.647\n",
      "Epoch 312. Time: 3.183, Train loss: 1.654\n",
      "Epoch 313. Time: 3.204, Train loss: 1.662\n",
      "Epoch 314. Time: 3.200, Train loss: 1.660\n",
      "Epoch 315. Time: 3.203, Train loss: 1.651\n",
      "Epoch 316. Time: 3.194, Train loss: 1.648\n",
      "Epoch 317. Time: 3.188, Train loss: 1.645\n",
      "Epoch 318. Time: 3.206, Train loss: 1.656\n",
      "Epoch 319. Time: 3.202, Train loss: 1.656\n",
      "Epoch 320. Time: 3.201, Train loss: 1.649\n",
      "Epoch 321. Time: 3.204, Train loss: 1.648\n",
      "Epoch 322. Time: 3.204, Train loss: 1.645\n",
      "Epoch 323. Time: 3.200, Train loss: 1.651\n",
      "Epoch 324. Time: 3.203, Train loss: 1.648\n",
      "Epoch 325. Time: 3.193, Train loss: 1.646\n",
      "Epoch 326. Time: 3.195, Train loss: 1.644\n",
      "Epoch 327. Time: 3.205, Train loss: 1.636\n",
      "Epoch 328. Time: 3.214, Train loss: 1.642\n",
      "Epoch 329. Time: 3.197, Train loss: 1.642\n",
      "Epoch 330. Time: 3.214, Train loss: 1.637\n",
      "Epoch 331. Time: 3.191, Train loss: 1.635\n",
      "Epoch 332. Time: 3.194, Train loss: 1.631\n",
      "Epoch 333. Time: 3.195, Train loss: 1.630\n",
      "Epoch 334. Time: 3.197, Train loss: 1.628\n",
      "Epoch 335. Time: 3.200, Train loss: 1.638\n",
      "Epoch 336. Time: 3.202, Train loss: 1.634\n",
      "Epoch 337. Time: 3.216, Train loss: 1.631\n",
      "Epoch 338. Time: 3.189, Train loss: 1.627\n",
      "Epoch 339. Time: 3.211, Train loss: 1.629\n",
      "Epoch 340. Time: 3.199, Train loss: 1.627\n",
      "Epoch 341. Time: 3.209, Train loss: 1.625\n",
      "Epoch 342. Time: 3.190, Train loss: 1.619\n",
      "Epoch 343. Time: 3.206, Train loss: 1.614\n",
      "Epoch 344. Time: 3.202, Train loss: 1.614\n",
      "Epoch 345. Time: 3.202, Train loss: 1.620\n",
      "Epoch 346. Time: 3.199, Train loss: 1.635\n",
      "Epoch 347. Time: 3.205, Train loss: 1.638\n",
      "Epoch 348. Time: 3.196, Train loss: 1.639\n",
      "Epoch 349. Time: 3.198, Train loss: 1.640\n",
      "Epoch 350. Time: 3.201, Train loss: 1.618\n",
      "Epoch 351. Time: 3.193, Train loss: 1.606\n",
      "Epoch 352. Time: 3.201, Train loss: 1.602\n",
      "Epoch 353. Time: 3.201, Train loss: 1.607\n",
      "Epoch 354. Time: 3.207, Train loss: 1.611\n",
      "Epoch 355. Time: 3.214, Train loss: 1.607\n",
      "Epoch 356. Time: 3.197, Train loss: 1.644\n",
      "Epoch 357. Time: 3.205, Train loss: 1.639\n",
      "Epoch 358. Time: 3.209, Train loss: 1.622\n",
      "Epoch 359. Time: 3.199, Train loss: 1.612\n",
      "Epoch 360. Time: 3.209, Train loss: 1.601\n",
      "Epoch 361. Time: 3.209, Train loss: 1.607\n",
      "Epoch 362. Time: 3.201, Train loss: 1.627\n",
      "Epoch 363. Time: 3.209, Train loss: 1.606\n",
      "Epoch 364. Time: 3.203, Train loss: 1.600\n",
      "Epoch 365. Time: 3.200, Train loss: 1.593\n",
      "Epoch 366. Time: 3.200, Train loss: 1.587\n",
      "Epoch 367. Time: 3.206, Train loss: 1.605\n",
      "Epoch 368. Time: 3.203, Train loss: 1.622\n",
      "Epoch 369. Time: 3.199, Train loss: 1.613\n",
      "Epoch 370. Time: 3.204, Train loss: 1.599\n",
      "Epoch 371. Time: 3.209, Train loss: 1.596\n",
      "Epoch 372. Time: 3.197, Train loss: 1.591\n",
      "Epoch 373. Time: 3.207, Train loss: 1.582\n",
      "Epoch 374. Time: 3.202, Train loss: 1.580\n",
      "Epoch 375. Time: 3.198, Train loss: 1.574\n",
      "Epoch 376. Time: 3.204, Train loss: 1.573\n",
      "Epoch 377. Time: 3.209, Train loss: 1.585\n",
      "Epoch 378. Time: 3.205, Train loss: 1.609\n",
      "Epoch 379. Time: 3.210, Train loss: 1.635\n",
      "Epoch 380. Time: 3.192, Train loss: 1.610\n",
      "Epoch 381. Time: 3.213, Train loss: 1.592\n",
      "Epoch 382. Time: 3.205, Train loss: 1.582\n",
      "Epoch 383. Time: 3.214, Train loss: 1.573\n",
      "Epoch 384. Time: 3.204, Train loss: 1.566\n",
      "Epoch 385. Time: 3.200, Train loss: 1.565\n",
      "Epoch 386. Time: 3.211, Train loss: 1.566\n",
      "Epoch 387. Time: 3.203, Train loss: 1.586\n",
      "Epoch 388. Time: 3.203, Train loss: 1.592\n",
      "Epoch 389. Time: 3.196, Train loss: 1.589\n",
      "Epoch 390. Time: 3.199, Train loss: 1.593\n",
      "Epoch 391. Time: 3.199, Train loss: 1.597\n",
      "Epoch 392. Time: 3.199, Train loss: 1.588\n",
      "Epoch 393. Time: 3.195, Train loss: 1.583\n",
      "Epoch 394. Time: 3.212, Train loss: 1.574\n",
      "Epoch 395. Time: 3.197, Train loss: 1.561\n",
      "Epoch 396. Time: 3.202, Train loss: 1.556\n",
      "Epoch 397. Time: 3.199, Train loss: 1.562\n",
      "Epoch 398. Time: 3.207, Train loss: 1.568\n",
      "Epoch 399. Time: 3.205, Train loss: 1.569\n",
      "Epoch 400. Time: 3.193, Train loss: 1.567\n",
      "Epoch 401. Time: 3.199, Train loss: 1.565\n",
      "Epoch 402. Time: 3.198, Train loss: 1.576\n",
      "Epoch 403. Time: 3.200, Train loss: 1.574\n",
      "Epoch 404. Time: 3.206, Train loss: 1.568\n",
      "Epoch 405. Time: 3.203, Train loss: 1.556\n",
      "Epoch 406. Time: 3.200, Train loss: 1.551\n",
      "Epoch 407. Time: 3.205, Train loss: 1.550\n",
      "Epoch 408. Time: 3.211, Train loss: 1.545\n",
      "Epoch 409. Time: 3.212, Train loss: 1.548\n",
      "Epoch 410. Time: 3.192, Train loss: 1.547\n",
      "Epoch 411. Time: 3.212, Train loss: 1.545\n",
      "Epoch 412. Time: 3.199, Train loss: 1.570\n",
      "Epoch 413. Time: 3.198, Train loss: 1.576\n",
      "Epoch 414. Time: 3.200, Train loss: 1.604\n",
      "Epoch 415. Time: 3.199, Train loss: 1.590\n",
      "Epoch 416. Time: 3.201, Train loss: 1.574\n",
      "Epoch 417. Time: 3.192, Train loss: 1.574\n",
      "Epoch 418. Time: 3.214, Train loss: 1.566\n",
      "Epoch 419. Time: 3.201, Train loss: 1.555\n",
      "Epoch 420. Time: 3.215, Train loss: 1.539\n",
      "Epoch 421. Time: 3.197, Train loss: 1.545\n",
      "Epoch 422. Time: 3.195, Train loss: 1.547\n",
      "Epoch 423. Time: 3.203, Train loss: 1.544\n",
      "Epoch 424. Time: 3.211, Train loss: 1.540\n",
      "Epoch 425. Time: 3.197, Train loss: 1.537\n",
      "Epoch 426. Time: 3.206, Train loss: 1.533\n",
      "Epoch 427. Time: 3.204, Train loss: 1.540\n",
      "Epoch 428. Time: 3.197, Train loss: 1.552\n",
      "Epoch 429. Time: 3.198, Train loss: 1.568\n",
      "Epoch 430. Time: 3.204, Train loss: 1.565\n",
      "Epoch 431. Time: 3.205, Train loss: 1.557\n",
      "Epoch 432. Time: 3.192, Train loss: 1.547\n",
      "Epoch 433. Time: 3.203, Train loss: 1.545\n",
      "Epoch 434. Time: 3.194, Train loss: 1.529\n",
      "Epoch 435. Time: 3.197, Train loss: 1.524\n",
      "Epoch 436. Time: 3.210, Train loss: 1.515\n",
      "Epoch 437. Time: 3.204, Train loss: 1.508\n",
      "Epoch 438. Time: 3.194, Train loss: 1.510\n",
      "Epoch 439. Time: 3.207, Train loss: 1.517\n",
      "Epoch 440. Time: 3.211, Train loss: 1.520\n",
      "Epoch 441. Time: 3.205, Train loss: 1.537\n",
      "Epoch 442. Time: 3.199, Train loss: 1.543\n",
      "Epoch 443. Time: 3.202, Train loss: 1.543\n",
      "Epoch 444. Time: 3.198, Train loss: 1.533\n",
      "Epoch 445. Time: 3.199, Train loss: 1.543\n",
      "Epoch 446. Time: 3.198, Train loss: 1.533\n",
      "Epoch 447. Time: 3.195, Train loss: 1.539\n",
      "Epoch 448. Time: 3.190, Train loss: 1.535\n",
      "Epoch 449. Time: 3.202, Train loss: 1.528\n",
      "Epoch 450. Time: 3.198, Train loss: 1.572\n",
      "Epoch 451. Time: 3.197, Train loss: 1.593\n",
      "Epoch 452. Time: 3.203, Train loss: 1.573\n",
      "Epoch 453. Time: 3.204, Train loss: 1.558\n",
      "Epoch 454. Time: 3.211, Train loss: 1.535\n",
      "Epoch 455. Time: 3.201, Train loss: 1.523\n",
      "Epoch 456. Time: 3.206, Train loss: 1.509\n",
      "Epoch 457. Time: 3.198, Train loss: 1.499\n"
     ]
    },
    {
     "ename": "KeyboardInterrupt",
     "evalue": "",
     "output_type": "error",
     "traceback": [
      "\u001b[0;31m---------------------------------------------------------------------------\u001b[0m",
      "\u001b[0;31mKeyboardInterrupt\u001b[0m                         Traceback (most recent call last)",
      "\u001b[0;32m<ipython-input-77-b3d7b38f22e8>\u001b[0m in \u001b[0;36m<module>\u001b[0;34m\u001b[0m\n\u001b[1;32m     16\u001b[0m         \u001b[0manswers\u001b[0m \u001b[0;34m=\u001b[0m \u001b[0manswers\u001b[0m\u001b[0;34m.\u001b[0m\u001b[0mview\u001b[0m\u001b[0;34m(\u001b[0m\u001b[0;34m-\u001b[0m\u001b[0;36m1\u001b[0m\u001b[0;34m,\u001b[0m \u001b[0mlen\u001b[0m\u001b[0;34m(\u001b[0m\u001b[0mINDEX_TO_WORD\u001b[0m\u001b[0;34m)\u001b[0m\u001b[0;34m)\u001b[0m\u001b[0;34m\u001b[0m\u001b[0;34m\u001b[0m\u001b[0m\n\u001b[1;32m     17\u001b[0m         \u001b[0mloss\u001b[0m \u001b[0;34m=\u001b[0m \u001b[0mcriterion\u001b[0m\u001b[0;34m(\u001b[0m\u001b[0manswers\u001b[0m\u001b[0;34m,\u001b[0m \u001b[0mY_batch\u001b[0m\u001b[0;34m)\u001b[0m\u001b[0;34m\u001b[0m\u001b[0;34m\u001b[0m\u001b[0m\n\u001b[0;32m---> 18\u001b[0;31m         \u001b[0mtrain_loss\u001b[0m \u001b[0;34m+=\u001b[0m \u001b[0mloss\u001b[0m\u001b[0;34m.\u001b[0m\u001b[0mitem\u001b[0m\u001b[0;34m(\u001b[0m\u001b[0;34m)\u001b[0m\u001b[0;34m\u001b[0m\u001b[0;34m\u001b[0m\u001b[0m\n\u001b[0m\u001b[1;32m     19\u001b[0m \u001b[0;34m\u001b[0m\u001b[0m\n\u001b[1;32m     20\u001b[0m         \u001b[0mloss\u001b[0m\u001b[0;34m.\u001b[0m\u001b[0mbackward\u001b[0m\u001b[0;34m(\u001b[0m\u001b[0;34m)\u001b[0m\u001b[0;34m\u001b[0m\u001b[0;34m\u001b[0m\u001b[0m\n",
      "\u001b[0;31mKeyboardInterrupt\u001b[0m: "
     ]
    }
   ],
   "source": [
    "count = 0\n",
    "\n",
    "for ep in range(3000):\n",
    "    \n",
    "    start = time.time()\n",
    "    train_loss = 0.\n",
    "    train_passed = 0\n",
    "    \n",
    "    for i in range(int(len(X) / 100)):\n",
    "        batch = X[i * 100:(i + 1) * 100]\n",
    "        X_batch = batch[:, :-1]\n",
    "        Y_batch = batch[:, 1:].flatten()\n",
    "\n",
    "        optimizer.zero_grad()\n",
    "        answers, _ = model.forward(X_batch)\n",
    "        answers = answers.view(-1, len(INDEX_TO_WORD))\n",
    "        loss = criterion(answers, Y_batch)\n",
    "        train_loss += loss.item()\n",
    "\n",
    "        loss.backward()\n",
    "        optimizer.step()\n",
    "        train_passed += 1\n",
    "    end = time.time()\n",
    "    \n",
    "    count += 1\n",
    "    if count == 1:\n",
    "        count = 0\n",
    "        trloss = train_loss / train_passed\n",
    "        print(\"Epoch {}. Time: {:.3f}, Train loss: {:.3f}\".format(ep, end - start, trloss))\n",
    "        #generate_sentence('проект позволяет')"
   ]
  },
  {
   "cell_type": "code",
   "execution_count": 78,
   "metadata": {},
   "outputs": [
    {
     "name": "stdout",
     "output_type": "stream",
     "text": [
      "предлагается создать систему подготовки <miss> и <miss> <miss> мероприятий и проведение <miss> уроков в образовательных учреждениях <miss> на <miss> <miss>\n"
     ]
    }
   ],
   "source": [
    "generate_sentence('предлагается')"
   ]
  },
  {
   "cell_type": "code",
   "execution_count": 79,
   "metadata": {},
   "outputs": [
    {
     "name": "stdout",
     "output_type": "stream",
     "text": [
      "проект позволяет <miss> <miss> на в базе том школы россии <pad> и <pad> <pad> <pad> <pad> <pad> <pad> <pad> <pad> <pad> <pad> <pad> <pad> <pad> <pad> <pad> <pad> <pad> <pad> <pad> <pad>\n"
     ]
    }
   ],
   "source": [
    "generate_sentence('проект позволяет')"
   ]
  },
  {
   "cell_type": "code",
   "execution_count": 80,
   "metadata": {},
   "outputs": [
    {
     "name": "stdout",
     "output_type": "stream",
     "text": [
      "в нашей стране дети рамках стране <miss> в которых <miss> развития возрасте они дети личности в <miss> <pad> которых <miss> и <pad> <miss> <pad> дети <pad> жизни <pad> <miss> <pad> <pad> <pad> а <pad>\n"
     ]
    }
   ],
   "source": [
    "generate_sentence('в нашей стране дети')"
   ]
  },
  {
   "cell_type": "code",
   "execution_count": 81,
   "metadata": {},
   "outputs": [
    {
     "name": "stdout",
     "output_type": "stream",
     "text": [
      "низкий уровень образования уровень правовой и и культуры финансовой их граждан грамотности <miss> <pad> <pad> <miss> <pad> <pad> <pad> <pad> <pad> <pad> <pad> <pad> <pad> <pad> <pad> <pad> <pad> <pad> <pad> <pad> <pad>\n"
     ]
    }
   ],
   "source": [
    "generate_sentence('низкий уровень образования')"
   ]
  },
  {
   "cell_type": "code",
   "execution_count": 82,
   "metadata": {},
   "outputs": [
    {
     "name": "stdout",
     "output_type": "stream",
     "text": [
      "преподаватели будут <miss> иметь на возможность <miss> развития со без <miss> которых <miss> <miss> в <miss> <miss> <pad> по <pad> <miss> <pad> <pad> <pad> <pad> <pad> <pad> <pad> <pad> <pad> <pad> <pad>\n"
     ]
    }
   ],
   "source": [
    "generate_sentence('преподаватели будут')"
   ]
  },
  {
   "cell_type": "code",
   "execution_count": null,
   "metadata": {},
   "outputs": [],
   "source": []
  },
  {
   "cell_type": "code",
   "execution_count": 58,
   "metadata": {},
   "outputs": [],
   "source": [
    "torch.save({\n",
    "            'epoch': epoch,\n",
    "            'model_state_dict': model.state_dict(),\n",
    "            'optimizer_state_dict': optimizer.state_dict(),\n",
    "            'loss': loss,\n",
    "            }, \"model.pt\")"
   ]
  },
  {
   "cell_type": "code",
   "execution_count": null,
   "metadata": {},
   "outputs": [],
   "source": [
    "# model = TheModelClass(*args, **kwargs)\n",
    "# optimizer = TheOptimizerClass(*args, **kwargs)\n",
    "\n",
    "checkpoint = torch.load(\"model.pt\")\n",
    "model.load_state_dict(checkpoint['model_state_dict'])\n",
    "optimizer.load_state_dict(checkpoint['optimizer_state_dict'])\n",
    "loss = checkpoint['loss']\n",
    "\n",
    "model.eval()"
   ]
  },
  {
   "cell_type": "code",
   "execution_count": 41,
   "metadata": {},
   "outputs": [
    {
     "data": {
      "text/plain": [
       "1626"
      ]
     },
     "execution_count": 41,
     "metadata": {},
     "output_type": "execute_result"
    }
   ],
   "source": [
    "c['проект']"
   ]
  },
  {
   "cell_type": "code",
   "execution_count": 44,
   "metadata": {},
   "outputs": [
    {
     "data": {
      "text/plain": [
       "1283"
      ]
     },
     "execution_count": 44,
     "metadata": {},
     "output_type": "execute_result"
    }
   ],
   "source": [
    "c['будет']"
   ]
  },
  {
   "cell_type": "code",
   "execution_count": 48,
   "metadata": {
    "collapsed": true,
    "jupyter": {
     "outputs_hidden": true
    }
   },
   "outputs": [
    {
     "data": {
      "text/plain": [
       "[('и', 21757),\n",
       " ('в', 18684),\n",
       " ('на', 7540),\n",
       " ('с', 6533),\n",
       " ('для', 5371),\n",
       " ('по', 4117),\n",
       " ('не', 3524),\n",
       " ('проекта', 3413),\n",
       " ('к', 3142),\n",
       " ('как', 2422),\n",
       " ('что', 2298),\n",
       " ('а', 2041),\n",
       " ('детей', 1997),\n",
       " ('из', 1893),\n",
       " ('о', 1651),\n",
       " ('проект', 1626),\n",
       " ('это', 1586),\n",
       " ('их', 1507),\n",
       " ('или', 1477),\n",
       " ('от', 1449),\n",
       " ('1', 1315),\n",
       " ('–', 1285),\n",
       " ('будет', 1283),\n",
       " ('у', 1203),\n",
       " ('образования', 1184),\n",
       " ('при', 1184),\n",
       " ('2', 1170),\n",
       " ('которые', 1116),\n",
       " ('за', 1075),\n",
       " ('также', 1052),\n",
       " ('3', 1010),\n",
       " ('развития', 987),\n",
       " ('но', 983),\n",
       " ('работы', 973),\n",
       " ('так', 973),\n",
       " ('обучения', 933),\n",
       " ('реализации', 926),\n",
       " ('жизни', 909),\n",
       " ('будут', 877),\n",
       " ('россии', 787),\n",
       " ('профессии', 767),\n",
       " ('может', 764),\n",
       " ('создание', 763),\n",
       " ('области', 763),\n",
       " ('людей', 759),\n",
       " ('деятельности', 758),\n",
       " ('быть', 735),\n",
       " ('только', 709),\n",
       " ('т', 708),\n",
       " ('то', 705),\n",
       " ('рамках', 705),\n",
       " ('до', 705),\n",
       " ('можно', 704),\n",
       " ('школьников', 701),\n",
       " ('более', 693),\n",
       " ('время', 686),\n",
       " ('проведение', 679),\n",
       " ('все', 676),\n",
       " ('4', 669),\n",
       " ('они', 660),\n",
       " ('развитие', 655),\n",
       " ('школы', 651),\n",
       " ('том', 650),\n",
       " ('населения', 641),\n",
       " ('себя', 639),\n",
       " ('я', 629),\n",
       " ('является', 628),\n",
       " ('его', 627),\n",
       " ('мы', 625),\n",
       " ('дети', 623),\n",
       " ('чтобы', 623),\n",
       " ('возможность', 615),\n",
       " ('могут', 612),\n",
       " ('со', 611),\n",
       " ('5', 608),\n",
       " ('знаний', 604),\n",
       " ('лет', 585),\n",
       " ('обучение', 580),\n",
       " ('детских', 575),\n",
       " ('специалистов', 569),\n",
       " ('во', 544),\n",
       " ('необходимо', 536),\n",
       " ('родителей', 525),\n",
       " ('образовательных', 520),\n",
       " ('цель', 519),\n",
       " ('организации', 515),\n",
       " ('уже', 511),\n",
       " ('программы', 509),\n",
       " ('классов', 499),\n",
       " ('через', 498),\n",
       " ('школ', 492),\n",
       " ('этом', 489),\n",
       " ('студентов', 488),\n",
       " ('мероприятий', 483),\n",
       " ('знания', 483),\n",
       " ('им', 481),\n",
       " ('страны', 479),\n",
       " ('формирование', 476),\n",
       " ('грамотности', 475),\n",
       " ('повышение', 473),\n",
       " ('есть', 473),\n",
       " ('же', 471),\n",
       " ('навыков', 457),\n",
       " ('проведения', 453),\n",
       " ('позволит', 450),\n",
       " ('участников', 449),\n",
       " ('финансовой', 442),\n",
       " ('всех', 439),\n",
       " ('молодежи', 435),\n",
       " ('бы', 432),\n",
       " ('учащихся', 430),\n",
       " ('детям', 429),\n",
       " ('если', 429),\n",
       " ('где', 429),\n",
       " ('возможности', 414),\n",
       " ('них', 414),\n",
       " ('тем', 396),\n",
       " ('уровня', 395),\n",
       " ('которых', 395),\n",
       " ('своей', 393),\n",
       " ('задачи', 393),\n",
       " ('д', 390),\n",
       " ('того', 381),\n",
       " ('бизнес', 379),\n",
       " ('занятий', 378),\n",
       " ('возраста', 376),\n",
       " ('уровень', 375),\n",
       " ('различных', 374),\n",
       " ('навыки', 373),\n",
       " ('домов', 372),\n",
       " ('человек', 372),\n",
       " ('года', 372),\n",
       " ('системы', 371),\n",
       " ('учебных', 370),\n",
       " ('работу', 369),\n",
       " ('г', 369),\n",
       " ('информации', 365),\n",
       " ('очень', 364),\n",
       " ('получить', 362),\n",
       " ('свои', 362),\n",
       " ('после', 362),\n",
       " ('мастер', 359),\n",
       " ('профессий', 359),\n",
       " ('других', 357),\n",
       " ('люди', 355),\n",
       " ('граждан', 353),\n",
       " ('работа', 351),\n",
       " ('своих', 346),\n",
       " ('целью', 346),\n",
       " ('он', 346),\n",
       " ('помощь', 345),\n",
       " ('организация', 344),\n",
       " ('вузов', 343),\n",
       " ('этого', 343),\n",
       " ('образование', 342),\n",
       " ('молодых', 342),\n",
       " ('города', 338),\n",
       " ('сфере', 331),\n",
       " ('труда', 329),\n",
       " ('подготовки', 328),\n",
       " ('возможно', 327),\n",
       " ('проектов', 327),\n",
       " ('подростков', 327),\n",
       " ('числе', 327),\n",
       " ('создать', 326),\n",
       " ('человека', 323),\n",
       " ('помощи', 322),\n",
       " ('участие', 321),\n",
       " ('без', 320),\n",
       " ('социальной', 317),\n",
       " ('выпускников', 316),\n",
       " ('рф', 316),\n",
       " ('об', 315),\n",
       " ('мероприятия', 314),\n",
       " ('базе', 313),\n",
       " ('данный', 312),\n",
       " ('среди', 312),\n",
       " ('чем', 311),\n",
       " ('количество', 309),\n",
       " ('социальных', 309),\n",
       " ('школе', 308),\n",
       " ('10', 308),\n",
       " ('который', 307),\n",
       " ('занятия', 307),\n",
       " ('например', 307),\n",
       " ('новых', 306),\n",
       " ('данного', 306),\n",
       " ('свою', 305),\n",
       " ('интернет', 304),\n",
       " ('проблемы', 301),\n",
       " ('деятельность', 300),\n",
       " ('решения', 300),\n",
       " ('именно', 299),\n",
       " ('планируется', 296),\n",
       " ('таких', 296),\n",
       " ('детьми', 293),\n",
       " ('школах', 292),\n",
       " ('опыт', 290),\n",
       " ('основе', 290),\n",
       " ('общества', 289),\n",
       " ('стать', 289),\n",
       " ('региона', 289),\n",
       " ('жизнь', 289),\n",
       " ('сделать', 287),\n",
       " ('бизнеса', 286),\n",
       " ('нужно', 285),\n",
       " ('6', 285),\n",
       " ('профессионального', 282),\n",
       " ('результаты', 280),\n",
       " ('каждый', 280),\n",
       " ('предприятий', 279),\n",
       " ('технологий', 278),\n",
       " ('должны', 278),\n",
       " ('своего', 276),\n",
       " ('социально', 273),\n",
       " ('организаций', 271),\n",
       " ('ребенка', 270),\n",
       " ('профессиональной', 269),\n",
       " ('учреждений', 268),\n",
       " ('нашей', 267),\n",
       " ('работе', 264),\n",
       " ('этой', 264),\n",
       " ('выбор', 263),\n",
       " ('даже', 263),\n",
       " ('стороны', 263),\n",
       " ('между', 262),\n",
       " ('разработка', 261),\n",
       " ('смогут', 260),\n",
       " ('уровне', 259),\n",
       " ('развитию', 256),\n",
       " ('либо', 255),\n",
       " ('российской', 254),\n",
       " ('7', 253),\n",
       " ('разных', 249),\n",
       " ('культуры', 248),\n",
       " ('группы', 248),\n",
       " ('провести', 245),\n",
       " ('онлайн', 244),\n",
       " ('проводить', 243),\n",
       " ('кто', 243),\n",
       " ('проблема', 240),\n",
       " ('когда', 238),\n",
       " ('многие', 238),\n",
       " ('поколения', 238),\n",
       " ('специальности', 237),\n",
       " ('предприятия', 237),\n",
       " ('задач', 236),\n",
       " ('получения', 235),\n",
       " ('направлен', 234),\n",
       " ('безопасности', 234),\n",
       " ('работать', 233),\n",
       " ('наиболее', 233),\n",
       " ('нет', 232),\n",
       " ('связи', 232),\n",
       " ('кадров', 232),\n",
       " ('помочь', 231),\n",
       " ('образом', 231),\n",
       " ('процесс', 231),\n",
       " ('эти', 230),\n",
       " ('программ', 229),\n",
       " ('сети', 229),\n",
       " ('таким', 229),\n",
       " ('проблем', 228),\n",
       " ('территории', 228),\n",
       " ('реализация', 228),\n",
       " ('вопросы', 226),\n",
       " ('обучающихся', 226),\n",
       " ('проекте', 226),\n",
       " ('компетенций', 225),\n",
       " ('будущего', 225),\n",
       " ('экономики', 224),\n",
       " ('каждого', 223),\n",
       " ('новые', 222),\n",
       " ('качества', 222),\n",
       " ('свой', 222),\n",
       " ('опыта', 222),\n",
       " ('настоящее', 221),\n",
       " ('какие', 221),\n",
       " ('поддержки', 221),\n",
       " ('взаимодействия', 220),\n",
       " ('под', 218),\n",
       " ('мире', 218),\n",
       " ('дома', 216),\n",
       " ('сейчас', 216),\n",
       " ('воспитанников', 215),\n",
       " ('школа', 214),\n",
       " ('современных', 214),\n",
       " ('конкурса', 213),\n",
       " ('повышения', 212),\n",
       " ('которая', 212),\n",
       " ('себе', 211),\n",
       " ('цели', 211),\n",
       " ('образовательной', 211),\n",
       " ('ситуации', 210),\n",
       " ('8', 210),\n",
       " ('организовать', 209),\n",
       " ('одной', 208),\n",
       " ('которой', 208),\n",
       " ('программа', 208),\n",
       " ('важно', 207),\n",
       " ('ее', 207),\n",
       " ('личности', 206),\n",
       " ('участники', 206),\n",
       " ('игры', 206),\n",
       " ('решение', 206),\n",
       " ('этапе', 206),\n",
       " ('учеников', 205),\n",
       " ('система', 204),\n",
       " ('поведения', 204),\n",
       " ('всего', 203),\n",
       " ('данной', 202),\n",
       " ('поэтому', 202),\n",
       " ('педагогов', 201),\n",
       " ('больше', 201),\n",
       " ('часть', 201),\n",
       " ('качестве', 201),\n",
       " ('формирования', 200),\n",
       " ('дать', 199),\n",
       " ('времени', 199),\n",
       " ('студенты', 198),\n",
       " ('будущем', 198),\n",
       " ('федерации', 195),\n",
       " ('этих', 195),\n",
       " ('будущей', 194),\n",
       " ('такие', 194),\n",
       " ('услуг', 193),\n",
       " ('заведений', 193),\n",
       " ('п', 193),\n",
       " ('задача', 192),\n",
       " ('стране', 192),\n",
       " ('образовательного', 191),\n",
       " ('мира', 191),\n",
       " ('менее', 191),\n",
       " ('форме', 191),\n",
       " ('этап', 190),\n",
       " ('финансовых', 190),\n",
       " ('результате', 190),\n",
       " ('являются', 190),\n",
       " ('имеют', 190),\n",
       " ('государства', 190),\n",
       " ('лекций', 190),\n",
       " ('групп', 189),\n",
       " ('родители', 188),\n",
       " ('11', 188),\n",
       " ('создания', 188),\n",
       " ('должен', 185),\n",
       " ('другие', 185),\n",
       " ('найти', 184),\n",
       " ('среднего', 184),\n",
       " ('этот', 183),\n",
       " ('день', 183),\n",
       " ('старших', 182),\n",
       " ('классы', 182),\n",
       " ('технологии', 182),\n",
       " ('еще', 182),\n",
       " ('профессиональных', 182),\n",
       " ('привлечение', 182),\n",
       " ('средств', 182),\n",
       " ('направления', 182),\n",
       " ('условиях', 181),\n",
       " ('суть', 181),\n",
       " ('встречи', 181),\n",
       " ('часто', 180),\n",
       " ('программу', 180),\n",
       " ('2019', 180),\n",
       " ('социального', 180),\n",
       " ('9', 180),\n",
       " ('поможет', 180),\n",
       " ('центра', 180),\n",
       " ('—', 180),\n",
       " ('компании', 179),\n",
       " ('несколько', 179),\n",
       " ('предполагается', 177),\n",
       " ('2020', 177),\n",
       " ('повысить', 176),\n",
       " ('процесса', 176),\n",
       " ('научно', 175),\n",
       " ('внимание', 175),\n",
       " ('процессе', 175),\n",
       " ('подготовка', 175),\n",
       " ('данных', 174),\n",
       " ('год', 174),\n",
       " ('просто', 174),\n",
       " ('году', 174),\n",
       " ('материалов', 173),\n",
       " ('особенно', 172),\n",
       " ('результатов', 172),\n",
       " ('возможностей', 171),\n",
       " ('получение', 171),\n",
       " ('много', 171),\n",
       " ('заведения', 170),\n",
       " ('возрасте', 170),\n",
       " ('зачастую', 170),\n",
       " ('помощью', 169),\n",
       " ('момент', 169),\n",
       " ('счет', 169),\n",
       " ('результат', 169),\n",
       " ('обществе', 168),\n",
       " ('школьники', 168),\n",
       " ('детского', 167),\n",
       " ('сформировать', 167),\n",
       " ('случае', 166),\n",
       " ('сегодня', 165),\n",
       " ('опытом', 165),\n",
       " ('отсутствие', 165),\n",
       " ('лекции', 165),\n",
       " ('один', 164),\n",
       " ('очередь', 163),\n",
       " ('количества', 163),\n",
       " ('компаний', 162),\n",
       " ('реализовать', 161),\n",
       " ('рабочих', 161),\n",
       " ('профориентации', 160),\n",
       " ('курсов', 160),\n",
       " ('виде', 159),\n",
       " ('выбора', 159),\n",
       " ('целом', 159),\n",
       " ('имеет', 159),\n",
       " ('такой', 158),\n",
       " ('основные', 158),\n",
       " ('школьного', 158),\n",
       " ('высшего', 158),\n",
       " ('учителей', 157),\n",
       " ('было', 157),\n",
       " ('предлагается', 156),\n",
       " ('учреждения', 156),\n",
       " ('встреч', 156),\n",
       " ('преподавателей', 156),\n",
       " ('перед', 156),\n",
       " ('общения', 156),\n",
       " ('предполагает', 155),\n",
       " ('участия', 155),\n",
       " ('однако', 154),\n",
       " ('др', 154),\n",
       " ('актуальность', 153),\n",
       " ('систему', 153),\n",
       " ('образовательные', 153),\n",
       " ('регионе', 153),\n",
       " ('специалисты', 153),\n",
       " ('семей', 153),\n",
       " ('условий', 152),\n",
       " ('курса', 152),\n",
       " ('тех', 152),\n",
       " ('дополнительного', 151),\n",
       " ('интерес', 150),\n",
       " ('науки', 150),\n",
       " ('регионах', 150),\n",
       " ('информацию', 150),\n",
       " ('вопрос', 149),\n",
       " ('будущее', 149),\n",
       " ('кроме', 148),\n",
       " ('заключается', 146),\n",
       " ('учебного', 146),\n",
       " ('центров', 145),\n",
       " ('поддержка', 144),\n",
       " ('людям', 144),\n",
       " ('нас', 143),\n",
       " ('мир', 143),\n",
       " ('делать', 143),\n",
       " ('учебные', 143),\n",
       " ('темы', 142),\n",
       " ('профессию', 141),\n",
       " ('практических', 141),\n",
       " ('данные', 141),\n",
       " ('путем', 141),\n",
       " ('использовать', 141),\n",
       " ('выборе', 141),\n",
       " ('рынке', 140),\n",
       " ('центр', 140),\n",
       " ('рассказать', 140),\n",
       " ('проекты', 140),\n",
       " ('уроков', 140),\n",
       " ('социальные', 139),\n",
       " ('научных', 139),\n",
       " ('существует', 139),\n",
       " ('технических', 139),\n",
       " ('всем', 139),\n",
       " ('период', 138),\n",
       " ('ребенок', 138),\n",
       " ('отношения', 137),\n",
       " ('адаптации', 137),\n",
       " ('основы', 137),\n",
       " ('обучению', 137),\n",
       " ('места', 137),\n",
       " ('ходе', 136),\n",
       " ('должна', 136),\n",
       " ('отрасли', 136),\n",
       " ('всегда', 136),\n",
       " ('учетом', 135),\n",
       " ('среды', 135),\n",
       " ('школьникам', 135),\n",
       " ('команды', 135),\n",
       " ('развитии', 135),\n",
       " ('потенциала', 134),\n",
       " ('формате', 134),\n",
       " ('возможностями', 134),\n",
       " ('место', 134),\n",
       " ('будущих', 133),\n",
       " ('далее', 133),\n",
       " ('обеспечение', 133)]"
      ]
     },
     "execution_count": 48,
     "metadata": {},
     "output_type": "execute_result"
    }
   ],
   "source": [
    "c.most_common(500)"
   ]
  },
  {
   "cell_type": "code",
   "execution_count": null,
   "metadata": {},
   "outputs": [],
   "source": []
  },
  {
   "cell_type": "code",
   "execution_count": null,
   "metadata": {},
   "outputs": [],
   "source": []
  },
  {
   "cell_type": "code",
   "execution_count": null,
   "metadata": {},
   "outputs": [],
   "source": []
  },
  {
   "cell_type": "code",
   "execution_count": null,
   "metadata": {},
   "outputs": [],
   "source": []
  },
  {
   "cell_type": "code",
   "execution_count": null,
   "metadata": {},
   "outputs": [],
   "source": []
  }
 ],
 "metadata": {
  "kernelspec": {
   "display_name": "Python 3",
   "language": "python",
   "name": "python3"
  },
  "language_info": {
   "codemirror_mode": {
    "name": "ipython",
    "version": 3
   },
   "file_extension": ".py",
   "mimetype": "text/x-python",
   "name": "python",
   "nbconvert_exporter": "python",
   "pygments_lexer": "ipython3",
   "version": "3.7.4"
  }
 },
 "nbformat": 4,
 "nbformat_minor": 4
}
