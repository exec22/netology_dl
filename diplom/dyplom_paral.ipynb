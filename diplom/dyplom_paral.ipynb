{
 "cells": [
  {
   "cell_type": "code",
   "execution_count": 1,
   "metadata": {},
   "outputs": [],
   "source": [
    "from bs4 import BeautifulSoup\n",
    "import re\n",
    "import os\n",
    "from tqdm import tqdm\n",
    "from collections import Counter\n",
    "import torch\n",
    "import time"
   ]
  },
  {
   "cell_type": "code",
   "execution_count": 2,
   "metadata": {},
   "outputs": [
    {
     "data": {
      "text/plain": [
       "device(type='cuda')"
      ]
     },
     "execution_count": 2,
     "metadata": {},
     "output_type": "execute_result"
    }
   ],
   "source": [
    "dev = torch.device(\"cuda\") if torch.cuda.is_available() else torch.device(\"cpu\")\n",
    "dev"
   ]
  },
  {
   "cell_type": "code",
   "execution_count": 3,
   "metadata": {},
   "outputs": [
    {
     "name": "stderr",
     "output_type": "stream",
     "text": [
      "100%|██████████| 6605/6605 [00:36<00:00, 176.51it/s]\n"
     ]
    }
   ],
   "source": [
    "proj_types, proj_names, proj_descrs = [],[],[]\n",
    "folders = os.listdir('texts')\n",
    "for folder in tqdm(folders):\n",
    "    f = open(f\"texts/{folder}/choose\", \"r\", encoding=\"utf-8\")\n",
    "    contents = f.read()\n",
    "    soup = BeautifulSoup(contents, 'lxml')\n",
    "    founded = soup.find_all('div', {'class': 'lr-project-value'})\n",
    "    proj_types.append( re.sub(r'[\\n\\t]', '', founded[1].get_text().lower()) )\n",
    "    proj_names.append( re.sub(r'[\\n\\t]', '', founded[3].get_text().lower()) )\n",
    "    proj_descrs.append( re.sub(r'[\\n\\t]', '', founded[4].get_text().lower()) )\n",
    "    f.close()\n",
    "    \n"
   ]
  },
  {
   "cell_type": "code",
   "execution_count": 4,
   "metadata": {},
   "outputs": [
    {
     "data": {
      "text/plain": [
       "6605"
      ]
     },
     "execution_count": 4,
     "metadata": {},
     "output_type": "execute_result"
    }
   ],
   "source": [
    "len(proj_types)"
   ]
  },
  {
   "cell_type": "code",
   "execution_count": 5,
   "metadata": {},
   "outputs": [
    {
     "data": {
      "text/plain": [
       "'просвещение и образование — новые форматы и темы'"
      ]
     },
     "execution_count": 5,
     "metadata": {},
     "output_type": "execute_result"
    }
   ],
   "source": [
    "proj_types[10]"
   ]
  },
  {
   "cell_type": "code",
   "execution_count": 6,
   "metadata": {},
   "outputs": [
    {
     "data": {
      "text/plain": [
       "'целью проекта является обучение основам финансовой грамотности и социальная адаптация подростков, воспитанников детских домов.'"
      ]
     },
     "execution_count": 6,
     "metadata": {},
     "output_type": "execute_result"
    }
   ],
   "source": [
    "proj_names[10]"
   ]
  },
  {
   "cell_type": "code",
   "execution_count": 7,
   "metadata": {},
   "outputs": [
    {
     "data": {
      "text/plain": [
       "'по данным министерства просвещения российской федерации по состоянию на начало 2019 года количество детей-сирот и детей, оставшихся без попечения родителей в детских домах страны составляло 47,1 тыс. человек. при этом согласно результатам социологических исследований лишь 20% выпускников детских домов успешно справляются с жизненными трудностями, находят себе применение в жизни, получают достойную работу и создают крепкие семьи.в настоящее время в российской федерации наблюдается низкий уровень информированности населения, а особенно детей-сирот о преимуществах и потенциальных рисках финансовых услуг. у детей, находящихся в детских домах отсутствуют знания и навыки ведения личного бюджета, опыт сбережений и использования финансовых инструментов для повышения уровня благосостояния.более того, условия пребывания в детских домах не позволяют детям-сиротам получить и закрепить необходимые знания и навыки финансовой грамотности, управления личными финансами, а также адаптироваться к изменяющимся внешним условиям и вызовам. в отличие от сверстников дети-сироты лишены возможности получить финансовую поддержку и совет от своих родителей: как и куда потратить деньги, что купить, а на что не стоит тратить деньги, где взять кредит на покупку жилья и какие финансовые организации лучше обходить стороной.поэтому приобретение знаний о финансах, об экономике, о правах и обязанностях потребителя финансовых услугу является одной из актуальных задач для детей-сирот и детей, оставшихся без попечения родителей. кроме того, обучение финансовой грамотности граждан является в настоящее время одной из приоритетных задач на государственном уровне.целью проекта является обучение основам финансовой грамотности и социальная адаптация подростков, - воспитанников детских домов. предлагаемый проект является одним инструментов социальной помощи несовершеннолетним, оказавшимися в трудной жизненной ситуации.целевая аудитория проекта - дети-сироты и дети, оставшиеся без попечения родителей.масштаб проекта - федеральный, география проекта - российская федерация.проект предусматривает организацию и проведение мастер-классов для детей-сирот на территории российской федерации. в рамках мастер-классов планируется научить воспитанников детских домов грамотно распоряжаться средствами, которые они будут зарабатывать во взрослой самостоятельной жизни.в результате обучения дети-сироты получат понимание как относиться к деньгам и как с ними обращаться, каким образом следует формировать и расходовать личный бюджет, получат знания и понимание преимуществ и рисков использования кредитов и к каким именно тяжелым последствиям может привести бесконтрольное пользование кредитных карт.мастер-классы будут способствовать формированию ответственного отношения детей-сирот к личным финансам, повышению эффективности защиты их интересов как потребителей финансовых услуг.методическую основу проекта составят разработанные банком россии и размещенные на интернет-ресурсе регулятора https://fincult.info сборники методических материалов по темам «деньги», «финансовое мошенничество» для занятий по финансовой грамотности в организациях для детей-сирот и детей, оставшихся без попечения родителей, а также накопленные знания и  личный опыт участников (добровольцев) проекта в области управления личными финансами.мастер-классы планируется проводить в интерактивном режиме с использованием мультимедиа и проекторов. информация по тематике проекта будет представлена в удобном и доступном для детей игровом формате. закрепление полученных знаний планируется осуществить с помощью практических заданий, кейсов, коллективных игр, разбора аудио и видео-фрагментов.практическая реализация проекта позволит значительному числу учащихся и выпускников получить навыки финансовой грамотности, управления личными финансами и подготовиться к жизни за пределами детского дома.социальные эффекты реализации проекта:1) повышение уровня финансовой грамотности детей-сирот;2) улучшение способности и сокращение периода их адаптации к взрослой жизни;3) повышение уровня личного благосостояния;4) обеспечение благополучной и комфортной семейной жизни;5) создание основы для продвижение по социальным лифтам;6) достижение социального благополучия в обществе.'"
      ]
     },
     "execution_count": 7,
     "metadata": {},
     "output_type": "execute_result"
    }
   ],
   "source": [
    "proj_descrs[10]"
   ]
  },
  {
   "cell_type": "code",
   "execution_count": 8,
   "metadata": {},
   "outputs": [],
   "source": [
    "from collections import defaultdict"
   ]
  },
  {
   "cell_type": "code",
   "execution_count": 9,
   "metadata": {},
   "outputs": [
    {
     "name": "stdout",
     "output_type": "stream",
     "text": [
      "другое: 2206\n",
      "просвещение и образование — новые форматы и темы: 1851\n",
      "зож: профилактика, а не лечение: 570\n",
      "семья: сохранение традиций и ценностей: 533\n",
      "искусственный интеллект и современные технологии на службе обществу: 523\n",
      "75-я годовщина со дня победы в великой отечественной войне: 308\n",
      "правовая защита граждан и предпринимателей: 216\n",
      "проекты в области науки: 159\n",
      "внутренний туризм: новые формы, новые маршруты: 157\n",
      "культурно-историческое наследие россии: 82\n"
     ]
    }
   ],
   "source": [
    "types_dict = defaultdict(int)\n",
    "for proj_type in (proj_types):\n",
    "    types_dict[proj_type] += 1\n",
    "    \n",
    "for key, value in sorted(types_dict.items(), key=lambda item: item[1], reverse = True):\n",
    "    print(\"%s: %s\" % (key, value))"
   ]
  },
  {
   "cell_type": "code",
   "execution_count": 10,
   "metadata": {},
   "outputs": [],
   "source": [
    "topic = 'просвещение и образование — новые форматы и темы'"
   ]
  },
  {
   "cell_type": "code",
   "execution_count": 11,
   "metadata": {},
   "outputs": [],
   "source": [
    "names, descrs = [], []\n",
    "for i in range( len(proj_names) ):\n",
    "    if proj_types[i] == topic:\n",
    "        names.append( proj_names[i] )\n",
    "        descrs.append( proj_descrs[i] )"
   ]
  },
  {
   "cell_type": "code",
   "execution_count": 12,
   "metadata": {},
   "outputs": [
    {
     "data": {
      "text/plain": [
       "1851"
      ]
     },
     "execution_count": 12,
     "metadata": {},
     "output_type": "execute_result"
    }
   ],
   "source": [
    "len(names)"
   ]
  },
  {
   "cell_type": "code",
   "execution_count": 13,
   "metadata": {},
   "outputs": [
    {
     "data": {
      "text/plain": [
       "'организация и проведение программы, направленной на командообразование группы детей, лишенных родительской опеки.'"
      ]
     },
     "execution_count": 13,
     "metadata": {},
     "output_type": "execute_result"
    }
   ],
   "source": [
    "names[21]"
   ]
  },
  {
   "cell_type": "code",
   "execution_count": 14,
   "metadata": {},
   "outputs": [
    {
     "data": {
      "text/plain": [
       "'проект направлен на повышение грамотности населения о воздействии на окружающую среду выброшенного мусора, о возможностях \"второй жизни мусора\" - потенциального вторичного сырья для выпуска новых товаров, на повышение культуры обращения с мусором. проблема накапливания твердых коммунальных отходов (тко) очень актуальна для республики крым по той простой причине, что географически крым представляет собой полуостров, удаленный на значительные расстояния от перерабатывающих мусор и вторичное сырье предприятий, которые в основном расположены в центральной части россии. транспортировка мусора из крыма по этой причине невозможна, но дальнейшее захоронение мусора ставит под угрозу уникальную природу крыма и создает экологическую катастрофу путем загрязнения земель, грунтовых и морских вод, воздушного бассейна. решение только одно - перерабатывать весь мусор в крыму, создать предпосылки к развитию кластера перерабатывающих предприятий и в идеальном варианте строительство завода по сжиганию мусора. создание общественного мнения о необходимости наведения порядка в обращении с мусором и в последующем организация с региональными операторами по обращению с тко, государственными органами, правительством крыма и помощью федеральных институтов интегрированной системы по обращению мусора от сбора до утилизации и захоронения, включающую в себя предприятия в данной сфере, создание новых рабочих мест, производство продукции из вторсырья, повышение уровня доходов населения, пополнение местного бюджета, но самое главное решение экологических проблем крыма, его уникальной природы, сохранение уникального уголка россии для будущих поколений.'"
      ]
     },
     "execution_count": 14,
     "metadata": {},
     "output_type": "execute_result"
    }
   ],
   "source": [
    "descrs[22]"
   ]
  },
  {
   "cell_type": "code",
   "execution_count": 15,
   "metadata": {},
   "outputs": [],
   "source": [
    "# process text\n",
    "for i in range( len(names) ):\n",
    "    # lowcase, no , - : ; ( ) \" ' « » and .\n",
    "    #line = names[i].lower()\n",
    "    line = names[i]\n",
    "    line = re.sub(r'[\\,\\-\\:\\;\\(\\)\\\"\\«\\»\\.\\!\\\\\\/]', ' ', line)\n",
    "    line = re.sub(r\"\\'\", ' ', line)\n",
    "    # change all ... to space\n",
    "    line = re.sub(r'\\.+', ' ', line)\n",
    "    # no doublespace\n",
    "    line = re.sub(r' +', ' ', line)\n",
    "    # no space after .\n",
    "    #line = re.sub(r'\\. ', '.', line)\n",
    "    names[i] = line.strip()\n",
    "    \n",
    "    # lowcase, no , - : ; ( ) \" ' « » keep .\n",
    "    #line = descrs[i].lower()\n",
    "    line = descrs[i]\n",
    "    line = re.sub(r'[\\,\\-\\:\\;\\(\\)\\\"\\«\\»\\\\\\/]', ' ', line)\n",
    "    line = re.sub(r\"\\'\", ' ', line)\n",
    "    # change all ... to .\n",
    "    line = re.sub(r'\\.+', '.', line)\n",
    "    # ! > .\n",
    "    line = re.sub(r'\\!', \".\", line)\n",
    "    # no doublespace\n",
    "    line = re.sub(r' +', ' ', line)\n",
    "    # no space after .\n",
    "    line = re.sub(r'\\. ', '.', line)\n",
    "    # change all ... to .\n",
    "    line = re.sub(r'\\.+', '.', line)\n",
    "    descrs[i] = line.strip()\n",
    "    \n"
   ]
  },
  {
   "cell_type": "code",
   "execution_count": 16,
   "metadata": {},
   "outputs": [
    {
     "data": {
      "text/plain": [
       "'серия обучающих семинаров для детей выпускников из детдомов позволяющих окунуться в мир математики и анализа данных'"
      ]
     },
     "execution_count": 16,
     "metadata": {},
     "output_type": "execute_result"
    }
   ],
   "source": [
    "names[0]"
   ]
  },
  {
   "cell_type": "code",
   "execution_count": 17,
   "metadata": {},
   "outputs": [
    {
     "data": {
      "text/plain": [
       "'предлагается провести в детском доме серию обучающих мероприятий позволяющих детям выпускникам попробовать себя в анализе данных pyhon matlab .формат обучения желательно наличие компьютеров и интерактив если нет то показ на проекторе.для несложных задач возможен разбор математических алгоритмов в рамках знаний средней школы .общая цель заинтересовать помочь с выбором профессии выпускникам детских домов интересующихся поступлением на математические it специальности в вузы.'"
      ]
     },
     "execution_count": 17,
     "metadata": {},
     "output_type": "execute_result"
    }
   ],
   "source": [
    "descrs[0]"
   ]
  },
  {
   "cell_type": "markdown",
   "metadata": {},
   "source": [
    "### Пробуем просто все предложения данной тематике собрать в кучу"
   ]
  },
  {
   "cell_type": "code",
   "execution_count": 18,
   "metadata": {},
   "outputs": [],
   "source": [
    "all_sents = []\n",
    "max_slen = 0\n",
    "for i in range(len(descrs)):\n",
    "    sents = descrs[i].split('.')\n",
    "    for j in range(len(sents)):\n",
    "        sents[j] = sents[j].strip()\n",
    "        slen = len(sents[j])\n",
    "        if slen > 0:\n",
    "            all_sents.append(sents[j])"
   ]
  },
  {
   "cell_type": "code",
   "execution_count": 19,
   "metadata": {},
   "outputs": [
    {
     "data": {
      "text/plain": [
       "31148"
      ]
     },
     "execution_count": 19,
     "metadata": {},
     "output_type": "execute_result"
    }
   ],
   "source": [
    "len(all_sents)"
   ]
  },
  {
   "cell_type": "code",
   "execution_count": 20,
   "metadata": {},
   "outputs": [
    {
     "data": {
      "text/plain": [
       "'формат обучения желательно наличие компьютеров и интерактив если нет то показ на проекторе'"
      ]
     },
     "execution_count": 20,
     "metadata": {},
     "output_type": "execute_result"
    }
   ],
   "source": [
    "all_sents[1]"
   ]
  },
  {
   "cell_type": "code",
   "execution_count": 21,
   "metadata": {},
   "outputs": [
    {
     "data": {
      "text/plain": [
       "44944"
      ]
     },
     "execution_count": 21,
     "metadata": {},
     "output_type": "execute_result"
    }
   ],
   "source": [
    "text = ' '.join(all_sents)\n",
    "text = re.sub(r'  ', ' ', text)  # убрать двойные пробелы\n",
    "ALL_WORDS = set(text.strip().split(' '))\n",
    "len(ALL_WORDS)"
   ]
  },
  {
   "cell_type": "code",
   "execution_count": 22,
   "metadata": {},
   "outputs": [
    {
     "data": {
      "text/plain": [
       "[('и', 21757),\n",
       " ('в', 18684),\n",
       " ('на', 7540),\n",
       " ('с', 6533),\n",
       " ('для', 5371),\n",
       " ('по', 4117),\n",
       " ('не', 3524),\n",
       " ('проекта', 3413),\n",
       " ('к', 3142),\n",
       " ('как', 2422)]"
      ]
     },
     "execution_count": 22,
     "metadata": {},
     "output_type": "execute_result"
    }
   ],
   "source": [
    "c = Counter(text.split(' '))\n",
    "c.most_common(10)"
   ]
  },
  {
   "cell_type": "code",
   "execution_count": 23,
   "metadata": {},
   "outputs": [],
   "source": [
    "# удаляем слова с числом повторений меньше 10\n",
    "todelete = set()\n",
    "for i, n in c.items():\n",
    "    if n < 10:\n",
    "        todelete.add(i)\n",
    "        \n",
    "for i in todelete:\n",
    "    del c[i]"
   ]
  },
  {
   "cell_type": "code",
   "execution_count": 24,
   "metadata": {},
   "outputs": [
    {
     "data": {
      "text/plain": [
       "[('и', 21757),\n",
       " ('в', 18684),\n",
       " ('на', 7540),\n",
       " ('с', 6533),\n",
       " ('для', 5371),\n",
       " ('по', 4117),\n",
       " ('не', 3524),\n",
       " ('проекта', 3413),\n",
       " ('к', 3142),\n",
       " ('как', 2422)]"
      ]
     },
     "execution_count": 24,
     "metadata": {},
     "output_type": "execute_result"
    }
   ],
   "source": [
    "c.most_common(10)"
   ]
  },
  {
   "cell_type": "code",
   "execution_count": 25,
   "metadata": {},
   "outputs": [
    {
     "data": {
      "text/plain": [
       "6103"
      ]
     },
     "execution_count": 25,
     "metadata": {},
     "output_type": "execute_result"
    }
   ],
   "source": [
    "len(c.keys())"
   ]
  },
  {
   "cell_type": "code",
   "execution_count": 26,
   "metadata": {},
   "outputs": [
    {
     "data": {
      "text/plain": [
       "6105"
      ]
     },
     "execution_count": 26,
     "metadata": {},
     "output_type": "execute_result"
    }
   ],
   "source": [
    "WORDS_COUNT = len(c.keys())\n",
    "ALL_WORDS = set([w for w, _ in c.most_common(WORDS_COUNT)])\n",
    "INDEX_TO_WORD = ['<pad>', '<miss>'] + list(ALL_WORDS)\n",
    "len(INDEX_TO_WORD)"
   ]
  },
  {
   "cell_type": "code",
   "execution_count": 27,
   "metadata": {},
   "outputs": [
    {
     "data": {
      "text/plain": [
       "['<pad>',\n",
       " '<miss>',\n",
       " 'смены',\n",
       " 'регионах',\n",
       " 'проверка',\n",
       " 'улице',\n",
       " 'где',\n",
       " 'двигаться',\n",
       " 'экономия',\n",
       " 'обстоятельств']"
      ]
     },
     "execution_count": 27,
     "metadata": {},
     "output_type": "execute_result"
    }
   ],
   "source": [
    "WORD_TO_INDEX = {w: i for i, w in enumerate(INDEX_TO_WORD)}\n",
    "INDEX_TO_WORD[:10]"
   ]
  },
  {
   "cell_type": "code",
   "execution_count": 28,
   "metadata": {},
   "outputs": [],
   "source": [
    "%matplotlib inline\n",
    "import matplotlib.pyplot as plt"
   ]
  },
  {
   "cell_type": "code",
   "execution_count": 29,
   "metadata": {},
   "outputs": [
    {
     "data": {
      "text/plain": [
       "(array([7.703e+03, 6.894e+03, 6.249e+03, 4.393e+03, 2.440e+03, 1.389e+03,\n",
       "        8.020e+02, 4.390e+02, 2.600e+02, 1.740e+02, 1.090e+02, 6.600e+01,\n",
       "        5.200e+01, 3.800e+01, 2.600e+01, 2.400e+01, 1.500e+01, 6.000e+00,\n",
       "        5.000e+00, 1.700e+01, 9.000e+00, 6.000e+00, 6.000e+00, 2.000e+00,\n",
       "        4.000e+00, 3.000e+00, 5.000e+00, 1.000e+00, 2.000e+00, 0.000e+00,\n",
       "        1.000e+00, 0.000e+00, 2.000e+00, 0.000e+00, 1.000e+00, 1.000e+00,\n",
       "        1.000e+00, 0.000e+00, 0.000e+00, 0.000e+00, 0.000e+00, 0.000e+00,\n",
       "        0.000e+00, 0.000e+00, 1.000e+00, 1.000e+00, 0.000e+00, 0.000e+00,\n",
       "        0.000e+00, 1.000e+00]),\n",
       " array([  1.  ,   6.98,  12.96,  18.94,  24.92,  30.9 ,  36.88,  42.86,\n",
       "         48.84,  54.82,  60.8 ,  66.78,  72.76,  78.74,  84.72,  90.7 ,\n",
       "         96.68, 102.66, 108.64, 114.62, 120.6 , 126.58, 132.56, 138.54,\n",
       "        144.52, 150.5 , 156.48, 162.46, 168.44, 174.42, 180.4 , 186.38,\n",
       "        192.36, 198.34, 204.32, 210.3 , 216.28, 222.26, 228.24, 234.22,\n",
       "        240.2 , 246.18, 252.16, 258.14, 264.12, 270.1 , 276.08, 282.06,\n",
       "        288.04, 294.02, 300.  ]),\n",
       " <a list of 50 Patch objects>)"
      ]
     },
     "execution_count": 29,
     "metadata": {},
     "output_type": "execute_result"
    },
    {
     "data": {
      "image/png": "[encoded data removed]",
      "text/plain": [
       "<Figure size 432x288 with 1 Axes>"
      ]
     },
     "metadata": {
      "needs_background": "light"
     },
     "output_type": "display_data"
    }
   ],
   "source": [
    "# распреление длины слов в предложении\n",
    "plt.hist([len(s.split(' ')) for s in all_sents], bins=50)"
   ]
  },
  {
   "cell_type": "code",
   "execution_count": 30,
   "metadata": {},
   "outputs": [],
   "source": [
    "MAX_LEN = 30"
   ]
  },
  {
   "cell_type": "code",
   "execution_count": 31,
   "metadata": {},
   "outputs": [
    {
     "name": "stderr",
     "output_type": "stream",
     "text": [
      "100%|██████████| 31148/31148 [00:04<00:00, 6688.39it/s]\n"
     ]
    }
   ],
   "source": [
    "X = torch.zeros((len(all_sents), MAX_LEN), dtype=int)\n",
    "# готовим матрицу - строка - предложение, столбец - индекс слова в этой позиции\n",
    "for i in tqdm(range(len(all_sents))):\n",
    "    for j, w in enumerate(all_sents[i].split(' ')):\n",
    "        if j >= MAX_LEN:\n",
    "            break\n",
    "        X[i, j] = WORD_TO_INDEX.get(w, WORD_TO_INDEX['<miss>'])\n",
    "        \n",
    "X = X.to(dev)"
   ]
  },
  {
   "cell_type": "code",
   "execution_count": 32,
   "metadata": {},
   "outputs": [
    {
     "data": {
      "text/plain": [
       "tensor([[3473, 3161, 4664, 3280, 5652, 3733,   95, 5481, 1009, 2416, 1400, 3178,\n",
       "         5375, 4664,    1,  792,    1,    1,    0,    0,    0,    0,    0,    0,\n",
       "            0,    0,    0,    0,    0,    0]], device='cuda:0')"
      ]
     },
     "execution_count": 32,
     "metadata": {},
     "output_type": "execute_result"
    }
   ],
   "source": [
    "X[0:1]"
   ]
  },
  {
   "cell_type": "code",
   "execution_count": 33,
   "metadata": {},
   "outputs": [
    {
     "data": {
      "text/plain": [
       "torch.Size([31148, 30])"
      ]
     },
     "execution_count": 33,
     "metadata": {},
     "output_type": "execute_result"
    }
   ],
   "source": [
    "X.shape"
   ]
  },
  {
   "cell_type": "code",
   "execution_count": 39,
   "metadata": {},
   "outputs": [],
   "source": [
    "class Network(torch.nn.Module):\n",
    "\n",
    "    def __init__(self, dev):\n",
    "        super(Network, self).__init__()\n",
    "        self.dev = dev\n",
    "        self.word_embeddings = torch.nn.Embedding(len(INDEX_TO_WORD), 200).to(self.dev)\n",
    "        #self.gru = torch.nn.RNN(200, 128, num_layers = 2, nonlinearity = 'relu', batch_first=True).to(self.dev)\n",
    "        self.gru = torch.nn.GRU(200, 128, num_layers = 1, batch_first=True).to(self.dev)\n",
    "        self.hidden2tag = torch.nn.Linear(128, len(INDEX_TO_WORD)).to(self.dev)\n",
    "\n",
    "    def forward(self, sentences):\n",
    "        embeds = self.word_embeddings(sentences)\n",
    "        gru_out, state = self.gru(embeds)\n",
    "        tag_space = self.hidden2tag(gru_out.reshape(-1, 128))\n",
    "        return tag_space.reshape(sentences.shape[0], sentences.shape[1], -1), state\n",
    "    \n",
    "    def forward_state(self, sentences, state):\n",
    "        embeds = self.word_embeddings(sentences)\n",
    "        gru_out, state = self.gru(embeds, state)\n",
    "        tag_space = self.hidden2tag(gru_out.reshape(-1, 128))\n",
    "        return tag_space.reshape(sentences.shape[0], sentences.shape[1], -1), state"
   ]
  },
  {
   "cell_type": "code",
   "execution_count": 40,
   "metadata": {},
   "outputs": [
    {
     "data": {
      "text/plain": [
       "torch.Size([1, 30, 6105])"
      ]
     },
     "execution_count": 40,
     "metadata": {},
     "output_type": "execute_result"
    }
   ],
   "source": [
    "model = Network(dev)\n",
    "model.forward(X[0:1])[0].shape"
   ]
  },
  {
   "cell_type": "code",
   "execution_count": 41,
   "metadata": {},
   "outputs": [],
   "source": [
    "def generate_sentence(line):\n",
    "    sentence = line.split(' ')\n",
    "    #sentence = ['к', 'а', 'к', ' ', 'р', 'а', 'н', 'о',' ']\n",
    "    state = None\n",
    "    for i in range(MAX_LEN):\n",
    "        #X = torch.Tensor([[WORD_TO_INDEX[sentence[i]]]]).type(torch.long)\n",
    "        X = torch.Tensor([[WORD_TO_INDEX.get(sentence[i],WORD_TO_INDEX['<miss>'])]]).type(torch.long)\n",
    "        #get(w, WORD_TO_INDEX['<miss>']\n",
    "        X = X.to(dev)\n",
    "        if i == 0:\n",
    "            result, state = model.forward(X)\n",
    "        else:\n",
    "            result, state = model.forward_state(X, state)\n",
    "        prediction = result[0, -1, :]\n",
    "        index_of_prediction = prediction.argmax()\n",
    "        if i >= len(sentence) - 1:\n",
    "            if index_of_prediction == 0:\n",
    "                break\n",
    "        sentence.append(INDEX_TO_WORD[index_of_prediction])\n",
    "        \n",
    "    line = ' '.join(sentence)\n",
    "    line = re.sub(r'none.*$', '', line)\n",
    "    print(line)"
   ]
  },
  {
   "cell_type": "code",
   "execution_count": 42,
   "metadata": {},
   "outputs": [
    {
     "name": "stdout",
     "output_type": "stream",
     "text": [
      "проект направлен долголетие степени тенденции фундаментальных районы семейных пригодится секторов производственного проходят муниципальных 40 родного петербурга каких продуктах юридические задачей экскурсия будущее пособий вторая заграншкол несмотря проектную несмотря формат фонд интересен адаптированных\n"
     ]
    }
   ],
   "source": [
    "generate_sentence('проект направлен')"
   ]
  },
  {
   "cell_type": "code",
   "execution_count": 64,
   "metadata": {},
   "outputs": [],
   "source": [
    "lrate = 2\n",
    "\n",
    "criterion = torch.nn.CrossEntropyLoss()\n",
    "optimizer = torch.optim.SGD(model.parameters(), lr=lrate)\n",
    "#optimizer = torch.optim.Adam(model.parameters(), lr=lrate)"
   ]
  },
  {
   "cell_type": "code",
   "execution_count": 69,
   "metadata": {},
   "outputs": [
    {
     "name": "stdout",
     "output_type": "stream",
     "text": [
      "Epoch 0. Time: 7.647, Train loss: 206.965\n",
      "Epoch 1. Time: 7.626, Train loss: 205.983\n",
      "Epoch 2. Time: 7.627, Train loss: 205.235\n",
      "Epoch 3. Time: 7.628, Train loss: 204.744\n",
      "Epoch 4. Time: 7.642, Train loss: 203.851\n",
      "Epoch 5. Time: 7.647, Train loss: 203.211\n",
      "Epoch 6. Time: 7.672, Train loss: 202.585\n",
      "Epoch 7. Time: 7.668, Train loss: 201.690\n",
      "Epoch 8. Time: 7.663, Train loss: 201.203\n",
      "Epoch 9. Time: 7.681, Train loss: 201.711\n",
      "Epoch 10. Time: 7.690, Train loss: 202.412\n",
      "Epoch 11. Time: 7.689, Train loss: 202.599\n",
      "Epoch 12. Time: 7.680, Train loss: 201.194\n",
      "Epoch 13. Time: 7.691, Train loss: 200.244\n",
      "Epoch 14. Time: 7.683, Train loss: 199.722\n",
      "Epoch 15. Time: 7.689, Train loss: 198.896\n",
      "Epoch 16. Time: 7.688, Train loss: 197.967\n",
      "Epoch 17. Time: 7.707, Train loss: 197.693\n",
      "Epoch 18. Time: 7.734, Train loss: 198.327\n",
      "Epoch 19. Time: 7.741, Train loss: 198.075\n",
      "Epoch 20. Time: 7.740, Train loss: 196.979\n",
      "Epoch 21. Time: 7.738, Train loss: 196.453\n",
      "Epoch 22. Time: 7.736, Train loss: 196.075\n",
      "Epoch 23. Time: 7.795, Train loss: 195.651\n",
      "Epoch 24. Time: 7.738, Train loss: 195.239\n",
      "Epoch 25. Time: 7.737, Train loss: 194.601\n",
      "Epoch 26. Time: 7.745, Train loss: 193.890\n",
      "Epoch 27. Time: 7.736, Train loss: 193.344\n",
      "Epoch 28. Time: 7.745, Train loss: 192.518\n",
      "Epoch 29. Time: 7.747, Train loss: 192.073\n",
      "Epoch 30. Time: 7.751, Train loss: 191.571\n",
      "Epoch 31. Time: 7.745, Train loss: 191.453\n",
      "Epoch 32. Time: 7.754, Train loss: 191.420\n",
      "Epoch 33. Time: 7.746, Train loss: 190.783\n",
      "Epoch 34. Time: 7.775, Train loss: 190.006\n",
      "Epoch 35. Time: 7.779, Train loss: 189.309\n",
      "Epoch 36. Time: 7.787, Train loss: 188.876\n",
      "Epoch 37. Time: 7.785, Train loss: 188.429\n",
      "Epoch 38. Time: 7.828, Train loss: 187.944\n",
      "Epoch 39. Time: 7.820, Train loss: 187.555\n",
      "Epoch 40. Time: 7.822, Train loss: 187.457\n",
      "Epoch 41. Time: 7.823, Train loss: 186.930\n",
      "Epoch 42. Time: 7.823, Train loss: 186.381\n",
      "Epoch 43. Time: 7.821, Train loss: 185.700\n",
      "Epoch 44. Time: 7.820, Train loss: 185.229\n",
      "Epoch 45. Time: 7.828, Train loss: 184.999\n",
      "Epoch 46. Time: 7.822, Train loss: 184.815\n",
      "Epoch 47. Time: 7.845, Train loss: 184.431\n",
      "Epoch 48. Time: 7.848, Train loss: 183.945\n",
      "Epoch 49. Time: 7.851, Train loss: 183.687\n",
      "Epoch 50. Time: 7.855, Train loss: 183.557\n",
      "Epoch 51. Time: 7.854, Train loss: 184.316\n",
      "Epoch 52. Time: 7.849, Train loss: 184.015\n",
      "Epoch 53. Time: 7.852, Train loss: 183.357\n",
      "Epoch 54. Time: 7.854, Train loss: 183.418\n",
      "Epoch 55. Time: 7.853, Train loss: 183.068\n",
      "Epoch 56. Time: 7.856, Train loss: 182.535\n",
      "Epoch 57. Time: 7.860, Train loss: 182.263\n",
      "Epoch 58. Time: 7.886, Train loss: 181.829\n",
      "Epoch 59. Time: 7.874, Train loss: 181.782\n",
      "Epoch 60. Time: 7.845, Train loss: 181.824\n",
      "Epoch 61. Time: 7.863, Train loss: 181.702\n",
      "Epoch 62. Time: 7.866, Train loss: 181.552\n",
      "Epoch 63. Time: 7.870, Train loss: 180.823\n",
      "Epoch 64. Time: 7.890, Train loss: 180.435\n",
      "Epoch 65. Time: 7.890, Train loss: 181.017\n",
      "Epoch 66. Time: 7.890, Train loss: 181.386\n",
      "Epoch 67. Time: 7.891, Train loss: 181.014\n",
      "Epoch 68. Time: 7.893, Train loss: 181.033\n",
      "Epoch 69. Time: 7.890, Train loss: 180.944\n",
      "Epoch 70. Time: 7.890, Train loss: 180.335\n",
      "Epoch 71. Time: 7.892, Train loss: 181.138\n",
      "Epoch 72. Time: 7.890, Train loss: 181.500\n",
      "Epoch 73. Time: 7.947, Train loss: 180.927\n",
      "Epoch 74. Time: 7.857, Train loss: 180.702\n",
      "Epoch 75. Time: 7.852, Train loss: 180.069\n",
      "Epoch 76. Time: 7.885, Train loss: 179.729\n",
      "Epoch 77. Time: 7.873, Train loss: 179.225\n",
      "Epoch 78. Time: 7.866, Train loss: 178.967\n",
      "Epoch 79. Time: 7.872, Train loss: 178.640\n",
      "Epoch 80. Time: 7.918, Train loss: 178.219\n",
      "Epoch 81. Time: 7.913, Train loss: 177.810\n",
      "Epoch 82. Time: 7.906, Train loss: 177.477\n",
      "Epoch 83. Time: 7.909, Train loss: 176.991\n",
      "Epoch 84. Time: 7.907, Train loss: 176.636\n",
      "Epoch 85. Time: 7.904, Train loss: 176.396\n",
      "Epoch 86. Time: 7.874, Train loss: 176.121\n",
      "Epoch 87. Time: 7.867, Train loss: 175.825\n",
      "Epoch 88. Time: 7.871, Train loss: 175.768\n",
      "Epoch 89. Time: 7.870, Train loss: 175.757\n",
      "Epoch 90. Time: 7.867, Train loss: 175.309\n",
      "Epoch 91. Time: 7.870, Train loss: 174.988\n",
      "Epoch 92. Time: 7.868, Train loss: 174.769\n",
      "Epoch 93. Time: 7.871, Train loss: 174.998\n",
      "Epoch 94. Time: 7.867, Train loss: 174.867\n",
      "Epoch 95. Time: 7.871, Train loss: 175.201\n"
     ]
    },
    {
     "ename": "KeyboardInterrupt",
     "evalue": "",
     "output_type": "error",
     "traceback": [
      "\u001b[1;31m---------------------------------------------------------------------------\u001b[0m",
      "\u001b[1;31mKeyboardInterrupt\u001b[0m                         Traceback (most recent call last)",
      "\u001b[1;32m<ipython-input-69-eb2dd88e934a>\u001b[0m in \u001b[0;36m<module>\u001b[1;34m\u001b[0m\n\u001b[0;32m     16\u001b[0m         \u001b[0manswers\u001b[0m \u001b[1;33m=\u001b[0m \u001b[0manswers\u001b[0m\u001b[1;33m.\u001b[0m\u001b[0mview\u001b[0m\u001b[1;33m(\u001b[0m\u001b[1;33m-\u001b[0m\u001b[1;36m1\u001b[0m\u001b[1;33m,\u001b[0m \u001b[0mlen\u001b[0m\u001b[1;33m(\u001b[0m\u001b[0mINDEX_TO_WORD\u001b[0m\u001b[1;33m)\u001b[0m\u001b[1;33m)\u001b[0m\u001b[1;33m\u001b[0m\u001b[1;33m\u001b[0m\u001b[0m\n\u001b[0;32m     17\u001b[0m         \u001b[0mloss\u001b[0m \u001b[1;33m=\u001b[0m \u001b[0mcriterion\u001b[0m\u001b[1;33m(\u001b[0m\u001b[0manswers\u001b[0m\u001b[1;33m,\u001b[0m \u001b[0mY_batch\u001b[0m\u001b[1;33m)\u001b[0m\u001b[1;33m\u001b[0m\u001b[1;33m\u001b[0m\u001b[0m\n\u001b[1;32m---> 18\u001b[1;33m         \u001b[0mtrain_loss\u001b[0m \u001b[1;33m+=\u001b[0m \u001b[0mloss\u001b[0m\u001b[1;33m.\u001b[0m\u001b[0mitem\u001b[0m\u001b[1;33m(\u001b[0m\u001b[1;33m)\u001b[0m\u001b[1;33m\u001b[0m\u001b[1;33m\u001b[0m\u001b[0m\n\u001b[0m\u001b[0;32m     19\u001b[0m \u001b[1;33m\u001b[0m\u001b[0m\n\u001b[0;32m     20\u001b[0m         \u001b[0mloss\u001b[0m\u001b[1;33m.\u001b[0m\u001b[0mbackward\u001b[0m\u001b[1;33m(\u001b[0m\u001b[1;33m)\u001b[0m\u001b[1;33m\u001b[0m\u001b[1;33m\u001b[0m\u001b[0m\n",
      "\u001b[1;31mKeyboardInterrupt\u001b[0m: "
     ]
    }
   ],
   "source": [
    "count = 0\n",
    "\n",
    "for ep in range(2000):\n",
    "    \n",
    "    start = time.time()\n",
    "    train_loss = 0.\n",
    "    train_passed = 0\n",
    "    \n",
    "    for i in range(int(len(X) / 100)):\n",
    "        batch = X[i * 100:(i + 1) * 100]\n",
    "        X_batch = batch[:, :-1]\n",
    "        Y_batch = batch[:, 1:].flatten()\n",
    "\n",
    "        optimizer.zero_grad()\n",
    "        answers, _ = model.forward(X_batch)\n",
    "        answers = answers.view(-1, len(INDEX_TO_WORD))\n",
    "        loss = criterion(answers, Y_batch)\n",
    "        train_loss += loss.item()\n",
    "\n",
    "        loss.backward()\n",
    "        optimizer.step()\n",
    "        train_passed += 1\n",
    "    end = time.time()\n",
    "    \n",
    "    count += 1\n",
    "    if count == 1:\n",
    "        count = 0\n",
    "        trloss = train_loss / train_passed\n",
    "        print(\"Epoch {}. Time: {:.3f}, Train loss: {:.3f}\".format(ep, end - start, trloss))\n",
    "        #generate_sentence('проект позволяет')"
   ]
  },
  {
   "cell_type": "code",
   "execution_count": 66,
   "metadata": {},
   "outputs": [
    {
     "name": "stdout",
     "output_type": "stream",
     "text": [
      "история <miss> <miss> <miss> <miss> <miss> <miss> <miss> <miss> <miss> <miss> <miss> <miss> <miss> <miss> <miss> <miss> <miss> <miss> <miss> <miss> <miss> <miss> <miss> <miss> <miss> <miss> <miss> <miss> <miss> <miss>\n"
     ]
    }
   ],
   "source": [
    "generate_sentence('история')"
   ]
  },
  {
   "cell_type": "code",
   "execution_count": 67,
   "metadata": {},
   "outputs": [
    {
     "data": {
      "text/plain": [
       "[('и', 21757),\n",
       " ('в', 18684),\n",
       " ('на', 7540),\n",
       " ('с', 6533),\n",
       " ('для', 5371),\n",
       " ('по', 4117),\n",
       " ('не', 3524),\n",
       " ('проекта', 3413),\n",
       " ('к', 3142),\n",
       " ('как', 2422),\n",
       " ('что', 2298),\n",
       " ('а', 2041),\n",
       " ('детей', 1997),\n",
       " ('из', 1893),\n",
       " ('о', 1651),\n",
       " ('проект', 1626),\n",
       " ('это', 1586),\n",
       " ('их', 1507),\n",
       " ('или', 1477),\n",
       " ('от', 1449),\n",
       " ('1', 1315),\n",
       " ('–', 1285),\n",
       " ('будет', 1283),\n",
       " ('у', 1203),\n",
       " ('образования', 1184),\n",
       " ('при', 1184),\n",
       " ('2', 1170),\n",
       " ('которые', 1116),\n",
       " ('за', 1075),\n",
       " ('также', 1052),\n",
       " ('3', 1010),\n",
       " ('развития', 987),\n",
       " ('но', 983),\n",
       " ('работы', 973),\n",
       " ('так', 973),\n",
       " ('обучения', 933),\n",
       " ('реализации', 926),\n",
       " ('жизни', 909),\n",
       " ('будут', 877),\n",
       " ('россии', 787),\n",
       " ('профессии', 767),\n",
       " ('может', 764),\n",
       " ('создание', 763),\n",
       " ('области', 763),\n",
       " ('людей', 759),\n",
       " ('деятельности', 758),\n",
       " ('быть', 735),\n",
       " ('только', 709),\n",
       " ('т', 708),\n",
       " ('то', 705),\n",
       " ('рамках', 705),\n",
       " ('до', 705),\n",
       " ('можно', 704),\n",
       " ('школьников', 701),\n",
       " ('более', 693),\n",
       " ('время', 686),\n",
       " ('проведение', 679),\n",
       " ('все', 676),\n",
       " ('4', 669),\n",
       " ('они', 660),\n",
       " ('развитие', 655),\n",
       " ('школы', 651),\n",
       " ('том', 650),\n",
       " ('населения', 641),\n",
       " ('себя', 639),\n",
       " ('я', 629),\n",
       " ('является', 628),\n",
       " ('его', 627),\n",
       " ('мы', 625),\n",
       " ('дети', 623),\n",
       " ('чтобы', 623),\n",
       " ('возможность', 615),\n",
       " ('могут', 612),\n",
       " ('со', 611),\n",
       " ('5', 608),\n",
       " ('знаний', 604),\n",
       " ('лет', 585),\n",
       " ('обучение', 580),\n",
       " ('детских', 575),\n",
       " ('специалистов', 569),\n",
       " ('во', 544),\n",
       " ('необходимо', 536),\n",
       " ('родителей', 525),\n",
       " ('образовательных', 520),\n",
       " ('цель', 519),\n",
       " ('организации', 515),\n",
       " ('уже', 511),\n",
       " ('программы', 509),\n",
       " ('классов', 499),\n",
       " ('через', 498),\n",
       " ('школ', 492),\n",
       " ('этом', 489),\n",
       " ('студентов', 488),\n",
       " ('мероприятий', 483),\n",
       " ('знания', 483),\n",
       " ('им', 481),\n",
       " ('страны', 479),\n",
       " ('формирование', 476),\n",
       " ('грамотности', 475),\n",
       " ('повышение', 473)]"
      ]
     },
     "execution_count": 67,
     "metadata": {},
     "output_type": "execute_result"
    }
   ],
   "source": [
    "c.most_common(100)"
   ]
  },
  {
   "cell_type": "code",
   "execution_count": null,
   "metadata": {},
   "outputs": [],
   "source": []
  }
 ],
 "metadata": {
  "kernelspec": {
   "display_name": "Python 3",
   "language": "python",
   "name": "python3"
  },
  "language_info": {
   "codemirror_mode": {
    "name": "ipython",
    "version": 3
   },
   "file_extension": ".py",
   "mimetype": "text/x-python",
   "name": "python",
   "nbconvert_exporter": "python",
   "pygments_lexer": "ipython3",
   "version": "3.7.4"
  }
 },
 "nbformat": 4,
 "nbformat_minor": 4
}
