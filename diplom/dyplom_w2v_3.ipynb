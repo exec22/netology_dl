{
 "cells": [
  {
   "cell_type": "code",
   "execution_count": 1,
   "metadata": {},
   "outputs": [],
   "source": [
    "from bs4 import BeautifulSoup\n",
    "import re\n",
    "import os\n",
    "from tqdm import tqdm\n",
    "from collections import Counter\n",
    "import torch\n",
    "import time\n",
    "import gensim\n",
    "import pymorphy2\n",
    "import numpy as np"
   ]
  },
  {
   "cell_type": "code",
   "execution_count": 2,
   "metadata": {},
   "outputs": [
    {
     "data": {
      "text/plain": [
       "device(type='cuda')"
      ]
     },
     "execution_count": 2,
     "metadata": {},
     "output_type": "execute_result"
    }
   ],
   "source": [
    "dev = torch.device(\"cuda\") if torch.cuda.is_available() else torch.device(\"cpu\")\n",
    "dev"
   ]
  },
  {
   "cell_type": "code",
   "execution_count": 3,
   "metadata": {},
   "outputs": [
    {
     "name": "stderr",
     "output_type": "stream",
     "text": [
      "100%|██████████| 6605/6605 [00:36<00:00, 180.02it/s]\n"
     ]
    }
   ],
   "source": [
    "proj_types, proj_names, proj_descrs = [],[],[]\n",
    "folders = os.listdir('texts')\n",
    "for folder in tqdm(folders):\n",
    "    f = open(f\"texts/{folder}/choose\", \"r\", encoding=\"utf-8\")\n",
    "    contents = f.read()\n",
    "    soup = BeautifulSoup(contents, 'lxml')\n",
    "    founded = soup.find_all('div', {'class': 'lr-project-value'})\n",
    "    proj_types.append( re.sub(r'[\\n\\t]', '', founded[1].get_text().lower()) )\n",
    "    proj_names.append( re.sub(r'[\\n\\t]', '', founded[3].get_text().lower()) )\n",
    "    proj_descrs.append( re.sub(r'[\\n\\t]', '', founded[4].get_text().lower()) )\n",
    "    f.close()\n",
    "    \n"
   ]
  },
  {
   "cell_type": "code",
   "execution_count": 4,
   "metadata": {},
   "outputs": [],
   "source": [
    "from collections import defaultdict"
   ]
  },
  {
   "cell_type": "code",
   "execution_count": 5,
   "metadata": {},
   "outputs": [
    {
     "name": "stdout",
     "output_type": "stream",
     "text": [
      "другое: 2206\n",
      "просвещение и образование — новые форматы и темы: 1851\n",
      "зож: профилактика, а не лечение: 570\n",
      "семья: сохранение традиций и ценностей: 533\n",
      "искусственный интеллект и современные технологии на службе обществу: 523\n",
      "75-я годовщина со дня победы в великой отечественной войне: 308\n",
      "правовая защита граждан и предпринимателей: 216\n",
      "проекты в области науки: 159\n",
      "внутренний туризм: новые формы, новые маршруты: 157\n",
      "культурно-историческое наследие россии: 82\n"
     ]
    }
   ],
   "source": [
    "types_dict = defaultdict(int)\n",
    "for proj_type in (proj_types):\n",
    "    types_dict[proj_type] += 1\n",
    "    \n",
    "for key, value in sorted(types_dict.items(), key=lambda item: item[1], reverse = True):\n",
    "    print(\"%s: %s\" % (key, value))"
   ]
  },
  {
   "cell_type": "code",
   "execution_count": 6,
   "metadata": {},
   "outputs": [],
   "source": [
    "topic = 'просвещение и образование — новые форматы и темы'"
   ]
  },
  {
   "cell_type": "code",
   "execution_count": 7,
   "metadata": {},
   "outputs": [],
   "source": [
    "names, descrs = [], []\n",
    "for i in range( len(proj_names) ):\n",
    "    if proj_types[i] == topic:\n",
    "        names.append( proj_names[i] )\n",
    "        descrs.append( proj_descrs[i] )"
   ]
  },
  {
   "cell_type": "code",
   "execution_count": 8,
   "metadata": {},
   "outputs": [
    {
     "data": {
      "text/plain": [
       "1851"
      ]
     },
     "execution_count": 8,
     "metadata": {},
     "output_type": "execute_result"
    }
   ],
   "source": [
    "len(names)"
   ]
  },
  {
   "cell_type": "code",
   "execution_count": 9,
   "metadata": {},
   "outputs": [],
   "source": [
    "# process text\n",
    "for i in range( len(names) ):\n",
    "    # lowcase, no , - : ; ( ) \" ' « » and .\n",
    "    #line = names[i].lower()\n",
    "    line = names[i]\n",
    "    line = re.sub(r'[\\,\\-\\:\\;\\(\\)\\\"\\«\\»\\.\\!\\\\\\/]', ' ', line)\n",
    "    line = re.sub(r\"\\'\", ' ', line)\n",
    "    # change all ... to space\n",
    "    line = re.sub(r'\\.+', ' ', line)\n",
    "    # no doublespace\n",
    "    line = re.sub(r' +', ' ', line)\n",
    "    # no space after .\n",
    "    #line = re.sub(r'\\. ', '.', line)\n",
    "    names[i] = line.strip()\n",
    "    \n",
    "    # lowcase, no , - : ; ( ) \" ' « » keep .\n",
    "    #line = descrs[i].lower()\n",
    "    line = descrs[i]\n",
    "    line = re.sub(r'[\\,\\-\\:\\;\\(\\)\\\"\\«\\»\\\\\\/]', ' ', line)\n",
    "    line = re.sub(r\"\\'\", ' ', line)\n",
    "    # change all ... to .\n",
    "    line = re.sub(r'\\.+', '.', line)\n",
    "    # ! > .\n",
    "    line = re.sub(r'\\!', \".\", line)\n",
    "    # no doublespace\n",
    "    line = re.sub(r' +', ' ', line)\n",
    "    # no space after .\n",
    "    line = re.sub(r'\\. ', '.', line)\n",
    "    # change all ... to .\n",
    "    line = re.sub(r'\\.+', '.', line)\n",
    "    descrs[i] = line.strip()\n",
    "    \n"
   ]
  },
  {
   "cell_type": "code",
   "execution_count": 10,
   "metadata": {},
   "outputs": [
    {
     "data": {
      "text/plain": [
       "'проект нацелен на популяризацию образования в научной сфере заключается в проведении ряда семинаров для школьников открывающих путь к успеху в науке'"
      ]
     },
     "execution_count": 10,
     "metadata": {},
     "output_type": "execute_result"
    }
   ],
   "source": [
    "names[0]"
   ]
  },
  {
   "cell_type": "code",
   "execution_count": 11,
   "metadata": {},
   "outputs": [
    {
     "data": {
      "text/plain": [
       "'на сегодняшний день существует социальная проблема связанная с отсутствием информированности школьников о возможностях различных профессий в том числе профессий в области науки.зачастую школьники выбирают дальнейший путь развития с помощью родительского примера информации из сми и других источников о популярности и денежности той или иной сферы.при этом даже будучи студентами вузов не представляют о деятельности по будущей профессии.это значительно влияет на их мотивацию не только во время учебы но и сказывается на эффективности последующей работы.идея проекта заключается в том чтобы перенести школьников на этап работы учёным показать им образ их будущего в данной профессии что позволит выявить вдохновить и направить тех кто будет наиболее эффективным при обучении и работе в этой сфере.на практике будет организован ряд интерактивных семинаров на базе научно исследовательской лаборатории мгту им.н.э.баумана отражающий жизнь и работу в сфере науки погружающий и заинтересовывающий школьников.на семинарах будут представлены этапы создания инновационных продуктов отмечены способы и пути их коммерциализации освещены вопросы публикационной деятельности ученых финансовой поддержки государственных грантов а главное в игровой форме предлагается провести командную работу над научным проектом.для молодых людей такой формат мероприятия оставит хорошее впечатление и будет являться стимулом для связывания их карьеры с таким сложным но одним из важнейших для нашей страны направлением как наука позволяющим в глобальном масштабе повысить уровень экономического развития и лидерства среди развитых государств.в дальнейшем планируется масштабировать данный пилотный проект.'"
      ]
     },
     "execution_count": 11,
     "metadata": {},
     "output_type": "execute_result"
    }
   ],
   "source": [
    "descrs[0]"
   ]
  },
  {
   "cell_type": "markdown",
   "metadata": {},
   "source": [
    "### Пробуем просто все предложения данной тематике собрать в кучу"
   ]
  },
  {
   "cell_type": "code",
   "execution_count": 12,
   "metadata": {},
   "outputs": [],
   "source": [
    "all_sents = []\n",
    "max_slen = 0\n",
    "for i in range(len(descrs)):\n",
    "    sents = descrs[i].split('.')\n",
    "    for j in range(len(sents)):\n",
    "        sents[j] = sents[j].strip()\n",
    "        slen = len(sents[j])\n",
    "        if slen > 0:\n",
    "            all_sents.append(sents[j])"
   ]
  },
  {
   "cell_type": "code",
   "execution_count": 13,
   "metadata": {},
   "outputs": [
    {
     "data": {
      "text/plain": [
       "31148"
      ]
     },
     "execution_count": 13,
     "metadata": {},
     "output_type": "execute_result"
    }
   ],
   "source": [
    "len(all_sents)"
   ]
  },
  {
   "cell_type": "code",
   "execution_count": 14,
   "metadata": {},
   "outputs": [
    {
     "data": {
      "text/plain": [
       "'зачастую школьники выбирают дальнейший путь развития с помощью родительского примера информации из сми и других источников о популярности и денежности той или иной сферы'"
      ]
     },
     "execution_count": 14,
     "metadata": {},
     "output_type": "execute_result"
    }
   ],
   "source": [
    "all_sents[1]"
   ]
  },
  {
   "cell_type": "code",
   "execution_count": 15,
   "metadata": {},
   "outputs": [
    {
     "data": {
      "text/plain": [
       "44944"
      ]
     },
     "execution_count": 15,
     "metadata": {},
     "output_type": "execute_result"
    }
   ],
   "source": [
    "text = ' '.join(all_sents)\n",
    "text = re.sub(r'  ', ' ', text)  # убрать двойные пробелы\n",
    "ALL_WORDS = set(text.strip().split(' '))\n",
    "len(ALL_WORDS)"
   ]
  },
  {
   "cell_type": "code",
   "execution_count": 16,
   "metadata": {},
   "outputs": [
    {
     "data": {
      "text/plain": [
       "[('и', 21757),\n",
       " ('в', 18684),\n",
       " ('на', 7540),\n",
       " ('с', 6533),\n",
       " ('для', 5371),\n",
       " ('по', 4117),\n",
       " ('не', 3524),\n",
       " ('проекта', 3413),\n",
       " ('к', 3142),\n",
       " ('как', 2422)]"
      ]
     },
     "execution_count": 16,
     "metadata": {},
     "output_type": "execute_result"
    }
   ],
   "source": [
    "c = Counter(text.split(' '))\n",
    "c.most_common(10)"
   ]
  },
  {
   "cell_type": "code",
   "execution_count": 17,
   "metadata": {},
   "outputs": [],
   "source": [
    "# # удаляем слова с числом повторений меньше 10\n",
    "# todelete = set()\n",
    "# for i, n in c.items():\n",
    "#     if n < 10:\n",
    "#         todelete.add(i)\n",
    "        \n",
    "# for i in todelete:\n",
    "#     del c[i]"
   ]
  },
  {
   "cell_type": "code",
   "execution_count": 18,
   "metadata": {},
   "outputs": [
    {
     "data": {
      "text/plain": [
       "44944"
      ]
     },
     "execution_count": 18,
     "metadata": {},
     "output_type": "execute_result"
    }
   ],
   "source": [
    "len(c.keys())"
   ]
  },
  {
   "cell_type": "code",
   "execution_count": 19,
   "metadata": {},
   "outputs": [],
   "source": [
    "model_w2v = gensim.models.KeyedVectors.load_word2vec_format('embed_models/183 - ruwikiruscorpora-func_upos_skipgram_300_5_2019/model.bin', binary=True)\n",
    "model_w2v_weights = torch.FloatTensor(model_w2v.vectors).to(dev)"
   ]
  },
  {
   "cell_type": "code",
   "execution_count": 20,
   "metadata": {},
   "outputs": [
    {
     "data": {
      "text/plain": [
       "300"
      ]
     },
     "execution_count": 20,
     "metadata": {},
     "output_type": "execute_result"
    }
   ],
   "source": [
    "#weights = torch.FloatTensor(model.vectors) # formerly syn0, which is soon deprecated\n",
    "EMBED_SIZE = model_w2v.vector_size\n",
    "EMBED_SIZE"
   ]
  },
  {
   "cell_type": "code",
   "execution_count": 21,
   "metadata": {},
   "outputs": [
    {
     "data": {
      "text/plain": [
       "44946"
      ]
     },
     "execution_count": 21,
     "metadata": {},
     "output_type": "execute_result"
    }
   ],
   "source": [
    "WORDS_COUNT = len(c.keys())\n",
    "ALL_WORDS = set([w for w, _ in c.most_common(WORDS_COUNT)])\n",
    "INDEX_TO_WORD = ['<pad>', '<miss>'] + list(ALL_WORDS)\n",
    "len(INDEX_TO_WORD)"
   ]
  },
  {
   "cell_type": "code",
   "execution_count": 22,
   "metadata": {},
   "outputs": [
    {
     "data": {
      "text/plain": [
       "['<pad>',\n",
       " '<miss>',\n",
       " 'благотворительности',\n",
       " '\\uf02dскоординированность',\n",
       " 'перерывов',\n",
       " 'коллективные',\n",
       " 'поддержать',\n",
       " 'ощущали',\n",
       " 'индивидууму',\n",
       " 'индия']"
      ]
     },
     "execution_count": 22,
     "metadata": {},
     "output_type": "execute_result"
    }
   ],
   "source": [
    "WORD_TO_INDEX = {w: i for i, w in enumerate(INDEX_TO_WORD)}\n",
    "INDEX_TO_WORD[:10]"
   ]
  },
  {
   "cell_type": "code",
   "execution_count": 23,
   "metadata": {},
   "outputs": [],
   "source": [
    "# create word_index to embedding array\n",
    "index_to_embedding = torch.zeros([len(INDEX_TO_WORD), EMBED_SIZE], dtype=torch.float32)\n",
    "cotags = {'ADJF':'ADJ', # pymorphy2: word2vec \n",
    "'ADJS' : 'ADJ', \n",
    "'ADVB' : 'ADV', \n",
    "'COMP' : 'ADV', \n",
    "'GRND' : 'VERB', \n",
    "'INFN' : 'VERB', \n",
    "'NOUN' : 'NOUN', \n",
    "'PRED' : 'ADV', \n",
    "'PRTF' : 'ADJ', \n",
    "'PRTS' : 'VERB', \n",
    "'VERB' : 'VERB',\n",
    "# my\n",
    "'CONJ' : 'ADV',\n",
    "'INTJ' : 'NOUN',\n",
    "'PREP' : 'PROPN',\n",
    "'NUMR' : 'NUM',\n",
    "'PRCL' : 'PROPN',\n",
    "'NPRO' : 'PRON'\n",
    "         }"
   ]
  },
  {
   "cell_type": "code",
   "execution_count": 24,
   "metadata": {},
   "outputs": [
    {
     "name": "stderr",
     "output_type": "stream",
     "text": [
      "100%|██████████| 44944/44944 [00:07<00:00, 5711.49it/s]"
     ]
    },
    {
     "name": "stdout",
     "output_type": "stream",
     "text": [
      "Not found pmorphy2: 2700, not found in w2v: 6173\n"
     ]
    },
    {
     "name": "stderr",
     "output_type": "stream",
     "text": [
      "\n"
     ]
    }
   ],
   "source": [
    "morph = pymorphy2.MorphAnalyzer()\n",
    "PAD_WORD = 'сингулярность'\n",
    "MISS_WORD = 'хрень'\n",
    "#index_to_embedding[0] = torch.from_numpy( model_w2v[PAD_WORD+\"_NOUN\"] )\n",
    "index_to_embedding[0] = torch.zeros(EMBED_SIZE)\n",
    "index_to_embedding[1] = torch.from_numpy( model_w2v[MISS_WORD+\"_NOUN\"] )\n",
    "\n",
    "cnotfound_in_pymorphy = 0\n",
    "cnotfound_in_w2v = 0\n",
    "\n",
    "for i in tqdm( range(2,len(INDEX_TO_WORD)) ):\n",
    "    word = INDEX_TO_WORD[i]\n",
    "    #print (word)\n",
    "    info = morph.parse(word)[0]\n",
    "    if ('UNKN' in info.tag) or ('LATN' in info.tag) or ('NUMB' in info.tag) or ('PNCT' in info.tag) or ('ROMN' in info.tag):\n",
    "        info = morph.parse(MISS_WORD)[0]\n",
    "        cnotfound_in_pymorphy += 1\n",
    "    w2v_form = info.normal_form + \"_\" + cotags[info.tag.POS]\n",
    "    if w2v_form in model_w2v:\n",
    "        index_to_embedding[i] = torch.from_numpy( model_w2v[w2v_form] )\n",
    "    else:\n",
    "        cnotfound_in_w2v += 1\n",
    "        index_to_embedding[i] = torch.zeros(model_w2v.vector_size)\n",
    "\n",
    "print (f'Not found pmorphy2: {cnotfound_in_pymorphy}, not found in w2v: {cnotfound_in_w2v}')"
   ]
  },
  {
   "cell_type": "code",
   "execution_count": 25,
   "metadata": {},
   "outputs": [
    {
     "data": {
      "text/plain": [
       "[Parse(word='красивый', tag=OpencorporaTag('ADJF,Qual masc,sing,nomn'), normal_form='красивый', score=0.5, methods_stack=((<DictionaryAnalyzer>, 'красивый', 1800, 0),)),\n",
       " Parse(word='красивый', tag=OpencorporaTag('ADJF,Qual inan,masc,sing,accs'), normal_form='красивый', score=0.5, methods_stack=((<DictionaryAnalyzer>, 'красивый', 1800, 4),))]"
      ]
     },
     "execution_count": 25,
     "metadata": {},
     "output_type": "execute_result"
    }
   ],
   "source": [
    "morph.parse('красивый')"
   ]
  },
  {
   "cell_type": "code",
   "execution_count": 26,
   "metadata": {},
   "outputs": [
    {
     "data": {
      "text/plain": [
       "Parse(word='красивая', tag=OpencorporaTag('ADJF,Qual femn,sing,nomn'), normal_form='красивый', score=1.0, methods_stack=((<DictionaryAnalyzer>, 'красивая', 1800, 7),))"
      ]
     },
     "execution_count": 26,
     "metadata": {},
     "output_type": "execute_result"
    }
   ],
   "source": [
    "beau = morph.parse('красивая')[0]\n",
    "beau"
   ]
  },
  {
   "cell_type": "code",
   "execution_count": 27,
   "metadata": {},
   "outputs": [
    {
     "data": {
      "text/plain": [
       "Parse(word='красивая', tag=OpencorporaTag('ADJF,Qual femn,sing,nomn'), normal_form='красивый', score=1.0, methods_stack=((<DictionaryAnalyzer>, 'красивая', 1800, 7),))"
      ]
     },
     "execution_count": 27,
     "metadata": {},
     "output_type": "execute_result"
    }
   ],
   "source": [
    "beau.inflect({'femn'})"
   ]
  },
  {
   "cell_type": "code",
   "execution_count": 28,
   "metadata": {},
   "outputs": [],
   "source": [
    "%matplotlib inline\n",
    "import matplotlib.pyplot as plt"
   ]
  },
  {
   "cell_type": "code",
   "execution_count": 29,
   "metadata": {},
   "outputs": [
    {
     "data": {
      "text/plain": [
       "(array([7.703e+03, 6.894e+03, 6.249e+03, 4.393e+03, 2.440e+03, 1.389e+03,\n",
       "        8.020e+02, 4.390e+02, 2.600e+02, 1.740e+02, 1.090e+02, 6.600e+01,\n",
       "        5.200e+01, 3.800e+01, 2.600e+01, 2.400e+01, 1.500e+01, 6.000e+00,\n",
       "        5.000e+00, 1.700e+01, 9.000e+00, 6.000e+00, 6.000e+00, 2.000e+00,\n",
       "        4.000e+00, 3.000e+00, 5.000e+00, 1.000e+00, 2.000e+00, 0.000e+00,\n",
       "        1.000e+00, 0.000e+00, 2.000e+00, 0.000e+00, 1.000e+00, 1.000e+00,\n",
       "        1.000e+00, 0.000e+00, 0.000e+00, 0.000e+00, 0.000e+00, 0.000e+00,\n",
       "        0.000e+00, 0.000e+00, 1.000e+00, 1.000e+00, 0.000e+00, 0.000e+00,\n",
       "        0.000e+00, 1.000e+00]),\n",
       " array([  1.  ,   6.98,  12.96,  18.94,  24.92,  30.9 ,  36.88,  42.86,\n",
       "         48.84,  54.82,  60.8 ,  66.78,  72.76,  78.74,  84.72,  90.7 ,\n",
       "         96.68, 102.66, 108.64, 114.62, 120.6 , 126.58, 132.56, 138.54,\n",
       "        144.52, 150.5 , 156.48, 162.46, 168.44, 174.42, 180.4 , 186.38,\n",
       "        192.36, 198.34, 204.32, 210.3 , 216.28, 222.26, 228.24, 234.22,\n",
       "        240.2 , 246.18, 252.16, 258.14, 264.12, 270.1 , 276.08, 282.06,\n",
       "        288.04, 294.02, 300.  ]),\n",
       " <a list of 50 Patch objects>)"
      ]
     },
     "execution_count": 29,
     "metadata": {},
     "output_type": "execute_result"
    },
    {
     "data": {
      "image/png": "[encoded data removed]",
      "text/plain": [
       "<Figure size 432x288 with 1 Axes>"
      ]
     },
     "metadata": {
      "needs_background": "light"
     },
     "output_type": "display_data"
    }
   ],
   "source": [
    "# распреление длины слов в предложении\n",
    "plt.hist([len(s.split(' ')) for s in all_sents], bins=50)"
   ]
  },
  {
   "cell_type": "code",
   "execution_count": 30,
   "metadata": {},
   "outputs": [],
   "source": [
    "MAX_LEN = 30"
   ]
  },
  {
   "cell_type": "code",
   "execution_count": 31,
   "metadata": {},
   "outputs": [
    {
     "name": "stderr",
     "output_type": "stream",
     "text": [
      "100%|██████████| 31148/31148 [00:03<00:00, 10315.90it/s]\n"
     ]
    }
   ],
   "source": [
    "X = torch.zeros((len(all_sents), MAX_LEN), dtype=int)\n",
    "# готовим матрицу - строка - предложение, столбец - индекс слова в этой позиции\n",
    "for i in tqdm(range(len(all_sents))):\n",
    "    for j, w in enumerate(all_sents[i].split(' ')):\n",
    "        if j >= MAX_LEN:\n",
    "            break\n",
    "        X[i, j] = WORD_TO_INDEX.get(w, WORD_TO_INDEX['<miss>'])\n",
    "        \n",
    "X = X.to(dev)"
   ]
  },
  {
   "cell_type": "code",
   "execution_count": 32,
   "metadata": {},
   "outputs": [
    {
     "data": {
      "text/plain": [
       "tensor([[ 2314, 18653, 19083, 16791,  2163, 15945,  8645, 23788,  9949, 20937,\n",
       "          6927, 26343, 23667, 14030, 16194, 15621,  3606, 44541, 16194, 15621,\n",
       "         16461, 13935,     0,     0,     0,     0,     0,     0,     0,     0]],\n",
       "       device='cuda:0')"
      ]
     },
     "execution_count": 32,
     "metadata": {},
     "output_type": "execute_result"
    }
   ],
   "source": [
    "X[0:1]"
   ]
  },
  {
   "cell_type": "code",
   "execution_count": 33,
   "metadata": {},
   "outputs": [
    {
     "data": {
      "text/plain": [
       "torch.Size([31148, 30])"
      ]
     },
     "execution_count": 33,
     "metadata": {},
     "output_type": "execute_result"
    }
   ],
   "source": [
    "X.shape"
   ]
  },
  {
   "cell_type": "code",
   "execution_count": 34,
   "metadata": {},
   "outputs": [
    {
     "data": {
      "text/plain": [
       "[2, 4, 6]"
      ]
     },
     "execution_count": 34,
     "metadata": {},
     "output_type": "execute_result"
    }
   ],
   "source": [
    "a = [1,2,3]\n",
    "[i*2 for i in a]"
   ]
  },
  {
   "cell_type": "code",
   "execution_count": 127,
   "metadata": {},
   "outputs": [],
   "source": [
    "BATCH_SIZE = 30"
   ]
  },
  {
   "cell_type": "code",
   "execution_count": 65,
   "metadata": {},
   "outputs": [],
   "source": [
    "class Network(torch.nn.Module):\n",
    "\n",
    "    def __init__(self, dev, model_w2v_weights):\n",
    "        super(Network, self).__init__()\n",
    "        self.dev = dev\n",
    "        self.word_embeddings = torch.nn.Embedding.from_pretrained(model_w2v_weights).to(self.dev)\n",
    "        self.gru = torch.nn.GRU(EMBED_SIZE, 128, num_layers = 1, batch_first=True).to(self.dev)\n",
    "        self.hidden2tag = torch.nn.Linear(128, len(INDEX_TO_WORD)).to(self.dev)\n",
    "        \n",
    "    def get_embeddings(self,sentences):\n",
    "        csentences = sentences.size()[0]\n",
    "        cwords = sentences.size()[1]\n",
    "        embeds = torch.zeros(csentences, cwords, EMBED_SIZE).to(self.dev)\n",
    "        for i in range(csentences):  \n",
    "            for k in range(cwords):\n",
    "                if sentences[i][k] == 0:\n",
    "                    embeds[i][k] = self.word_embeddings[0]\n",
    "                    break\n",
    "                embeds[i][k] = torch.FloatTensor ([ emb for emb in self.word_embeddings[ sentences[i][k] ] ])\n",
    "        return embeds\n",
    "\n",
    "    def forward(self, sentences):\n",
    "        embeds = self.word_embeddings(sentences)\n",
    "        gru_out, state = self.gru(embeds)\n",
    "        tag_space = self.hidden2tag(gru_out.reshape(-1, 128))\n",
    "        return tag_space.reshape(sentences.shape[0], sentences.shape[1], -1), state\n",
    "    \n",
    "    def forward_state(self, sentences, state):\n",
    "        #embeds = self.get_embeddings(sentences)\n",
    "        embeds = self.word_embeddings(sentences)\n",
    "        gru_out, state = self.gru(embeds, state)\n",
    "        tag_space = self.hidden2tag(gru_out.reshape(-1, 128))\n",
    "        return tag_space.reshape(sentences.shape[0], sentences.shape[1], -1), state"
   ]
  },
  {
   "cell_type": "code",
   "execution_count": 39,
   "metadata": {},
   "outputs": [
    {
     "data": {
      "text/plain": [
       "torch.Size([1, 30, 44946])"
      ]
     },
     "execution_count": 39,
     "metadata": {},
     "output_type": "execute_result"
    }
   ],
   "source": [
    "model = Network(dev, model_w2v_weights)\n",
    "model.forward(X[0:1])[0].shape"
   ]
  },
  {
   "cell_type": "code",
   "execution_count": 90,
   "metadata": {},
   "outputs": [],
   "source": [
    "def generate_sentence(line):\n",
    "    sentence = line.split(' ')\n",
    "    #sentence = ['к', 'а', 'к', ' ', 'р', 'а', 'н', 'о',' ']\n",
    "    state = None\n",
    "    for i in range(MAX_LEN):\n",
    "        #X = torch.Tensor([[WORD_TO_INDEX[sentence[i]]]]).type(torch.long)\n",
    "        X = torch.Tensor([[WORD_TO_INDEX.get(sentence[i],WORD_TO_INDEX['<miss>'])]]).type(torch.long)\n",
    "        #get(w, WORD_TO_INDEX['<miss>']\n",
    "        X = X.to(dev)\n",
    "        if i == 0:\n",
    "            result, state = model.forward(X)\n",
    "        else:\n",
    "            result, state = model.forward_state(X, state)\n",
    "        prediction = result[0, -1, :]\n",
    "        index_of_prediction = prediction.argmax()\n",
    "        if i >= len(sentence) - 1:\n",
    "            if index_of_prediction == 0:\n",
    "                break\n",
    "        sentence.append(INDEX_TO_WORD[index_of_prediction])\n",
    "        \n",
    "    line = ' '.join(sentence)\n",
    "    line = re.sub(r'none.*$', '', line)\n",
    "    print(line)"
   ]
  },
  {
   "cell_type": "code",
   "execution_count": 91,
   "metadata": {},
   "outputs": [
    {
     "name": "stdout",
     "output_type": "stream",
     "text": [
      "проект направлена на направлен находится мой поделись с проект о ближним будь профессии с попасть с выбором форме психологами профессии кейс детей не брейн инвалидов только ринг оказывающих как квест благотворительную следствие с\n"
     ]
    }
   ],
   "source": [
    "generate_sentence('проект направлена на')"
   ]
  },
  {
   "cell_type": "code",
   "execution_count": 128,
   "metadata": {},
   "outputs": [],
   "source": [
    "lrate = 0.05\n",
    "\n",
    "criterion = torch.nn.CrossEntropyLoss()\n",
    "optimizer = torch.optim.SGD(model.parameters(), lr=lrate)\n",
    "#optimizer = torch.optim.Adam(model.parameters(), lr=lrate)"
   ]
  },
  {
   "cell_type": "code",
   "execution_count": 129,
   "metadata": {
    "collapsed": true,
    "jupyter": {
     "outputs_hidden": true
    }
   },
   "outputs": [
    {
     "name": "stdout",
     "output_type": "stream",
     "text": [
      "Epoch 0. Time: 3.592, Train loss: 1.654\n",
      "Epoch 1. Time: 3.562, Train loss: 1.654\n",
      "Epoch 2. Time: 3.566, Train loss: 1.652\n",
      "Epoch 3. Time: 3.566, Train loss: 1.652\n",
      "Epoch 4. Time: 3.565, Train loss: 1.651\n",
      "Epoch 5. Time: 3.577, Train loss: 1.650\n",
      "Epoch 6. Time: 3.579, Train loss: 1.650\n",
      "Epoch 7. Time: 3.580, Train loss: 1.649\n",
      "Epoch 8. Time: 3.578, Train loss: 1.649\n",
      "Epoch 9. Time: 3.577, Train loss: 1.648\n",
      "Epoch 10. Time: 3.579, Train loss: 1.647\n",
      "Epoch 11. Time: 3.575, Train loss: 1.647\n",
      "Epoch 12. Time: 3.570, Train loss: 1.647\n",
      "Epoch 13. Time: 3.569, Train loss: 1.646\n",
      "Epoch 14. Time: 3.569, Train loss: 1.646\n",
      "Epoch 15. Time: 3.572, Train loss: 1.645\n",
      "Epoch 16. Time: 3.572, Train loss: 1.645\n",
      "Epoch 17. Time: 3.572, Train loss: 1.644\n",
      "Epoch 18. Time: 3.574, Train loss: 1.644\n",
      "Epoch 19. Time: 3.572, Train loss: 1.644\n",
      "Epoch 20. Time: 3.573, Train loss: 1.643\n",
      "Epoch 21. Time: 3.573, Train loss: 1.643\n",
      "Epoch 22. Time: 3.572, Train loss: 1.643\n",
      "Epoch 23. Time: 3.574, Train loss: 1.642\n",
      "Epoch 24. Time: 3.572, Train loss: 1.642\n",
      "Epoch 25. Time: 3.573, Train loss: 1.641\n",
      "Epoch 26. Time: 3.573, Train loss: 1.641\n",
      "Epoch 27. Time: 3.575, Train loss: 1.641\n",
      "Epoch 28. Time: 3.570, Train loss: 1.640\n",
      "Epoch 29. Time: 3.574, Train loss: 1.640\n",
      "Epoch 30. Time: 3.572, Train loss: 1.640\n",
      "Epoch 31. Time: 3.577, Train loss: 1.639\n",
      "Epoch 32. Time: 3.576, Train loss: 1.639\n",
      "Epoch 33. Time: 3.570, Train loss: 1.639\n",
      "Epoch 34. Time: 3.570, Train loss: 1.638\n",
      "Epoch 35. Time: 3.570, Train loss: 1.638\n",
      "Epoch 36. Time: 3.569, Train loss: 1.638\n",
      "Epoch 37. Time: 3.570, Train loss: 1.638\n",
      "Epoch 38. Time: 3.567, Train loss: 1.638\n",
      "Epoch 39. Time: 3.571, Train loss: 1.637\n",
      "Epoch 40. Time: 3.574, Train loss: 1.637\n",
      "Epoch 41. Time: 3.580, Train loss: 1.636\n",
      "Epoch 42. Time: 3.582, Train loss: 1.636\n",
      "Epoch 43. Time: 3.582, Train loss: 1.636\n",
      "Epoch 44. Time: 3.580, Train loss: 1.635\n",
      "Epoch 45. Time: 3.580, Train loss: 1.635\n",
      "Epoch 46. Time: 3.580, Train loss: 1.635\n",
      "Epoch 47. Time: 3.579, Train loss: 1.635\n",
      "Epoch 48. Time: 3.577, Train loss: 1.634\n",
      "Epoch 49. Time: 3.580, Train loss: 1.634\n",
      "Epoch 50. Time: 3.578, Train loss: 1.634\n",
      "Epoch 51. Time: 3.579, Train loss: 1.634\n",
      "Epoch 52. Time: 3.578, Train loss: 1.633\n",
      "Epoch 53. Time: 3.575, Train loss: 1.633\n",
      "Epoch 54. Time: 3.568, Train loss: 1.633\n",
      "Epoch 55. Time: 3.572, Train loss: 1.633\n",
      "Epoch 56. Time: 3.570, Train loss: 1.632\n",
      "Epoch 57. Time: 3.579, Train loss: 1.632\n",
      "Epoch 58. Time: 3.578, Train loss: 1.632\n",
      "Epoch 59. Time: 3.581, Train loss: 1.631\n",
      "Epoch 60. Time: 3.578, Train loss: 1.631\n",
      "Epoch 61. Time: 3.588, Train loss: 1.631\n",
      "Epoch 62. Time: 3.588, Train loss: 1.631\n",
      "Epoch 63. Time: 3.589, Train loss: 1.630\n",
      "Epoch 64. Time: 3.593, Train loss: 1.630\n",
      "Epoch 65. Time: 3.591, Train loss: 1.630\n",
      "Epoch 66. Time: 3.582, Train loss: 1.630\n",
      "Epoch 67. Time: 3.585, Train loss: 1.629\n",
      "Epoch 68. Time: 3.591, Train loss: 1.629\n",
      "Epoch 69. Time: 3.589, Train loss: 1.629\n",
      "Epoch 70. Time: 3.592, Train loss: 1.629\n",
      "Epoch 71. Time: 3.581, Train loss: 1.628\n",
      "Epoch 72. Time: 3.582, Train loss: 1.628\n",
      "Epoch 73. Time: 3.578, Train loss: 1.628\n",
      "Epoch 74. Time: 3.581, Train loss: 1.628\n",
      "Epoch 75. Time: 3.579, Train loss: 1.627\n",
      "Epoch 76. Time: 3.576, Train loss: 1.627\n",
      "Epoch 77. Time: 3.581, Train loss: 1.627\n",
      "Epoch 78. Time: 3.580, Train loss: 1.627\n",
      "Epoch 79. Time: 3.581, Train loss: 1.626\n",
      "Epoch 80. Time: 3.582, Train loss: 1.626\n",
      "Epoch 81. Time: 3.572, Train loss: 1.626\n",
      "Epoch 82. Time: 3.575, Train loss: 1.626\n",
      "Epoch 83. Time: 3.572, Train loss: 1.626\n",
      "Epoch 84. Time: 3.579, Train loss: 1.626\n",
      "Epoch 85. Time: 3.580, Train loss: 1.625\n",
      "Epoch 86. Time: 3.582, Train loss: 1.625\n",
      "Epoch 87. Time: 3.579, Train loss: 1.625\n",
      "Epoch 88. Time: 3.581, Train loss: 1.625\n",
      "Epoch 89. Time: 3.587, Train loss: 1.624\n",
      "Epoch 90. Time: 3.579, Train loss: 1.624\n",
      "Epoch 91. Time: 3.579, Train loss: 1.624\n",
      "Epoch 92. Time: 3.580, Train loss: 1.624\n",
      "Epoch 93. Time: 3.574, Train loss: 1.623\n",
      "Epoch 94. Time: 3.575, Train loss: 1.623\n",
      "Epoch 95. Time: 3.582, Train loss: 1.623\n",
      "Epoch 96. Time: 3.573, Train loss: 1.623\n",
      "Epoch 97. Time: 3.580, Train loss: 1.623\n",
      "Epoch 98. Time: 3.581, Train loss: 1.623\n",
      "Epoch 99. Time: 3.583, Train loss: 1.622\n",
      "Epoch 100. Time: 3.578, Train loss: 1.622\n",
      "Epoch 101. Time: 3.582, Train loss: 1.622\n",
      "Epoch 102. Time: 3.579, Train loss: 1.622\n",
      "Epoch 103. Time: 3.579, Train loss: 1.621\n",
      "Epoch 104. Time: 3.585, Train loss: 1.621\n",
      "Epoch 105. Time: 3.595, Train loss: 1.621\n",
      "Epoch 106. Time: 3.587, Train loss: 1.621\n",
      "Epoch 107. Time: 3.589, Train loss: 1.620\n",
      "Epoch 108. Time: 3.588, Train loss: 1.620\n",
      "Epoch 109. Time: 3.583, Train loss: 1.620\n",
      "Epoch 110. Time: 3.579, Train loss: 1.620\n",
      "Epoch 111. Time: 3.585, Train loss: 1.620\n",
      "Epoch 112. Time: 3.582, Train loss: 1.619\n",
      "Epoch 113. Time: 3.588, Train loss: 1.619\n",
      "Epoch 114. Time: 3.588, Train loss: 1.619\n",
      "Epoch 115. Time: 3.581, Train loss: 1.619\n",
      "Epoch 116. Time: 3.573, Train loss: 1.619\n",
      "Epoch 117. Time: 3.576, Train loss: 1.618\n",
      "Epoch 118. Time: 3.578, Train loss: 1.618\n",
      "Epoch 119. Time: 3.578, Train loss: 1.618\n",
      "Epoch 120. Time: 3.585, Train loss: 1.618\n",
      "Epoch 121. Time: 3.586, Train loss: 1.618\n",
      "Epoch 122. Time: 3.583, Train loss: 1.617\n",
      "Epoch 123. Time: 3.586, Train loss: 1.617\n",
      "Epoch 124. Time: 3.581, Train loss: 1.617\n",
      "Epoch 125. Time: 3.581, Train loss: 1.617\n",
      "Epoch 126. Time: 3.576, Train loss: 1.617\n",
      "Epoch 127. Time: 3.588, Train loss: 1.616\n",
      "Epoch 128. Time: 3.579, Train loss: 1.616\n",
      "Epoch 129. Time: 3.585, Train loss: 1.616\n",
      "Epoch 130. Time: 3.581, Train loss: 1.616\n",
      "Epoch 131. Time: 3.583, Train loss: 1.616\n",
      "Epoch 132. Time: 3.586, Train loss: 1.616\n",
      "Epoch 133. Time: 3.580, Train loss: 1.615\n",
      "Epoch 134. Time: 3.579, Train loss: 1.615\n",
      "Epoch 135. Time: 3.583, Train loss: 1.615\n",
      "Epoch 136. Time: 3.583, Train loss: 1.615\n",
      "Epoch 137. Time: 3.584, Train loss: 1.614\n",
      "Epoch 138. Time: 3.583, Train loss: 1.614\n",
      "Epoch 139. Time: 3.582, Train loss: 1.614\n",
      "Epoch 140. Time: 3.586, Train loss: 1.614\n",
      "Epoch 141. Time: 3.581, Train loss: 1.614\n",
      "Epoch 142. Time: 3.583, Train loss: 1.613\n",
      "Epoch 143. Time: 3.586, Train loss: 1.613\n",
      "Epoch 144. Time: 3.587, Train loss: 1.613\n",
      "Epoch 145. Time: 3.579, Train loss: 1.620\n",
      "Epoch 146. Time: 3.583, Train loss: 1.616\n",
      "Epoch 147. Time: 3.583, Train loss: 1.614\n",
      "Epoch 148. Time: 3.587, Train loss: 1.613\n",
      "Epoch 149. Time: 3.583, Train loss: 1.613\n",
      "Epoch 150. Time: 3.587, Train loss: 1.613\n",
      "Epoch 151. Time: 3.588, Train loss: 1.612\n",
      "Epoch 152. Time: 3.586, Train loss: 1.612\n",
      "Epoch 153. Time: 3.594, Train loss: 1.612\n",
      "Epoch 154. Time: 3.584, Train loss: 1.612\n",
      "Epoch 155. Time: 3.582, Train loss: 1.611\n",
      "Epoch 156. Time: 3.583, Train loss: 1.611\n",
      "Epoch 157. Time: 3.584, Train loss: 1.611\n",
      "Epoch 158. Time: 3.579, Train loss: 1.611\n",
      "Epoch 159. Time: 3.579, Train loss: 1.611\n",
      "Epoch 160. Time: 3.580, Train loss: 1.611\n",
      "Epoch 161. Time: 3.580, Train loss: 1.610\n",
      "Epoch 162. Time: 3.578, Train loss: 1.610\n",
      "Epoch 163. Time: 3.580, Train loss: 1.610\n",
      "Epoch 164. Time: 3.583, Train loss: 1.610\n",
      "Epoch 165. Time: 3.578, Train loss: 1.609\n",
      "Epoch 166. Time: 3.579, Train loss: 1.609\n",
      "Epoch 167. Time: 3.579, Train loss: 1.609\n",
      "Epoch 168. Time: 3.579, Train loss: 1.609\n",
      "Epoch 169. Time: 3.571, Train loss: 1.609\n",
      "Epoch 170. Time: 3.570, Train loss: 1.608\n",
      "Epoch 171. Time: 3.569, Train loss: 1.608\n",
      "Epoch 172. Time: 3.571, Train loss: 1.608\n",
      "Epoch 173. Time: 3.570, Train loss: 1.608\n",
      "Epoch 174. Time: 3.569, Train loss: 1.608\n",
      "Epoch 175. Time: 3.573, Train loss: 1.607\n",
      "Epoch 176. Time: 3.572, Train loss: 1.607\n",
      "Epoch 177. Time: 3.581, Train loss: 1.607\n",
      "Epoch 178. Time: 3.581, Train loss: 1.607\n",
      "Epoch 179. Time: 3.581, Train loss: 1.607\n",
      "Epoch 180. Time: 3.581, Train loss: 1.607\n",
      "Epoch 181. Time: 3.581, Train loss: 1.606\n",
      "Epoch 182. Time: 3.580, Train loss: 1.606\n",
      "Epoch 183. Time: 3.582, Train loss: 1.606\n",
      "Epoch 184. Time: 3.577, Train loss: 1.606\n",
      "Epoch 185. Time: 3.577, Train loss: 1.606\n",
      "Epoch 186. Time: 3.580, Train loss: 1.606\n",
      "Epoch 187. Time: 3.581, Train loss: 1.605\n",
      "Epoch 188. Time: 3.583, Train loss: 1.605\n",
      "Epoch 189. Time: 3.581, Train loss: 1.605\n",
      "Epoch 190. Time: 3.582, Train loss: 1.605\n",
      "Epoch 191. Time: 3.582, Train loss: 1.605\n",
      "Epoch 192. Time: 3.585, Train loss: 1.605\n",
      "Epoch 193. Time: 3.587, Train loss: 1.604\n",
      "Epoch 194. Time: 3.587, Train loss: 1.604\n",
      "Epoch 195. Time: 3.591, Train loss: 1.604\n",
      "Epoch 196. Time: 3.585, Train loss: 1.605\n",
      "Epoch 197. Time: 3.581, Train loss: 1.606\n",
      "Epoch 198. Time: 3.586, Train loss: 1.604\n",
      "Epoch 199. Time: 3.585, Train loss: 1.604\n",
      "Epoch 200. Time: 3.581, Train loss: 1.604\n",
      "Epoch 201. Time: 3.588, Train loss: 1.603\n",
      "Epoch 202. Time: 3.588, Train loss: 1.603\n",
      "Epoch 203. Time: 3.583, Train loss: 1.603\n",
      "Epoch 204. Time: 3.589, Train loss: 1.603\n",
      "Epoch 205. Time: 3.589, Train loss: 1.603\n",
      "Epoch 206. Time: 3.589, Train loss: 1.602\n",
      "Epoch 207. Time: 3.599, Train loss: 1.602\n",
      "Epoch 208. Time: 3.592, Train loss: 1.602\n",
      "Epoch 209. Time: 3.587, Train loss: 1.602\n",
      "Epoch 210. Time: 3.591, Train loss: 1.602\n",
      "Epoch 211. Time: 3.591, Train loss: 1.601\n",
      "Epoch 212. Time: 3.595, Train loss: 1.601\n",
      "Epoch 213. Time: 3.579, Train loss: 1.601\n",
      "Epoch 214. Time: 3.590, Train loss: 1.601\n",
      "Epoch 215. Time: 3.595, Train loss: 1.601\n",
      "Epoch 216. Time: 3.586, Train loss: 1.601\n",
      "Epoch 217. Time: 3.585, Train loss: 1.601\n",
      "Epoch 218. Time: 3.584, Train loss: 1.600\n",
      "Epoch 219. Time: 3.584, Train loss: 1.600\n",
      "Epoch 220. Time: 3.584, Train loss: 1.600\n",
      "Epoch 221. Time: 3.585, Train loss: 1.600\n",
      "Epoch 222. Time: 3.591, Train loss: 1.600\n",
      "Epoch 223. Time: 3.586, Train loss: 1.600\n",
      "Epoch 224. Time: 3.585, Train loss: 1.599\n",
      "Epoch 225. Time: 3.580, Train loss: 1.599\n",
      "Epoch 226. Time: 3.581, Train loss: 1.599\n",
      "Epoch 227. Time: 3.581, Train loss: 1.599\n",
      "Epoch 228. Time: 3.582, Train loss: 1.599\n",
      "Epoch 229. Time: 3.584, Train loss: 1.599\n",
      "Epoch 230. Time: 3.579, Train loss: 1.599\n",
      "Epoch 231. Time: 3.581, Train loss: 1.598\n",
      "Epoch 232. Time: 3.574, Train loss: 1.598\n",
      "Epoch 233. Time: 3.577, Train loss: 1.598\n",
      "Epoch 234. Time: 3.581, Train loss: 1.598\n",
      "Epoch 235. Time: 3.583, Train loss: 1.598\n",
      "Epoch 236. Time: 3.579, Train loss: 1.598\n",
      "Epoch 237. Time: 3.584, Train loss: 1.597\n",
      "Epoch 238. Time: 3.581, Train loss: 1.597\n",
      "Epoch 239. Time: 3.578, Train loss: 1.597\n",
      "Epoch 240. Time: 3.579, Train loss: 1.597\n",
      "Epoch 241. Time: 3.575, Train loss: 1.598\n",
      "Epoch 242. Time: 3.573, Train loss: 1.597\n",
      "Epoch 243. Time: 3.576, Train loss: 1.597\n",
      "Epoch 244. Time: 3.581, Train loss: 1.597\n",
      "Epoch 245. Time: 3.580, Train loss: 1.597\n",
      "Epoch 246. Time: 3.581, Train loss: 1.596\n",
      "Epoch 247. Time: 3.581, Train loss: 1.596\n",
      "Epoch 248. Time: 3.579, Train loss: 1.596\n",
      "Epoch 249. Time: 3.581, Train loss: 1.596\n",
      "Epoch 250. Time: 3.581, Train loss: 1.595\n",
      "Epoch 251. Time: 3.582, Train loss: 1.595\n",
      "Epoch 252. Time: 3.582, Train loss: 1.595\n",
      "Epoch 253. Time: 3.586, Train loss: 1.595\n",
      "Epoch 254. Time: 3.581, Train loss: 1.595\n",
      "Epoch 255. Time: 3.581, Train loss: 1.595\n",
      "Epoch 256. Time: 3.579, Train loss: 1.595\n",
      "Epoch 257. Time: 3.574, Train loss: 1.594\n",
      "Epoch 258. Time: 3.573, Train loss: 1.594\n",
      "Epoch 259. Time: 3.572, Train loss: 1.594\n",
      "Epoch 260. Time: 3.581, Train loss: 1.594\n",
      "Epoch 261. Time: 3.582, Train loss: 1.594\n",
      "Epoch 262. Time: 3.580, Train loss: 1.594\n",
      "Epoch 263. Time: 3.581, Train loss: 1.593\n",
      "Epoch 264. Time: 3.582, Train loss: 1.593\n",
      "Epoch 265. Time: 3.582, Train loss: 1.593\n",
      "Epoch 266. Time: 3.579, Train loss: 1.593\n",
      "Epoch 267. Time: 3.579, Train loss: 1.593\n",
      "Epoch 268. Time: 3.579, Train loss: 1.593\n",
      "Epoch 269. Time: 3.578, Train loss: 1.593\n",
      "Epoch 270. Time: 3.578, Train loss: 1.593\n",
      "Epoch 271. Time: 3.579, Train loss: 1.592\n",
      "Epoch 272. Time: 3.582, Train loss: 1.592\n",
      "Epoch 273. Time: 3.579, Train loss: 1.592\n",
      "Epoch 274. Time: 3.578, Train loss: 1.592\n",
      "Epoch 275. Time: 3.581, Train loss: 1.592\n",
      "Epoch 276. Time: 3.578, Train loss: 1.592\n",
      "Epoch 277. Time: 3.576, Train loss: 1.591\n",
      "Epoch 278. Time: 3.582, Train loss: 1.591\n",
      "Epoch 279. Time: 3.582, Train loss: 1.591\n",
      "Epoch 280. Time: 3.583, Train loss: 1.591\n",
      "Epoch 281. Time: 3.580, Train loss: 1.591\n",
      "Epoch 282. Time: 3.586, Train loss: 1.591\n",
      "Epoch 283. Time: 3.585, Train loss: 1.591\n",
      "Epoch 284. Time: 3.582, Train loss: 1.590\n",
      "Epoch 285. Time: 3.583, Train loss: 1.590\n",
      "Epoch 286. Time: 3.581, Train loss: 1.590\n",
      "Epoch 287. Time: 3.581, Train loss: 1.590\n",
      "Epoch 288. Time: 3.579, Train loss: 1.590\n",
      "Epoch 289. Time: 3.582, Train loss: 1.590\n",
      "Epoch 290. Time: 3.580, Train loss: 1.590\n",
      "Epoch 291. Time: 3.580, Train loss: 1.589\n",
      "Epoch 292. Time: 3.580, Train loss: 1.589\n",
      "Epoch 293. Time: 3.582, Train loss: 1.589\n",
      "Epoch 294. Time: 3.582, Train loss: 1.589\n",
      "Epoch 295. Time: 3.584, Train loss: 1.589\n",
      "Epoch 296. Time: 3.583, Train loss: 1.589\n",
      "Epoch 297. Time: 3.582, Train loss: 1.589\n",
      "Epoch 298. Time: 3.581, Train loss: 1.588\n",
      "Epoch 299. Time: 3.579, Train loss: 1.588\n",
      "Epoch 300. Time: 3.578, Train loss: 1.588\n",
      "Epoch 301. Time: 3.581, Train loss: 1.588\n",
      "Epoch 302. Time: 3.579, Train loss: 1.588\n",
      "Epoch 303. Time: 3.577, Train loss: 1.588\n",
      "Epoch 304. Time: 3.568, Train loss: 1.588\n",
      "Epoch 305. Time: 3.571, Train loss: 1.587\n",
      "Epoch 306. Time: 3.570, Train loss: 1.587\n",
      "Epoch 307. Time: 3.572, Train loss: 1.587\n",
      "Epoch 308. Time: 3.574, Train loss: 1.587\n",
      "Epoch 309. Time: 3.580, Train loss: 1.587\n",
      "Epoch 310. Time: 3.580, Train loss: 1.587\n",
      "Epoch 311. Time: 3.581, Train loss: 1.587\n",
      "Epoch 312. Time: 3.579, Train loss: 1.587\n",
      "Epoch 313. Time: 3.580, Train loss: 1.587\n",
      "Epoch 314. Time: 3.579, Train loss: 1.586\n",
      "Epoch 315. Time: 3.583, Train loss: 1.586\n",
      "Epoch 316. Time: 3.581, Train loss: 1.586\n",
      "Epoch 317. Time: 3.581, Train loss: 1.586\n",
      "Epoch 318. Time: 3.577, Train loss: 1.586\n",
      "Epoch 319. Time: 3.578, Train loss: 1.586\n",
      "Epoch 320. Time: 3.579, Train loss: 1.585\n",
      "Epoch 321. Time: 3.577, Train loss: 1.585\n",
      "Epoch 322. Time: 3.580, Train loss: 1.585\n",
      "Epoch 323. Time: 3.571, Train loss: 1.585\n",
      "Epoch 324. Time: 3.569, Train loss: 1.585\n",
      "Epoch 325. Time: 3.570, Train loss: 1.585\n",
      "Epoch 326. Time: 3.574, Train loss: 1.585\n",
      "Epoch 327. Time: 3.580, Train loss: 1.584\n",
      "Epoch 328. Time: 3.579, Train loss: 1.584\n",
      "Epoch 329. Time: 3.583, Train loss: 1.584\n",
      "Epoch 330. Time: 3.578, Train loss: 1.584\n",
      "Epoch 331. Time: 3.580, Train loss: 1.584\n",
      "Epoch 332. Time: 3.578, Train loss: 1.584\n",
      "Epoch 333. Time: 3.580, Train loss: 1.584\n",
      "Epoch 334. Time: 3.580, Train loss: 1.584\n",
      "Epoch 335. Time: 3.581, Train loss: 1.584\n",
      "Epoch 336. Time: 3.581, Train loss: 1.583\n",
      "Epoch 337. Time: 3.583, Train loss: 1.583\n",
      "Epoch 338. Time: 3.584, Train loss: 1.583\n",
      "Epoch 339. Time: 3.589, Train loss: 1.583\n",
      "Epoch 340. Time: 3.584, Train loss: 1.583\n",
      "Epoch 341. Time: 3.582, Train loss: 1.583\n",
      "Epoch 342. Time: 3.588, Train loss: 1.583\n",
      "Epoch 343. Time: 3.594, Train loss: 1.582\n",
      "Epoch 344. Time: 3.585, Train loss: 1.582\n",
      "Epoch 345. Time: 3.588, Train loss: 1.582\n",
      "Epoch 346. Time: 3.589, Train loss: 1.582\n",
      "Epoch 347. Time: 3.588, Train loss: 1.582\n",
      "Epoch 348. Time: 3.586, Train loss: 1.582\n",
      "Epoch 349. Time: 3.589, Train loss: 1.582\n",
      "Epoch 350. Time: 3.582, Train loss: 1.582\n",
      "Epoch 351. Time: 3.584, Train loss: 1.581\n",
      "Epoch 352. Time: 3.592, Train loss: 1.581\n",
      "Epoch 353. Time: 3.588, Train loss: 1.581\n",
      "Epoch 354. Time: 3.595, Train loss: 1.581\n",
      "Epoch 355. Time: 3.593, Train loss: 1.581\n",
      "Epoch 356. Time: 3.587, Train loss: 1.581\n",
      "Epoch 357. Time: 3.588, Train loss: 1.581\n",
      "Epoch 358. Time: 3.591, Train loss: 1.581\n",
      "Epoch 359. Time: 3.593, Train loss: 1.580\n",
      "Epoch 360. Time: 3.588, Train loss: 1.580\n",
      "Epoch 361. Time: 3.594, Train loss: 1.580\n",
      "Epoch 362. Time: 3.584, Train loss: 1.580\n",
      "Epoch 363. Time: 3.581, Train loss: 1.580\n",
      "Epoch 364. Time: 3.594, Train loss: 1.580\n",
      "Epoch 365. Time: 3.594, Train loss: 1.580\n",
      "Epoch 366. Time: 3.591, Train loss: 1.579\n",
      "Epoch 367. Time: 3.586, Train loss: 1.579\n",
      "Epoch 368. Time: 3.585, Train loss: 1.579\n",
      "Epoch 369. Time: 3.592, Train loss: 1.579\n",
      "Epoch 370. Time: 3.583, Train loss: 1.579\n",
      "Epoch 371. Time: 3.589, Train loss: 1.579\n",
      "Epoch 372. Time: 3.585, Train loss: 1.579\n",
      "Epoch 373. Time: 3.574, Train loss: 1.578\n",
      "Epoch 374. Time: 3.574, Train loss: 1.578\n",
      "Epoch 375. Time: 3.571, Train loss: 1.578\n",
      "Epoch 376. Time: 3.578, Train loss: 1.578\n",
      "Epoch 377. Time: 3.571, Train loss: 1.578\n",
      "Epoch 378. Time: 3.573, Train loss: 1.578\n",
      "Epoch 379. Time: 3.578, Train loss: 1.578\n",
      "Epoch 380. Time: 3.581, Train loss: 1.578\n",
      "Epoch 381. Time: 3.578, Train loss: 1.577\n",
      "Epoch 382. Time: 3.581, Train loss: 1.577\n",
      "Epoch 383. Time: 3.579, Train loss: 1.577\n",
      "Epoch 384. Time: 3.580, Train loss: 1.577\n",
      "Epoch 385. Time: 3.580, Train loss: 1.577\n",
      "Epoch 386. Time: 3.581, Train loss: 1.577\n",
      "Epoch 387. Time: 3.579, Train loss: 1.577\n",
      "Epoch 388. Time: 3.581, Train loss: 1.577\n",
      "Epoch 389. Time: 3.578, Train loss: 1.576\n",
      "Epoch 390. Time: 3.579, Train loss: 1.576\n",
      "Epoch 391. Time: 3.580, Train loss: 1.576\n",
      "Epoch 392. Time: 3.580, Train loss: 1.576\n",
      "Epoch 393. Time: 3.578, Train loss: 1.576\n",
      "Epoch 394. Time: 3.579, Train loss: 1.576\n",
      "Epoch 395. Time: 3.580, Train loss: 1.576\n",
      "Epoch 396. Time: 3.580, Train loss: 1.576\n",
      "Epoch 397. Time: 3.582, Train loss: 1.576\n",
      "Epoch 398. Time: 3.577, Train loss: 1.575\n",
      "Epoch 399. Time: 3.580, Train loss: 1.575\n",
      "Epoch 400. Time: 3.586, Train loss: 1.575\n",
      "Epoch 401. Time: 3.587, Train loss: 1.575\n",
      "Epoch 402. Time: 3.581, Train loss: 1.575\n",
      "Epoch 403. Time: 3.588, Train loss: 1.575\n",
      "Epoch 404. Time: 3.580, Train loss: 1.575\n",
      "Epoch 405. Time: 3.586, Train loss: 1.574\n",
      "Epoch 406. Time: 3.582, Train loss: 1.574\n",
      "Epoch 407. Time: 3.586, Train loss: 1.574\n",
      "Epoch 408. Time: 3.583, Train loss: 1.574\n",
      "Epoch 409. Time: 3.580, Train loss: 1.574\n",
      "Epoch 410. Time: 3.586, Train loss: 1.576\n",
      "Epoch 411. Time: 3.580, Train loss: 1.575\n",
      "Epoch 412. Time: 3.584, Train loss: 1.574\n",
      "Epoch 413. Time: 3.586, Train loss: 1.574\n",
      "Epoch 414. Time: 3.580, Train loss: 1.574\n",
      "Epoch 415. Time: 3.583, Train loss: 1.573\n",
      "Epoch 416. Time: 3.580, Train loss: 1.573\n",
      "Epoch 417. Time: 3.579, Train loss: 1.573\n",
      "Epoch 418. Time: 3.581, Train loss: 1.573\n",
      "Epoch 419. Time: 3.581, Train loss: 1.573\n",
      "Epoch 420. Time: 3.582, Train loss: 1.573\n",
      "Epoch 421. Time: 3.579, Train loss: 1.573\n",
      "Epoch 422. Time: 3.579, Train loss: 1.573\n",
      "Epoch 423. Time: 3.580, Train loss: 1.573\n",
      "Epoch 424. Time: 3.581, Train loss: 1.572\n",
      "Epoch 425. Time: 3.581, Train loss: 1.572\n",
      "Epoch 426. Time: 3.580, Train loss: 1.572\n",
      "Epoch 427. Time: 3.580, Train loss: 1.572\n",
      "Epoch 428. Time: 3.582, Train loss: 1.572\n",
      "Epoch 429. Time: 3.580, Train loss: 1.572\n",
      "Epoch 430. Time: 3.581, Train loss: 1.572\n",
      "Epoch 431. Time: 3.579, Train loss: 1.572\n",
      "Epoch 432. Time: 3.581, Train loss: 1.572\n",
      "Epoch 433. Time: 3.578, Train loss: 1.572\n",
      "Epoch 434. Time: 3.580, Train loss: 1.571\n",
      "Epoch 435. Time: 3.581, Train loss: 1.571\n",
      "Epoch 436. Time: 3.578, Train loss: 1.571\n",
      "Epoch 437. Time: 3.578, Train loss: 1.571\n",
      "Epoch 438. Time: 3.578, Train loss: 1.571\n",
      "Epoch 439. Time: 3.580, Train loss: 1.571\n",
      "Epoch 440. Time: 3.579, Train loss: 1.570\n",
      "Epoch 441. Time: 3.580, Train loss: 1.570\n",
      "Epoch 442. Time: 3.580, Train loss: 1.570\n",
      "Epoch 443. Time: 3.580, Train loss: 1.570\n",
      "Epoch 444. Time: 3.582, Train loss: 1.570\n",
      "Epoch 445. Time: 3.581, Train loss: 1.570\n",
      "Epoch 446. Time: 3.579, Train loss: 1.570\n",
      "Epoch 447. Time: 3.579, Train loss: 1.570\n",
      "Epoch 448. Time: 3.579, Train loss: 1.569\n",
      "Epoch 449. Time: 3.578, Train loss: 1.569\n",
      "Epoch 450. Time: 3.579, Train loss: 1.569\n",
      "Epoch 451. Time: 3.579, Train loss: 1.569\n",
      "Epoch 452. Time: 3.577, Train loss: 1.569\n",
      "Epoch 453. Time: 3.577, Train loss: 1.569\n",
      "Epoch 454. Time: 3.579, Train loss: 1.569\n",
      "Epoch 455. Time: 3.577, Train loss: 1.569\n",
      "Epoch 456. Time: 3.579, Train loss: 1.569\n",
      "Epoch 457. Time: 3.577, Train loss: 1.568\n",
      "Epoch 458. Time: 3.580, Train loss: 1.568\n",
      "Epoch 459. Time: 3.580, Train loss: 1.568\n",
      "Epoch 460. Time: 3.579, Train loss: 1.568\n",
      "Epoch 461. Time: 3.579, Train loss: 1.568\n",
      "Epoch 462. Time: 3.579, Train loss: 1.568\n",
      "Epoch 463. Time: 3.580, Train loss: 1.568\n",
      "Epoch 464. Time: 3.577, Train loss: 1.568\n",
      "Epoch 465. Time: 3.581, Train loss: 1.567\n",
      "Epoch 466. Time: 3.579, Train loss: 1.567\n",
      "Epoch 467. Time: 3.578, Train loss: 1.567\n",
      "Epoch 468. Time: 3.579, Train loss: 1.567\n",
      "Epoch 469. Time: 3.579, Train loss: 1.567\n",
      "Epoch 470. Time: 3.579, Train loss: 1.567\n",
      "Epoch 471. Time: 3.581, Train loss: 1.567\n",
      "Epoch 472. Time: 3.584, Train loss: 1.567\n",
      "Epoch 473. Time: 3.586, Train loss: 1.567\n",
      "Epoch 474. Time: 3.582, Train loss: 1.567\n",
      "Epoch 475. Time: 3.588, Train loss: 1.566\n",
      "Epoch 476. Time: 3.589, Train loss: 1.566\n",
      "Epoch 477. Time: 3.581, Train loss: 1.566\n",
      "Epoch 478. Time: 3.583, Train loss: 1.566\n",
      "Epoch 479. Time: 3.583, Train loss: 1.566\n",
      "Epoch 480. Time: 3.583, Train loss: 1.566\n",
      "Epoch 481. Time: 3.585, Train loss: 1.566\n",
      "Epoch 482. Time: 3.580, Train loss: 1.566\n",
      "Epoch 483. Time: 3.578, Train loss: 1.565\n",
      "Epoch 484. Time: 3.577, Train loss: 1.565\n",
      "Epoch 485. Time: 3.579, Train loss: 1.565\n",
      "Epoch 486. Time: 3.579, Train loss: 1.565\n",
      "Epoch 487. Time: 3.581, Train loss: 1.565\n",
      "Epoch 488. Time: 3.580, Train loss: 1.565\n",
      "Epoch 489. Time: 3.580, Train loss: 1.565\n",
      "Epoch 490. Time: 3.577, Train loss: 1.565\n",
      "Epoch 491. Time: 3.573, Train loss: 1.565\n",
      "Epoch 492. Time: 3.578, Train loss: 1.564\n",
      "Epoch 493. Time: 3.578, Train loss: 1.564\n",
      "Epoch 494. Time: 3.578, Train loss: 1.564\n",
      "Epoch 495. Time: 3.577, Train loss: 1.564\n",
      "Epoch 496. Time: 3.579, Train loss: 1.564\n",
      "Epoch 497. Time: 3.578, Train loss: 1.564\n",
      "Epoch 498. Time: 3.581, Train loss: 1.564\n",
      "Epoch 499. Time: 3.581, Train loss: 1.564\n",
      "Epoch 500. Time: 3.582, Train loss: 1.564\n",
      "Epoch 501. Time: 3.580, Train loss: 1.563\n",
      "Epoch 502. Time: 3.580, Train loss: 1.563\n",
      "Epoch 503. Time: 3.580, Train loss: 1.563\n",
      "Epoch 504. Time: 3.579, Train loss: 1.563\n",
      "Epoch 505. Time: 3.579, Train loss: 1.563\n",
      "Epoch 506. Time: 3.577, Train loss: 1.563\n",
      "Epoch 507. Time: 3.578, Train loss: 1.564\n",
      "Epoch 508. Time: 3.580, Train loss: 1.567\n",
      "Epoch 509. Time: 3.580, Train loss: 1.565\n",
      "Epoch 510. Time: 3.578, Train loss: 1.564\n",
      "Epoch 511. Time: 3.580, Train loss: 1.564\n",
      "Epoch 512. Time: 3.579, Train loss: 1.563\n",
      "Epoch 513. Time: 3.581, Train loss: 1.563\n",
      "Epoch 514. Time: 3.578, Train loss: 1.563\n",
      "Epoch 515. Time: 3.577, Train loss: 1.562\n",
      "Epoch 516. Time: 3.578, Train loss: 1.562\n",
      "Epoch 517. Time: 3.580, Train loss: 1.562\n",
      "Epoch 518. Time: 3.581, Train loss: 1.562\n",
      "Epoch 519. Time: 3.580, Train loss: 1.562\n",
      "Epoch 520. Time: 3.580, Train loss: 1.562\n",
      "Epoch 521. Time: 3.578, Train loss: 1.562\n",
      "Epoch 522. Time: 3.579, Train loss: 1.561\n",
      "Epoch 523. Time: 3.582, Train loss: 1.561\n",
      "Epoch 524. Time: 3.573, Train loss: 1.561\n",
      "Epoch 525. Time: 3.580, Train loss: 1.561\n",
      "Epoch 526. Time: 3.578, Train loss: 1.561\n",
      "Epoch 527. Time: 3.570, Train loss: 1.561\n",
      "Epoch 528. Time: 3.579, Train loss: 1.561\n",
      "Epoch 529. Time: 3.582, Train loss: 1.561\n",
      "Epoch 530. Time: 3.580, Train loss: 1.561\n",
      "Epoch 531. Time: 3.579, Train loss: 1.561\n",
      "Epoch 532. Time: 3.578, Train loss: 1.561\n",
      "Epoch 533. Time: 3.580, Train loss: 1.560\n",
      "Epoch 534. Time: 3.578, Train loss: 1.560\n",
      "Epoch 535. Time: 3.579, Train loss: 1.560\n",
      "Epoch 536. Time: 3.577, Train loss: 1.560\n",
      "Epoch 537. Time: 3.584, Train loss: 1.560\n",
      "Epoch 538. Time: 3.579, Train loss: 1.560\n",
      "Epoch 539. Time: 3.579, Train loss: 1.560\n",
      "Epoch 540. Time: 3.580, Train loss: 1.559\n",
      "Epoch 541. Time: 3.579, Train loss: 1.559\n",
      "Epoch 542. Time: 3.577, Train loss: 1.559\n",
      "Epoch 543. Time: 3.577, Train loss: 1.559\n",
      "Epoch 544. Time: 3.582, Train loss: 1.559\n",
      "Epoch 545. Time: 3.581, Train loss: 1.559\n",
      "Epoch 546. Time: 3.586, Train loss: 1.559\n",
      "Epoch 547. Time: 3.587, Train loss: 1.559\n",
      "Epoch 548. Time: 3.581, Train loss: 1.559\n",
      "Epoch 549. Time: 3.583, Train loss: 1.559\n",
      "Epoch 550. Time: 3.571, Train loss: 1.558\n",
      "Epoch 551. Time: 3.575, Train loss: 1.558\n",
      "Epoch 552. Time: 3.580, Train loss: 1.558\n",
      "Epoch 553. Time: 3.579, Train loss: 1.558\n",
      "Epoch 554. Time: 3.577, Train loss: 1.558\n",
      "Epoch 555. Time: 3.578, Train loss: 1.558\n",
      "Epoch 556. Time: 3.578, Train loss: 1.558\n",
      "Epoch 557. Time: 3.580, Train loss: 1.558\n",
      "Epoch 558. Time: 3.577, Train loss: 1.558\n",
      "Epoch 559. Time: 3.580, Train loss: 1.557\n",
      "Epoch 560. Time: 3.579, Train loss: 1.557\n",
      "Epoch 561. Time: 3.580, Train loss: 1.557\n",
      "Epoch 562. Time: 3.581, Train loss: 1.557\n",
      "Epoch 563. Time: 3.582, Train loss: 1.557\n",
      "Epoch 564. Time: 3.580, Train loss: 1.557\n",
      "Epoch 565. Time: 3.579, Train loss: 1.557\n",
      "Epoch 566. Time: 3.579, Train loss: 1.557\n",
      "Epoch 567. Time: 3.580, Train loss: 1.557\n",
      "Epoch 568. Time: 3.581, Train loss: 1.557\n",
      "Epoch 569. Time: 3.580, Train loss: 1.556\n",
      "Epoch 570. Time: 3.581, Train loss: 1.556\n",
      "Epoch 571. Time: 3.583, Train loss: 1.556\n",
      "Epoch 572. Time: 3.579, Train loss: 1.556\n",
      "Epoch 573. Time: 3.583, Train loss: 1.556\n",
      "Epoch 574. Time: 3.581, Train loss: 1.556\n",
      "Epoch 575. Time: 3.594, Train loss: 1.556\n",
      "Epoch 576. Time: 3.593, Train loss: 1.556\n",
      "Epoch 577. Time: 3.586, Train loss: 1.556\n",
      "Epoch 578. Time: 3.586, Train loss: 1.555\n",
      "Epoch 579. Time: 3.584, Train loss: 1.555\n",
      "Epoch 580. Time: 3.589, Train loss: 1.555\n",
      "Epoch 581. Time: 3.589, Train loss: 1.555\n",
      "Epoch 582. Time: 3.584, Train loss: 1.555\n",
      "Epoch 583. Time: 3.582, Train loss: 1.555\n",
      "Epoch 584. Time: 3.579, Train loss: 1.555\n",
      "Epoch 585. Time: 3.585, Train loss: 1.555\n",
      "Epoch 586. Time: 3.577, Train loss: 1.555\n",
      "Epoch 587. Time: 3.574, Train loss: 1.555\n",
      "Epoch 588. Time: 3.574, Train loss: 1.555\n",
      "Epoch 589. Time: 3.576, Train loss: 1.554\n",
      "Epoch 590. Time: 3.579, Train loss: 1.554\n",
      "Epoch 591. Time: 3.581, Train loss: 1.554\n",
      "Epoch 592. Time: 3.578, Train loss: 1.554\n",
      "Epoch 593. Time: 3.579, Train loss: 1.554\n",
      "Epoch 594. Time: 3.583, Train loss: 1.554\n",
      "Epoch 595. Time: 3.584, Train loss: 1.554\n",
      "Epoch 596. Time: 3.589, Train loss: 1.554\n",
      "Epoch 597. Time: 3.586, Train loss: 1.554\n",
      "Epoch 598. Time: 3.585, Train loss: 1.554\n",
      "Epoch 599. Time: 3.571, Train loss: 1.554\n",
      "Epoch 600. Time: 3.572, Train loss: 1.553\n",
      "Epoch 601. Time: 3.572, Train loss: 1.553\n",
      "Epoch 602. Time: 3.574, Train loss: 1.553\n",
      "Epoch 603. Time: 3.573, Train loss: 1.553\n",
      "Epoch 604. Time: 3.577, Train loss: 1.553\n",
      "Epoch 605. Time: 3.574, Train loss: 1.553\n",
      "Epoch 606. Time: 3.580, Train loss: 1.553\n",
      "Epoch 607. Time: 3.585, Train loss: 1.553\n",
      "Epoch 608. Time: 3.587, Train loss: 1.552\n",
      "Epoch 609. Time: 3.589, Train loss: 1.552\n",
      "Epoch 610. Time: 3.578, Train loss: 1.552\n",
      "Epoch 611. Time: 3.582, Train loss: 1.552\n",
      "Epoch 612. Time: 3.593, Train loss: 1.552\n",
      "Epoch 613. Time: 3.585, Train loss: 1.552\n",
      "Epoch 614. Time: 3.580, Train loss: 1.552\n",
      "Epoch 615. Time: 3.588, Train loss: 1.552\n",
      "Epoch 616. Time: 3.586, Train loss: 1.552\n",
      "Epoch 617. Time: 3.588, Train loss: 1.552\n",
      "Epoch 618. Time: 3.587, Train loss: 1.552\n",
      "Epoch 619. Time: 3.581, Train loss: 1.552\n",
      "Epoch 620. Time: 3.586, Train loss: 1.551\n",
      "Epoch 621. Time: 3.589, Train loss: 1.551\n",
      "Epoch 622. Time: 3.589, Train loss: 1.551\n",
      "Epoch 623. Time: 3.588, Train loss: 1.551\n",
      "Epoch 624. Time: 3.588, Train loss: 1.551\n",
      "Epoch 625. Time: 3.578, Train loss: 1.551\n",
      "Epoch 626. Time: 3.582, Train loss: 1.551\n",
      "Epoch 627. Time: 3.575, Train loss: 1.551\n",
      "Epoch 628. Time: 3.577, Train loss: 1.550\n",
      "Epoch 629. Time: 3.569, Train loss: 1.550\n",
      "Epoch 630. Time: 3.579, Train loss: 1.550\n",
      "Epoch 631. Time: 3.573, Train loss: 1.550\n",
      "Epoch 632. Time: 3.577, Train loss: 1.550\n",
      "Epoch 633. Time: 3.570, Train loss: 1.550\n",
      "Epoch 634. Time: 3.579, Train loss: 1.550\n",
      "Epoch 635. Time: 3.568, Train loss: 1.550\n",
      "Epoch 636. Time: 3.579, Train loss: 1.550\n",
      "Epoch 637. Time: 3.579, Train loss: 1.550\n",
      "Epoch 638. Time: 3.581, Train loss: 1.549\n",
      "Epoch 639. Time: 3.584, Train loss: 1.549\n",
      "Epoch 640. Time: 3.585, Train loss: 1.549\n",
      "Epoch 641. Time: 3.583, Train loss: 1.549\n",
      "Epoch 642. Time: 3.582, Train loss: 1.549\n",
      "Epoch 643. Time: 3.592, Train loss: 1.549\n",
      "Epoch 644. Time: 3.585, Train loss: 1.549\n",
      "Epoch 645. Time: 3.584, Train loss: 1.549\n",
      "Epoch 646. Time: 3.578, Train loss: 1.549\n",
      "Epoch 647. Time: 3.577, Train loss: 1.549\n",
      "Epoch 648. Time: 3.579, Train loss: 1.548\n",
      "Epoch 649. Time: 3.581, Train loss: 1.548\n",
      "Epoch 650. Time: 3.579, Train loss: 1.549\n",
      "Epoch 651. Time: 3.579, Train loss: 1.548\n",
      "Epoch 652. Time: 3.582, Train loss: 1.548\n",
      "Epoch 653. Time: 3.583, Train loss: 1.548\n",
      "Epoch 654. Time: 3.577, Train loss: 1.548\n",
      "Epoch 655. Time: 3.576, Train loss: 1.548\n",
      "Epoch 656. Time: 3.582, Train loss: 1.548\n",
      "Epoch 657. Time: 3.581, Train loss: 1.548\n",
      "Epoch 658. Time: 3.584, Train loss: 1.548\n",
      "Epoch 659. Time: 3.582, Train loss: 1.547\n",
      "Epoch 660. Time: 3.583, Train loss: 1.547\n",
      "Epoch 661. Time: 3.580, Train loss: 1.547\n",
      "Epoch 662. Time: 3.584, Train loss: 1.547\n",
      "Epoch 663. Time: 3.583, Train loss: 1.547\n",
      "Epoch 664. Time: 3.578, Train loss: 1.547\n",
      "Epoch 665. Time: 3.572, Train loss: 1.547\n",
      "Epoch 666. Time: 3.570, Train loss: 1.547\n",
      "Epoch 667. Time: 3.567, Train loss: 1.547\n",
      "Epoch 668. Time: 3.570, Train loss: 1.547\n",
      "Epoch 669. Time: 3.570, Train loss: 1.546\n",
      "Epoch 670. Time: 3.578, Train loss: 1.546\n",
      "Epoch 671. Time: 3.579, Train loss: 1.546\n",
      "Epoch 672. Time: 3.580, Train loss: 1.546\n",
      "Epoch 673. Time: 3.580, Train loss: 1.546\n",
      "Epoch 674. Time: 3.576, Train loss: 1.546\n",
      "Epoch 675. Time: 3.579, Train loss: 1.546\n",
      "Epoch 676. Time: 3.580, Train loss: 1.546\n",
      "Epoch 677. Time: 3.573, Train loss: 1.546\n",
      "Epoch 678. Time: 3.571, Train loss: 1.546\n",
      "Epoch 679. Time: 3.583, Train loss: 1.545\n",
      "Epoch 680. Time: 3.579, Train loss: 1.545\n",
      "Epoch 681. Time: 3.583, Train loss: 1.545\n",
      "Epoch 682. Time: 3.578, Train loss: 1.545\n",
      "Epoch 683. Time: 3.579, Train loss: 1.545\n",
      "Epoch 684. Time: 3.580, Train loss: 1.545\n",
      "Epoch 685. Time: 3.577, Train loss: 1.545\n",
      "Epoch 686. Time: 3.577, Train loss: 1.545\n",
      "Epoch 687. Time: 3.578, Train loss: 1.545\n",
      "Epoch 688. Time: 3.580, Train loss: 1.545\n",
      "Epoch 689. Time: 3.581, Train loss: 1.545\n",
      "Epoch 690. Time: 3.581, Train loss: 1.544\n",
      "Epoch 691. Time: 3.582, Train loss: 1.544\n",
      "Epoch 692. Time: 3.588, Train loss: 1.544\n",
      "Epoch 693. Time: 3.588, Train loss: 1.544\n",
      "Epoch 694. Time: 3.587, Train loss: 1.544\n",
      "Epoch 695. Time: 3.590, Train loss: 1.544\n",
      "Epoch 696. Time: 3.590, Train loss: 1.544\n",
      "Epoch 697. Time: 3.598, Train loss: 1.544\n",
      "Epoch 698. Time: 3.582, Train loss: 1.544\n",
      "Epoch 699. Time: 3.592, Train loss: 1.544\n",
      "Epoch 700. Time: 3.583, Train loss: 1.544\n",
      "Epoch 701. Time: 3.582, Train loss: 1.544\n",
      "Epoch 702. Time: 3.586, Train loss: 1.543\n",
      "Epoch 703. Time: 3.582, Train loss: 1.543\n",
      "Epoch 704. Time: 3.583, Train loss: 1.543\n",
      "Epoch 705. Time: 3.581, Train loss: 1.543\n",
      "Epoch 706. Time: 3.580, Train loss: 1.543\n",
      "Epoch 707. Time: 3.580, Train loss: 1.543\n",
      "Epoch 708. Time: 3.582, Train loss: 1.543\n",
      "Epoch 709. Time: 3.578, Train loss: 1.543\n",
      "Epoch 710. Time: 3.581, Train loss: 1.543\n"
     ]
    },
    {
     "ename": "KeyboardInterrupt",
     "evalue": "",
     "output_type": "error",
     "traceback": [
      "\u001b[0;31m---------------------------------------------------------------------------\u001b[0m",
      "\u001b[0;31mKeyboardInterrupt\u001b[0m                         Traceback (most recent call last)",
      "\u001b[0;32m<ipython-input-129-748587f24336>\u001b[0m in \u001b[0;36m<module>\u001b[0;34m\u001b[0m\n\u001b[1;32m     16\u001b[0m         \u001b[0manswers\u001b[0m \u001b[0;34m=\u001b[0m \u001b[0manswers\u001b[0m\u001b[0;34m.\u001b[0m\u001b[0mview\u001b[0m\u001b[0;34m(\u001b[0m\u001b[0;34m-\u001b[0m\u001b[0;36m1\u001b[0m\u001b[0;34m,\u001b[0m \u001b[0mlen\u001b[0m\u001b[0;34m(\u001b[0m\u001b[0mINDEX_TO_WORD\u001b[0m\u001b[0;34m)\u001b[0m\u001b[0;34m)\u001b[0m\u001b[0;34m\u001b[0m\u001b[0;34m\u001b[0m\u001b[0m\n\u001b[1;32m     17\u001b[0m         \u001b[0mloss\u001b[0m \u001b[0;34m=\u001b[0m \u001b[0mcriterion\u001b[0m\u001b[0;34m(\u001b[0m\u001b[0manswers\u001b[0m\u001b[0;34m,\u001b[0m \u001b[0mY_batch\u001b[0m\u001b[0;34m)\u001b[0m\u001b[0;34m\u001b[0m\u001b[0;34m\u001b[0m\u001b[0m\n\u001b[0;32m---> 18\u001b[0;31m         \u001b[0mtrain_loss\u001b[0m \u001b[0;34m+=\u001b[0m \u001b[0mloss\u001b[0m\u001b[0;34m.\u001b[0m\u001b[0mitem\u001b[0m\u001b[0;34m(\u001b[0m\u001b[0;34m)\u001b[0m\u001b[0;34m\u001b[0m\u001b[0;34m\u001b[0m\u001b[0m\n\u001b[0m\u001b[1;32m     19\u001b[0m \u001b[0;34m\u001b[0m\u001b[0m\n\u001b[1;32m     20\u001b[0m         \u001b[0mloss\u001b[0m\u001b[0;34m.\u001b[0m\u001b[0mbackward\u001b[0m\u001b[0;34m(\u001b[0m\u001b[0;34m)\u001b[0m\u001b[0;34m\u001b[0m\u001b[0;34m\u001b[0m\u001b[0m\n",
      "\u001b[0;31mKeyboardInterrupt\u001b[0m: "
     ]
    }
   ],
   "source": [
    "count = 0\n",
    "\n",
    "for ep in range(4000):\n",
    "    \n",
    "    start = time.time()\n",
    "    train_loss = 0.\n",
    "    train_passed = 0\n",
    "    \n",
    "    for i in range(int(len(X) / 100)):\n",
    "        batch = X[i * BATCH_SIZE:(i + 1) * BATCH_SIZE]\n",
    "        X_batch = batch[:, :-1]\n",
    "        Y_batch = batch[:, 1:].flatten()\n",
    "\n",
    "        optimizer.zero_grad()\n",
    "        answers, _ = model.forward(X_batch)\n",
    "        answers = answers.view(-1, len(INDEX_TO_WORD))\n",
    "        loss = criterion(answers, Y_batch)\n",
    "        train_loss += loss.item()\n",
    "\n",
    "        loss.backward()\n",
    "        optimizer.step()\n",
    "        train_passed += 1\n",
    "    end = time.time()\n",
    "    \n",
    "    count += 1\n",
    "    if count == 1:\n",
    "        count = 0\n",
    "        trloss = train_loss / train_passed\n",
    "        print(\"Epoch {}. Time: {:.3f}, Train loss: {:.3f}\".format(ep, end - start, trloss))\n",
    "        #generate_sentence('проект позволяет')"
   ]
  },
  {
   "cell_type": "code",
   "execution_count": 130,
   "metadata": {},
   "outputs": [
    {
     "name": "stdout",
     "output_type": "stream",
     "text": [
      "предлагается создать площадку и запустить осознанный выбор места\n"
     ]
    }
   ],
   "source": [
    "generate_sentence('предлагается')"
   ]
  },
  {
   "cell_type": "code",
   "execution_count": 131,
   "metadata": {},
   "outputs": [
    {
     "name": "stdout",
     "output_type": "stream",
     "text": [
      "проект позволяет направлен школьникам на и территории т и <pad> реализовывать <pad> дома <pad> <pad> <pad> <pad> <pad> <pad> <pad> <pad> <pad> <pad> <pad> <pad> <pad> <pad> <pad> <pad> <pad> <pad> <pad>\n"
     ]
    }
   ],
   "source": [
    "generate_sentence('проект позволяет')"
   ]
  },
  {
   "cell_type": "code",
   "execution_count": 132,
   "metadata": {},
   "outputs": [
    {
     "name": "stdout",
     "output_type": "stream",
     "text": [
      "в нашей стране дети рамках стране сложилась в в в поколение журналах которых которых <pad> <pad> слушатели растут <pad> <pad> предоставить технического <pad> <pad> <pad> профиля <pad> <pad> <pad> <pad> <pad> <pad> <pad> <pad>\n"
     ]
    }
   ],
   "source": [
    "generate_sentence('в нашей стране дети')"
   ]
  },
  {
   "cell_type": "code",
   "execution_count": 133,
   "metadata": {},
   "outputs": [
    {
     "name": "stdout",
     "output_type": "stream",
     "text": [
      "низкий уровень образования уровень закрепления <pad> рейтинга за <pad> <pad> рубежом <pad> <pad> <pad> <pad> <pad> <pad> <pad> <pad> <pad> <pad> <pad> <pad> <pad> <pad> <pad> <pad> <pad> <pad> <pad> <pad> <pad> <pad>\n"
     ]
    }
   ],
   "source": [
    "generate_sentence('низкий уровень образования')"
   ]
  },
  {
   "cell_type": "code",
   "execution_count": 134,
   "metadata": {},
   "outputs": [
    {
     "name": "stdout",
     "output_type": "stream",
     "text": [
      "проект способен направлен на на популяризацию базе 2016 детских и домах обучить <pad> и <pad> <pad> <pad> <pad> <pad> <pad> <pad> <pad> <pad> <pad> <pad> <pad> <pad> <pad> <pad> <pad> <pad> <pad>\n"
     ]
    }
   ],
   "source": [
    "generate_sentence('проект способен')"
   ]
  },
  {
   "cell_type": "code",
   "execution_count": 59,
   "metadata": {},
   "outputs": [
    {
     "data": {
      "text/plain": [
       "'предлагается создание платформы и онлайн курсов ориентированных на людей среднего возраста для повышения языковой финансовой и юридической грамотности.формат курсов будет открытый то есть доступный для всех без каких либо ограничений в том числе и территориальных.технология курсов будет соответствовать требованиям технологии массовых открытых онлайн курсов моок .лекции будут прочитаны ведущими специалистами и преподавателями в соответствующих областях.после каждой лекции будут тесты для самопроверки по пройденному материалу.в конце обучения будет предложено творческое задание для взаимного оценивания.обучающиеся успешно прошедшие обучение будут допущены до аттестации по итогам которой будут выжданы электронные сертификаты подтверждающие результаты обучения.'"
      ]
     },
     "execution_count": 59,
     "metadata": {},
     "output_type": "execute_result"
    }
   ],
   "source": [
    "descrs[105]\n"
   ]
  },
  {
   "cell_type": "raw",
   "metadata": {},
   "source": []
  },
  {
   "cell_type": "code",
   "execution_count": null,
   "metadata": {},
   "outputs": [],
   "source": []
  },
  {
   "cell_type": "code",
   "execution_count": null,
   "metadata": {},
   "outputs": [],
   "source": []
  },
  {
   "cell_type": "code",
   "execution_count": 135,
   "metadata": {},
   "outputs": [],
   "source": [
    "torch.save({\n",
    "            'model_state_dict': model.state_dict(),\n",
    "            'optimizer_state_dict': optimizer.state_dict(),\n",
    "            'loss': loss,\n",
    "            }, \"model_allw_w2v_rnn1l-300-128-bs30loss1d5.pt\")"
   ]
  },
  {
   "cell_type": "code",
   "execution_count": 47,
   "metadata": {},
   "outputs": [
    {
     "data": {
      "text/plain": [
       "Network(\n",
       "  (word_embeddings): Embedding(248118, 300)\n",
       "  (gru): GRU(300, 128, batch_first=True)\n",
       "  (hidden2tag): Linear(in_features=128, out_features=44946, bias=True)\n",
       ")"
      ]
     },
     "execution_count": 47,
     "metadata": {},
     "output_type": "execute_result"
    }
   ],
   "source": [
    "# model = TheModelClass(*args, **kwargs)\n",
    "# optimizer = TheOptimizerClass(*args, **kwargs)\n",
    "\n",
    "checkpoint = torch.load(\"model_allw_w2v_rnn1l-300-128-loss0d86.pt\")\n",
    "model.load_state_dict(checkpoint['model_state_dict'])\n",
    "optimizer.load_state_dict(checkpoint['optimizer_state_dict'])\n",
    "loss = checkpoint['loss']\n",
    "\n",
    "#model.eval()\n",
    "model.train()"
   ]
  },
  {
   "cell_type": "code",
   "execution_count": 45,
   "metadata": {},
   "outputs": [
    {
     "data": {
      "text/plain": [
       "Network(\n",
       "  (word_embeddings): Embedding(248118, 300)\n",
       "  (gru): GRU(300, 128, batch_first=True)\n",
       "  (hidden2tag): Linear(in_features=128, out_features=44946, bias=True)\n",
       ")"
      ]
     },
     "execution_count": 45,
     "metadata": {},
     "output_type": "execute_result"
    }
   ],
   "source": [
    "model.train()"
   ]
  },
  {
   "cell_type": "code",
   "execution_count": 141,
   "metadata": {},
   "outputs": [
    {
     "name": "stdout",
     "output_type": "stream",
     "text": [
      "Epoch 0. Time: 2.087, Train loss: 1.747\n"
     ]
    }
   ],
   "source": [
    "# NO TRAIN TEST ONLY\n",
    "BATCH_SIZE = 50\n",
    "count = 0\n",
    "\n",
    "for ep in range(1):\n",
    "    \n",
    "    start = time.time()\n",
    "    train_loss = 0.\n",
    "    train_passed = 0\n",
    "    \n",
    "    for i in range(int(len(X) / 100)):\n",
    "        batch = X[i * BATCH_SIZE:(i + 1) * BATCH_SIZE]\n",
    "        X_batch = batch[:, :-1]\n",
    "        Y_batch = batch[:, 1:].flatten()\n",
    "\n",
    "        #optimizer.zero_grad()\n",
    "        answers, _ = model.forward(X_batch)\n",
    "        answers = answers.view(-1, len(INDEX_TO_WORD))\n",
    "        loss = criterion(answers, Y_batch)\n",
    "        train_loss += loss.item()\n",
    "\n",
    "        #loss.backward()\n",
    "        #optimizer.step()\n",
    "        train_passed += 1\n",
    "    end = time.time()\n",
    "    \n",
    "    count += 1\n",
    "    if count == 1:\n",
    "        count = 0\n",
    "        trloss = train_loss / train_passed\n",
    "        print(\"Epoch {}. Time: {:.3f}, Train loss: {:.3f}\".format(ep, end - start, trloss))\n",
    "        #generate_sentence('проект позволяет')"
   ]
  },
  {
   "cell_type": "code",
   "execution_count": 164,
   "metadata": {},
   "outputs": [
    {
     "data": {
      "text/plain": [
       "84"
      ]
     },
     "execution_count": 164,
     "metadata": {},
     "output_type": "execute_result"
    }
   ],
   "source": [
    "c['преподаватели']"
   ]
  },
  {
   "cell_type": "code",
   "execution_count": 44,
   "metadata": {},
   "outputs": [
    {
     "data": {
      "text/plain": [
       "1283"
      ]
     },
     "execution_count": 44,
     "metadata": {},
     "output_type": "execute_result"
    }
   ],
   "source": [
    "c['будет']"
   ]
  },
  {
   "cell_type": "code",
   "execution_count": 48,
   "metadata": {
    "collapsed": true,
    "jupyter": {
     "outputs_hidden": true
    }
   },
   "outputs": [
    {
     "data": {
      "text/plain": [
       "[('и', 21757),\n",
       " ('в', 18684),\n",
       " ('на', 7540),\n",
       " ('с', 6533),\n",
       " ('для', 5371),\n",
       " ('по', 4117),\n",
       " ('не', 3524),\n",
       " ('проекта', 3413),\n",
       " ('к', 3142),\n",
       " ('как', 2422),\n",
       " ('что', 2298),\n",
       " ('а', 2041),\n",
       " ('детей', 1997),\n",
       " ('из', 1893),\n",
       " ('о', 1651),\n",
       " ('проект', 1626),\n",
       " ('это', 1586),\n",
       " ('их', 1507),\n",
       " ('или', 1477),\n",
       " ('от', 1449),\n",
       " ('1', 1315),\n",
       " ('–', 1285),\n",
       " ('будет', 1283),\n",
       " ('у', 1203),\n",
       " ('образования', 1184),\n",
       " ('при', 1184),\n",
       " ('2', 1170),\n",
       " ('которые', 1116),\n",
       " ('за', 1075),\n",
       " ('также', 1052),\n",
       " ('3', 1010),\n",
       " ('развития', 987),\n",
       " ('но', 983),\n",
       " ('работы', 973),\n",
       " ('так', 973),\n",
       " ('обучения', 933),\n",
       " ('реализации', 926),\n",
       " ('жизни', 909),\n",
       " ('будут', 877),\n",
       " ('россии', 787),\n",
       " ('профессии', 767),\n",
       " ('может', 764),\n",
       " ('создание', 763),\n",
       " ('области', 763),\n",
       " ('людей', 759),\n",
       " ('деятельности', 758),\n",
       " ('быть', 735),\n",
       " ('только', 709),\n",
       " ('т', 708),\n",
       " ('то', 705),\n",
       " ('рамках', 705),\n",
       " ('до', 705),\n",
       " ('можно', 704),\n",
       " ('школьников', 701),\n",
       " ('более', 693),\n",
       " ('время', 686),\n",
       " ('проведение', 679),\n",
       " ('все', 676),\n",
       " ('4', 669),\n",
       " ('они', 660),\n",
       " ('развитие', 655),\n",
       " ('школы', 651),\n",
       " ('том', 650),\n",
       " ('населения', 641),\n",
       " ('себя', 639),\n",
       " ('я', 629),\n",
       " ('является', 628),\n",
       " ('его', 627),\n",
       " ('мы', 625),\n",
       " ('дети', 623),\n",
       " ('чтобы', 623),\n",
       " ('возможность', 615),\n",
       " ('могут', 612),\n",
       " ('со', 611),\n",
       " ('5', 608),\n",
       " ('знаний', 604),\n",
       " ('лет', 585),\n",
       " ('обучение', 580),\n",
       " ('детских', 575),\n",
       " ('специалистов', 569),\n",
       " ('во', 544),\n",
       " ('необходимо', 536),\n",
       " ('родителей', 525),\n",
       " ('образовательных', 520),\n",
       " ('цель', 519),\n",
       " ('организации', 515),\n",
       " ('уже', 511),\n",
       " ('программы', 509),\n",
       " ('классов', 499),\n",
       " ('через', 498),\n",
       " ('школ', 492),\n",
       " ('этом', 489),\n",
       " ('студентов', 488),\n",
       " ('мероприятий', 483),\n",
       " ('знания', 483),\n",
       " ('им', 481),\n",
       " ('страны', 479),\n",
       " ('формирование', 476),\n",
       " ('грамотности', 475),\n",
       " ('повышение', 473),\n",
       " ('есть', 473),\n",
       " ('же', 471),\n",
       " ('навыков', 457),\n",
       " ('проведения', 453),\n",
       " ('позволит', 450),\n",
       " ('участников', 449),\n",
       " ('финансовой', 442),\n",
       " ('всех', 439),\n",
       " ('молодежи', 435),\n",
       " ('бы', 432),\n",
       " ('учащихся', 430),\n",
       " ('детям', 429),\n",
       " ('если', 429),\n",
       " ('где', 429),\n",
       " ('возможности', 414),\n",
       " ('них', 414),\n",
       " ('тем', 396),\n",
       " ('уровня', 395),\n",
       " ('которых', 395),\n",
       " ('своей', 393),\n",
       " ('задачи', 393),\n",
       " ('д', 390),\n",
       " ('того', 381),\n",
       " ('бизнес', 379),\n",
       " ('занятий', 378),\n",
       " ('возраста', 376),\n",
       " ('уровень', 375),\n",
       " ('различных', 374),\n",
       " ('навыки', 373),\n",
       " ('домов', 372),\n",
       " ('человек', 372),\n",
       " ('года', 372),\n",
       " ('системы', 371),\n",
       " ('учебных', 370),\n",
       " ('работу', 369),\n",
       " ('г', 369),\n",
       " ('информации', 365),\n",
       " ('очень', 364),\n",
       " ('получить', 362),\n",
       " ('свои', 362),\n",
       " ('после', 362),\n",
       " ('мастер', 359),\n",
       " ('профессий', 359),\n",
       " ('других', 357),\n",
       " ('люди', 355),\n",
       " ('граждан', 353),\n",
       " ('работа', 351),\n",
       " ('своих', 346),\n",
       " ('целью', 346),\n",
       " ('он', 346),\n",
       " ('помощь', 345),\n",
       " ('организация', 344),\n",
       " ('вузов', 343),\n",
       " ('этого', 343),\n",
       " ('образование', 342),\n",
       " ('молодых', 342),\n",
       " ('города', 338),\n",
       " ('сфере', 331),\n",
       " ('труда', 329),\n",
       " ('подготовки', 328),\n",
       " ('возможно', 327),\n",
       " ('проектов', 327),\n",
       " ('подростков', 327),\n",
       " ('числе', 327),\n",
       " ('создать', 326),\n",
       " ('человека', 323),\n",
       " ('помощи', 322),\n",
       " ('участие', 321),\n",
       " ('без', 320),\n",
       " ('социальной', 317),\n",
       " ('выпускников', 316),\n",
       " ('рф', 316),\n",
       " ('об', 315),\n",
       " ('мероприятия', 314),\n",
       " ('базе', 313),\n",
       " ('данный', 312),\n",
       " ('среди', 312),\n",
       " ('чем', 311),\n",
       " ('количество', 309),\n",
       " ('социальных', 309),\n",
       " ('школе', 308),\n",
       " ('10', 308),\n",
       " ('который', 307),\n",
       " ('занятия', 307),\n",
       " ('например', 307),\n",
       " ('новых', 306),\n",
       " ('данного', 306),\n",
       " ('свою', 305),\n",
       " ('интернет', 304),\n",
       " ('проблемы', 301),\n",
       " ('деятельность', 300),\n",
       " ('решения', 300),\n",
       " ('именно', 299),\n",
       " ('планируется', 296),\n",
       " ('таких', 296),\n",
       " ('детьми', 293),\n",
       " ('школах', 292),\n",
       " ('опыт', 290),\n",
       " ('основе', 290),\n",
       " ('общества', 289),\n",
       " ('стать', 289),\n",
       " ('региона', 289),\n",
       " ('жизнь', 289),\n",
       " ('сделать', 287),\n",
       " ('бизнеса', 286),\n",
       " ('нужно', 285),\n",
       " ('6', 285),\n",
       " ('профессионального', 282),\n",
       " ('результаты', 280),\n",
       " ('каждый', 280),\n",
       " ('предприятий', 279),\n",
       " ('технологий', 278),\n",
       " ('должны', 278),\n",
       " ('своего', 276),\n",
       " ('социально', 273),\n",
       " ('организаций', 271),\n",
       " ('ребенка', 270),\n",
       " ('профессиональной', 269),\n",
       " ('учреждений', 268),\n",
       " ('нашей', 267),\n",
       " ('работе', 264),\n",
       " ('этой', 264),\n",
       " ('выбор', 263),\n",
       " ('даже', 263),\n",
       " ('стороны', 263),\n",
       " ('между', 262),\n",
       " ('разработка', 261),\n",
       " ('смогут', 260),\n",
       " ('уровне', 259),\n",
       " ('развитию', 256),\n",
       " ('либо', 255),\n",
       " ('российской', 254),\n",
       " ('7', 253),\n",
       " ('разных', 249),\n",
       " ('культуры', 248),\n",
       " ('группы', 248),\n",
       " ('провести', 245),\n",
       " ('онлайн', 244),\n",
       " ('проводить', 243),\n",
       " ('кто', 243),\n",
       " ('проблема', 240),\n",
       " ('когда', 238),\n",
       " ('многие', 238),\n",
       " ('поколения', 238),\n",
       " ('специальности', 237),\n",
       " ('предприятия', 237),\n",
       " ('задач', 236),\n",
       " ('получения', 235),\n",
       " ('направлен', 234),\n",
       " ('безопасности', 234),\n",
       " ('работать', 233),\n",
       " ('наиболее', 233),\n",
       " ('нет', 232),\n",
       " ('связи', 232),\n",
       " ('кадров', 232),\n",
       " ('помочь', 231),\n",
       " ('образом', 231),\n",
       " ('процесс', 231),\n",
       " ('эти', 230),\n",
       " ('программ', 229),\n",
       " ('сети', 229),\n",
       " ('таким', 229),\n",
       " ('проблем', 228),\n",
       " ('территории', 228),\n",
       " ('реализация', 228),\n",
       " ('вопросы', 226),\n",
       " ('обучающихся', 226),\n",
       " ('проекте', 226),\n",
       " ('компетенций', 225),\n",
       " ('будущего', 225),\n",
       " ('экономики', 224),\n",
       " ('каждого', 223),\n",
       " ('новые', 222),\n",
       " ('качества', 222),\n",
       " ('свой', 222),\n",
       " ('опыта', 222),\n",
       " ('настоящее', 221),\n",
       " ('какие', 221),\n",
       " ('поддержки', 221),\n",
       " ('взаимодействия', 220),\n",
       " ('под', 218),\n",
       " ('мире', 218),\n",
       " ('дома', 216),\n",
       " ('сейчас', 216),\n",
       " ('воспитанников', 215),\n",
       " ('школа', 214),\n",
       " ('современных', 214),\n",
       " ('конкурса', 213),\n",
       " ('повышения', 212),\n",
       " ('которая', 212),\n",
       " ('себе', 211),\n",
       " ('цели', 211),\n",
       " ('образовательной', 211),\n",
       " ('ситуации', 210),\n",
       " ('8', 210),\n",
       " ('организовать', 209),\n",
       " ('одной', 208),\n",
       " ('которой', 208),\n",
       " ('программа', 208),\n",
       " ('важно', 207),\n",
       " ('ее', 207),\n",
       " ('личности', 206),\n",
       " ('участники', 206),\n",
       " ('игры', 206),\n",
       " ('решение', 206),\n",
       " ('этапе', 206),\n",
       " ('учеников', 205),\n",
       " ('система', 204),\n",
       " ('поведения', 204),\n",
       " ('всего', 203),\n",
       " ('данной', 202),\n",
       " ('поэтому', 202),\n",
       " ('педагогов', 201),\n",
       " ('больше', 201),\n",
       " ('часть', 201),\n",
       " ('качестве', 201),\n",
       " ('формирования', 200),\n",
       " ('дать', 199),\n",
       " ('времени', 199),\n",
       " ('студенты', 198),\n",
       " ('будущем', 198),\n",
       " ('федерации', 195),\n",
       " ('этих', 195),\n",
       " ('будущей', 194),\n",
       " ('такие', 194),\n",
       " ('услуг', 193),\n",
       " ('заведений', 193),\n",
       " ('п', 193),\n",
       " ('задача', 192),\n",
       " ('стране', 192),\n",
       " ('образовательного', 191),\n",
       " ('мира', 191),\n",
       " ('менее', 191),\n",
       " ('форме', 191),\n",
       " ('этап', 190),\n",
       " ('финансовых', 190),\n",
       " ('результате', 190),\n",
       " ('являются', 190),\n",
       " ('имеют', 190),\n",
       " ('государства', 190),\n",
       " ('лекций', 190),\n",
       " ('групп', 189),\n",
       " ('родители', 188),\n",
       " ('11', 188),\n",
       " ('создания', 188),\n",
       " ('должен', 185),\n",
       " ('другие', 185),\n",
       " ('найти', 184),\n",
       " ('среднего', 184),\n",
       " ('этот', 183),\n",
       " ('день', 183),\n",
       " ('старших', 182),\n",
       " ('классы', 182),\n",
       " ('технологии', 182),\n",
       " ('еще', 182),\n",
       " ('профессиональных', 182),\n",
       " ('привлечение', 182),\n",
       " ('средств', 182),\n",
       " ('направления', 182),\n",
       " ('условиях', 181),\n",
       " ('суть', 181),\n",
       " ('встречи', 181),\n",
       " ('часто', 180),\n",
       " ('программу', 180),\n",
       " ('2019', 180),\n",
       " ('социального', 180),\n",
       " ('9', 180),\n",
       " ('поможет', 180),\n",
       " ('центра', 180),\n",
       " ('—', 180),\n",
       " ('компании', 179),\n",
       " ('несколько', 179),\n",
       " ('предполагается', 177),\n",
       " ('2020', 177),\n",
       " ('повысить', 176),\n",
       " ('процесса', 176),\n",
       " ('научно', 175),\n",
       " ('внимание', 175),\n",
       " ('процессе', 175),\n",
       " ('подготовка', 175),\n",
       " ('данных', 174),\n",
       " ('год', 174),\n",
       " ('просто', 174),\n",
       " ('году', 174),\n",
       " ('материалов', 173),\n",
       " ('особенно', 172),\n",
       " ('результатов', 172),\n",
       " ('возможностей', 171),\n",
       " ('получение', 171),\n",
       " ('много', 171),\n",
       " ('заведения', 170),\n",
       " ('возрасте', 170),\n",
       " ('зачастую', 170),\n",
       " ('помощью', 169),\n",
       " ('момент', 169),\n",
       " ('счет', 169),\n",
       " ('результат', 169),\n",
       " ('обществе', 168),\n",
       " ('школьники', 168),\n",
       " ('детского', 167),\n",
       " ('сформировать', 167),\n",
       " ('случае', 166),\n",
       " ('сегодня', 165),\n",
       " ('опытом', 165),\n",
       " ('отсутствие', 165),\n",
       " ('лекции', 165),\n",
       " ('один', 164),\n",
       " ('очередь', 163),\n",
       " ('количества', 163),\n",
       " ('компаний', 162),\n",
       " ('реализовать', 161),\n",
       " ('рабочих', 161),\n",
       " ('профориентации', 160),\n",
       " ('курсов', 160),\n",
       " ('виде', 159),\n",
       " ('выбора', 159),\n",
       " ('целом', 159),\n",
       " ('имеет', 159),\n",
       " ('такой', 158),\n",
       " ('основные', 158),\n",
       " ('школьного', 158),\n",
       " ('высшего', 158),\n",
       " ('учителей', 157),\n",
       " ('было', 157),\n",
       " ('предлагается', 156),\n",
       " ('учреждения', 156),\n",
       " ('встреч', 156),\n",
       " ('преподавателей', 156),\n",
       " ('перед', 156),\n",
       " ('общения', 156),\n",
       " ('предполагает', 155),\n",
       " ('участия', 155),\n",
       " ('однако', 154),\n",
       " ('др', 154),\n",
       " ('актуальность', 153),\n",
       " ('систему', 153),\n",
       " ('образовательные', 153),\n",
       " ('регионе', 153),\n",
       " ('специалисты', 153),\n",
       " ('семей', 153),\n",
       " ('условий', 152),\n",
       " ('курса', 152),\n",
       " ('тех', 152),\n",
       " ('дополнительного', 151),\n",
       " ('интерес', 150),\n",
       " ('науки', 150),\n",
       " ('регионах', 150),\n",
       " ('информацию', 150),\n",
       " ('вопрос', 149),\n",
       " ('будущее', 149),\n",
       " ('кроме', 148),\n",
       " ('заключается', 146),\n",
       " ('учебного', 146),\n",
       " ('центров', 145),\n",
       " ('поддержка', 144),\n",
       " ('людям', 144),\n",
       " ('нас', 143),\n",
       " ('мир', 143),\n",
       " ('делать', 143),\n",
       " ('учебные', 143),\n",
       " ('темы', 142),\n",
       " ('профессию', 141),\n",
       " ('практических', 141),\n",
       " ('данные', 141),\n",
       " ('путем', 141),\n",
       " ('использовать', 141),\n",
       " ('выборе', 141),\n",
       " ('рынке', 140),\n",
       " ('центр', 140),\n",
       " ('рассказать', 140),\n",
       " ('проекты', 140),\n",
       " ('уроков', 140),\n",
       " ('социальные', 139),\n",
       " ('научных', 139),\n",
       " ('существует', 139),\n",
       " ('технических', 139),\n",
       " ('всем', 139),\n",
       " ('период', 138),\n",
       " ('ребенок', 138),\n",
       " ('отношения', 137),\n",
       " ('адаптации', 137),\n",
       " ('основы', 137),\n",
       " ('обучению', 137),\n",
       " ('места', 137),\n",
       " ('ходе', 136),\n",
       " ('должна', 136),\n",
       " ('отрасли', 136),\n",
       " ('всегда', 136),\n",
       " ('учетом', 135),\n",
       " ('среды', 135),\n",
       " ('школьникам', 135),\n",
       " ('команды', 135),\n",
       " ('развитии', 135),\n",
       " ('потенциала', 134),\n",
       " ('формате', 134),\n",
       " ('возможностями', 134),\n",
       " ('место', 134),\n",
       " ('будущих', 133),\n",
       " ('далее', 133),\n",
       " ('обеспечение', 133)]"
      ]
     },
     "execution_count": 48,
     "metadata": {},
     "output_type": "execute_result"
    }
   ],
   "source": [
    "c.most_common(500)"
   ]
  },
  {
   "cell_type": "code",
   "execution_count": 162,
   "metadata": {},
   "outputs": [],
   "source": [
    "# save descrs to disk\n",
    "import pandas as pd\n",
    "df = pd.DataFrame(descrs)\n",
    "df.to_csv(\"descrs.csv\", encoding = 'utf8')\n"
   ]
  },
  {
   "cell_type": "markdown",
   "metadata": {},
   "source": [
    "### Пробуем эмбеддинги word2vec\n"
   ]
  },
  {
   "cell_type": "code",
   "execution_count": null,
   "metadata": {},
   "outputs": [],
   "source": []
  },
  {
   "cell_type": "code",
   "execution_count": null,
   "metadata": {},
   "outputs": [],
   "source": []
  },
  {
   "cell_type": "code",
   "execution_count": null,
   "metadata": {},
   "outputs": [],
   "source": []
  },
  {
   "cell_type": "code",
   "execution_count": null,
   "metadata": {},
   "outputs": [],
   "source": []
  },
  {
   "cell_type": "code",
   "execution_count": 165,
   "metadata": {},
   "outputs": [
    {
     "ename": "ModuleNotFoundError",
     "evalue": "No module named 'gensim'",
     "output_type": "error",
     "traceback": [
      "\u001b[1;31m---------------------------------------------------------------------------\u001b[0m",
      "\u001b[1;31mModuleNotFoundError\u001b[0m                       Traceback (most recent call last)",
      "\u001b[1;32m<ipython-input-165-45be34cb649b>\u001b[0m in \u001b[0;36m<module>\u001b[1;34m\u001b[0m\n\u001b[1;32m----> 1\u001b[1;33m \u001b[1;32mimport\u001b[0m \u001b[0mgensim\u001b[0m\u001b[1;33m\u001b[0m\u001b[1;33m\u001b[0m\u001b[0m\n\u001b[0m\u001b[0;32m      2\u001b[0m \u001b[0mmodel\u001b[0m \u001b[1;33m=\u001b[0m \u001b[0mgensim\u001b[0m\u001b[1;33m.\u001b[0m\u001b[0mmodels\u001b[0m\u001b[1;33m.\u001b[0m\u001b[0mKeyedVectors\u001b[0m\u001b[1;33m.\u001b[0m\u001b[0mload_word2vec_format\u001b[0m\u001b[1;33m(\u001b[0m\u001b[1;34m'path/to/file'\u001b[0m\u001b[1;33m)\u001b[0m\u001b[1;33m\u001b[0m\u001b[1;33m\u001b[0m\u001b[0m\n\u001b[0;32m      3\u001b[0m \u001b[0mweights\u001b[0m \u001b[1;33m=\u001b[0m \u001b[0mtorch\u001b[0m\u001b[1;33m.\u001b[0m\u001b[0mFloatTensor\u001b[0m\u001b[1;33m(\u001b[0m\u001b[0mmodel\u001b[0m\u001b[1;33m.\u001b[0m\u001b[0mvectors\u001b[0m\u001b[1;33m)\u001b[0m \u001b[1;31m# formerly syn0, which is soon deprecated\u001b[0m\u001b[1;33m\u001b[0m\u001b[1;33m\u001b[0m\u001b[0m\n",
      "\u001b[1;31mModuleNotFoundError\u001b[0m: No module named 'gensim'"
     ]
    }
   ],
   "source": []
  },
  {
   "cell_type": "code",
   "execution_count": null,
   "metadata": {},
   "outputs": [],
   "source": []
  },
  {
   "cell_type": "code",
   "execution_count": null,
   "metadata": {},
   "outputs": [],
   "source": []
  }
 ],
 "metadata": {
  "kernelspec": {
   "display_name": "Python 3",
   "language": "python",
   "name": "python3"
  },
  "language_info": {
   "codemirror_mode": {
    "name": "ipython",
    "version": 3
   },
   "file_extension": ".py",
   "mimetype": "text/x-python",
   "name": "python",
   "nbconvert_exporter": "python",
   "pygments_lexer": "ipython3",
   "version": "3.7.4"
  }
 },
 "nbformat": 4,
 "nbformat_minor": 4
}
