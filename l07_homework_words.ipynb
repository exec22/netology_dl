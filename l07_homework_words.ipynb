{
 "cells": [
  {
   "cell_type": "code",
   "execution_count": 53,
   "metadata": {},
   "outputs": [],
   "source": [
    "import torch\n",
    "import pandas as pd\n",
    "import time\n",
    "import re"
   ]
  },
  {
   "cell_type": "code",
   "execution_count": 54,
   "metadata": {},
   "outputs": [
    {
     "data": {
      "text/plain": [
       "device(type='cuda')"
      ]
     },
     "execution_count": 54,
     "metadata": {},
     "output_type": "execute_result"
    }
   ],
   "source": [
    "dev = torch.device(\"cuda\") if torch.cuda.is_available() else torch.device(\"cpu\")\n",
    "dev"
   ]
  },
  {
   "cell_type": "code",
   "execution_count": 55,
   "metadata": {},
   "outputs": [],
   "source": [
    "oneg = pd.read_csv('../onegin.txt', sep='\\n', header=None)"
   ]
  },
  {
   "cell_type": "code",
   "execution_count": 56,
   "metadata": {},
   "outputs": [],
   "source": [
    "# читаем стихи\n",
    "max_len = 0\n",
    "phrases = []\n",
    "for ind in range(len(oneg)):\n",
    "    line = oneg[0][ind]\n",
    "    line = line.lower()\n",
    "    if re.search(r'\\t', line):\n",
    "        # удалить ^\\t\\t\n",
    "        line = re.sub(r'\\t\\t', '', line)\n",
    "        # удалить …………\n",
    "        line = re.sub(r'…', '', line)\n",
    "        # удалить все после [d]\n",
    "        line = re.sub(r'\\[\\d*\\].*$', '', line)\n",
    "        # удалить все в квадратных скобках\n",
    "        line = re.sub(r'\\[.*\\]', '', line)\n",
    "        # удалить все анлгийские буквы\n",
    "        line = re.sub(r'[abcdefghijklmnopqrstuvwxyz]', '', line)\n",
    "        # заменить \\xa0 на пробел\n",
    "        line = re.sub(r'\\xa0', ' ', line)\n",
    "        # удалить ведущие и ведомые пробелы - не работает\n",
    "        line = re.sub(r'^ *', '', line)\n",
    "        line = re.sub(r' *$', '', line)\n",
    "        # удалить знаки препинания\n",
    "        line = re.sub(r'[\\,\\.\\;\\:\\-\\(\\)\\!\\<\\>\\'\\«\\»\\—/?\\–\\’\\–\\—]', '', line)\n",
    "        # заменить двойной пробел на пробел\n",
    "        line = re.sub(r'  ', ' ', line)\n",
    "        \n",
    "        line = line.strip()\n",
    "\n",
    "        if len(line) > 0:\n",
    "            phrases.append(line)\n",
    "            line_len = len(line)\n",
    "            if line_len > max_len:\n",
    "                max_len = line_len"
   ]
  },
  {
   "cell_type": "code",
   "execution_count": 57,
   "metadata": {},
   "outputs": [
    {
     "data": {
      "text/plain": [
       "34"
      ]
     },
     "execution_count": 57,
     "metadata": {},
     "output_type": "execute_result"
    }
   ],
   "source": [
    "max_len"
   ]
  },
  {
   "cell_type": "code",
   "execution_count": 80,
   "metadata": {},
   "outputs": [
    {
     "data": {
      "text/plain": [
       "3142"
      ]
     },
     "execution_count": 80,
     "metadata": {},
     "output_type": "execute_result"
    }
   ],
   "source": [
    "text = ' '.join(phrases)\n",
    "text = re.sub(r'  ', ' ', text)  # убрать двойные пробелы\n",
    "ALL_WORDS = set(text.strip().split(' '))\n",
    "len(ALL_WORDS)"
   ]
  },
  {
   "cell_type": "code",
   "execution_count": 81,
   "metadata": {},
   "outputs": [],
   "source": [
    "from collections import Counter"
   ]
  },
  {
   "cell_type": "code",
   "execution_count": 82,
   "metadata": {},
   "outputs": [
    {
     "data": {
      "text/plain": [
       "[('и', 305),\n",
       " ('в', 142),\n",
       " ('не', 100),\n",
       " ('он', 91),\n",
       " ('я', 61),\n",
       " ('на', 56),\n",
       " ('как', 55),\n",
       " ('но', 50),\n",
       " ('с', 47),\n",
       " ('что', 39)]"
      ]
     },
     "execution_count": 82,
     "metadata": {},
     "output_type": "execute_result"
    }
   ],
   "source": [
    "c = Counter(text.split(' '))\n",
    "c.most_common(10)"
   ]
  },
  {
   "cell_type": "code",
   "execution_count": 83,
   "metadata": {},
   "outputs": [
    {
     "data": {
      "text/plain": [
       "3002"
      ]
     },
     "execution_count": 83,
     "metadata": {},
     "output_type": "execute_result"
    }
   ],
   "source": [
    "WORDS_COUNT = 3000\n",
    "ALL_WORDS = set([w for w, _ in c.most_common(WORDS_COUNT)])\n",
    "INDEX_TO_WORD = ['<pad>', '<miss>'] + list(ALL_WORDS)\n",
    "len(INDEX_TO_WORD)"
   ]
  },
  {
   "cell_type": "code",
   "execution_count": 84,
   "metadata": {},
   "outputs": [
    {
     "data": {
      "text/plain": [
       "['<pad>',\n",
       " '<miss>',\n",
       " 'улицы',\n",
       " 'сохранит',\n",
       " 'возвращённый',\n",
       " 'потери',\n",
       " 'соседа',\n",
       " 'всех',\n",
       " 'зритель',\n",
       " 'вольности']"
      ]
     },
     "execution_count": 84,
     "metadata": {},
     "output_type": "execute_result"
    }
   ],
   "source": [
    "WORD_TO_INDEX = {w: i for i, w in enumerate(INDEX_TO_WORD)}\n",
    "INDEX_TO_WORD[:10]"
   ]
  },
  {
   "cell_type": "code",
   "execution_count": 85,
   "metadata": {},
   "outputs": [],
   "source": [
    "%matplotlib inline\n",
    "import matplotlib.pyplot as plt"
   ]
  },
  {
   "cell_type": "code",
   "execution_count": 87,
   "metadata": {},
   "outputs": [
    {
     "data": {
      "text/plain": [
       "(array([  6.,   0.,   0.,   0.,   0.,   0.,   0.,  36.,   0.,   0.,   0.,\n",
       "          0.,   0.,   0., 352.,   0.,   0.,   0.,   0.,   0.,   0., 561.,\n",
       "          0.,   0.,   0.,   0.,   0.,   0., 342.,   0.,   0.,   0.,   0.,\n",
       "          0.,   0., 128.,   0.,   0.,   0.,   0.,   0.,   0.,  26.,   0.,\n",
       "          0.,   0.,   0.,   0.,   0.,   1.]),\n",
       " array([1.  , 1.14, 1.28, 1.42, 1.56, 1.7 , 1.84, 1.98, 2.12, 2.26, 2.4 ,\n",
       "        2.54, 2.68, 2.82, 2.96, 3.1 , 3.24, 3.38, 3.52, 3.66, 3.8 , 3.94,\n",
       "        4.08, 4.22, 4.36, 4.5 , 4.64, 4.78, 4.92, 5.06, 5.2 , 5.34, 5.48,\n",
       "        5.62, 5.76, 5.9 , 6.04, 6.18, 6.32, 6.46, 6.6 , 6.74, 6.88, 7.02,\n",
       "        7.16, 7.3 , 7.44, 7.58, 7.72, 7.86, 8.  ]),\n",
       " <a list of 50 Patch objects>)"
      ]
     },
     "execution_count": 87,
     "metadata": {},
     "output_type": "execute_result"
    },
    {
     "data": {
      "image/png": "[encoded data removed]",
      "text/plain": [
       "<Figure size 432x288 with 1 Axes>"
      ]
     },
     "metadata": {
      "needs_background": "light"
     },
     "output_type": "display_data"
    }
   ],
   "source": [
    "# распреление длины слов в строке\n",
    "plt.hist([len(s.split(' ')) for s in phrases], bins=50)"
   ]
  },
  {
   "cell_type": "code",
   "execution_count": 98,
   "metadata": {},
   "outputs": [],
   "source": [
    "MAX_LEN = 8"
   ]
  },
  {
   "cell_type": "code",
   "execution_count": 99,
   "metadata": {},
   "outputs": [],
   "source": [
    "X = torch.zeros((len(phrases), MAX_LEN), dtype=int).to(dev)"
   ]
  },
  {
   "cell_type": "code",
   "execution_count": 100,
   "metadata": {},
   "outputs": [],
   "source": [
    "# готовим матрицу - строка - фраза, столбец - индекс слова в этой позиции\n",
    "for i in range(len(phrases)):\n",
    "    for j, w in enumerate(phrases[i].split(' ')):\n",
    "        if j >= MAX_LEN:\n",
    "            break\n",
    "        X[i, j] = WORD_TO_INDEX.get(w, WORD_TO_INDEX['<miss>'])"
   ]
  },
  {
   "cell_type": "code",
   "execution_count": 101,
   "metadata": {},
   "outputs": [
    {
     "data": {
      "text/plain": [
       "tensor([[2651, 1648,  702, 1921,    0,    0,    0,    0]], device='cuda:0')"
      ]
     },
     "execution_count": 101,
     "metadata": {},
     "output_type": "execute_result"
    }
   ],
   "source": [
    "X[0:1]"
   ]
  },
  {
   "cell_type": "code",
   "execution_count": 102,
   "metadata": {},
   "outputs": [],
   "source": [
    "class Network(torch.nn.Module):\n",
    "\n",
    "    def __init__(self, dev):\n",
    "        super(Network, self).__init__()\n",
    "        self.dev = dev\n",
    "        self.word_embeddings = torch.nn.Embedding(len(INDEX_TO_WORD), 200).to(self.dev)\n",
    "        self.gru = torch.nn.RNN(200, 128, num_layers = 2, nonlinearity = 'relu', batch_first=True).to(self.dev)\n",
    "        self.hidden2tag = torch.nn.Linear(128, len(INDEX_TO_WORD)).to(self.dev)\n",
    "\n",
    "    def forward(self, sentences):\n",
    "        embeds = self.word_embeddings(sentences)\n",
    "        gru_out, state = self.gru(embeds)\n",
    "        tag_space = self.hidden2tag(gru_out.reshape(-1, 128))\n",
    "        return tag_space.reshape(sentences.shape[0], sentences.shape[1], -1), state\n",
    "\n",
    "    def forward_state(self, sentences, state):\n",
    "        embeds = self.word_embeddings(sentences)\n",
    "        gru_out, state = self.gru(embeds, state)\n",
    "        tag_space = self.hidden2tag(gru_out.reshape(-1, 128))\n",
    "        return tag_space.reshape(sentences.shape[0], sentences.shape[1], -1), state"
   ]
  },
  {
   "cell_type": "code",
   "execution_count": 152,
   "metadata": {},
   "outputs": [],
   "source": [
    "class NetworkGRU(torch.nn.Module):\n",
    "\n",
    "    def __init__(self, dev):\n",
    "        super(NetworkGRU, self).__init__()\n",
    "        self.dev = dev\n",
    "        self.word_embeddings = torch.nn.Embedding(len(INDEX_TO_WORD), 200).to(self.dev)\n",
    "        self.gru = torch.nn.GRU(200, 128, num_layers = 1, batch_first=True).to(self.dev)\n",
    "        self.hidden2tag = torch.nn.Linear(128, len(INDEX_TO_WORD)).to(self.dev)\n",
    "\n",
    "    def forward(self, sentences):\n",
    "        embeds = self.word_embeddings(sentences)\n",
    "        gru_out, state = self.gru(embeds)\n",
    "        tag_space = self.hidden2tag(gru_out.reshape(-1, 128))\n",
    "        return tag_space.reshape(sentences.shape[0], sentences.shape[1], -1), state\n",
    "\n",
    "    def forward_state(self, sentences, state):\n",
    "        embeds = self.word_embeddings(sentences)\n",
    "        gru_out, state = self.gru(embeds, state)\n",
    "        tag_space = self.hidden2tag(gru_out.reshape(-1, 128))\n",
    "        return tag_space.reshape(sentences.shape[0], sentences.shape[1], -1), state"
   ]
  },
  {
   "cell_type": "code",
   "execution_count": 153,
   "metadata": {},
   "outputs": [],
   "source": [
    "class NetworkLSTM(torch.nn.Module):\n",
    "\n",
    "    def __init__(self, dev):\n",
    "        super(NetworkLSTM, self).__init__()\n",
    "        self.dev = dev\n",
    "        self.word_embeddings = torch.nn.Embedding(len(INDEX_TO_WORD), 200).to(self.dev)\n",
    "        self.gru = torch.nn.LSTM(200, 128, num_layers = 1, batch_first=True).to(self.dev)\n",
    "        self.hidden2tag = torch.nn.Linear(128, len(INDEX_TO_WORD)).to(self.dev)\n",
    "\n",
    "    def forward(self, sentences):\n",
    "        embeds = self.word_embeddings(sentences)\n",
    "        gru_out, state = self.gru(embeds)\n",
    "        tag_space = self.hidden2tag(gru_out.reshape(-1, 128))\n",
    "        return tag_space.reshape(sentences.shape[0], sentences.shape[1], -1), state\n",
    "\n",
    "    def forward_state(self, sentences, state):\n",
    "        embeds = self.word_embeddings(sentences)\n",
    "        gru_out, state = self.gru(embeds, state)\n",
    "        tag_space = self.hidden2tag(gru_out.reshape(-1, 128))\n",
    "        return tag_space.reshape(sentences.shape[0], sentences.shape[1], -1), state"
   ]
  },
  {
   "cell_type": "code",
   "execution_count": 154,
   "metadata": {},
   "outputs": [
    {
     "data": {
      "text/plain": [
       "torch.Size([1, 8, 3002])"
      ]
     },
     "execution_count": 154,
     "metadata": {},
     "output_type": "execute_result"
    }
   ],
   "source": [
    "model = Network(dev)\n",
    "model.forward(X[0:1])[0].shape"
   ]
  },
  {
   "cell_type": "code",
   "execution_count": 155,
   "metadata": {},
   "outputs": [
    {
     "data": {
      "text/plain": [
       "torch.Size([1, 8, 3002])"
      ]
     },
     "execution_count": 155,
     "metadata": {},
     "output_type": "execute_result"
    }
   ],
   "source": [
    "modelGRU = NetworkGRU(dev)\n",
    "modelGRU.forward(X[0:1])[0].shape"
   ]
  },
  {
   "cell_type": "code",
   "execution_count": 156,
   "metadata": {},
   "outputs": [
    {
     "data": {
      "text/plain": [
       "torch.Size([1, 8, 3002])"
      ]
     },
     "execution_count": 156,
     "metadata": {},
     "output_type": "execute_result"
    }
   ],
   "source": [
    "modelLSTM = NetworkLSTM(dev)\n",
    "modelLSTM.forward(X[0:1])[0].shape"
   ]
  },
  {
   "cell_type": "code",
   "execution_count": 157,
   "metadata": {},
   "outputs": [],
   "source": [
    "def generate_sentence(line):\n",
    "    sentence = line.split(' ')\n",
    "    #sentence = ['к', 'а', 'к', ' ', 'р', 'а', 'н', 'о',' ']\n",
    "    state = None\n",
    "    for i in range(MAX_LEN):\n",
    "        #X = torch.Tensor([[WORD_TO_INDEX[sentence[i]]]]).type(torch.long)\n",
    "        X = torch.Tensor([[WORD_TO_INDEX.get(sentence[i],WORD_TO_INDEX['<miss>'])]]).type(torch.long)\n",
    "        #get(w, WORD_TO_INDEX['<miss>']\n",
    "        X = X.to(dev)\n",
    "        if i == 0:\n",
    "            result, state = model.forward(X)\n",
    "        else:\n",
    "            result, state = model.forward_state(X, state)\n",
    "        prediction = result[0, -1, :]\n",
    "        index_of_prediction = prediction.argmax()\n",
    "        if i >= len(sentence) - 1:\n",
    "            if index_of_prediction == 0:\n",
    "                break\n",
    "        sentence.append(INDEX_TO_WORD[index_of_prediction])\n",
    "        \n",
    "    line = ' '.join(sentence)\n",
    "    line = re.sub(r'none.*$', '', line)\n",
    "    print(line)"
   ]
  },
  {
   "cell_type": "code",
   "execution_count": 158,
   "metadata": {},
   "outputs": [],
   "source": [
    "def generate_sentence_GRU(line):\n",
    "    sentence = line.split(' ')\n",
    "    #sentence = ['к', 'а', 'к', ' ', 'р', 'а', 'н', 'о',' ']\n",
    "    state = None\n",
    "    for i in range(MAX_LEN):\n",
    "        X = torch.Tensor([[WORD_TO_INDEX.get(sentence[i],WORD_TO_INDEX['<miss>'])]]).type(torch.long)\n",
    "        X = X.to(dev)\n",
    "        if i == 0:\n",
    "            result, state = modelGRU.forward(X)\n",
    "        else:\n",
    "            result, state = modelGRU.forward_state(X, state)\n",
    "        prediction = result[0, -1, :]\n",
    "        index_of_prediction = prediction.argmax()\n",
    "        if i >= len(sentence) - 1:\n",
    "            if index_of_prediction == 0:\n",
    "                break\n",
    "        sentence.append(INDEX_TO_WORD[index_of_prediction])\n",
    "\n",
    "    line = ' '.join(sentence)\n",
    "    line = re.sub(r'none.*$', '', line)\n",
    "    print(line)        "
   ]
  },
  {
   "cell_type": "code",
   "execution_count": 159,
   "metadata": {},
   "outputs": [],
   "source": [
    "def generate_sentence_LSTM(line):\n",
    "    sentence = line.split(' ')\n",
    "    #sentence = ['к', 'а', 'к', ' ', 'р', 'а', 'н', 'о',' ']\n",
    "    state = None\n",
    "    for i in range(MAX_LEN):\n",
    "        X = torch.Tensor([[WORD_TO_INDEX.get(sentence[i],WORD_TO_INDEX['<miss>'])]]).type(torch.long)\n",
    "        X = X.to(dev)\n",
    "        if i == 0:\n",
    "            result, state = modelLSTM.forward(X)\n",
    "        else:\n",
    "            result, state = modelLSTM.forward_state(X, state)\n",
    "        prediction = result[0, -1, :]\n",
    "        index_of_prediction = prediction.argmax()\n",
    "        if i >= len(sentence) - 1:\n",
    "            if index_of_prediction == 0:\n",
    "                break\n",
    "        sentence.append(INDEX_TO_WORD[index_of_prediction])\n",
    "        \n",
    "    line = ' '.join(sentence)\n",
    "    line = re.sub(r'none.*$', '', line)\n",
    "    print(line)"
   ]
  },
  {
   "cell_type": "code",
   "execution_count": 160,
   "metadata": {},
   "outputs": [
    {
     "name": "stdout",
     "output_type": "stream",
     "text": [
      "как рано двор озлоблен сторон умен шёпот воспоминать занавес прими\n"
     ]
    }
   ],
   "source": [
    "generate_sentence('как рано')"
   ]
  },
  {
   "cell_type": "code",
   "execution_count": 161,
   "metadata": {},
   "outputs": [
    {
     "name": "stdout",
     "output_type": "stream",
     "text": [
      "как рано былом безмерно бред ими венчался всего озарит сумрачной\n"
     ]
    }
   ],
   "source": [
    "generate_sentence_GRU('как рано')"
   ]
  },
  {
   "cell_type": "code",
   "execution_count": 162,
   "metadata": {},
   "outputs": [
    {
     "name": "stdout",
     "output_type": "stream",
     "text": [
      "как рано снег томный боготворил моде поспеть прадедов инвалид снег\n"
     ]
    }
   ],
   "source": [
    "generate_sentence_LSTM('как рано')"
   ]
  },
  {
   "cell_type": "code",
   "execution_count": 169,
   "metadata": {},
   "outputs": [],
   "source": [
    "lrate = .1\n",
    "\n",
    "criterion = torch.nn.CrossEntropyLoss()\n",
    "optimizer = torch.optim.SGD(model.parameters(), lr=lrate)\n",
    "\n",
    "criterionGRU = torch.nn.CrossEntropyLoss()\n",
    "optimizerGRU = torch.optim.SGD(modelGRU.parameters(), lr=lrate)\n",
    "\n",
    "criterionLSTM = torch.nn.CrossEntropyLoss()\n",
    "optimizerLSTM = torch.optim.SGD(modelLSTM.parameters(), lr=lrate)"
   ]
  },
  {
   "cell_type": "code",
   "execution_count": 188,
   "metadata": {},
   "outputs": [
    {
     "name": "stdout",
     "output_type": "stream",
     "text": [
      "Epoch 19. Time,GRU,LSTM: 0.100,0.080,0.080, Train loss,GRU,LSTM: 0.265,0.315,0.375, delta RGU,LSTM:-0.050,-0.110\n",
      "как рано он мог он <pad> то <pad> <pad> <pad>\n",
      "как рано он мог знал оценить <pad> <pad> <pad> <pad>\n",
      "как рано он мог лицемерить лицемерить <pad> <pad> <pad> <pad>\n",
      "Epoch 39. Time,GRU,LSTM: 0.100,0.080,0.080, Train loss,GRU,LSTM: 0.265,0.314,0.372, delta RGU,LSTM:-0.049,-0.107\n",
      "как рано он мог он <pad> то <pad> <pad> <pad>\n",
      "как рано он мог знал оценить <pad> <pad> <pad> <pad>\n",
      "как рано он мог лицемерить лицемерить <pad> <pad> <pad> <pad>\n",
      "Epoch 59. Time,GRU,LSTM: 0.095,0.080,0.085, Train loss,GRU,LSTM: 0.265,0.312,0.369, delta RGU,LSTM:-0.048,-0.104\n",
      "как рано он мог он <pad> то <pad> <pad> <pad>\n",
      "как рано он мог знал оценить <pad> <pad> <pad> <pad>\n",
      "как рано он мог лицемерить лицемерить <pad> <pad> <pad> <pad>\n",
      "Epoch 79. Time,GRU,LSTM: 0.100,0.080,0.080, Train loss,GRU,LSTM: 0.265,0.311,0.366, delta RGU,LSTM:-0.047,-0.101\n",
      "как рано он мог он <pad> то <pad> <pad> <pad>\n",
      "как рано он мог знал оценить <pad> <pad> <pad> <pad>\n",
      "как рано он мог лицемерить лицемерить <pad> <pad> <pad> <pad>\n",
      "Epoch 99. Time,GRU,LSTM: 0.095,0.080,0.085, Train loss,GRU,LSTM: 0.265,0.310,0.363, delta RGU,LSTM:-0.046,-0.098\n",
      "как рано он мог он <pad> то <pad> <pad> <pad>\n",
      "как рано он мог знал оценить <pad> <pad> <pad> <pad>\n",
      "как рано он мог лицемерить лицемерить <pad> <pad> <pad> <pad>\n",
      "Epoch 119. Time,GRU,LSTM: 0.100,0.080,0.080, Train loss,GRU,LSTM: 0.265,0.309,0.360, delta RGU,LSTM:-0.045,-0.096\n",
      "как рано он мог он <pad> то <pad> <pad> <pad>\n",
      "как рано он мог знал оценить <pad> <pad> <pad> <pad>\n",
      "как рано он мог лицемерить лицемерить <pad> <pad> <pad> <pad>\n",
      "Epoch 139. Time,GRU,LSTM: 0.095,0.080,0.080, Train loss,GRU,LSTM: 0.265,0.308,0.358, delta RGU,LSTM:-0.044,-0.093\n",
      "как рано он мог он <pad> то <pad> <pad> <pad>\n",
      "как рано он мог знал оценить <pad> <pad> <pad> <pad>\n",
      "как рано он мог лицемерить лицемерить <pad> <pad> <pad> <pad>\n",
      "Epoch 159. Time,GRU,LSTM: 0.100,0.080,0.080, Train loss,GRU,LSTM: 0.264,0.307,0.355, delta RGU,LSTM:-0.043,-0.091\n",
      "как рано он мог он <pad> то <pad> <pad> <pad>\n",
      "как рано он мог знал оценить <pad> <pad> <pad> <pad>\n",
      "как рано он мог лицемерить лицемерить <pad> <pad> <pad> <pad>\n",
      "Epoch 179. Time,GRU,LSTM: 0.100,0.080,0.080, Train loss,GRU,LSTM: 0.264,0.306,0.353, delta RGU,LSTM:-0.042,-0.088\n",
      "как рано он мог он <pad> то <pad> <pad> <pad>\n",
      "как рано он мог знал оценить <pad> <pad> <pad> <pad>\n",
      "как рано он мог лицемерить лицемерить <pad> <pad> <pad> <pad>\n",
      "Epoch 199. Time,GRU,LSTM: 0.100,0.075,0.085, Train loss,GRU,LSTM: 0.264,0.305,0.350, delta RGU,LSTM:-0.041,-0.086\n",
      "как рано он мог он <pad> то <pad> <pad> <pad>\n",
      "как рано он мог знал оценить <pad> <pad> <pad> <pad>\n",
      "как рано он мог лицемерить лицемерить <pad> <pad> <pad> <pad>\n",
      "Epoch 219. Time,GRU,LSTM: 0.100,0.080,0.080, Train loss,GRU,LSTM: 0.264,0.304,0.348, delta RGU,LSTM:-0.040,-0.084\n",
      "как рано он мог он <pad> то <pad> <pad> <pad>\n",
      "как рано он мог знал оценить <pad> <pad> <pad> <pad>\n",
      "как рано он мог лицемерить лицемерить <pad> <pad> <pad> <pad>\n",
      "Epoch 239. Time,GRU,LSTM: 0.095,0.080,0.085, Train loss,GRU,LSTM: 0.264,0.303,0.346, delta RGU,LSTM:-0.039,-0.082\n",
      "как рано он мог он <pad> то <pad> <pad> <pad>\n",
      "как рано он мог знал оценить <pad> <pad> <pad> <pad>\n",
      "как рано он мог лицемерить лицемерить <pad> <pad> <pad> <pad>\n",
      "Epoch 259. Time,GRU,LSTM: 0.100,0.080,0.080, Train loss,GRU,LSTM: 0.264,0.303,0.344, delta RGU,LSTM:-0.038,-0.080\n",
      "как рано он мог он <pad> то <pad> <pad> <pad>\n",
      "как рано он мог знал оценить <pad> <pad> <pad> <pad>\n",
      "как рано он мог лицемерить лицемерить <pad> <pad> <pad> <pad>\n",
      "Epoch 279. Time,GRU,LSTM: 0.100,0.075,0.085, Train loss,GRU,LSTM: 0.264,0.302,0.342, delta RGU,LSTM:-0.038,-0.078\n",
      "как рано он мог он <pad> то <pad> <pad> <pad>\n",
      "как рано он мог знал оценить <pad> <pad> <pad> <pad>\n",
      "как рано он мог лицемерить лицемерить <pad> <pad> <pad> <pad>\n",
      "Epoch 299. Time,GRU,LSTM: 0.095,0.080,0.085, Train loss,GRU,LSTM: 0.264,0.301,0.340, delta RGU,LSTM:-0.037,-0.076\n",
      "как рано он мог он <pad> то <pad> <pad> <pad>\n",
      "как рано он мог знал оценить <pad> <pad> <pad> <pad>\n",
      "как рано он мог лицемерить лицемерить <pad> <pad> <pad> <pad>\n",
      "Epoch 319. Time,GRU,LSTM: 0.095,0.080,0.080, Train loss,GRU,LSTM: 0.264,0.300,0.338, delta RGU,LSTM:-0.036,-0.074\n",
      "как рано он мог он <pad> то <pad> <pad> <pad>\n",
      "как рано он мог знал оценить <pad> <pad> <pad> <pad>\n",
      "как рано он мог лицемерить лицемерить <pad> <pad> <pad> <pad>\n",
      "Epoch 339. Time,GRU,LSTM: 0.100,0.075,0.085, Train loss,GRU,LSTM: 0.264,0.299,0.336, delta RGU,LSTM:-0.035,-0.072\n",
      "как рано он мог он <pad> то <pad> <pad> <pad>\n",
      "как рано он мог знал оценить <pad> <pad> <pad> <pad>\n",
      "как рано он мог лицемерить лицемерить <pad> <pad> <pad> <pad>\n",
      "Epoch 359. Time,GRU,LSTM: 0.100,0.080,0.080, Train loss,GRU,LSTM: 0.264,0.299,0.335, delta RGU,LSTM:-0.035,-0.071\n",
      "как рано он мог он <pad> то <pad> <pad> <pad>\n",
      "как рано он мог знал оценить <pad> <pad> <pad> <pad>\n",
      "как рано он мог лицемерить лицемерить <pad> <pad> <pad> <pad>\n",
      "Epoch 379. Time,GRU,LSTM: 0.095,0.080,0.080, Train loss,GRU,LSTM: 0.264,0.298,0.333, delta RGU,LSTM:-0.034,-0.069\n",
      "как рано он мог он <pad> то <pad> <pad> <pad>\n",
      "как рано он мог знал оценить <pad> <pad> <pad> <pad>\n",
      "как рано он мог лицемерить лицемерить <pad> <pad> <pad> <pad>\n",
      "Epoch 399. Time,GRU,LSTM: 0.095,0.080,0.080, Train loss,GRU,LSTM: 0.264,0.297,0.331, delta RGU,LSTM:-0.033,-0.067\n",
      "как рано он мог он <pad> то <pad> <pad> <pad>\n",
      "как рано он мог знал оценить <pad> <pad> <pad> <pad>\n",
      "как рано он мог лицемерить лицемерить <pad> <pad> <pad> <pad>\n",
      "Epoch 419. Time,GRU,LSTM: 0.100,0.075,0.085, Train loss,GRU,LSTM: 0.264,0.297,0.330, delta RGU,LSTM:-0.033,-0.066\n",
      "как рано он мог он <pad> то <pad> <pad> <pad>\n",
      "как рано он мог знал оценить <pad> <pad> <pad> <pad>\n",
      "как рано он мог лицемерить лицемерить <pad> <pad> <pad> <pad>\n",
      "Epoch 439. Time,GRU,LSTM: 0.100,0.080,0.080, Train loss,GRU,LSTM: 0.264,0.296,0.328, delta RGU,LSTM:-0.032,-0.064\n",
      "как рано он мог он <pad> то <pad> <pad> <pad>\n",
      "как рано он мог знал оценить <pad> <pad> <pad> <pad>\n",
      "как рано он мог лицемерить лицемерить <pad> <pad> <pad> <pad>\n",
      "Epoch 459. Time,GRU,LSTM: 0.100,0.080,0.080, Train loss,GRU,LSTM: 0.264,0.295,0.327, delta RGU,LSTM:-0.032,-0.063\n",
      "как рано он мог он <pad> то <pad> <pad> <pad>\n",
      "как рано он мог знал оценить <pad> <pad> <pad> <pad>\n",
      "как рано он мог лицемерить лицемерить <pad> <pad> <pad> <pad>\n",
      "Epoch 479. Time,GRU,LSTM: 0.100,0.085,0.080, Train loss,GRU,LSTM: 0.264,0.295,0.325, delta RGU,LSTM:-0.031,-0.062\n",
      "как рано он мог он <pad> то <pad> <pad> <pad>\n",
      "как рано он мог знал оценить <pad> <pad> <pad> <pad>\n",
      "как рано он мог лицемерить лицемерить <pad> <pad> <pad> <pad>\n",
      "Epoch 499. Time,GRU,LSTM: 0.100,0.080,0.080, Train loss,GRU,LSTM: 0.264,0.294,0.324, delta RGU,LSTM:-0.030,-0.060\n",
      "как рано он мог он <pad> то <pad> <pad> <pad>\n",
      "как рано он мог знал оценить <pad> <pad> <pad> <pad>\n",
      "как рано он мог лицемерить лицемерить <pad> <pad> <pad> <pad>\n",
      "Epoch 519. Time,GRU,LSTM: 0.100,0.080,0.080, Train loss,GRU,LSTM: 0.264,0.293,0.323, delta RGU,LSTM:-0.030,-0.059\n",
      "как рано он мог он <pad> то <pad> <pad> <pad>\n",
      "как рано он мог знал оценить <pad> <pad> <pad> <pad>\n",
      "как рано он мог лицемерить лицемерить <pad> <pad> <pad> <pad>\n",
      "Epoch 539. Time,GRU,LSTM: 0.100,0.080,0.080, Train loss,GRU,LSTM: 0.263,0.293,0.322, delta RGU,LSTM:-0.029,-0.058\n",
      "как рано он мог он <pad> то <pad> <pad> <pad>\n",
      "как рано он мог знал оценить <pad> <pad> <pad> <pad>\n",
      "как рано он мог лицемерить лицемерить <pad> <pad> <pad> <pad>\n",
      "Epoch 559. Time,GRU,LSTM: 0.095,0.080,0.085, Train loss,GRU,LSTM: 0.263,0.292,0.320, delta RGU,LSTM:-0.029,-0.057\n",
      "как рано он мог он <pad> то <pad> <pad> <pad>\n",
      "как рано он мог знал оценить <pad> <pad> <pad> <pad>\n",
      "как рано он мог лицемерить лицемерить <pad> <pad> <pad> <pad>\n",
      "Epoch 579. Time,GRU,LSTM: 0.100,0.075,0.085, Train loss,GRU,LSTM: 0.263,0.292,0.319, delta RGU,LSTM:-0.028,-0.056\n",
      "как рано он мог он <pad> то <pad> <pad> <pad>\n",
      "как рано он мог знал оценить <pad> <pad> <pad> <pad>\n",
      "как рано он мог лицемерить лицемерить <pad> <pad> <pad> <pad>\n",
      "Epoch 599. Time,GRU,LSTM: 0.100,0.080,0.080, Train loss,GRU,LSTM: 0.263,0.291,0.318, delta RGU,LSTM:-0.028,-0.055\n",
      "как рано он мог он <pad> то <pad> <pad> <pad>\n",
      "как рано он мог знал оценить <pad> <pad> <pad> <pad>\n",
      "как рано он мог лицемерить лицемерить <pad> <pad> <pad> <pad>\n",
      "Epoch 619. Time,GRU,LSTM: 0.100,0.080,0.080, Train loss,GRU,LSTM: 0.263,0.291,0.317, delta RGU,LSTM:-0.027,-0.054\n",
      "как рано он мог он <pad> то <pad> <pad> <pad>\n",
      "как рано он мог знал оценить <pad> <pad> <pad> <pad>\n",
      "как рано он мог лицемерить лицемерить <pad> <pad> <pad> <pad>\n",
      "Epoch 639. Time,GRU,LSTM: 0.100,0.075,0.085, Train loss,GRU,LSTM: 0.263,0.290,0.316, delta RGU,LSTM:-0.027,-0.053\n",
      "как рано он мог он <pad> то <pad> <pad> <pad>\n",
      "как рано он мог знал оценить <pad> <pad> <pad> <pad>\n",
      "как рано он мог лицемерить лицемерить <pad> <pad> <pad> <pad>\n",
      "Epoch 659. Time,GRU,LSTM: 0.095,0.080,0.085, Train loss,GRU,LSTM: 0.263,0.290,0.315, delta RGU,LSTM:-0.026,-0.052\n",
      "как рано он мог он <pad> то <pad> <pad> <pad>\n",
      "как рано он мог знал оценить <pad> <pad> <pad> <pad>\n",
      "как рано он мог лицемерить лицемерить <pad> <pad> <pad> <pad>\n",
      "Epoch 679. Time,GRU,LSTM: 0.100,0.080,0.080, Train loss,GRU,LSTM: 0.263,0.289,0.314, delta RGU,LSTM:-0.026,-0.051\n",
      "как рано он мог он <pad> то <pad> <pad> <pad>\n",
      "как рано он мог знал оценить <pad> <pad> <pad> <pad>\n",
      "как рано он мог лицемерить лицемерить <pad> <pad> <pad> <pad>\n",
      "Epoch 699. Time,GRU,LSTM: 0.095,0.080,0.085, Train loss,GRU,LSTM: 0.263,0.289,0.313, delta RGU,LSTM:-0.025,-0.050\n",
      "как рано он мог он <pad> то <pad> <pad> <pad>\n",
      "как рано он мог знал оценить <pad> <pad> <pad> <pad>\n",
      "как рано он мог лицемерить лицемерить <pad> <pad> <pad> <pad>\n",
      "Epoch 719. Time,GRU,LSTM: 0.095,0.080,0.080, Train loss,GRU,LSTM: 0.263,0.288,0.312, delta RGU,LSTM:-0.025,-0.049\n",
      "как рано он мог он <pad> то <pad> <pad> <pad>\n",
      "как рано он мог знал оценить <pad> <pad> <pad> <pad>\n",
      "как рано он мог лицемерить лицемерить <pad> <pad> <pad> <pad>\n",
      "Epoch 739. Time,GRU,LSTM: 0.095,0.080,0.080, Train loss,GRU,LSTM: 0.263,0.288,0.311, delta RGU,LSTM:-0.025,-0.048\n",
      "как рано он мог он <pad> то <pad> <pad> <pad>\n",
      "как рано он мог знал оценить <pad> <pad> <pad> <pad>\n",
      "как рано он мог лицемерить лицемерить <pad> <pad> <pad> <pad>\n",
      "Epoch 759. Time,GRU,LSTM: 0.100,0.080,0.080, Train loss,GRU,LSTM: 0.263,0.287,0.310, delta RGU,LSTM:-0.024,-0.047\n",
      "как рано он мог он <pad> то <pad> <pad> <pad>\n",
      "как рано он мог знал оценить <pad> <pad> <pad> <pad>\n",
      "как рано он мог лицемерить лицемерить <pad> <pad> <pad> <pad>\n",
      "Epoch 779. Time,GRU,LSTM: 0.100,0.080,0.080, Train loss,GRU,LSTM: 0.263,0.287,0.309, delta RGU,LSTM:-0.024,-0.046\n",
      "как рано он мог он <pad> то <pad> <pad> <pad>\n",
      "как рано он мог знал оценить <pad> <pad> <pad> <pad>\n",
      "как рано он мог лицемерить лицемерить <pad> <pad> <pad> <pad>\n",
      "Epoch 799. Time,GRU,LSTM: 0.100,0.080,0.080, Train loss,GRU,LSTM: 0.263,0.286,0.308, delta RGU,LSTM:-0.023,-0.045\n",
      "как рано он мог он <pad> то <pad> <pad> <pad>\n",
      "как рано он мог знал оценить <pad> <pad> <pad> <pad>\n",
      "как рано он мог лицемерить лицемерить <pad> <pad> <pad> <pad>\n",
      "Epoch 819. Time,GRU,LSTM: 0.100,0.080,0.080, Train loss,GRU,LSTM: 0.263,0.286,0.308, delta RGU,LSTM:-0.023,-0.045\n",
      "как рано он мог он <pad> то <pad> <pad> <pad>\n",
      "как рано он мог знал оценить <pad> <pad> <pad> <pad>\n",
      "как рано он мог лицемерить лицемерить <pad> <pad> <pad> <pad>\n",
      "Epoch 839. Time,GRU,LSTM: 0.100,0.080,0.080, Train loss,GRU,LSTM: 0.263,0.285,0.307, delta RGU,LSTM:-0.023,-0.044\n",
      "как рано он мог он <pad> то <pad> <pad> <pad>\n",
      "как рано он мог знал оценить <pad> <pad> <pad> <pad>\n",
      "как рано он мог лицемерить лицемерить <pad> <pad> <pad> <pad>\n",
      "Epoch 859. Time,GRU,LSTM: 0.095,0.080,0.085, Train loss,GRU,LSTM: 0.263,0.285,0.306, delta RGU,LSTM:-0.022,-0.043\n",
      "как рано он мог он <pad> то <pad> <pad> <pad>\n",
      "как рано он мог знал оценить <pad> <pad> <pad> <pad>\n",
      "как рано он мог лицемерить лицемерить <pad> <pad> <pad> <pad>\n",
      "Epoch 879. Time,GRU,LSTM: 0.100,0.080,0.080, Train loss,GRU,LSTM: 0.263,0.285,0.305, delta RGU,LSTM:-0.022,-0.042\n",
      "как рано он мог он <pad> то <pad> <pad> <pad>\n",
      "как рано он мог знал оценить <pad> <pad> <pad> <pad>\n",
      "как рано он мог лицемерить лицемерить <pad> <pad> <pad> <pad>\n",
      "Epoch 899. Time,GRU,LSTM: 0.095,0.080,0.085, Train loss,GRU,LSTM: 0.263,0.284,0.304, delta RGU,LSTM:-0.022,-0.042\n",
      "как рано он мог он <pad> то <pad> <pad> <pad>\n",
      "как рано он мог знал оценить <pad> <pad> <pad> <pad>\n",
      "как рано он мог лицемерить лицемерить <pad> <pad> <pad> <pad>\n",
      "Epoch 919. Time,GRU,LSTM: 0.095,0.080,0.080, Train loss,GRU,LSTM: 0.263,0.284,0.304, delta RGU,LSTM:-0.021,-0.041\n",
      "как рано он мог он <pad> то <pad> <pad> <pad>\n",
      "как рано он мог знал оценить <pad> <pad> <pad> <pad>\n",
      "как рано он мог лицемерить лицемерить <pad> <pad> <pad> <pad>\n",
      "Epoch 939. Time,GRU,LSTM: 0.095,0.080,0.080, Train loss,GRU,LSTM: 0.263,0.284,0.303, delta RGU,LSTM:-0.021,-0.040\n",
      "как рано он мог он <pad> то <pad> <pad> <pad>\n",
      "как рано он мог знал оценить <pad> <pad> <pad> <pad>\n",
      "как рано он мог лицемерить лицемерить <pad> <pad> <pad> <pad>\n",
      "Epoch 959. Time,GRU,LSTM: 0.100,0.080,0.080, Train loss,GRU,LSTM: 0.263,0.283,0.302, delta RGU,LSTM:-0.021,-0.040\n",
      "как рано он мог он <pad> то <pad> <pad> <pad>\n",
      "как рано он мог знал оценить <pad> <pad> <pad> <pad>\n",
      "как рано он мог лицемерить лицемерить <pad> <pad> <pad> <pad>\n",
      "Epoch 979. Time,GRU,LSTM: 0.100,0.075,0.085, Train loss,GRU,LSTM: 0.263,0.283,0.302, delta RGU,LSTM:-0.020,-0.039\n",
      "как рано он мог он <pad> то <pad> <pad> <pad>\n",
      "как рано он мог знал оценить <pad> <pad> <pad> <pad>\n",
      "как рано он мог лицемерить лицемерить <pad> <pad> <pad> <pad>\n",
      "Epoch 999. Time,GRU,LSTM: 0.095,0.080,0.085, Train loss,GRU,LSTM: 0.263,0.282,0.301, delta RGU,LSTM:-0.020,-0.038\n",
      "как рано он мог он <pad> то <pad> <pad> <pad>\n",
      "как рано он мог знал оценить <pad> <pad> <pad> <pad>\n",
      "как рано он мог лицемерить лицемерить <pad> <pad> <pad> <pad>\n"
     ]
    }
   ],
   "source": [
    "count = 0\n",
    "\n",
    "for ep in range(1000):\n",
    "    \n",
    "    # RNN section\n",
    "    start = time.time()\n",
    "    train_loss = 0.\n",
    "    train_passed = 0\n",
    "    \n",
    "    for i in range(int(len(X) / 100)):\n",
    "        batch = X[i * 100:(i + 1) * 100]\n",
    "        X_batch = batch[:, :-1]\n",
    "        Y_batch = batch[:, 1:].flatten()\n",
    "\n",
    "        optimizer.zero_grad()\n",
    "        answers, _ = model.forward(X_batch)\n",
    "        answers = answers.view(-1, len(INDEX_TO_WORD))\n",
    "        loss = criterion(answers, Y_batch)\n",
    "        train_loss += loss.item()\n",
    "\n",
    "        loss.backward()\n",
    "        optimizer.step()\n",
    "        train_passed += 1\n",
    "    end = time.time()\n",
    "        \n",
    "    # GRU section\n",
    "    startGRU = time.time()\n",
    "    train_lossGRU = 0.\n",
    "    train_passedGRU = 0\n",
    "    \n",
    "    for i in range(int(len(X) / 100)):\n",
    "        batch = X[i * 100:(i + 1) * 100]\n",
    "        X_batch = batch[:, :-1]\n",
    "        Y_batch = batch[:, 1:].flatten()\n",
    "\n",
    "        optimizerGRU.zero_grad()\n",
    "        answers, _ = modelGRU.forward(X_batch)\n",
    "        answers = answers.view(-1, len(INDEX_TO_WORD))\n",
    "        loss = criterionGRU(answers, Y_batch)\n",
    "        train_lossGRU += loss.item()\n",
    "\n",
    "        loss.backward()\n",
    "        optimizerGRU.step()\n",
    "        train_passedGRU += 1\n",
    "    endGRU = time.time()\n",
    "    \n",
    "    # LSTM section\n",
    "    startLSTM = time.time()\n",
    "    train_lossLSTM = 0.\n",
    "    train_passedLSTM = 0\n",
    "    \n",
    "    for i in range(int(len(X) / 100)):\n",
    "        batch = X[i * 100:(i + 1) * 100]\n",
    "        X_batch = batch[:, :-1]\n",
    "        Y_batch = batch[:, 1:].flatten()\n",
    "\n",
    "        optimizerLSTM.zero_grad()\n",
    "        answers, _ = modelLSTM.forward(X_batch)\n",
    "        answers = answers.view(-1, len(INDEX_TO_WORD))\n",
    "        loss = criterionLSTM(answers, Y_batch)\n",
    "        train_lossLSTM += loss.item()\n",
    "\n",
    "        loss.backward()\n",
    "        optimizerLSTM.step()\n",
    "        train_passedLSTM += 1\n",
    "    endLSTM = time.time()\n",
    "    \n",
    "    count += 1\n",
    "    if count == 20:\n",
    "        count = 0\n",
    "        trloss = train_loss / train_passed\n",
    "        trlossGRU = train_lossGRU / train_passedGRU\n",
    "        trlossLSTM = train_lossLSTM / train_passedLSTM\n",
    "        print(\"Epoch {}. Time,GRU,LSTM: {:.3f},{:.3f},{:.3f}, Train loss,GRU,LSTM: {:.3f},{:.3f},{:.3f}, delta RGU,LSTM:{:.3f},{:.3f}\".format(ep, end - start, endGRU - startGRU, endLSTM - startLSTM, trloss, trlossGRU,trlossLSTM, trloss - trlossGRU,trloss - trlossLSTM))\n",
    "        generate_sentence('как рано')\n",
    "        generate_sentence_GRU('как рано')        \n",
    "        generate_sentence_LSTM('как рано')        "
   ]
  },
  {
   "cell_type": "code",
   "execution_count": null,
   "metadata": {},
   "outputs": [],
   "source": []
  },
  {
   "cell_type": "code",
   "execution_count": null,
   "metadata": {},
   "outputs": [],
   "source": []
  },
  {
   "cell_type": "code",
   "execution_count": null,
   "metadata": {},
   "outputs": [],
   "source": []
  },
  {
   "cell_type": "code",
   "execution_count": 189,
   "metadata": {},
   "outputs": [],
   "source": [
    "def generate_sentence2(line):\n",
    "    generate_sentence(line)\n",
    "    generate_sentence_GRU(line)\n",
    "    generate_sentence_LSTM(line)"
   ]
  },
  {
   "cell_type": "code",
   "execution_count": 190,
   "metadata": {},
   "outputs": [
    {
     "name": "stdout",
     "output_type": "stream",
     "text": [
      "как рано он мог он <pad> то <pad> <pad> <pad>\n",
      "как рано он мог знал оценить <pad> <pad> <pad> <pad>\n",
      "как рано он мог лицемерить лицемерить <pad> <pad> <pad> <pad>\n"
     ]
    }
   ],
   "source": [
    "generate_sentence2('как рано')"
   ]
  },
  {
   "cell_type": "code",
   "execution_count": 191,
   "metadata": {},
   "outputs": [
    {
     "name": "stdout",
     "output_type": "stream",
     "text": [
      "привет чувак <miss> <miss> она <pad> <pad> <pad> <pad> <pad>\n",
      "привет чувак <miss> <miss> <pad> <pad> <pad> <pad> <pad> <pad>\n",
      "привет чувак <miss> <miss> <pad> <pad> <pad> <pad> <pad> <pad>\n"
     ]
    }
   ],
   "source": [
    "generate_sentence2('привет чувак')"
   ]
  },
  {
   "cell_type": "code",
   "execution_count": 192,
   "metadata": {},
   "outputs": [
    {
     "name": "stdout",
     "output_type": "stream",
     "text": [
      "а кстати <miss> <miss>\n",
      "а кстати <miss> <miss>\n",
      "а уж онегин вышел вон\n"
     ]
    }
   ],
   "source": [
    "generate_sentence2('а')"
   ]
  },
  {
   "cell_type": "code",
   "execution_count": 193,
   "metadata": {},
   "outputs": [
    {
     "name": "stdout",
     "output_type": "stream",
     "text": [
      "карета <miss> <miss> она\n",
      "карета <miss> <miss>\n",
      "карета <miss> <miss>\n"
     ]
    }
   ],
   "source": [
    "generate_sentence2('карета')"
   ]
  },
  {
   "cell_type": "code",
   "execution_count": 203,
   "metadata": {},
   "outputs": [
    {
     "name": "stdout",
     "output_type": "stream",
     "text": [
      "и нам досталось от него\n",
      "и к размышлению влекло\n",
      "и нам он сердце шевелит\n"
     ]
    }
   ],
   "source": [
    "generate_sentence2('и')"
   ]
  },
  {
   "cell_type": "code",
   "execution_count": 195,
   "metadata": {},
   "outputs": [
    {
     "name": "stdout",
     "output_type": "stream",
     "text": [
      "так думал молодой я молодой повеса привык <pad> <pad> <pad> <pad>\n",
      "так думал молодой наше молодой повеса <pad> <pad> <pad> <pad> <pad>\n",
      "так думал молодой не молодой повеса повеса <pad> <pad> <pad> <pad>\n"
     ]
    }
   ],
   "source": [
    "generate_sentence2('так думал молодой')"
   ]
  },
  {
   "cell_type": "code",
   "execution_count": 196,
   "metadata": {},
   "outputs": [
    {
     "name": "stdout",
     "output_type": "stream",
     "text": [
      "с новым годом душою охтинка <pad> она нет <pad> <pad> <pad>\n",
      "с новым годом ним друзья с <miss> <pad> <pad> <pad> <pad>\n",
      "с новым годом ним сидеть водой <pad> <pad> <pad> <pad> <pad>\n"
     ]
    }
   ],
   "source": [
    "generate_sentence2('с новым годом')"
   ]
  },
  {
   "cell_type": "code",
   "execution_count": 197,
   "metadata": {},
   "outputs": [
    {
     "name": "stdout",
     "output_type": "stream",
     "text": [
      "дед <miss> <miss> она\n",
      "дед <miss> <miss>\n",
      "дед <miss> <miss>\n"
     ]
    }
   ],
   "source": [
    "generate_sentence2('дед')"
   ]
  },
  {
   "cell_type": "code",
   "execution_count": 198,
   "metadata": {},
   "outputs": [
    {
     "name": "stdout",
     "output_type": "stream",
     "text": [
      "баба <miss> <miss> она\n",
      "баба <miss> <miss>\n",
      "баба <miss> <miss>\n"
     ]
    }
   ],
   "source": [
    "generate_sentence2('баба')"
   ]
  },
  {
   "cell_type": "code",
   "execution_count": 199,
   "metadata": {},
   "outputs": [
    {
     "name": "stdout",
     "output_type": "stream",
     "text": [
      "как он умел казаться новым\n",
      "как он умел забыть себя\n",
      "как он умел забыть себя\n"
     ]
    }
   ],
   "source": [
    "generate_sentence2('как')"
   ]
  },
  {
   "cell_type": "code",
   "execution_count": 200,
   "metadata": {},
   "outputs": [
    {
     "name": "stdout",
     "output_type": "stream",
     "text": [
      "вздох он очень детстве\n",
      "вздох он пеплу посвятил\n",
      "вздох он в руках\n"
     ]
    }
   ],
   "source": [
    "generate_sentence2('вздох')"
   ]
  },
  {
   "cell_type": "code",
   "execution_count": 201,
   "metadata": {},
   "outputs": [
    {
     "name": "stdout",
     "output_type": "stream",
     "text": [
      "латынь из моды вышла ныне\n",
      "латынь из моды вышла ныне\n",
      "латынь из моды вышла ныне\n"
     ]
    }
   ],
   "source": [
    "generate_sentence2('латынь')"
   ]
  },
  {
   "cell_type": "code",
   "execution_count": 202,
   "metadata": {},
   "outputs": [
    {
     "name": "stdout",
     "output_type": "stream",
     "text": [
      "говорил об них\n",
      "говорил дождусь ли дня\n",
      "говорил дождусь\n"
     ]
    }
   ],
   "source": [
    "generate_sentence2('говорил')"
   ]
  },
  {
   "cell_type": "code",
   "execution_count": 204,
   "metadata": {},
   "outputs": [
    {
     "name": "stdout",
     "output_type": "stream",
     "text": [
      "что он опаснейший чудак\n",
      "что он опаснейший чудак\n",
      "что он умен и очень мил\n"
     ]
    }
   ],
   "source": [
    "generate_sentence2('что')"
   ]
  },
  {
   "cell_type": "code",
   "execution_count": 207,
   "metadata": {},
   "outputs": [
    {
     "name": "stdout",
     "output_type": "stream",
     "text": [
      "то говорливой то немой\n",
      "то есть умел судить о том\n",
      "то стан совьёт то разовьёт\n"
     ]
    }
   ],
   "source": [
    "generate_sentence2('то')"
   ]
  },
  {
   "cell_type": "code",
   "execution_count": 208,
   "metadata": {},
   "outputs": [
    {
     "name": "stdout",
     "output_type": "stream",
     "text": [
      "как он умел казаться новым\n",
      "как он умел забыть себя\n",
      "как он умел забыть себя\n"
     ]
    }
   ],
   "source": [
    "generate_sentence2('как')"
   ]
  },
  {
   "cell_type": "code",
   "execution_count": 209,
   "metadata": {},
   "outputs": [
    {
     "name": "stdout",
     "output_type": "stream",
     "text": [
      "свой век блестящий и мятежный\n",
      "свой век блестящий и мятежный\n",
      "свой век блестящий и мятежный\n"
     ]
    }
   ],
   "source": [
    "generate_sentence2('свой')"
   ]
  },
  {
   "cell_type": "code",
   "execution_count": 210,
   "metadata": {},
   "outputs": [
    {
     "name": "stdout",
     "output_type": "stream",
     "text": [
      "молдавии и гвардии странный\n",
      "молдавии в глуши степей\n",
      "молдавии в глуши степей\n"
     ]
    }
   ],
   "source": [
    "generate_sentence2('молдавии')"
   ]
  },
  {
   "cell_type": "code",
   "execution_count": 211,
   "metadata": {},
   "outputs": [
    {
     "name": "stdout",
     "output_type": "stream",
     "text": [
      "была заманчивой загадкой\n",
      "была наука страсти нежной\n",
      "была наука страсти нежной\n"
     ]
    }
   ],
   "source": [
    "generate_sentence2('была')"
   ]
  },
  {
   "cell_type": "code",
   "execution_count": null,
   "metadata": {},
   "outputs": [],
   "source": []
  }
 ],
 "metadata": {
  "kernelspec": {
   "display_name": "Python 3",
   "language": "python",
   "name": "python3"
  },
  "language_info": {
   "codemirror_mode": {
    "name": "ipython",
    "version": 3
   },
   "file_extension": ".py",
   "mimetype": "text/x-python",
   "name": "python",
   "nbconvert_exporter": "python",
   "pygments_lexer": "ipython3",
   "version": "3.7.3"
  }
 },
 "nbformat": 4,
 "nbformat_minor": 4
}
