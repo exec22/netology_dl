{
 "cells": [
  {
   "cell_type": "code",
   "execution_count": 1,
   "metadata": {},
   "outputs": [],
   "source": [
    "import torch\n",
    "import pandas as pd\n",
    "import time\n",
    "import re"
   ]
  },
  {
   "cell_type": "code",
   "execution_count": 2,
   "metadata": {},
   "outputs": [
    {
     "data": {
      "text/plain": [
       "device(type='cuda')"
      ]
     },
     "execution_count": 2,
     "metadata": {},
     "output_type": "execute_result"
    }
   ],
   "source": [
    "dev = torch.device(\"cuda\") if torch.cuda.is_available() else torch.device(\"cpu\")\n",
    "dev"
   ]
  },
  {
   "cell_type": "code",
   "execution_count": 3,
   "metadata": {},
   "outputs": [],
   "source": [
    "oneg = pd.read_csv('../onegin.txt', sep='\\n', header=None)"
   ]
  },
  {
   "cell_type": "code",
   "execution_count": 4,
   "metadata": {},
   "outputs": [],
   "source": [
    "# читаем стихи\n",
    "max_len = 0\n",
    "phrases = []\n",
    "for ind in range(len(oneg)):\n",
    "    line = oneg[0][ind]\n",
    "    if re.search(r'\\t', line):\n",
    "        # удалить ^\\t\\t\n",
    "        line = re.sub(r'\\t\\t', '', line)\n",
    "        # удалить …………\n",
    "        line = re.sub(r'…', '', line)\n",
    "        # удалить все после [d]\n",
    "        line = re.sub(r'\\[\\d*\\].*$', '', line)\n",
    "        # удалить все в квадратных скобках\n",
    "        line = re.sub(r'\\[.*\\]', '', line)\n",
    "        # удалить все анлгийские буквы\n",
    "        line = re.sub(r'[abcdefghijklmnopqrstuvwxyz]', '', line)\n",
    "        # удалить \\xa0\n",
    "        line = re.sub(r'\\xa0', ' ', line)\n",
    "              \n",
    "        if len(line) > 0:\n",
    "            phrases.append(line)\n",
    "            line_len = len(line)\n",
    "            if line_len > max_len:\n",
    "                max_len = line_len"
   ]
  },
  {
   "cell_type": "code",
   "execution_count": 5,
   "metadata": {},
   "outputs": [
    {
     "data": {
      "text/plain": [
       "37"
      ]
     },
     "execution_count": 5,
     "metadata": {},
     "output_type": "execute_result"
    }
   ],
   "source": [
    "max_len"
   ]
  },
  {
   "cell_type": "code",
   "execution_count": 6,
   "metadata": {},
   "outputs": [],
   "source": [
    "text = [[c for c in ph] for ph in phrases if type(ph) is str]"
   ]
  },
  {
   "cell_type": "code",
   "execution_count": 7,
   "metadata": {},
   "outputs": [],
   "source": [
    "CHARS = set(' абвгдеёжзийклмнопрстуфхцчшщъыьэюя')\n",
    "INDEX_TO_CHAR = ['none'] + [w for w in CHARS]\n",
    "CHAR_TO_INDEX = {w: i for i, w in enumerate(INDEX_TO_CHAR)}"
   ]
  },
  {
   "cell_type": "code",
   "execution_count": 8,
   "metadata": {},
   "outputs": [],
   "source": [
    "MAX_LEN = max_len+1"
   ]
  },
  {
   "cell_type": "code",
   "execution_count": 9,
   "metadata": {},
   "outputs": [],
   "source": [
    "X = torch.zeros((len(text), MAX_LEN), dtype=int)\n",
    "X = X.to(dev)"
   ]
  },
  {
   "cell_type": "code",
   "execution_count": 10,
   "metadata": {},
   "outputs": [
    {
     "data": {
      "text/plain": [
       "torch.Size([1453, 38])"
      ]
     },
     "execution_count": 10,
     "metadata": {},
     "output_type": "execute_result"
    }
   ],
   "source": [
    "X.shape"
   ]
  },
  {
   "cell_type": "code",
   "execution_count": 11,
   "metadata": {},
   "outputs": [],
   "source": [
    "for i in range(len(text)):\n",
    "    for j, w in enumerate(text[i]):\n",
    "        if j >= MAX_LEN:\n",
    "            break\n",
    "        X[i, j] = CHAR_TO_INDEX.get(w, CHAR_TO_INDEX['none'])"
   ]
  },
  {
   "cell_type": "code",
   "execution_count": 12,
   "metadata": {},
   "outputs": [
    {
     "data": {
      "text/plain": [
       "tensor([[ 0, 20, 10, 15, 30, 23,  2, 20, 19,  4,  1, 11, 15, 29, 20, 30,  8,  9,\n",
       "         18, 20, 28,  7,  6,  7,  8, 22, 18, 34,  0,  0,  0,  0,  0,  0,  0,  0,\n",
       "          0,  0]], device='cuda:0')"
      ]
     },
     "execution_count": 12,
     "metadata": {},
     "output_type": "execute_result"
    }
   ],
   "source": [
    "X[0:1]"
   ]
  },
  {
   "cell_type": "code",
   "execution_count": 19,
   "metadata": {},
   "outputs": [],
   "source": [
    "class Network(torch.nn.Module):\n",
    "\n",
    "    def __init__(self, dev):\n",
    "        super(Network, self).__init__()\n",
    "        self.dev = dev\n",
    "        self.word_embeddings = torch.nn.Embedding(len(INDEX_TO_CHAR), 34).to(self.dev)\n",
    "        self.gru = torch.nn.RNN(34, 128, num_layers = 2, nonlinearity = 'relu', batch_first=True).to(self.dev)\n",
    "        self.hidden2tag = torch.nn.Linear(128, len(INDEX_TO_CHAR)).to(self.dev)\n",
    "\n",
    "    def forward(self, sentences):\n",
    "        embeds = self.word_embeddings(sentences)\n",
    "        gru_out, state = self.gru(embeds)\n",
    "        tag_space = self.hidden2tag(gru_out.reshape(-1, 128))\n",
    "        return tag_space.reshape(sentences.shape[0], sentences.shape[1], -1), state\n",
    "\n",
    "    def forward_state(self, sentences, state):\n",
    "        embeds = self.word_embeddings(sentences)\n",
    "        gru_out, state = self.gru(embeds, state)\n",
    "        tag_space = self.hidden2tag(gru_out.reshape(-1, 128))\n",
    "        return tag_space.reshape(sentences.shape[0], sentences.shape[1], -1), state"
   ]
  },
  {
   "cell_type": "code",
   "execution_count": 20,
   "metadata": {},
   "outputs": [
    {
     "data": {
      "text/plain": [
       "torch.Size([1, 38, 35])"
      ]
     },
     "execution_count": 20,
     "metadata": {},
     "output_type": "execute_result"
    }
   ],
   "source": [
    "model = Network(dev).to(dev)\n",
    "model.forward(X[0:1])[0].shape"
   ]
  },
  {
   "cell_type": "code",
   "execution_count": 21,
   "metadata": {},
   "outputs": [],
   "source": [
    "def generate_sentence():\n",
    "    sentence = ['к', 'а', 'к', ' ', 'р', 'а', 'н', 'о',' ']\n",
    "    state = None\n",
    "    for i in range(MAX_LEN):\n",
    "        X = torch.Tensor([[CHAR_TO_INDEX[sentence[i]]]]).type(torch.long)\n",
    "        X = X.to(dev)\n",
    "        if i == 0:\n",
    "            result, state = model.forward(X)\n",
    "        else:\n",
    "            result, state = model.forward_state(X, state)\n",
    "        prediction = result[0, -1, :]\n",
    "        index_of_prediction = prediction.argmax()\n",
    "        if i >= len(sentence) - 1:\n",
    "            if index_of_prediction == 0:\n",
    "                break\n",
    "        sentence.append(INDEX_TO_CHAR[index_of_prediction])\n",
    "    print(''.join(sentence))"
   ]
  },
  {
   "cell_type": "code",
   "execution_count": 22,
   "metadata": {},
   "outputs": [
    {
     "name": "stdout",
     "output_type": "stream",
     "text": [
      "как рано шъъъххъхъхрхххххъхъххъъъъхъхъхххххъхъх\n"
     ]
    }
   ],
   "source": [
    "generate_sentence()"
   ]
  },
  {
   "cell_type": "code",
   "execution_count": 28,
   "metadata": {},
   "outputs": [],
   "source": [
    "criterion = torch.nn.CrossEntropyLoss()\n",
    "optimizer = torch.optim.SGD(model.parameters(), lr=.01)\n",
    "#optimizer = torch.optim.Adam(model.parameters(), lr=.01)"
   ]
  },
  {
   "cell_type": "code",
   "execution_count": 29,
   "metadata": {},
   "outputs": [
    {
     "name": "stdout",
     "output_type": "stream",
     "text": [
      "Epoch 19. Time: 0.135, Train loss: 0.265\n",
      "как рано орnoneвазо мбн емnoneвсаоеи нnoneатдк  жеnoneлnoneиnoneс\n",
      "Epoch 39. Time: 0.140, Train loss: 0.262\n",
      "как рано орnoneвазо мбн емnoneвсаоеи нnoneаёдь  жеnoneлnoneиnoneк\n",
      "Epoch 59. Time: 0.135, Train loss: 0.260\n",
      "как рано орnoneвазо мбн емnoneвсаоеи нnonenoneёдь  жеnoneкnonenoneеи\n",
      "Epoch 79. Time: 0.135, Train loss: 0.258\n",
      "как рано орnoneвазо мбн емnoneвсаоеи нnonenoneёдь  жеnoneкnonenoneеи\n",
      "Epoch 99. Time: 0.135, Train loss: 0.256\n",
      "как рано орnoneвазо мбн емnoneвсаоеи нnonenoneёдь  жеnoneкnonenoneеи\n",
      "Epoch 119. Time: 0.135, Train loss: 0.255\n",
      "как рано орnoneвазо мбн емnoneвсаоеи нnonenoneёдь  жеnoneкnonenoneеи\n",
      "Epoch 139. Time: 0.135, Train loss: 0.254\n",
      "как рано орnoneвазо мбн емnoneвсаоеи нnonenoneёдь  жеnoneкnonenoneеи\n",
      "Epoch 159. Time: 0.140, Train loss: 0.252\n",
      "как рано орnoneвазо мбн емnoneвсаоеи нnonenoneёдь  жеnoneкnonenoneеи\n",
      "Epoch 179. Time: 0.140, Train loss: 0.251\n",
      "как рано орnoneвазо мбн емnoneвсаоеи нnonenoneёдь  жеnoneкnonenoneеи\n",
      "Epoch 199. Time: 0.135, Train loss: 0.250\n",
      "как рано орnoneвазо мбн емnoneвсаоеи нnonenoneёдь  жеnoneкnonenoneеи\n",
      "Epoch 219. Time: 0.140, Train loss: 0.249\n",
      "как рано орnoneвазо мбн емnoneвсаоеи нnonenoneёдь  жеnoneкnonenoneеи\n",
      "Epoch 239. Time: 0.135, Train loss: 0.248\n",
      "как рано орnoneвазо мбн емnoneвсаоеи нnonenoneёдь  жеnoneкnonenoneеи\n",
      "Epoch 259. Time: 0.140, Train loss: 0.248\n",
      "как рано орnoneвазо мбн емnoneвсаоеи нnonenoneёдь  жеnoneкnonenoneеи\n",
      "Epoch 279. Time: 0.135, Train loss: 0.247\n",
      "как рано орnoneвазо мбн емnoneвсаоеи нnonenoneёдь  жеnoneкnonenoneеи\n",
      "Epoch 299. Time: 0.140, Train loss: 0.246\n",
      "как рано орnoneвазо мбн емnoneвсаоеи нnonenoneёдь  жеnoneкnonenoneеи\n"
     ]
    }
   ],
   "source": [
    "count = 0\n",
    "\n",
    "for ep in range(300):\n",
    "    start = time.time()\n",
    "    train_loss = 0.\n",
    "    train_passed = 0\n",
    "    \n",
    "    for i in range(int(len(X) / 100)):\n",
    "        batch = X[i * 100:(i + 1) * 100]\n",
    "        X_batch = batch[:, :-1]\n",
    "        Y_batch = batch[:, 1:].flatten()\n",
    "\n",
    "        optimizer.zero_grad()\n",
    "        answers, _ = model.forward(X_batch)\n",
    "        answers = answers.view(-1, len(INDEX_TO_CHAR))\n",
    "        loss = criterion(answers, Y_batch)\n",
    "        train_loss += loss.item()\n",
    "\n",
    "        loss.backward()\n",
    "        optimizer.step()\n",
    "        train_passed += 1\n",
    "\n",
    "    count += 1\n",
    "    if count == 20:\n",
    "        count = 0\n",
    "        print(\"Epoch {}. Time: {:.3f}, Train loss: {:.3f}\".format(ep, time.time() - start, train_loss / train_passed))\n",
    "        generate_sentence()"
   ]
  },
  {
   "cell_type": "code",
   "execution_count": 39,
   "metadata": {},
   "outputs": [],
   "source": [
    "def generate_sentence2(line):\n",
    "    sentence = [w for w in line]\n",
    "    state = None\n",
    "    for i in range(MAX_LEN):\n",
    "        X = torch.Tensor([[CHAR_TO_INDEX[sentence[i]]]]).type(torch.long)\n",
    "        X = X.to(dev)\n",
    "        if i == 0:\n",
    "            result, state = model.forward(X)\n",
    "        else:\n",
    "            result, state = model.forward_state(X, state)\n",
    "        prediction = result[0, -1, :]\n",
    "        index_of_prediction = prediction.argmax()\n",
    "        if i >= len(sentence) - 1:\n",
    "            if index_of_prediction == 0:\n",
    "                break\n",
    "        sentence.append(INDEX_TO_CHAR[index_of_prediction])\n",
    "    line = ''.join(sentence)\n",
    "    line = re.sub(r'none.*$', '', line)\n",
    "    print(line)"
   ]
  },
  {
   "cell_type": "code",
   "execution_count": 40,
   "metadata": {},
   "outputs": [
    {
     "name": "stdout",
     "output_type": "stream",
     "text": [
      "привет чувакловедс\n"
     ]
    }
   ],
   "source": [
    "generate_sentence2('привет чувак')"
   ]
  },
  {
   "cell_type": "code",
   "execution_count": 43,
   "metadata": {},
   "outputs": [
    {
     "name": "stdout",
     "output_type": "stream",
     "text": [
      " ним пранялицыа сестры\n"
     ]
    }
   ],
   "source": [
    "generate_sentence2(' ')"
   ]
  },
  {
   "cell_type": "code",
   "execution_count": 45,
   "metadata": {},
   "outputs": [
    {
     "name": "stdout",
     "output_type": "stream",
     "text": [
      "аленьялисьа на збонить\n"
     ]
    }
   ],
   "source": [
    "generate_sentence2('а')"
   ]
  },
  {
   "cell_type": "code",
   "execution_count": 86,
   "metadata": {},
   "outputs": [
    {
     "name": "stdout",
     "output_type": "stream",
     "text": [
      "схотодо  мн\n"
     ]
    }
   ],
   "source": [
    "generate_sentence2('схо')"
   ]
  },
  {
   "cell_type": "code",
   "execution_count": 49,
   "metadata": {},
   "outputs": [
    {
     "name": "stdout",
     "output_type": "stream",
     "text": [
      "каретаораль жозбн\n"
     ]
    }
   ],
   "source": [
    "generate_sentence2('карета')"
   ]
  },
  {
   "cell_type": "code",
   "execution_count": 53,
   "metadata": {},
   "outputs": [
    {
     "name": "stdout",
     "output_type": "stream",
     "text": [
      "зоворких сывал\n"
     ]
    }
   ],
   "source": [
    "generate_sentence2('з')"
   ]
  },
  {
   "cell_type": "code",
   "execution_count": 82,
   "metadata": {},
   "outputs": [
    {
     "name": "stdout",
     "output_type": "stream",
     "text": [
      "так думал молодойор уошонксорчдой дабедай\n"
     ]
    }
   ],
   "source": [
    "generate_sentence2('так думал молодой')"
   ]
  },
  {
   "cell_type": "code",
   "execution_count": null,
   "metadata": {},
   "outputs": [],
   "source": []
  },
  {
   "cell_type": "code",
   "execution_count": null,
   "metadata": {},
   "outputs": [],
   "source": []
  }
 ],
 "metadata": {
  "kernelspec": {
   "display_name": "Python 3",
   "language": "python",
   "name": "python3"
  },
  "language_info": {
   "codemirror_mode": {
    "name": "ipython",
    "version": 3
   },
   "file_extension": ".py",
   "mimetype": "text/x-python",
   "name": "python",
   "nbconvert_exporter": "python",
   "pygments_lexer": "ipython3",
   "version": "3.7.3"
  }
 },
 "nbformat": 4,
 "nbformat_minor": 4
}
