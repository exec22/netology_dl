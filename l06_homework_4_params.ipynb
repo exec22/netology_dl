{
 "cells": [
  {
   "cell_type": "code",
   "execution_count": 44,
   "metadata": {},
   "outputs": [],
   "source": [
    "import torch\n",
    "import pandas as pd\n",
    "import time\n",
    "import re"
   ]
  },
  {
   "cell_type": "code",
   "execution_count": 45,
   "metadata": {},
   "outputs": [
    {
     "data": {
      "text/plain": [
       "device(type='cuda')"
      ]
     },
     "execution_count": 45,
     "metadata": {},
     "output_type": "execute_result"
    }
   ],
   "source": [
    "dev = torch.device(\"cuda\") if torch.cuda.is_available() else torch.device(\"cpu\")\n",
    "dev"
   ]
  },
  {
   "cell_type": "code",
   "execution_count": 46,
   "metadata": {},
   "outputs": [],
   "source": [
    "oneg = pd.read_csv('../onegin.txt', sep='\\n', header=None)"
   ]
  },
  {
   "cell_type": "code",
   "execution_count": 47,
   "metadata": {},
   "outputs": [],
   "source": [
    "# читаем стихи\n",
    "max_len = 0\n",
    "phrases = []\n",
    "for ind in range(len(oneg)):\n",
    "    line = oneg[0][ind]\n",
    "    if re.search(r'\\t', line):\n",
    "        # удалить ^\\t\\t\n",
    "        line = re.sub(r'\\t\\t', '', line)\n",
    "        # удалить …………\n",
    "        line = re.sub(r'…', '', line)\n",
    "        # удалить все после [d]\n",
    "        line = re.sub(r'\\[\\d*\\].*$', '', line)\n",
    "        # удалить все в квадратных скобках\n",
    "        line = re.sub(r'\\[.*\\]', '', line)\n",
    "        # удалить все анлгийские буквы\n",
    "        line = re.sub(r'[abcdefghijklmnopqrstuvwxyz]', '', line)\n",
    "        # удалить \\xa0\n",
    "        line = re.sub(r'\\xa0', ' ', line)\n",
    "              \n",
    "        if len(line) > 0:\n",
    "            phrases.append(line)\n",
    "            line_len = len(line)\n",
    "            if line_len > max_len:\n",
    "                max_len = line_len"
   ]
  },
  {
   "cell_type": "code",
   "execution_count": 48,
   "metadata": {},
   "outputs": [
    {
     "data": {
      "text/plain": [
       "37"
      ]
     },
     "execution_count": 48,
     "metadata": {},
     "output_type": "execute_result"
    }
   ],
   "source": [
    "max_len"
   ]
  },
  {
   "cell_type": "code",
   "execution_count": 49,
   "metadata": {},
   "outputs": [],
   "source": [
    "text = [[c for c in ph] for ph in phrases if type(ph) is str]"
   ]
  },
  {
   "cell_type": "code",
   "execution_count": 50,
   "metadata": {},
   "outputs": [],
   "source": [
    "CHARS = set(' абвгдеёжзийклмнопрстуфхцчшщъыьэюя')\n",
    "INDEX_TO_CHAR = ['none'] + [w for w in CHARS]\n",
    "CHAR_TO_INDEX = {w: i for i, w in enumerate(INDEX_TO_CHAR)}"
   ]
  },
  {
   "cell_type": "code",
   "execution_count": 51,
   "metadata": {},
   "outputs": [],
   "source": [
    "MAX_LEN = max_len+1"
   ]
  },
  {
   "cell_type": "code",
   "execution_count": 52,
   "metadata": {},
   "outputs": [],
   "source": [
    "X = torch.zeros((len(text), MAX_LEN), dtype=int)\n",
    "X = X.to(dev)"
   ]
  },
  {
   "cell_type": "code",
   "execution_count": 53,
   "metadata": {},
   "outputs": [
    {
     "data": {
      "text/plain": [
       "torch.Size([1453, 38])"
      ]
     },
     "execution_count": 53,
     "metadata": {},
     "output_type": "execute_result"
    }
   ],
   "source": [
    "X.shape"
   ]
  },
  {
   "cell_type": "code",
   "execution_count": 54,
   "metadata": {},
   "outputs": [],
   "source": [
    "for i in range(len(text)):\n",
    "    for j, w in enumerate(text[i]):\n",
    "        if j >= MAX_LEN:\n",
    "            break\n",
    "        X[i, j] = CHAR_TO_INDEX.get(w, CHAR_TO_INDEX['none'])"
   ]
  },
  {
   "cell_type": "code",
   "execution_count": 55,
   "metadata": {},
   "outputs": [
    {
     "data": {
      "text/plain": [
       "tensor([[ 0, 17, 18, 15, 10, 22, 19, 17, 30, 27,  6, 13, 15, 26, 17, 10,  7,  5,\n",
       "         32, 17, 23, 24,  9, 24,  7, 34, 32,  2,  0,  0,  0,  0,  0,  0,  0,  0,\n",
       "          0,  0]], device='cuda:0')"
      ]
     },
     "execution_count": 55,
     "metadata": {},
     "output_type": "execute_result"
    }
   ],
   "source": [
    "X[0:1]"
   ]
  },
  {
   "cell_type": "code",
   "execution_count": 72,
   "metadata": {},
   "outputs": [],
   "source": [
    "class Network(torch.nn.Module):\n",
    "\n",
    "    def __init__(self, dev):\n",
    "        super(Network, self).__init__()\n",
    "        self.dev = dev\n",
    "        self.word_embeddings = torch.nn.Embedding(len(INDEX_TO_CHAR), 100).to(self.dev)\n",
    "        self.gru = torch.nn.RNN(100, 128, num_layers = 3, nonlinearity = 'relu', batch_first=True).to(self.dev)\n",
    "        self.hidden2tag = torch.nn.Linear(128, len(INDEX_TO_CHAR)).to(self.dev)\n",
    "\n",
    "    def forward(self, sentences):\n",
    "        embeds = self.word_embeddings(sentences)\n",
    "        gru_out, state = self.gru(embeds)\n",
    "        tag_space = self.hidden2tag(gru_out.reshape(-1, 128))\n",
    "        return tag_space.reshape(sentences.shape[0], sentences.shape[1], -1), state\n",
    "\n",
    "    def forward_state(self, sentences, state):\n",
    "        embeds = self.word_embeddings(sentences)\n",
    "        gru_out, state = self.gru(embeds, state)\n",
    "        tag_space = self.hidden2tag(gru_out.reshape(-1, 128))\n",
    "        return tag_space.reshape(sentences.shape[0], sentences.shape[1], -1), state"
   ]
  },
  {
   "cell_type": "code",
   "execution_count": 73,
   "metadata": {},
   "outputs": [
    {
     "data": {
      "text/plain": [
       "torch.Size([1, 38, 35])"
      ]
     },
     "execution_count": 73,
     "metadata": {},
     "output_type": "execute_result"
    }
   ],
   "source": [
    "model = Network(dev)\n",
    "model.forward(X[0:1])[0].shape"
   ]
  },
  {
   "cell_type": "code",
   "execution_count": 74,
   "metadata": {},
   "outputs": [],
   "source": [
    "def generate_sentence():\n",
    "    sentence = ['к', 'а', 'к', ' ', 'р', 'а', 'н', 'о',' ']\n",
    "    state = None\n",
    "    for i in range(MAX_LEN):\n",
    "        X = torch.Tensor([[CHAR_TO_INDEX[sentence[i]]]]).type(torch.long)\n",
    "        X = X.to(dev)\n",
    "        if i == 0:\n",
    "            result, state = model.forward(X)\n",
    "        else:\n",
    "            result, state = model.forward_state(X, state)\n",
    "        prediction = result[0, -1, :]\n",
    "        index_of_prediction = prediction.argmax()\n",
    "        if i >= len(sentence) - 1:\n",
    "            if index_of_prediction == 0:\n",
    "                break\n",
    "        sentence.append(INDEX_TO_CHAR[index_of_prediction])\n",
    "    print(''.join(sentence))"
   ]
  },
  {
   "cell_type": "code",
   "execution_count": 75,
   "metadata": {},
   "outputs": [
    {
     "name": "stdout",
     "output_type": "stream",
     "text": [
      "как рано ёхёёёиёёёёёёёёиёёёёёёёёиёёёёёёёёиёёёёё\n"
     ]
    }
   ],
   "source": [
    "generate_sentence()"
   ]
  },
  {
   "cell_type": "code",
   "execution_count": 81,
   "metadata": {},
   "outputs": [],
   "source": [
    "criterion = torch.nn.CrossEntropyLoss()\n",
    "optimizer = torch.optim.SGD(model.parameters(), lr=.001)\n",
    "#optimizer = torch.optim.Adam(model.parameters(), lr=.01)"
   ]
  },
  {
   "cell_type": "code",
   "execution_count": 82,
   "metadata": {},
   "outputs": [
    {
     "name": "stdout",
     "output_type": "stream",
     "text": [
      "Epoch 19. Time: 0.170, Train loss: 0.198\n",
      "как рано акисазо воарамувт оняnonenone аион лсnoneв лбощ\n",
      "Epoch 39. Time: 0.170, Train loss: 0.198\n",
      "как рано акисазо воарамувт оняnonenone аион лсnoneв лбощ\n",
      "Epoch 59. Time: 0.170, Train loss: 0.198\n",
      "как рано акисазо воарамувт оняnonenone аион лсnoneв лбощ\n",
      "Epoch 79. Time: 0.175, Train loss: 0.198\n",
      "как рано акисазо воарамувт оняnonenone аион лсnoneв лбощ\n",
      "Epoch 99. Time: 0.185, Train loss: 0.198\n",
      "как рано акисазо воарамувт оняnonenone аион лсnoneв лбощ\n",
      "Epoch 119. Time: 0.170, Train loss: 0.198\n",
      "как рано акисазо воарамувт оняnonenone аион лсnoneв лбощ\n",
      "Epoch 139. Time: 0.175, Train loss: 0.198\n",
      "как рано акисазо воарамувт оняnonenone аион лсnoneв лбощ\n",
      "Epoch 159. Time: 0.170, Train loss: 0.198\n",
      "как рано акисазо воарамувт оняnonenone аион лсnoneв лбощ\n",
      "Epoch 179. Time: 0.175, Train loss: 0.198\n",
      "как рано акисазо воарамувт оняnonenone аион лсnoneв лбощ\n",
      "Epoch 199. Time: 0.170, Train loss: 0.198\n",
      "как рано акисазо воарамувт оняnonenone аион лсnoneв лбощ\n",
      "Epoch 219. Time: 0.170, Train loss: 0.198\n",
      "как рано акисазо воарамувт оняnonenone аион лсnoneв лбощ\n",
      "Epoch 239. Time: 0.170, Train loss: 0.198\n",
      "как рано акисазо воарамувт оняnonenone аион лсnoneв лбощ\n",
      "Epoch 259. Time: 0.170, Train loss: 0.198\n",
      "как рано акисазо воарамувт оняnonenone аион лсnoneв лбощ\n",
      "Epoch 279. Time: 0.175, Train loss: 0.198\n",
      "как рано акисазо воарамувт оняnonenone аион лсnoneв лбощ\n",
      "Epoch 299. Time: 0.175, Train loss: 0.198\n",
      "как рано акисазо воарамувт оняnonenone аион лсnoneв лбощ\n",
      "Epoch 319. Time: 0.170, Train loss: 0.198\n",
      "как рано акисазо воарамувт оняnonenone аион лсnoneв лбощ\n",
      "Epoch 339. Time: 0.170, Train loss: 0.198\n",
      "как рано акисазо воарамувт оняnonenone аион лсnoneв лбощ\n",
      "Epoch 359. Time: 0.175, Train loss: 0.198\n",
      "как рано акисазо воарамувт оняnonenone аион лсnoneв лбощ\n",
      "Epoch 379. Time: 0.175, Train loss: 0.198\n",
      "как рано акисазо воарамувт оняnonenone аион лсnoneв лбощ\n",
      "Epoch 399. Time: 0.170, Train loss: 0.198\n",
      "как рано акисазо воарамувт оняnonenone аион лсnoneв лбощ\n",
      "Epoch 419. Time: 0.170, Train loss: 0.198\n",
      "как рано акисазо воарамувт оняnonenone аион лсnoneв лбощ\n",
      "Epoch 439. Time: 0.170, Train loss: 0.198\n",
      "как рано акисазо воарамувт оняnonenone аион лсnoneв лбощ\n",
      "Epoch 459. Time: 0.170, Train loss: 0.198\n",
      "как рано акисазо воарамувт оняnonenone аион лсnoneв лбощ\n",
      "Epoch 479. Time: 0.170, Train loss: 0.198\n",
      "как рано акисазо воарамувт оняnonenone аион лсnoneв лбощ\n",
      "Epoch 499. Time: 0.170, Train loss: 0.198\n",
      "как рано акисазо воарамувт оняnonenone аион лсnoneв лбощ\n"
     ]
    }
   ],
   "source": [
    "count = 0\n",
    "\n",
    "for ep in range(500):\n",
    "    start = time.time()\n",
    "    train_loss = 0.\n",
    "    train_passed = 0\n",
    "    \n",
    "    for i in range(int(len(X) / 100)):\n",
    "        batch = X[i * 100:(i + 1) * 100]\n",
    "        X_batch = batch[:, :-1]\n",
    "        Y_batch = batch[:, 1:].flatten()\n",
    "\n",
    "        optimizer.zero_grad()\n",
    "        answers, _ = model.forward(X_batch)\n",
    "        answers = answers.view(-1, len(INDEX_TO_CHAR))\n",
    "        loss = criterion(answers, Y_batch)\n",
    "        train_loss += loss.item()\n",
    "\n",
    "        loss.backward()\n",
    "        optimizer.step()\n",
    "        train_passed += 1\n",
    "\n",
    "    count += 1\n",
    "    if count == 20:\n",
    "        count = 0\n",
    "        print(\"Epoch {}. Time: {:.3f}, Train loss: {:.3f}\".format(ep, time.time() - start, train_loss / train_passed))\n",
    "        generate_sentence()"
   ]
  },
  {
   "cell_type": "code",
   "execution_count": null,
   "metadata": {},
   "outputs": [],
   "source": []
  },
  {
   "cell_type": "code",
   "execution_count": null,
   "metadata": {},
   "outputs": [],
   "source": []
  },
  {
   "cell_type": "code",
   "execution_count": null,
   "metadata": {},
   "outputs": [],
   "source": []
  },
  {
   "cell_type": "code",
   "execution_count": 83,
   "metadata": {},
   "outputs": [],
   "source": [
    "def generate_sentence2(line):\n",
    "    sentence = [w for w in line]\n",
    "    state = None\n",
    "    for i in range(MAX_LEN):\n",
    "        X = torch.Tensor([[CHAR_TO_INDEX[sentence[i]]]]).type(torch.long)\n",
    "        X = X.to(dev)\n",
    "        if i == 0:\n",
    "            result, state = model.forward(X)\n",
    "        else:\n",
    "            result, state = model.forward_state(X, state)\n",
    "        prediction = result[0, -1, :]\n",
    "        index_of_prediction = prediction.argmax()\n",
    "        if i >= len(sentence) - 1:\n",
    "            if index_of_prediction == 0:\n",
    "                break\n",
    "        sentence.append(INDEX_TO_CHAR[index_of_prediction])\n",
    "    line = ''.join(sentence)\n",
    "    line = re.sub(r'none.*$', '', line)\n",
    "    print(line)"
   ]
  },
  {
   "cell_type": "code",
   "execution_count": 84,
   "metadata": {},
   "outputs": [
    {
     "name": "stdout",
     "output_type": "stream",
     "text": [
      "привет чувакрисызивужс\n"
     ]
    }
   ],
   "source": [
    "generate_sentence2('привет чувак')"
   ]
  },
  {
   "cell_type": "code",
   "execution_count": 85,
   "metadata": {},
   "outputs": [
    {
     "name": "stdout",
     "output_type": "stream",
     "text": [
      " наших разговор\n"
     ]
    }
   ],
   "source": [
    "generate_sentence2(' ')"
   ]
  },
  {
   "cell_type": "code",
   "execution_count": 86,
   "metadata": {},
   "outputs": [
    {
     "name": "stdout",
     "output_type": "stream",
     "text": [
      "асатову прядскле игосоя\n"
     ]
    }
   ],
   "source": [
    "generate_sentence2('а')"
   ]
  },
  {
   "cell_type": "code",
   "execution_count": 87,
   "metadata": {},
   "outputs": [
    {
     "name": "stdout",
     "output_type": "stream",
     "text": [
      "схонодетув\n"
     ]
    }
   ],
   "source": [
    "generate_sentence2('схо')"
   ]
  },
  {
   "cell_type": "code",
   "execution_count": 88,
   "metadata": {},
   "outputs": [
    {
     "name": "stdout",
     "output_type": "stream",
     "text": [
      "каретаакен й\n"
     ]
    }
   ],
   "source": [
    "generate_sentence2('карета')"
   ]
  },
  {
   "cell_type": "code",
   "execution_count": 89,
   "metadata": {},
   "outputs": [
    {
     "name": "stdout",
     "output_type": "stream",
     "text": [
      "звора\n"
     ]
    }
   ],
   "source": [
    "generate_sentence2('з')"
   ]
  },
  {
   "cell_type": "code",
   "execution_count": 90,
   "metadata": {},
   "outputs": [
    {
     "name": "stdout",
     "output_type": "stream",
     "text": [
      "так думал молодойи \n"
     ]
    }
   ],
   "source": [
    "generate_sentence2('так думал молодой')"
   ]
  },
  {
   "cell_type": "code",
   "execution_count": 91,
   "metadata": {},
   "outputs": [
    {
     "name": "stdout",
     "output_type": "stream",
     "text": [
      "с новым годом ноажый\n"
     ]
    }
   ],
   "source": [
    "generate_sentence2('с новым годом ')"
   ]
  },
  {
   "cell_type": "code",
   "execution_count": 109,
   "metadata": {},
   "outputs": [
    {
     "name": "stdout",
     "output_type": "stream",
     "text": [
      "дед вдувауси\n"
     ]
    }
   ],
   "source": [
    "generate_sentence2('дед ')"
   ]
  },
  {
   "cell_type": "code",
   "execution_count": 111,
   "metadata": {},
   "outputs": [
    {
     "name": "stdout",
     "output_type": "stream",
     "text": [
      "баба ула\n"
     ]
    }
   ],
   "source": [
    "generate_sentence2('баба ')"
   ]
  },
  {
   "cell_type": "code",
   "execution_count": null,
   "metadata": {},
   "outputs": [],
   "source": []
  },
  {
   "cell_type": "code",
   "execution_count": null,
   "metadata": {},
   "outputs": [],
   "source": []
  },
  {
   "cell_type": "code",
   "execution_count": null,
   "metadata": {},
   "outputs": [],
   "source": []
  }
 ],
 "metadata": {
  "kernelspec": {
   "display_name": "Python 3",
   "language": "python",
   "name": "python3"
  },
  "language_info": {
   "codemirror_mode": {
    "name": "ipython",
    "version": 3
   },
   "file_extension": ".py",
   "mimetype": "text/x-python",
   "name": "python",
   "nbconvert_exporter": "python",
   "pygments_lexer": "ipython3",
   "version": "3.7.3"
  }
 },
 "nbformat": 4,
 "nbformat_minor": 4
}
